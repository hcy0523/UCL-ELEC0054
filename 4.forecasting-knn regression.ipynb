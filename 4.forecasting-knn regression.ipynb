{
 "cells": [
  {
   "cell_type": "code",
   "execution_count": 1,
   "id": "480e3f79",
   "metadata": {
    "ExecuteTime": {
     "end_time": "2022-08-28T12:17:20.400381Z",
     "start_time": "2022-08-28T12:17:13.442899Z"
    }
   },
   "outputs": [],
   "source": [
    "import os\n",
    "import pandas as pd\n",
    "import numpy as np\n",
    "\n",
    "import datetime\n",
    "import matplotlib.pyplot as plt\n",
    "import seaborn as sns\n",
    "%matplotlib inline\n",
    "from scipy import stats\n",
    "from statsmodels.tsa.seasonal import seasonal_decompose\n",
    "from scipy.stats import pearsonr,spearmanr\n",
    "import warnings\n",
    "warnings.filterwarnings(\"ignore\")#忽略警告\n",
    "\n",
    "import datetime\n",
    "from collections import Counter\n",
    "from scipy import stats\n",
    "from sklearn.preprocessing import MinMaxScaler,StandardScaler\n",
    "# from calendar import day_abbr, month_abbr, mdays\n",
    "# import holidays\n",
    "# from fbprophet import Prophet\n",
    "from sklearn.metrics import mean_squared_error as MSE, r2_score as R2, mean_absolute_percentage_error as MAPE\n",
    "from sklearn.linear_model import LinearRegression\n",
    "from xgboost import XGBRegressor\n",
    "\n",
    "from sklearn.neighbors import KNeighborsRegressor\n",
    "from sklearn import metrics\n",
    "from sklearn import svm\n",
    "import joblib\n",
    "\n",
    "from sklearn import tree\n",
    "from sklearn.ensemble import RandomForestRegressor\n",
    "from sklearn.ensemble import BaggingRegressor\n",
    "from sklearn.ensemble import AdaBoostRegressor"
   ]
  },
  {
   "cell_type": "code",
   "execution_count": 2,
   "id": "e2938deb",
   "metadata": {
    "ExecuteTime": {
     "end_time": "2022-08-28T12:17:20.448387Z",
     "start_time": "2022-08-28T12:17:20.406379Z"
    }
   },
   "outputs": [],
   "source": [
    "df=pd.read_csv('./data/preprocessed/data.csv')"
   ]
  },
  {
   "cell_type": "code",
   "execution_count": 3,
   "id": "f084a4fd",
   "metadata": {
    "ExecuteTime": {
     "end_time": "2022-08-28T12:17:20.480395Z",
     "start_time": "2022-08-28T12:17:20.453389Z"
    }
   },
   "outputs": [],
   "source": [
    "df['Date']=pd.to_datetime(df['Date'].astype('str'))\n",
    "df.set_index('Date',drop=True,inplace=True)"
   ]
  },
  {
   "cell_type": "code",
   "execution_count": 4,
   "id": "50255b60",
   "metadata": {
    "ExecuteTime": {
     "end_time": "2022-08-28T12:17:20.511402Z",
     "start_time": "2022-08-28T12:17:20.485397Z"
    }
   },
   "outputs": [],
   "source": [
    "x = df.iloc[:,1:]  # features\n",
    "x_train=x.loc[:'2022-02-28',:]\n",
    "x_test=x.loc['2022-03-01':,:]\n",
    "y = df.loc[:, ['Price']]  # target\n",
    "y_train=y.loc[:'2022-02-28',:]\n",
    "y_test=y.loc['2022-03-01':,:]"
   ]
  },
  {
   "cell_type": "code",
   "execution_count": 5,
   "id": "99923a25",
   "metadata": {
    "ExecuteTime": {
     "end_time": "2022-08-28T12:17:20.559418Z",
     "start_time": "2022-08-28T12:17:20.515404Z"
    }
   },
   "outputs": [],
   "source": [
    "# Pre-process data\n",
    "scaler = MinMaxScaler() \n",
    "x_train1 = scaler.fit_transform(x_train)\n",
    "x_test1 = scaler.transform(x_test)\n",
    "scaler = StandardScaler()\n",
    "x_train2 = scaler.fit_transform(x_train)\n",
    "x_test2 = scaler.transform(x_test)"
   ]
  },
  {
   "cell_type": "markdown",
   "id": "c91f63b9",
   "metadata": {},
   "source": [
    "### KNeighborsRegressor without time offset"
   ]
  },
  {
   "cell_type": "code",
   "execution_count": 6,
   "id": "936e5d33",
   "metadata": {
    "ExecuteTime": {
     "end_time": "2022-08-28T12:17:20.591424Z",
     "start_time": "2022-08-28T12:17:20.562415Z"
    }
   },
   "outputs": [
    {
     "data": {
      "text/plain": [
       "GDP          False\n",
       "netimport    False\n",
       "EV           False\n",
       "EG           False\n",
       "carbon       False\n",
       "crude        False\n",
       "gas          False\n",
       "temp         False\n",
       "precip       False\n",
       "wind         False\n",
       "dtype: bool"
      ]
     },
     "execution_count": 6,
     "metadata": {},
     "output_type": "execute_result"
    }
   ],
   "source": [
    "x.isnull().any()"
   ]
  },
  {
   "cell_type": "code",
   "execution_count": 7,
   "id": "c574eae6",
   "metadata": {
    "ExecuteTime": {
     "end_time": "2022-08-28T12:17:20.622430Z",
     "start_time": "2022-08-28T12:17:20.597421Z"
    }
   },
   "outputs": [],
   "source": [
    "def knn(X,Y):    \n",
    "    for n in X.iloc[:,0:]:\n",
    "        # Training data\n",
    "        x = pd.DataFrame(X[str(n)] ) # features\n",
    "        x_train=x.loc[:'2022-02-28',:]\n",
    "        X_test=x.loc['2022-03-01':,:]\n",
    "        y_train=y.loc[:'2022-02-28',:]\n",
    "        y_test=y.loc['2022-03-01':,:]\n",
    "        # Train the model\n",
    "        scaler = StandardScaler() \n",
    "        x_train = scaler.fit_transform(x_train)\n",
    "        x_test = scaler.transform(X_test)\n",
    "        model = KNeighborsRegressor(n_neighbors=1)\n",
    "        model.fit(x_train, y_train)\n",
    "\n",
    "        # Store the fitted values as a time series with the same time index as\n",
    "        # the training data\n",
    "        y_pred = pd.Series(model.predict(x_test).T[0], index=X_test.index)\n",
    "        print(str(n),'\\nMSE:',MSE(y_test,y_pred),'\\nr2_score:', R2(y_test,y_pred),'\\nMAPE:', MAPE(y_test,y_pred),'\\n')\n"
   ]
  },
  {
   "cell_type": "code",
   "execution_count": 8,
   "id": "37e11bfc",
   "metadata": {
    "ExecuteTime": {
     "end_time": "2022-08-28T12:17:20.985507Z",
     "start_time": "2022-08-28T12:17:20.626430Z"
    },
    "scrolled": true
   },
   "outputs": [
    {
     "name": "stdout",
     "output_type": "stream",
     "text": [
      "GDP \n",
      "MSE: 825.9579426229509 \n",
      "r2_score: -0.29321327096678296 \n",
      "MAPE: 0.8800786153889191 \n",
      "\n",
      "netimport \n",
      "MSE: 669.7055147540985 \n",
      "r2_score: -0.048566778799053356 \n",
      "MAPE: 0.8621669865972762 \n",
      "\n",
      "EV \n",
      "MSE: 635.0670344262296 \n",
      "r2_score: 0.005667147814533258 \n",
      "MAPE: 0.42779997844965084 \n",
      "\n",
      "EG \n",
      "MSE: 1085.5099262295082 \n",
      "r2_score: -0.6995972433029864 \n",
      "MAPE: 0.4195115783066404 \n",
      "\n",
      "carbon \n",
      "MSE: 2933.801259016394 \n",
      "r2_score: -3.5934914197816834 \n",
      "MAPE: 1.659676072670778 \n",
      "\n",
      "crude \n",
      "MSE: 1087.2575557377052 \n",
      "r2_score: -0.702333529929829 \n",
      "MAPE: 0.42343003978625626 \n",
      "\n",
      "gas \n",
      "MSE: 968.091780327869 \n",
      "r2_score: -0.5157540998493351 \n",
      "MAPE: 0.901935190937606 \n",
      "\n",
      "temp \n",
      "MSE: 1354.621142622951 \n",
      "r2_score: -1.1209482327986877 \n",
      "MAPE: 0.8988158331156054 \n",
      "\n",
      "precip \n",
      "MSE: 979.0378000000001 \n",
      "r2_score: -0.5328924275701272 \n",
      "MAPE: 0.8861840904336274 \n",
      "\n",
      "wind \n",
      "MSE: 748.1986147540982 \n",
      "r2_score: -0.17146446324648146 \n",
      "MAPE: 0.7378739728123878 \n",
      "\n"
     ]
    }
   ],
   "source": [
    "knn(x,y)"
   ]
  },
  {
   "cell_type": "code",
   "execution_count": 9,
   "id": "5b27def1",
   "metadata": {
    "ExecuteTime": {
     "end_time": "2022-08-28T12:17:21.002511Z",
     "start_time": "2022-08-28T12:17:20.990511Z"
    }
   },
   "outputs": [],
   "source": [
    "xtrain=x_train.copy()\n",
    "xtest=x_test.copy()\n",
    "ytrain=y_train.copy()\n",
    "ytest=y_test.copy()"
   ]
  },
  {
   "cell_type": "code",
   "execution_count": 10,
   "id": "3c785ce0",
   "metadata": {
    "ExecuteTime": {
     "end_time": "2022-08-28T12:17:21.080482Z",
     "start_time": "2022-08-28T12:17:21.015469Z"
    }
   },
   "outputs": [
    {
     "name": "stdout",
     "output_type": "stream",
     "text": [
      "MSE: 633.1804344262295 \n",
      "r2_score: 0.008621022377756415 \n",
      "MAPE: 0.3587153266753301 \n",
      "\n"
     ]
    }
   ],
   "source": [
    "X_train=xtrain.loc[:,['EV','netimport']]\n",
    "X_test=xtest.loc[:,['EV','netimport']]\n",
    "# Train the model\n",
    "scaler = StandardScaler() \n",
    "x_train = scaler.fit_transform(X_train)\n",
    "x_test = scaler.transform(X_test)\n",
    "model = KNeighborsRegressor(n_neighbors=1)\n",
    "model.fit(X_train, ytrain)\n",
    "\n",
    "# Store the fitted values as a time series with the same time index as\n",
    "# the training data\n",
    "y_pred = pd.Series(model.predict(X_test).T[0], index=xtest.index)\n",
    "print('MSE:',MSE(ytest,y_pred),'\\nr2_score:', R2(ytest,y_pred),'\\nMAPE:', MAPE(ytest,y_pred),'\\n')"
   ]
  },
  {
   "cell_type": "code",
   "execution_count": 11,
   "id": "0ea55a86",
   "metadata": {
    "ExecuteTime": {
     "end_time": "2022-08-28T12:17:21.096484Z",
     "start_time": "2022-08-28T12:17:21.085482Z"
    }
   },
   "outputs": [],
   "source": [
    "y_pred.name='Price_pred'"
   ]
  },
  {
   "cell_type": "code",
   "execution_count": 12,
   "id": "e0b0af00",
   "metadata": {
    "ExecuteTime": {
     "end_time": "2022-08-28T12:17:21.111490Z",
     "start_time": "2022-08-28T12:17:21.101486Z"
    }
   },
   "outputs": [],
   "source": [
    "ytest.name='Price_true'"
   ]
  },
  {
   "cell_type": "code",
   "execution_count": 13,
   "id": "7c3b47b4",
   "metadata": {
    "ExecuteTime": {
     "end_time": "2022-08-28T12:17:21.127492Z",
     "start_time": "2022-08-28T12:17:21.117490Z"
    }
   },
   "outputs": [],
   "source": [
    "res=pd.concat([X_test,ytest,y_pred],axis=1)"
   ]
  },
  {
   "cell_type": "code",
   "execution_count": 14,
   "id": "67fba395",
   "metadata": {
    "ExecuteTime": {
     "end_time": "2022-08-28T12:17:21.174502Z",
     "start_time": "2022-08-28T12:17:21.132492Z"
    }
   },
   "outputs": [
    {
     "data": {
      "text/html": [
       "<div>\n",
       "<style scoped>\n",
       "    .dataframe tbody tr th:only-of-type {\n",
       "        vertical-align: middle;\n",
       "    }\n",
       "\n",
       "    .dataframe tbody tr th {\n",
       "        vertical-align: top;\n",
       "    }\n",
       "\n",
       "    .dataframe thead th {\n",
       "        text-align: right;\n",
       "    }\n",
       "</style>\n",
       "<table border=\"1\" class=\"dataframe\">\n",
       "  <thead>\n",
       "    <tr style=\"text-align: right;\">\n",
       "      <th></th>\n",
       "      <th>EV</th>\n",
       "      <th>netimport</th>\n",
       "      <th>Price</th>\n",
       "      <th>Price_pred</th>\n",
       "    </tr>\n",
       "    <tr>\n",
       "      <th>Date</th>\n",
       "      <th></th>\n",
       "      <th></th>\n",
       "      <th></th>\n",
       "      <th></th>\n",
       "    </tr>\n",
       "  </thead>\n",
       "  <tbody>\n",
       "    <tr>\n",
       "      <th>2022-03-01</th>\n",
       "      <td>26.068586</td>\n",
       "      <td>-24.325249</td>\n",
       "      <td>13.68</td>\n",
       "      <td>15.13</td>\n",
       "    </tr>\n",
       "    <tr>\n",
       "      <th>2022-03-02</th>\n",
       "      <td>25.936845</td>\n",
       "      <td>-24.314318</td>\n",
       "      <td>13.28</td>\n",
       "      <td>15.13</td>\n",
       "    </tr>\n",
       "    <tr>\n",
       "      <th>2022-03-03</th>\n",
       "      <td>25.804540</td>\n",
       "      <td>-24.303359</td>\n",
       "      <td>20.63</td>\n",
       "      <td>15.13</td>\n",
       "    </tr>\n",
       "    <tr>\n",
       "      <th>2022-03-04</th>\n",
       "      <td>25.671671</td>\n",
       "      <td>-24.292371</td>\n",
       "      <td>23.72</td>\n",
       "      <td>15.13</td>\n",
       "    </tr>\n",
       "    <tr>\n",
       "      <th>2022-03-05</th>\n",
       "      <td>25.538237</td>\n",
       "      <td>-24.281355</td>\n",
       "      <td>14.89</td>\n",
       "      <td>15.13</td>\n",
       "    </tr>\n",
       "    <tr>\n",
       "      <th>...</th>\n",
       "      <td>...</td>\n",
       "      <td>...</td>\n",
       "      <td>...</td>\n",
       "      <td>...</td>\n",
       "    </tr>\n",
       "    <tr>\n",
       "      <th>2022-04-26</th>\n",
       "      <td>17.801233</td>\n",
       "      <td>-23.672716</td>\n",
       "      <td>23.94</td>\n",
       "      <td>41.49</td>\n",
       "    </tr>\n",
       "    <tr>\n",
       "      <th>2022-04-27</th>\n",
       "      <td>17.636705</td>\n",
       "      <td>-23.660389</td>\n",
       "      <td>43.43</td>\n",
       "      <td>40.88</td>\n",
       "    </tr>\n",
       "    <tr>\n",
       "      <th>2022-04-28</th>\n",
       "      <td>17.471570</td>\n",
       "      <td>-23.648040</td>\n",
       "      <td>19.30</td>\n",
       "      <td>41.08</td>\n",
       "    </tr>\n",
       "    <tr>\n",
       "      <th>2022-04-29</th>\n",
       "      <td>17.305825</td>\n",
       "      <td>-23.635671</td>\n",
       "      <td>31.43</td>\n",
       "      <td>41.69</td>\n",
       "    </tr>\n",
       "    <tr>\n",
       "      <th>2022-04-30</th>\n",
       "      <td>17.139470</td>\n",
       "      <td>-23.623280</td>\n",
       "      <td>31.11</td>\n",
       "      <td>52.65</td>\n",
       "    </tr>\n",
       "  </tbody>\n",
       "</table>\n",
       "<p>61 rows × 4 columns</p>\n",
       "</div>"
      ],
      "text/plain": [
       "                   EV  netimport  Price  Price_pred\n",
       "Date                                               \n",
       "2022-03-01  26.068586 -24.325249  13.68       15.13\n",
       "2022-03-02  25.936845 -24.314318  13.28       15.13\n",
       "2022-03-03  25.804540 -24.303359  20.63       15.13\n",
       "2022-03-04  25.671671 -24.292371  23.72       15.13\n",
       "2022-03-05  25.538237 -24.281355  14.89       15.13\n",
       "...               ...        ...    ...         ...\n",
       "2022-04-26  17.801233 -23.672716  23.94       41.49\n",
       "2022-04-27  17.636705 -23.660389  43.43       40.88\n",
       "2022-04-28  17.471570 -23.648040  19.30       41.08\n",
       "2022-04-29  17.305825 -23.635671  31.43       41.69\n",
       "2022-04-30  17.139470 -23.623280  31.11       52.65\n",
       "\n",
       "[61 rows x 4 columns]"
      ]
     },
     "execution_count": 14,
     "metadata": {},
     "output_type": "execute_result"
    }
   ],
   "source": [
    "res"
   ]
  },
  {
   "cell_type": "code",
   "execution_count": 15,
   "id": "16ae8726",
   "metadata": {
    "ExecuteTime": {
     "end_time": "2022-08-28T12:17:22.032696Z",
     "start_time": "2022-08-28T12:17:21.179503Z"
    }
   },
   "outputs": [
    {
     "data": {
      "image/png": "[encoded data removed]",
      "text/plain": [
       "<Figure size 432x288 with 1 Axes>"
      ]
     },
     "metadata": {
      "needs_background": "light"
     },
     "output_type": "display_data"
    }
   ],
   "source": [
    "plot_params = dict(\n",
    "    color=\"0.75\",\n",
    "    style=\".-\",\n",
    "    markeredgecolor=\"0.25\",\n",
    "    markerfacecolor=\"0.25\",\n",
    "    legend=True,\n",
    "    linewidth=1.5\n",
    ")\n",
    "ytest.columns=['Price_true']\n",
    "ytest.plot(**plot_params)\n",
    "y_pred.plot(label='Price_pred')\n",
    "plt.legend(loc='best')\n",
    "plt.grid()\n",
    "plt.tight_layout()"
   ]
  },
  {
   "cell_type": "markdown",
   "id": "7f244630",
   "metadata": {},
   "source": [
    "### Knn regression with time offset"
   ]
  },
  {
   "cell_type": "markdown",
   "id": "4dafd54b",
   "metadata": {},
   "source": [
    "#### autoregression"
   ]
  },
  {
   "cell_type": "code",
   "execution_count": 16,
   "id": "12eb2479",
   "metadata": {
    "ExecuteTime": {
     "end_time": "2022-08-28T12:17:22.079769Z",
     "start_time": "2022-08-28T12:17:22.036695Z"
    }
   },
   "outputs": [],
   "source": [
    "shift=1\n",
    "Df=df.copy()\n",
    "Df['Lag_1'] = Df['Price'].shift(shift)\n",
    "Df = Df.reindex(columns=['Price', 'Lag_1'])\n",
    "X = Df.loc[:, ['Lag_1']]\n",
    "X.dropna(inplace=True)  # drop missing values in the feature set\n",
    "y = Df.loc[:, ['Price']]  # create the target\n",
    "y, X = y.align(X, join='inner',axis=0)  # drop corresponding values in target"
   ]
  },
  {
   "cell_type": "code",
   "execution_count": 17,
   "id": "d905591e",
   "metadata": {
    "ExecuteTime": {
     "end_time": "2022-08-28T12:17:22.111714Z",
     "start_time": "2022-08-28T12:17:22.083707Z"
    }
   },
   "outputs": [
    {
     "data": {
      "text/html": [
       "<div>\n",
       "<style scoped>\n",
       "    .dataframe tbody tr th:only-of-type {\n",
       "        vertical-align: middle;\n",
       "    }\n",
       "\n",
       "    .dataframe tbody tr th {\n",
       "        vertical-align: top;\n",
       "    }\n",
       "\n",
       "    .dataframe thead th {\n",
       "        text-align: right;\n",
       "    }\n",
       "</style>\n",
       "<table border=\"1\" class=\"dataframe\">\n",
       "  <thead>\n",
       "    <tr style=\"text-align: right;\">\n",
       "      <th></th>\n",
       "      <th>Price</th>\n",
       "    </tr>\n",
       "    <tr>\n",
       "      <th>Date</th>\n",
       "      <th></th>\n",
       "    </tr>\n",
       "  </thead>\n",
       "  <tbody>\n",
       "    <tr>\n",
       "      <th>2019-01-02</th>\n",
       "      <td>42.65</td>\n",
       "    </tr>\n",
       "    <tr>\n",
       "      <th>2019-01-03</th>\n",
       "      <td>51.90</td>\n",
       "    </tr>\n",
       "    <tr>\n",
       "      <th>2019-01-04</th>\n",
       "      <td>50.85</td>\n",
       "    </tr>\n",
       "    <tr>\n",
       "      <th>2019-01-05</th>\n",
       "      <td>50.72</td>\n",
       "    </tr>\n",
       "    <tr>\n",
       "      <th>2019-01-06</th>\n",
       "      <td>51.02</td>\n",
       "    </tr>\n",
       "    <tr>\n",
       "      <th>...</th>\n",
       "      <td>...</td>\n",
       "    </tr>\n",
       "    <tr>\n",
       "      <th>2022-04-26</th>\n",
       "      <td>23.94</td>\n",
       "    </tr>\n",
       "    <tr>\n",
       "      <th>2022-04-27</th>\n",
       "      <td>43.43</td>\n",
       "    </tr>\n",
       "    <tr>\n",
       "      <th>2022-04-28</th>\n",
       "      <td>19.30</td>\n",
       "    </tr>\n",
       "    <tr>\n",
       "      <th>2022-04-29</th>\n",
       "      <td>31.43</td>\n",
       "    </tr>\n",
       "    <tr>\n",
       "      <th>2022-04-30</th>\n",
       "      <td>31.11</td>\n",
       "    </tr>\n",
       "  </tbody>\n",
       "</table>\n",
       "<p>1215 rows × 1 columns</p>\n",
       "</div>"
      ],
      "text/plain": [
       "            Price\n",
       "Date             \n",
       "2019-01-02  42.65\n",
       "2019-01-03  51.90\n",
       "2019-01-04  50.85\n",
       "2019-01-05  50.72\n",
       "2019-01-06  51.02\n",
       "...           ...\n",
       "2022-04-26  23.94\n",
       "2022-04-27  43.43\n",
       "2022-04-28  19.30\n",
       "2022-04-29  31.43\n",
       "2022-04-30  31.11\n",
       "\n",
       "[1215 rows x 1 columns]"
      ]
     },
     "execution_count": 17,
     "metadata": {},
     "output_type": "execute_result"
    }
   ],
   "source": [
    "y"
   ]
  },
  {
   "cell_type": "code",
   "execution_count": 18,
   "id": "30c19fa9",
   "metadata": {
    "ExecuteTime": {
     "end_time": "2022-08-28T12:17:22.126717Z",
     "start_time": "2022-08-28T12:17:22.116713Z"
    }
   },
   "outputs": [],
   "source": [
    "def make_lags(ts, lags, lead_time=1):\n",
    "    return pd.concat(\n",
    "        {\n",
    "            f'y_lag_{i}': ts.shift(i)\n",
    "            for i in range(lead_time, lags + lead_time)\n",
    "        },\n",
    "        axis=1)"
   ]
  },
  {
   "cell_type": "code",
   "execution_count": 19,
   "id": "8e946e0b",
   "metadata": {
    "ExecuteTime": {
     "end_time": "2022-08-28T12:17:22.253744Z",
     "start_time": "2022-08-28T12:17:22.131717Z"
    }
   },
   "outputs": [],
   "source": [
    "def knnshift():  \n",
    "    for shift in range(1,32):\n",
    "        Df=df.copy()\n",
    "        X=make_lags(pd.DataFrame(df.Price), lags=shift).dropna()\n",
    "        y=pd.DataFrame(df.Price)\n",
    "        y, X = y.align(X, join='inner', axis=0)\n",
    "        \n",
    "        x_train=X.loc[:'2022-02-28',:]\n",
    "        x_test=X.loc['2022-03-01':,:]\n",
    "        \n",
    "        scaler = MinMaxScaler() \n",
    "        xtrain = scaler.fit_transform(x_train)\n",
    "        xtest = scaler.transform(x_test)\n",
    "        \n",
    "        y_train=y.loc[:'2022-02-28',:]\n",
    "        y_test=y.loc['2022-03-01':,:]\n",
    "        model = KNeighborsRegressor(n_neighbors=1)\n",
    "        model.fit(xtrain, y_train)\n",
    "\n",
    "        y_pred = pd.Series(model.predict(xtest).T[0], index=x_test.index)\n",
    "        print('MSE:',MSE(ytest,y_pred),'\\nr2_score:', R2(ytest,y_pred),'\\nMAPE:', MAPE(ytest,y_pred),'\\n')"
   ]
  },
  {
   "cell_type": "code",
   "execution_count": 20,
   "id": "1c1d2667",
   "metadata": {
    "ExecuteTime": {
     "end_time": "2022-08-28T12:17:24.124164Z",
     "start_time": "2022-08-28T12:17:22.257745Z"
    },
    "scrolled": true
   },
   "outputs": [
    {
     "name": "stdout",
     "output_type": "stream",
     "text": [
      "MSE: 859.2644606557377 \n",
      "r2_score: -0.34536172660474374 \n",
      "MAPE: 0.49500040165347897 \n",
      "\n",
      "MSE: 320.3399393442622 \n",
      "r2_score: 0.4984395216721016 \n",
      "MAPE: 0.41563440495678 \n",
      "\n",
      "MSE: 445.9314786885245 \n",
      "r2_score: 0.30179918804280204 \n",
      "MAPE: 0.37868584357401935 \n",
      "\n",
      "MSE: 364.78980983606544 \n",
      "r2_score: 0.4288437717599347 \n",
      "MAPE: 0.4335920324042017 \n",
      "\n",
      "MSE: 499.19431147540985 \n",
      "r2_score: 0.21840486654678792 \n",
      "MAPE: 0.4338208399794604 \n",
      "\n",
      "MSE: 509.76698360655746 \n",
      "r2_score: 0.20185109400703727 \n",
      "MAPE: 0.3853878945149656 \n",
      "\n",
      "MSE: 555.2723344262293 \n",
      "r2_score: 0.13060276459075004 \n",
      "MAPE: 0.4671336066486782 \n",
      "\n",
      "MSE: 870.0374213114756 \n",
      "r2_score: -0.36222909353551147 \n",
      "MAPE: 0.5376695897047175 \n",
      "\n",
      "MSE: 862.6481393442623 \n",
      "r2_score: -0.3506595970638515 \n",
      "MAPE: 0.5763128777444703 \n",
      "\n",
      "MSE: 849.3841377049182 \n",
      "r2_score: -0.3298919743303592 \n",
      "MAPE: 0.5298204825185493 \n",
      "\n",
      "MSE: 729.3428622950821 \n",
      "r2_score: -0.14194176232465527 \n",
      "MAPE: 0.4661546800777888 \n",
      "\n",
      "MSE: 712.2930459016395 \n",
      "r2_score: -0.11524663937744206 \n",
      "MAPE: 0.4975081223919562 \n",
      "\n",
      "MSE: 718.7666147540984 \n",
      "r2_score: -0.1253823917184529 \n",
      "MAPE: 0.4973221087409527 \n",
      "\n",
      "MSE: 718.296593442623 \n",
      "r2_score: -0.12464647313680355 \n",
      "MAPE: 0.4735359835822727 \n",
      "\n",
      "MSE: 727.2213786885245 \n",
      "r2_score: -0.13862012739318863 \n",
      "MAPE: 0.48221921332028955 \n",
      "\n",
      "MSE: 702.1438278688526 \n",
      "r2_score: -0.09935587451809003 \n",
      "MAPE: 0.49788072403519673 \n",
      "\n",
      "MSE: 700.9558327868853 \n",
      "r2_score: -0.09749581491146575 \n",
      "MAPE: 0.5083801027968881 \n",
      "\n",
      "MSE: 764.3067016393444 \n",
      "r2_score: -0.19668510785186388 \n",
      "MAPE: 0.516631757320096 \n",
      "\n",
      "MSE: 816.881173770492 \n",
      "r2_score: -0.27900165396819654 \n",
      "MAPE: 0.5846723620718093 \n",
      "\n",
      "MSE: 772.749162295082 \n",
      "r2_score: -0.20990358012049226 \n",
      "MAPE: 0.5152074116750891 \n",
      "\n",
      "MSE: 753.0852344262296 \n",
      "r2_score: -0.17911550827439093 \n",
      "MAPE: 0.5141188038319627 \n",
      "\n",
      "MSE: 751.751368852459 \n",
      "r2_score: -0.1770270573101591 \n",
      "MAPE: 0.5166422418166883 \n",
      "\n",
      "MSE: 768.8329163934427 \n",
      "r2_score: -0.20377186213460297 \n",
      "MAPE: 0.5005728132109755 \n",
      "\n",
      "MSE: 765.6074901639345 \n",
      "r2_score: -0.19872176964287358 \n",
      "MAPE: 0.49593516372846075 \n",
      "\n",
      "MSE: 752.6684704918033 \n",
      "r2_score: -0.17846297547211654 \n",
      "MAPE: 0.5006275958142433 \n",
      "\n",
      "MSE: 829.9724754098361 \n",
      "r2_score: -0.2994988780283778 \n",
      "MAPE: 0.5393172558625898 \n",
      "\n",
      "MSE: 847.8056803278689 \n",
      "r2_score: -0.3274205627459228 \n",
      "MAPE: 0.5654212915702641 \n",
      "\n",
      "MSE: 863.3516557377051 \n",
      "r2_score: -0.3517611019824356 \n",
      "MAPE: 0.5814276398753477 \n",
      "\n",
      "MSE: 856.6556918032787 \n",
      "r2_score: -0.341277142721246 \n",
      "MAPE: 0.5698514117865385 \n",
      "\n",
      "MSE: 913.7025459016395 \n",
      "r2_score: -0.4305961564141545 \n",
      "MAPE: 0.5831110546031137 \n",
      "\n",
      "MSE: 902.2441098360656 \n",
      "r2_score: -0.41265553157136026 \n",
      "MAPE: 0.5646946494056937 \n",
      "\n"
     ]
    }
   ],
   "source": [
    "knnshift()"
   ]
  },
  {
   "cell_type": "code",
   "execution_count": 21,
   "id": "0b531c89",
   "metadata": {
    "ExecuteTime": {
     "end_time": "2022-08-28T12:17:24.172187Z",
     "start_time": "2022-08-28T12:17:24.130167Z"
    }
   },
   "outputs": [],
   "source": [
    "Df=df.copy()\n",
    "X=make_lags(pd.DataFrame(df.Price), lags=2).dropna()\n",
    "y=pd.DataFrame(df.Price)\n",
    "y, X = y.align(X, join='inner', axis=0)"
   ]
  },
  {
   "cell_type": "code",
   "execution_count": 22,
   "id": "f2799a4e",
   "metadata": {
    "ExecuteTime": {
     "end_time": "2022-08-28T12:17:24.204196Z",
     "start_time": "2022-08-28T12:17:24.179192Z"
    }
   },
   "outputs": [],
   "source": [
    "# x_trainl=X.loc['2019-01-02':'2022-01-31',:]\n",
    "# x_testl=X.loc['2022-02-01':'2022-04-30',:]\n",
    "# y_trainl=y.loc['2019-01-02':'2022-01-31',:]\n",
    "# y_testl=y.loc['2022-02-01':'2022-04-30',:]\n",
    "x_trainl=X.loc[:'2022-02-28',:]\n",
    "x_testl=X.loc['2022-03-01':,:]\n",
    "y_trainl=y.loc[:'2022-02-28',:]\n",
    "y_testl=y.loc['2022-03-01':,:]"
   ]
  },
  {
   "cell_type": "code",
   "execution_count": 23,
   "id": "e4be1fa6",
   "metadata": {
    "ExecuteTime": {
     "end_time": "2022-08-28T12:17:24.236205Z",
     "start_time": "2022-08-28T12:17:24.209198Z"
    }
   },
   "outputs": [],
   "source": [
    "model = KNeighborsRegressor(n_neighbors=1)\n",
    "model.fit(x_trainl, y_trainl)\n",
    "\n",
    "y_predl = pd.Series(model.predict(x_testl).T[0], index=x_testl.index)"
   ]
  },
  {
   "cell_type": "code",
   "execution_count": 24,
   "id": "3c353b44",
   "metadata": {
    "ExecuteTime": {
     "end_time": "2022-08-28T12:17:24.268211Z",
     "start_time": "2022-08-28T12:17:24.242206Z"
    }
   },
   "outputs": [
    {
     "name": "stdout",
     "output_type": "stream",
     "text": [
      "MSE:320.339939, r2 score:0.498440 and MAPE:0.415634\n"
     ]
    }
   ],
   "source": [
    "print('MSE:%f, r2 score:%f and MAPE:%f' %(MSE(y_testl,y_predl), R2(y_testl,y_predl),MAPE(y_testl,y_predl)))"
   ]
  },
  {
   "cell_type": "code",
   "execution_count": 25,
   "id": "48b64673",
   "metadata": {
    "ExecuteTime": {
     "end_time": "2022-08-28T12:17:25.144781Z",
     "start_time": "2022-08-28T12:17:24.275214Z"
    }
   },
   "outputs": [
    {
     "name": "stdout",
     "output_type": "stream",
     "text": [
      "residual Mean: 11.987377,Median: 5.100000, skewness 1.605730, kurtosis: 3.273551\n"
     ]
    },
    {
     "data": {
      "image/png": "[encoded data removed]",
      "text/plain": [
       "<Figure size 864x432 with 1 Axes>"
      ]
     },
     "metadata": {
      "needs_background": "light"
     },
     "output_type": "display_data"
    }
   ],
   "source": [
    "y_pred=pd.DataFrame(y_pred,columns=['Price_pred'])\n",
    "y_test=pd.DataFrame(y_test,columns=['Price'])\n",
    "residual=y_test.Price-y_pred.Price_pred\n",
    "residual=pd.DataFrame(residual,columns=['diff'])\n",
    "plt.figure(figsize=(12, 6))\n",
    "sns.set_theme(style=\"whitegrid\")\n",
    "sns.set_context('notebook', font_scale=1.2, rc={'lines.linewidth':1}) \n",
    "sns.scatterplot(data=residual)\n",
    "print('residual Mean: %f,Median: %f, skewness %f, kurtosis: %f' \n",
    "      %(residual.mean(),residual.median(),residual.skew(),residual.kurt()))"
   ]
  },
  {
   "cell_type": "code",
   "execution_count": 26,
   "id": "7e0fe1ca",
   "metadata": {
    "ExecuteTime": {
     "end_time": "2022-08-28T12:17:25.160786Z",
     "start_time": "2022-08-28T12:17:25.150779Z"
    }
   },
   "outputs": [],
   "source": [
    "plot_params = dict(\n",
    "    color=\"0.75\",\n",
    "    style=\".-\",\n",
    "    markeredgecolor=\"0.25\",\n",
    "    markerfacecolor=\"0.25\",\n",
    "    legend=False,\n",
    "    linewidth=1.5\n",
    ")"
   ]
  },
  {
   "cell_type": "code",
   "execution_count": 27,
   "id": "ee3a46ef",
   "metadata": {
    "ExecuteTime": {
     "end_time": "2022-08-28T12:17:26.636332Z",
     "start_time": "2022-08-28T12:17:25.166784Z"
    }
   },
   "outputs": [
    {
     "data": {
      "image/png": "[encoded data removed]",
      "text/plain": [
       "<Figure size 432x288 with 1 Axes>"
      ]
     },
     "metadata": {},
     "output_type": "display_data"
    }
   ],
   "source": [
    "y_testl.columns=['Price_true']\n",
    "ax = y_testl.plot(**plot_params)\n",
    "ax = y_predl.plot(label='Price_pred')\n",
    "plt.grid()\n",
    "plt.legend(loc='best')\n",
    "plt.tight_layout()"
   ]
  },
  {
   "cell_type": "markdown",
   "id": "8e2327fa",
   "metadata": {},
   "source": [
    "#### regression with elements"
   ]
  },
  {
   "cell_type": "code",
   "execution_count": 28,
   "id": "7b432464",
   "metadata": {
    "ExecuteTime": {
     "end_time": "2022-08-28T12:17:26.684341Z",
     "start_time": "2022-08-28T12:17:26.649334Z"
    }
   },
   "outputs": [],
   "source": [
    "def knn2(Df,n):\n",
    "    df=Df.copy()\n",
    "    df['Lag_1'] = df['Price'].shift(1)\n",
    "    df['Lag '+n] = df[n].shift(1)\n",
    "    df1 = df.reindex(columns=['Price','Lag'+n, 'Lag_1'])\n",
    "    X = df.loc[:, ['Lag '+n,'Lag_1']]\n",
    "    X.dropna(inplace=True)  # drop missing values in the feature set\n",
    "    y = df.loc[:, ['Price']]  # create the target\n",
    "    y, X = y.align(X, join='inner',axis=0)  # drop corresponding values in target\n",
    "#     x_train=X.loc['2019-01-02':'2022-01-31',:]\n",
    "#     x_test=X.loc['2022-02-01':'2022-04-30',:]\n",
    "#     y_train=y.loc['2019-01-02':'2022-01-31',:]\n",
    "#     y_test=y.loc['2022-02-01':'2022-04-30',:]\n",
    "    x_train=X.loc[:'2022-02-28',:]\n",
    "    x_test=X.loc['2022-03-01':,:]\n",
    "    y_train=y.loc[:'2022-02-28',:]\n",
    "    y_test=y.loc['2022-03-01':,:]\n",
    "    scaler = MinMaxScaler() \n",
    "    x_train1 = scaler.fit_transform(x_train)\n",
    "    x_test1 = scaler.transform(x_test)\n",
    "    scaler = StandardScaler()\n",
    "    x_train2 = scaler.fit_transform(x_train)\n",
    "    x_test2 = scaler.transform(x_test)\n",
    "\n",
    "    model = KNeighborsRegressor(n_neighbors=1)\n",
    "    model.fit(x_train1, y_train)\n",
    "\n",
    "    y_pred = pd.Series(model.predict(x_test1).T[0], index=x_test.index)\n",
    "    print('MSE:%f, r2 score:%f and MAPE:%f \\n' %(MSE(y_test,y_pred), R2(y_test,y_pred),MAPE(y_test,y_pred)))\n",
    "\n",
    "    fig, ax = plt.subplots()\n",
    "    ax = sns.regplot(x='Lag '+n, y='Price', data=df, ci=None, scatter_kws=dict(color='0.25'))\n",
    "    ax.set_title('Lag '+n+' of Power Price')\n",
    "    \n",
    "#     plt.plot(x_test['Lag'+n],y_test, '.', color='0.25')\n",
    "#     plt.plot(x_test['Lag'+n],y_pred)\n",
    "# #     plt.set_aspect('equal')\n",
    "#     plt.ylabel('Price')\n",
    "#     plt.xlabel('Lag '+n)\n",
    "#     plt.title('Lag Plot of Power Price');\n",
    "    \n",
    "    plot_params = dict(\n",
    "        color=\"0.75\",\n",
    "        style=\".-\",\n",
    "        markeredgecolor=\"0.25\",\n",
    "        markerfacecolor=\"0.25\",\n",
    "        legend=False,\n",
    "        linewidth=1.5\n",
    "    )\n",
    "    y_test.plot(**plot_params)\n",
    "    y_pred.plot()\n",
    "    plt.grid()\n",
    "    plt.tight_layout()"
   ]
  },
  {
   "cell_type": "code",
   "execution_count": 29,
   "id": "157d7940",
   "metadata": {
    "ExecuteTime": {
     "end_time": "2022-08-28T12:17:28.530771Z",
     "start_time": "2022-08-28T12:17:26.689345Z"
    },
    "scrolled": false
   },
   "outputs": [
    {
     "name": "stdout",
     "output_type": "stream",
     "text": [
      "MSE:560.676628, r2 score:0.122141 and MAPE:0.413987 \n",
      "\n"
     ]
    },
    {
     "data": {
      "image/png": "[encoded data removed]",
      "text/plain": [
       "<Figure size 432x288 with 1 Axes>"
      ]
     },
     "metadata": {},
     "output_type": "display_data"
    },
    {
     "data": {
      "image/png": "[encoded data removed]",
      "text/plain": [
       "<Figure size 432x288 with 1 Axes>"
      ]
     },
     "metadata": {},
     "output_type": "display_data"
    }
   ],
   "source": [
    "knn2(df,'EV')"
   ]
  },
  {
   "cell_type": "code",
   "execution_count": 30,
   "id": "e32f8fa2",
   "metadata": {
    "ExecuteTime": {
     "end_time": "2022-08-28T12:17:28.578781Z",
     "start_time": "2022-08-28T12:17:28.537775Z"
    }
   },
   "outputs": [],
   "source": [
    "def knn3(Df,n):\n",
    "    df=Df.copy()\n",
    "    for m in range(1,31):\n",
    "        df['Lag_1'] = df['Price'].shift(1)\n",
    "        df['Lag_2'] = df['Price'].shift(2)\n",
    "        df['Lag '+n] = df[n].shift(m)\n",
    "\n",
    "        X = df.loc[:, ['Lag '+n,'Lag_1','Lag_2']]\n",
    "        X.dropna(inplace=True)  # drop missing values in the feature set\n",
    "        y = df.loc[:, ['Price']]  # create the target\n",
    "        y, X = y.align(X, join='inner',axis=0)  # drop corresponding values in target\n",
    "    #     x_train=X.loc['2019-01-02':'2022-01-31',:]\n",
    "    #     x_test=X.loc['2022-02-01':'2022-04-30',:]\n",
    "    #     y_train=y.loc['2019-01-02':'2022-01-31',:]\n",
    "    #     y_test=y.loc['2022-02-01':'2022-04-30',:]\n",
    "        x_train=X.loc[:'2022-02-28',:]\n",
    "        x_test=X.loc['2022-03-01':,:]\n",
    "        y_train=y.loc[:'2022-02-28',:]\n",
    "        y_test=y.loc['2022-03-01':,:]\n",
    "        scaler = MinMaxScaler() \n",
    "        x_train1 = scaler.fit_transform(x_train)\n",
    "        x_test1 = scaler.transform(x_test)\n",
    "        scaler = StandardScaler()\n",
    "        x_train2 = scaler.fit_transform(x_train)\n",
    "        x_test2 = scaler.transform(x_test)\n",
    "\n",
    "        model = KNeighborsRegressor(n_neighbors=1)\n",
    "        model.fit(x_train1, y_train)\n",
    "\n",
    "        y_pred = pd.Series(model.predict(x_test1).T[0], index=x_test.index)\n",
    "        print('%d MSE:%f, r2 score:%f and MAPE:%f \\n' %(m, MSE(y_test,y_pred), R2(y_test,y_pred),MAPE(y_test,y_pred)))\n"
   ]
  },
  {
   "cell_type": "code",
   "execution_count": 31,
   "id": "47ede27a",
   "metadata": {
    "ExecuteTime": {
     "end_time": "2022-08-28T12:17:30.129136Z",
     "start_time": "2022-08-28T12:17:28.584784Z"
    },
    "scrolled": true
   },
   "outputs": [
    {
     "name": "stdout",
     "output_type": "stream",
     "text": [
      "1 MSE:618.574597, r2 score:0.031490 and MAPE:0.471677 \n",
      "\n",
      "2 MSE:651.812590, r2 score:-0.020552 and MAPE:0.496256 \n",
      "\n",
      "3 MSE:677.596623, r2 score:-0.060922 and MAPE:0.483419 \n",
      "\n",
      "4 MSE:698.012910, r2 score:-0.092888 and MAPE:0.515781 \n",
      "\n",
      "5 MSE:694.560962, r2 score:-0.087483 and MAPE:0.506526 \n",
      "\n",
      "6 MSE:719.599362, r2 score:-0.126686 and MAPE:0.570338 \n",
      "\n",
      "7 MSE:672.021597, r2 score:-0.052193 and MAPE:0.496522 \n",
      "\n",
      "8 MSE:689.857223, r2 score:-0.080119 and MAPE:0.512538 \n",
      "\n",
      "9 MSE:743.911915, r2 score:-0.164753 and MAPE:0.525780 \n",
      "\n",
      "10 MSE:671.305616, r2 score:-0.051072 and MAPE:0.583180 \n",
      "\n",
      "11 MSE:602.103423, r2 score:0.057279 and MAPE:0.483812 \n",
      "\n",
      "12 MSE:696.393390, r2 score:-0.090352 and MAPE:0.485678 \n",
      "\n",
      "13 MSE:713.356585, r2 score:-0.116912 and MAPE:0.487793 \n",
      "\n",
      "14 MSE:669.302128, r2 score:-0.047935 and MAPE:0.542657 \n",
      "\n",
      "15 MSE:671.834303, r2 score:-0.051900 and MAPE:0.542395 \n",
      "\n",
      "16 MSE:629.122256, r2 score:0.014975 and MAPE:0.414538 \n",
      "\n",
      "17 MSE:607.864313, r2 score:0.048259 and MAPE:0.436061 \n",
      "\n",
      "18 MSE:600.111062, r2 score:0.060398 and MAPE:0.476720 \n",
      "\n",
      "19 MSE:510.146030, r2 score:0.201258 and MAPE:0.404089 \n",
      "\n",
      "20 MSE:579.419402, r2 score:0.092795 and MAPE:0.477634 \n",
      "\n",
      "21 MSE:506.056823, r2 score:0.207660 and MAPE:0.407182 \n",
      "\n",
      "22 MSE:592.076018, r2 score:0.072979 and MAPE:0.466772 \n",
      "\n",
      "23 MSE:551.255297, r2 score:0.136892 and MAPE:0.391764 \n",
      "\n",
      "24 MSE:533.201413, r2 score:0.165159 and MAPE:0.401245 \n",
      "\n",
      "25 MSE:538.651652, r2 score:0.156626 and MAPE:0.427679 \n",
      "\n",
      "26 MSE:590.290682, r2 score:0.075774 and MAPE:0.431428 \n",
      "\n",
      "27 MSE:472.998707, r2 score:0.259420 and MAPE:0.445384 \n",
      "\n",
      "28 MSE:485.122102, r2 score:0.240438 and MAPE:0.440272 \n",
      "\n",
      "29 MSE:496.601728, r2 score:0.222464 and MAPE:0.404922 \n",
      "\n",
      "30 MSE:426.699130, r2 score:0.331912 and MAPE:0.400880 \n",
      "\n"
     ]
    }
   ],
   "source": [
    "knn3(df,'precip')"
   ]
  },
  {
   "cell_type": "code",
   "execution_count": 32,
   "id": "bcf8cad7",
   "metadata": {
    "ExecuteTime": {
     "end_time": "2022-08-28T12:17:30.162145Z",
     "start_time": "2022-08-28T12:17:30.134139Z"
    }
   },
   "outputs": [],
   "source": [
    "Df=df.copy()\n",
    "Df['Lag_1'] = Df['Price'].shift(1)\n",
    "Df['Lag_2'] = Df['Price'].shift(2)\n",
    "Df = Df.reindex(columns=['Price', 'Lag_1','Lag_2']).dropna()"
   ]
  },
  {
   "cell_type": "code",
   "execution_count": 33,
   "id": "a1634fbd",
   "metadata": {
    "ExecuteTime": {
     "end_time": "2022-08-28T12:17:30.179149Z",
     "start_time": "2022-08-28T12:17:30.169147Z"
    }
   },
   "outputs": [],
   "source": [
    "df1=Df.copy()"
   ]
  },
  {
   "cell_type": "code",
   "execution_count": 34,
   "id": "365114f9",
   "metadata": {
    "ExecuteTime": {
     "end_time": "2022-08-28T12:17:30.226161Z",
     "start_time": "2022-08-28T12:17:30.187152Z"
    }
   },
   "outputs": [
    {
     "data": {
      "text/html": [
       "<div>\n",
       "<style scoped>\n",
       "    .dataframe tbody tr th:only-of-type {\n",
       "        vertical-align: middle;\n",
       "    }\n",
       "\n",
       "    .dataframe tbody tr th {\n",
       "        vertical-align: top;\n",
       "    }\n",
       "\n",
       "    .dataframe thead th {\n",
       "        text-align: right;\n",
       "    }\n",
       "</style>\n",
       "<table border=\"1\" class=\"dataframe\">\n",
       "  <thead>\n",
       "    <tr style=\"text-align: right;\">\n",
       "      <th></th>\n",
       "      <th>Price</th>\n",
       "      <th>Lag_1</th>\n",
       "      <th>Lag_2</th>\n",
       "    </tr>\n",
       "    <tr>\n",
       "      <th>Date</th>\n",
       "      <th></th>\n",
       "      <th></th>\n",
       "      <th></th>\n",
       "    </tr>\n",
       "  </thead>\n",
       "  <tbody>\n",
       "    <tr>\n",
       "      <th>2019-01-03</th>\n",
       "      <td>51.90</td>\n",
       "      <td>42.65</td>\n",
       "      <td>22.58</td>\n",
       "    </tr>\n",
       "    <tr>\n",
       "      <th>2019-01-04</th>\n",
       "      <td>50.85</td>\n",
       "      <td>51.90</td>\n",
       "      <td>42.65</td>\n",
       "    </tr>\n",
       "    <tr>\n",
       "      <th>2019-01-05</th>\n",
       "      <td>50.72</td>\n",
       "      <td>50.85</td>\n",
       "      <td>51.90</td>\n",
       "    </tr>\n",
       "    <tr>\n",
       "      <th>2019-01-06</th>\n",
       "      <td>51.02</td>\n",
       "      <td>50.72</td>\n",
       "      <td>50.85</td>\n",
       "    </tr>\n",
       "    <tr>\n",
       "      <th>2019-01-07</th>\n",
       "      <td>51.19</td>\n",
       "      <td>51.02</td>\n",
       "      <td>50.72</td>\n",
       "    </tr>\n",
       "    <tr>\n",
       "      <th>...</th>\n",
       "      <td>...</td>\n",
       "      <td>...</td>\n",
       "      <td>...</td>\n",
       "    </tr>\n",
       "    <tr>\n",
       "      <th>2022-04-26</th>\n",
       "      <td>23.94</td>\n",
       "      <td>40.27</td>\n",
       "      <td>55.01</td>\n",
       "    </tr>\n",
       "    <tr>\n",
       "      <th>2022-04-27</th>\n",
       "      <td>43.43</td>\n",
       "      <td>23.94</td>\n",
       "      <td>40.27</td>\n",
       "    </tr>\n",
       "    <tr>\n",
       "      <th>2022-04-28</th>\n",
       "      <td>19.30</td>\n",
       "      <td>43.43</td>\n",
       "      <td>23.94</td>\n",
       "    </tr>\n",
       "    <tr>\n",
       "      <th>2022-04-29</th>\n",
       "      <td>31.43</td>\n",
       "      <td>19.30</td>\n",
       "      <td>43.43</td>\n",
       "    </tr>\n",
       "    <tr>\n",
       "      <th>2022-04-30</th>\n",
       "      <td>31.11</td>\n",
       "      <td>31.43</td>\n",
       "      <td>19.30</td>\n",
       "    </tr>\n",
       "  </tbody>\n",
       "</table>\n",
       "<p>1214 rows × 3 columns</p>\n",
       "</div>"
      ],
      "text/plain": [
       "            Price  Lag_1  Lag_2\n",
       "Date                           \n",
       "2019-01-03  51.90  42.65  22.58\n",
       "2019-01-04  50.85  51.90  42.65\n",
       "2019-01-05  50.72  50.85  51.90\n",
       "2019-01-06  51.02  50.72  50.85\n",
       "2019-01-07  51.19  51.02  50.72\n",
       "...           ...    ...    ...\n",
       "2022-04-26  23.94  40.27  55.01\n",
       "2022-04-27  43.43  23.94  40.27\n",
       "2022-04-28  19.30  43.43  23.94\n",
       "2022-04-29  31.43  19.30  43.43\n",
       "2022-04-30  31.11  31.43  19.30\n",
       "\n",
       "[1214 rows x 3 columns]"
      ]
     },
     "execution_count": 34,
     "metadata": {},
     "output_type": "execute_result"
    }
   ],
   "source": [
    "df1"
   ]
  },
  {
   "cell_type": "code",
   "execution_count": 35,
   "id": "e9019a49",
   "metadata": {
    "ExecuteTime": {
     "end_time": "2022-08-28T12:17:30.322181Z",
     "start_time": "2022-08-28T12:17:30.236163Z"
    }
   },
   "outputs": [
    {
     "name": "stdout",
     "output_type": "stream",
     "text": [
      "MSE:854.335751, r2 score:-0.337645 and MAPE:0.494903 \n",
      "\n"
     ]
    }
   ],
   "source": [
    "# n='wind'\n",
    "# df1['Lag '+n] = df[n].shift(5) \n",
    "X = df1.iloc[:, 1:-1]\n",
    "X.dropna(inplace=True)  # drop missing values in the feature set\n",
    "y = df1.loc[:, ['Price']]  # create the target\n",
    "y, X = y.align(X, join='inner',axis=0)  # drop corresponding values in target\n",
    "\n",
    "x_train=X.loc[:'2022-02-28',:]\n",
    "x_test=X.loc['2022-03-01':,:]\n",
    "y_train=y.loc[:'2022-02-28',:]\n",
    "y_test=y.loc['2022-03-01':,:]\n",
    "# scaler = MinMaxScaler() \n",
    "# x_train1 = scaler.fit_transform(x_train)\n",
    "# x_test1 = scaler.transform(x_test)\n",
    "# scaler = StandardScaler()\n",
    "# x_train2 = scaler.fit_transform(x_train)\n",
    "# x_test2 = scaler.transform(x_test)\n",
    "\n",
    "model = KNeighborsRegressor(n_neighbors=1)\n",
    "model.fit(x_train, y_train)\n",
    "y_pred = pd.Series(model.predict(x_test).T[0], index=x_test.index)\n",
    "print('MSE:%f, r2 score:%f and MAPE:%f \\n' %(MSE(y_test,y_pred), R2(y_test,y_pred),MAPE(y_test,y_pred)))\n"
   ]
  },
  {
   "cell_type": "code",
   "execution_count": 36,
   "id": "a6267b4a",
   "metadata": {
    "ExecuteTime": {
     "end_time": "2022-08-28T12:17:32.135589Z",
     "start_time": "2022-08-28T12:17:30.328183Z"
    }
   },
   "outputs": [
    {
     "data": {
      "image/png": "[encoded data removed]",
      "text/plain": [
       "<Figure size 432x288 with 1 Axes>"
      ]
     },
     "metadata": {},
     "output_type": "display_data"
    }
   ],
   "source": [
    "y_test.columns=['Price_true']\n",
    "ax = y_test.plot(**plot_params)\n",
    "ax = y_pred.plot(label='Price_pred',color='teal')\n",
    "plt.grid()\n",
    "plt.legend(loc='best')\n",
    "plt.tight_layout()"
   ]
  },
  {
   "cell_type": "code",
   "execution_count": 37,
   "id": "336eaff4",
   "metadata": {
    "ExecuteTime": {
     "end_time": "2022-08-28T12:17:32.151593Z",
     "start_time": "2022-08-28T12:17:32.140590Z"
    }
   },
   "outputs": [],
   "source": [
    "df2=df1.copy()"
   ]
  },
  {
   "cell_type": "code",
   "execution_count": 38,
   "id": "815d5b27",
   "metadata": {
    "ExecuteTime": {
     "end_time": "2022-08-28T12:17:32.167598Z",
     "start_time": "2022-08-28T12:17:32.157593Z"
    }
   },
   "outputs": [],
   "source": [
    "df1=df2.copy()"
   ]
  }
 ],
 "metadata": {
  "kernelspec": {
   "display_name": "Python 3 (ipykernel)",
   "language": "python",
   "name": "python3"
  },
  "language_info": {
   "codemirror_mode": {
    "name": "ipython",
    "version": 3
   },
   "file_extension": ".py",
   "mimetype": "text/x-python",
   "name": "python",
   "nbconvert_exporter": "python",
   "pygments_lexer": "ipython3",
   "version": "3.7.11"
  },
  "varInspector": {
   "cols": {
    "lenName": 16,
    "lenType": 16,
    "lenVar": 40
   },
   "kernels_config": {
    "python": {
     "delete_cmd_postfix": "",
     "delete_cmd_prefix": "del ",
     "library": "var_list.py",
     "varRefreshCmd": "print(var_dic_list())"
    },
    "r": {
     "delete_cmd_postfix": ") ",
     "delete_cmd_prefix": "rm(",
     "library": "var_list.r",
     "varRefreshCmd": "cat(var_dic_list()) "
    }
   },
   "types_to_exclude": [
    "module",
    "function",
    "builtin_function_or_method",
    "instance",
    "_Feature"
   ],
   "window_display": false
  }
 },
 "nbformat": 4,
 "nbformat_minor": 5
}
