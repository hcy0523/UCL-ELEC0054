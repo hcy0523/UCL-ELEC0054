{
 "cells": [
  {
   "cell_type": "code",
   "execution_count": 1,
   "id": "480e3f79",
   "metadata": {
    "ExecuteTime": {
     "end_time": "2022-08-28T12:27:50.281999Z",
     "start_time": "2022-08-28T12:27:44.217316Z"
    }
   },
   "outputs": [],
   "source": [
    "import os\n",
    "import pandas as pd\n",
    "import numpy as np\n",
    "\n",
    "import datetime\n",
    "import matplotlib.pyplot as plt\n",
    "import seaborn as sns\n",
    "%matplotlib inline\n",
    "from scipy import stats\n",
    "from statsmodels.tsa.seasonal import seasonal_decompose\n",
    "from scipy.stats import pearsonr,spearmanr\n",
    "import warnings\n",
    "warnings.filterwarnings(\"ignore\")#忽略警告\n",
    "\n",
    "import datetime\n",
    "from collections import Counter\n",
    "from scipy import stats\n",
    "from sklearn.preprocessing import MinMaxScaler,StandardScaler\n",
    "# from calendar import day_abbr, month_abbr, mdays\n",
    "# import holidays\n",
    "# from fbprophet import Prophet\n",
    "from sklearn.metrics import mean_squared_error as MSE, r2_score as R2, mean_absolute_percentage_error as MAPE\n",
    "from sklearn.linear_model import LinearRegression"
   ]
  },
  {
   "cell_type": "code",
   "execution_count": 2,
   "id": "e2938deb",
   "metadata": {
    "ExecuteTime": {
     "end_time": "2022-08-28T12:27:50.313008Z",
     "start_time": "2022-08-28T12:27:50.287001Z"
    }
   },
   "outputs": [],
   "source": [
    "df=pd.read_csv('./data/preprocessed/data.csv')"
   ]
  },
  {
   "cell_type": "code",
   "execution_count": 3,
   "id": "f084a4fd",
   "metadata": {
    "ExecuteTime": {
     "end_time": "2022-08-28T12:27:50.345014Z",
     "start_time": "2022-08-28T12:27:50.317010Z"
    }
   },
   "outputs": [],
   "source": [
    "df['Date']=pd.to_datetime(df['Date'].astype('str'))\n",
    "df.set_index('Date',drop=True,inplace=True)"
   ]
  },
  {
   "cell_type": "code",
   "execution_count": 4,
   "id": "50255b60",
   "metadata": {
    "ExecuteTime": {
     "end_time": "2022-08-28T12:27:50.377021Z",
     "start_time": "2022-08-28T12:27:50.349016Z"
    }
   },
   "outputs": [],
   "source": [
    "x = df.iloc[:,1:]  # features\n",
    "x_train=x.loc[:'2022-02-28',:]\n",
    "x_test=x.loc['2022-03-01':,:]\n",
    "y = df.loc[:, ['Price']]  # target\n",
    "y_train=y.loc[:'2022-02-28',:]\n",
    "y_test=y.loc['2022-03-01':,:]"
   ]
  },
  {
   "cell_type": "code",
   "execution_count": 5,
   "id": "99923a25",
   "metadata": {
    "ExecuteTime": {
     "end_time": "2022-08-28T12:27:50.425032Z",
     "start_time": "2022-08-28T12:27:50.382021Z"
    }
   },
   "outputs": [],
   "source": [
    "# Pre-process data\n",
    "scaler = MinMaxScaler() \n",
    "x_train1 = scaler.fit_transform(x_train)\n",
    "x_test1 = scaler.transform(x_test)\n",
    "scaler = StandardScaler()\n",
    "x_train2 = scaler.fit_transform(x_train)\n",
    "x_test2 = scaler.transform(x_test)"
   ]
  },
  {
   "cell_type": "markdown",
   "id": "c91f63b9",
   "metadata": {},
   "source": [
    "### Linear regression without time offset"
   ]
  },
  {
   "cell_type": "code",
   "execution_count": 6,
   "id": "c574eae6",
   "metadata": {
    "ExecuteTime": {
     "end_time": "2022-08-28T12:27:50.457038Z",
     "start_time": "2022-08-28T12:27:50.434033Z"
    }
   },
   "outputs": [],
   "source": [
    "def linear(X,Y):    \n",
    "    for n in X.iloc[:,0:]:\n",
    "        # Training data\n",
    "        x = pd.DataFrame(X[str(n)] ) # features\n",
    "        x_train=x.loc[:'2022-02-28',:]\n",
    "        X_test=x.loc['2022-03-01':,:]\n",
    "        y_train=y.loc[:'2022-02-28',:]\n",
    "        y_test=y.loc['2022-03-01':,:]\n",
    "        # Train the model\n",
    "        scaler = StandardScaler() \n",
    "        x_train = scaler.fit_transform(x_train)\n",
    "        x_test = scaler.transform(X_test)\n",
    "        model = LinearRegression()\n",
    "        model.fit(x_train, y_train)\n",
    "\n",
    "        # Store the fitted values as a time series with the same time index as\n",
    "        # the training data\n",
    "        y_pred = pd.Series(model.predict(x_test).T[0], index=X_test.index)\n",
    "        print(str(n),'\\nMSE:',MSE(y_test,y_pred),'\\nr2_score:', R2(y_test,y_pred),'\\nMAPE:', MAPE(y_test,y_pred),'\\n')\n"
   ]
  },
  {
   "cell_type": "code",
   "execution_count": 7,
   "id": "936e5d33",
   "metadata": {
    "ExecuteTime": {
     "end_time": "2022-08-28T12:27:50.489044Z",
     "start_time": "2022-08-28T12:27:50.461040Z"
    }
   },
   "outputs": [
    {
     "data": {
      "text/plain": [
       "GDP          False\n",
       "netimport    False\n",
       "EV           False\n",
       "EG           False\n",
       "carbon       False\n",
       "crude        False\n",
       "gas          False\n",
       "temp         False\n",
       "precip       False\n",
       "wind         False\n",
       "dtype: bool"
      ]
     },
     "execution_count": 7,
     "metadata": {},
     "output_type": "execute_result"
    }
   ],
   "source": [
    "x.isnull().any()"
   ]
  },
  {
   "cell_type": "code",
   "execution_count": 8,
   "id": "37e11bfc",
   "metadata": {
    "ExecuteTime": {
     "end_time": "2022-08-28T12:27:50.921140Z",
     "start_time": "2022-08-28T12:27:50.494044Z"
    },
    "scrolled": true
   },
   "outputs": [
    {
     "name": "stdout",
     "output_type": "stream",
     "text": [
      "GDP \n",
      "MSE: 665.1605350125668 \n",
      "r2_score: -0.04145064392739295 \n",
      "MAPE: 0.7711907999426424 \n",
      "\n",
      "netimport \n",
      "MSE: 641.0099046582469 \n",
      "r2_score: -0.003637682679949572 \n",
      "MAPE: 0.6183468225819554 \n",
      "\n",
      "EV \n",
      "MSE: 653.5002875307462 \n",
      "r2_score: -0.023194040281980355 \n",
      "MAPE: 0.5891400130053301 \n",
      "\n",
      "EG \n",
      "MSE: 961.64868605214 \n",
      "r2_score: -0.5056660619560225 \n",
      "MAPE: 1.2943781203302236 \n",
      "\n",
      "carbon \n",
      "MSE: 677.4511771469784 \n",
      "r2_score: -0.06069426481497642 \n",
      "MAPE: 0.9351147213372897 \n",
      "\n",
      "crude \n",
      "MSE: 1211.8831551081255 \n",
      "r2_score: -0.8974614785711437 \n",
      "MAPE: 1.4827483883145836 \n",
      "\n",
      "gas \n",
      "MSE: 844.8530238775168 \n",
      "r2_score: -0.32279754950377737 \n",
      "MAPE: 1.187031760651037 \n",
      "\n",
      "temp \n",
      "MSE: 657.9755506269679 \n",
      "r2_score: -0.030201018880337438 \n",
      "MAPE: 0.6349993784541189 \n",
      "\n",
      "precip \n",
      "MSE: 665.3460085346684 \n",
      "r2_score: -0.04174104227314035 \n",
      "MAPE: 0.5346228536079787 \n",
      "\n",
      "wind \n",
      "MSE: 723.8258981697774 \n",
      "r2_score: -0.13330377865246645 \n",
      "MAPE: 0.6787727957997903 \n",
      "\n"
     ]
    }
   ],
   "source": [
    "linear(x,y)"
   ]
  },
  {
   "cell_type": "code",
   "execution_count": 9,
   "id": "5b27def1",
   "metadata": {
    "ExecuteTime": {
     "end_time": "2022-08-28T12:27:50.937147Z",
     "start_time": "2022-08-28T12:27:50.927143Z"
    }
   },
   "outputs": [],
   "source": [
    "xtrain=x_train.copy()\n",
    "xtest=x_test.copy()\n",
    "ytrain=y_train.copy()\n",
    "ytest=y_test.copy()"
   ]
  },
  {
   "cell_type": "code",
   "execution_count": 10,
   "id": "3c785ce0",
   "metadata": {
    "ExecuteTime": {
     "end_time": "2022-08-28T12:27:51.001164Z",
     "start_time": "2022-08-28T12:27:50.942147Z"
    }
   },
   "outputs": [
    {
     "name": "stdout",
     "output_type": "stream",
     "text": [
      "MSE: 580.4850627003362 \n",
      "r2_score: 0.09112686258802694 \n",
      "MAPE: 0.454780624245515 \n",
      "\n"
     ]
    }
   ],
   "source": [
    "X_train=xtrain.loc[:,['GDP','gas','crude','EG']]\n",
    "X_test=xtest.loc[:,['GDP','gas','crude','EG']]\n",
    "# Train the model\n",
    "scaler = StandardScaler() \n",
    "x_train = scaler.fit_transform(X_train)\n",
    "x_test = scaler.transform(X_test)\n",
    "model = LinearRegression()\n",
    "model.fit(X_train, ytrain)\n",
    "\n",
    "# Store the fitted values as a time series with the same time index as\n",
    "# the training data\n",
    "y_pred = pd.Series(model.predict(X_test).T[0], index=xtest.index)\n",
    "print('MSE:',MSE(ytest,y_pred),'\\nr2_score:', R2(ytest,y_pred),'\\nMAPE:', MAPE(ytest,y_pred),'\\n')"
   ]
  },
  {
   "cell_type": "code",
   "execution_count": 11,
   "id": "d13f538c",
   "metadata": {
    "ExecuteTime": {
     "end_time": "2022-08-28T12:27:51.017164Z",
     "start_time": "2022-08-28T12:27:51.006161Z"
    }
   },
   "outputs": [
    {
     "data": {
      "text/plain": [
       "array([[ 0.01903826,  4.92833161, -0.26800289, -0.79097371]])"
      ]
     },
     "execution_count": 11,
     "metadata": {},
     "output_type": "execute_result"
    }
   ],
   "source": [
    "model.coef_"
   ]
  },
  {
   "cell_type": "code",
   "execution_count": 12,
   "id": "0ea55a86",
   "metadata": {
    "ExecuteTime": {
     "end_time": "2022-08-28T12:27:51.033166Z",
     "start_time": "2022-08-28T12:27:51.023166Z"
    }
   },
   "outputs": [],
   "source": [
    "y_pred.name='Price_pred'"
   ]
  },
  {
   "cell_type": "code",
   "execution_count": 13,
   "id": "e0b0af00",
   "metadata": {
    "ExecuteTime": {
     "end_time": "2022-08-28T12:27:51.049171Z",
     "start_time": "2022-08-28T12:27:51.042169Z"
    }
   },
   "outputs": [],
   "source": [
    "ytest.name='Price_true'"
   ]
  },
  {
   "cell_type": "code",
   "execution_count": 14,
   "id": "7c3b47b4",
   "metadata": {
    "ExecuteTime": {
     "end_time": "2022-08-28T12:27:51.065175Z",
     "start_time": "2022-08-28T12:27:51.055172Z"
    }
   },
   "outputs": [],
   "source": [
    "res=pd.concat([X_test,ytest,y_pred],axis=1)"
   ]
  },
  {
   "cell_type": "code",
   "execution_count": 15,
   "id": "67fba395",
   "metadata": {
    "ExecuteTime": {
     "end_time": "2022-08-28T12:27:51.129190Z",
     "start_time": "2022-08-28T12:27:51.070177Z"
    }
   },
   "outputs": [
    {
     "data": {
      "text/html": [
       "<div>\n",
       "<style scoped>\n",
       "    .dataframe tbody tr th:only-of-type {\n",
       "        vertical-align: middle;\n",
       "    }\n",
       "\n",
       "    .dataframe tbody tr th {\n",
       "        vertical-align: top;\n",
       "    }\n",
       "\n",
       "    .dataframe thead th {\n",
       "        text-align: right;\n",
       "    }\n",
       "</style>\n",
       "<table border=\"1\" class=\"dataframe\">\n",
       "  <thead>\n",
       "    <tr style=\"text-align: right;\">\n",
       "      <th></th>\n",
       "      <th>GDP</th>\n",
       "      <th>gas</th>\n",
       "      <th>crude</th>\n",
       "      <th>EG</th>\n",
       "      <th>Price</th>\n",
       "      <th>Price_pred</th>\n",
       "    </tr>\n",
       "    <tr>\n",
       "      <th>Date</th>\n",
       "      <th></th>\n",
       "      <th></th>\n",
       "      <th></th>\n",
       "      <th></th>\n",
       "      <th></th>\n",
       "      <th></th>\n",
       "    </tr>\n",
       "  </thead>\n",
       "  <tbody>\n",
       "    <tr>\n",
       "      <th>2022-03-01</th>\n",
       "      <td>53451.045382</td>\n",
       "      <td>4.573000</td>\n",
       "      <td>100.849998</td>\n",
       "      <td>181.440305</td>\n",
       "      <td>13.68</td>\n",
       "      <td>28.824407</td>\n",
       "    </tr>\n",
       "    <tr>\n",
       "      <th>2022-03-02</th>\n",
       "      <td>53448.220292</td>\n",
       "      <td>4.762000</td>\n",
       "      <td>112.930000</td>\n",
       "      <td>181.488628</td>\n",
       "      <td>13.28</td>\n",
       "      <td>26.426380</td>\n",
       "    </tr>\n",
       "    <tr>\n",
       "      <th>2022-03-03</th>\n",
       "      <td>53445.373356</td>\n",
       "      <td>4.722000</td>\n",
       "      <td>110.459999</td>\n",
       "      <td>181.536982</td>\n",
       "      <td>20.63</td>\n",
       "      <td>26.798768</td>\n",
       "    </tr>\n",
       "    <tr>\n",
       "      <th>2022-03-04</th>\n",
       "      <td>53442.504489</td>\n",
       "      <td>5.016000</td>\n",
       "      <td>118.110001</td>\n",
       "      <td>181.585366</td>\n",
       "      <td>23.72</td>\n",
       "      <td>26.104584</td>\n",
       "    </tr>\n",
       "    <tr>\n",
       "      <th>2022-03-05</th>\n",
       "      <td>53439.613610</td>\n",
       "      <td>5.161544</td>\n",
       "      <td>121.792486</td>\n",
       "      <td>181.633780</td>\n",
       "      <td>14.89</td>\n",
       "      <td>25.741623</td>\n",
       "    </tr>\n",
       "    <tr>\n",
       "      <th>...</th>\n",
       "      <td>...</td>\n",
       "      <td>...</td>\n",
       "      <td>...</td>\n",
       "      <td>...</td>\n",
       "      <td>...</td>\n",
       "      <td>...</td>\n",
       "    </tr>\n",
       "    <tr>\n",
       "      <th>2022-04-26</th>\n",
       "      <td>53256.877019</td>\n",
       "      <td>6.850000</td>\n",
       "      <td>104.989998</td>\n",
       "      <td>184.189287</td>\n",
       "      <td>23.94</td>\n",
       "      <td>33.065686</td>\n",
       "    </tr>\n",
       "    <tr>\n",
       "      <th>2022-04-27</th>\n",
       "      <td>53252.699646</td>\n",
       "      <td>7.267000</td>\n",
       "      <td>105.320000</td>\n",
       "      <td>184.239084</td>\n",
       "      <td>43.43</td>\n",
       "      <td>34.913442</td>\n",
       "    </tr>\n",
       "    <tr>\n",
       "      <th>2022-04-28</th>\n",
       "      <td>53248.495739</td>\n",
       "      <td>6.888000</td>\n",
       "      <td>107.589996</td>\n",
       "      <td>184.288904</td>\n",
       "      <td>19.30</td>\n",
       "      <td>32.317797</td>\n",
       "    </tr>\n",
       "    <tr>\n",
       "      <th>2022-04-29</th>\n",
       "      <td>53244.265215</td>\n",
       "      <td>7.244000</td>\n",
       "      <td>109.339996</td>\n",
       "      <td>184.338745</td>\n",
       "      <td>31.43</td>\n",
       "      <td>33.483313</td>\n",
       "    </tr>\n",
       "    <tr>\n",
       "      <th>2022-04-30</th>\n",
       "      <td>53240.007990</td>\n",
       "      <td>7.552826</td>\n",
       "      <td>112.291004</td>\n",
       "      <td>184.388607</td>\n",
       "      <td>31.11</td>\n",
       "      <td>34.093943</td>\n",
       "    </tr>\n",
       "  </tbody>\n",
       "</table>\n",
       "<p>61 rows × 6 columns</p>\n",
       "</div>"
      ],
      "text/plain": [
       "                     GDP       gas       crude          EG  Price  Price_pred\n",
       "Date                                                                         \n",
       "2022-03-01  53451.045382  4.573000  100.849998  181.440305  13.68   28.824407\n",
       "2022-03-02  53448.220292  4.762000  112.930000  181.488628  13.28   26.426380\n",
       "2022-03-03  53445.373356  4.722000  110.459999  181.536982  20.63   26.798768\n",
       "2022-03-04  53442.504489  5.016000  118.110001  181.585366  23.72   26.104584\n",
       "2022-03-05  53439.613610  5.161544  121.792486  181.633780  14.89   25.741623\n",
       "...                  ...       ...         ...         ...    ...         ...\n",
       "2022-04-26  53256.877019  6.850000  104.989998  184.189287  23.94   33.065686\n",
       "2022-04-27  53252.699646  7.267000  105.320000  184.239084  43.43   34.913442\n",
       "2022-04-28  53248.495739  6.888000  107.589996  184.288904  19.30   32.317797\n",
       "2022-04-29  53244.265215  7.244000  109.339996  184.338745  31.43   33.483313\n",
       "2022-04-30  53240.007990  7.552826  112.291004  184.388607  31.11   34.093943\n",
       "\n",
       "[61 rows x 6 columns]"
      ]
     },
     "execution_count": 15,
     "metadata": {},
     "output_type": "execute_result"
    }
   ],
   "source": [
    "res"
   ]
  },
  {
   "cell_type": "code",
   "execution_count": 16,
   "id": "16ae8726",
   "metadata": {
    "ExecuteTime": {
     "end_time": "2022-08-28T12:27:51.989389Z",
     "start_time": "2022-08-28T12:27:51.134189Z"
    }
   },
   "outputs": [
    {
     "data": {
      "image/png": "[encoded data removed]",
      "text/plain": [
       "<Figure size 432x288 with 1 Axes>"
      ]
     },
     "metadata": {
      "needs_background": "light"
     },
     "output_type": "display_data"
    }
   ],
   "source": [
    "plot_params = dict(\n",
    "    color=\"0.75\",\n",
    "    style=\".-\",\n",
    "    markeredgecolor=\"0.25\",\n",
    "    markerfacecolor=\"0.25\",\n",
    "    legend=True,\n",
    "    linewidth=1.5\n",
    ")\n",
    "ytest.columns=['Price_true']\n",
    "ytest.plot(**plot_params)\n",
    "y_pred.plot(label='Price_pred')\n",
    "plt.legend(loc='best')\n",
    "plt.grid()\n",
    "plt.tight_layout()"
   ]
  },
  {
   "cell_type": "code",
   "execution_count": 17,
   "id": "b3dc114e",
   "metadata": {
    "ExecuteTime": {
     "end_time": "2022-08-28T12:27:53.244700Z",
     "start_time": "2022-08-28T12:27:51.994390Z"
    }
   },
   "outputs": [],
   "source": [
    "import statsmodels.api as sm\n",
    "import statsmodels.stats.api as sms\n",
    "def linear1(Xdata,Y):    \n",
    "    for n in Xdata.iloc[:,0:1]:\n",
    "        x = pd.DataFrame(Xdata[str(n)] )\n",
    "        X = sm.add_constant(x)\n",
    "        model = sm.OLS(Y,X)\n",
    "        results = model.fit()\n",
    "        plt.scatter(x,Y,alpha=0.3)\n",
    "        y_predict = results.params[0] + results.params[1]*x\n",
    "        print(str(n))\n",
    "        plt.plot(x,y_predict, linewidth=3)\n",
    "        plt.xlabel(str(n))\n",
    "        plt.ylabel('Power Price')\n",
    "        plt.title('OLS Regression')\n",
    "        print(results.summary())\n",
    "        plt.show()\n",
    "        print('\\n\\n\\n')\n",
    "    return results"
   ]
  },
  {
   "cell_type": "code",
   "execution_count": 18,
   "id": "114ace8d",
   "metadata": {
    "ExecuteTime": {
     "end_time": "2022-08-28T12:27:53.656790Z",
     "start_time": "2022-08-28T12:27:53.249699Z"
    },
    "scrolled": true
   },
   "outputs": [
    {
     "name": "stdout",
     "output_type": "stream",
     "text": [
      "GDP\n",
      "                            OLS Regression Results                            \n",
      "==============================================================================\n",
      "Dep. Variable:                  Price   R-squared:                       0.259\n",
      "Model:                            OLS   Adj. R-squared:                  0.259\n",
      "Method:                 Least Squares   F-statistic:                     424.8\n",
      "Date:                Sun, 28 Aug 2022   Prob (F-statistic):           3.56e-81\n",
      "Time:                        13:27:53   Log-Likelihood:                -5265.4\n",
      "No. Observations:                1216   AIC:                         1.053e+04\n",
      "Df Residuals:                    1214   BIC:                         1.054e+04\n",
      "Df Model:                           1                                         \n",
      "Covariance Type:            nonrobust                                         \n",
      "==============================================================================\n",
      "                 coef    std err          t      P>|t|      [0.025      0.975]\n",
      "------------------------------------------------------------------------------\n",
      "const       -758.0729     38.315    -19.785      0.000    -833.244    -682.902\n",
      "GDP            0.0149      0.001     20.611      0.000       0.013       0.016\n",
      "==============================================================================\n",
      "Omnibus:                      839.185   Durbin-Watson:                   0.328\n",
      "Prob(Omnibus):                  0.000   Jarque-Bera (JB):            20607.216\n",
      "Skew:                           2.840   Prob(JB):                         0.00\n",
      "Kurtosis:                      22.351   Cond. No.                     3.85e+06\n",
      "==============================================================================\n",
      "\n",
      "Notes:\n",
      "[1] Standard Errors assume that the covariance matrix of the errors is correctly specified.\n",
      "[2] The condition number is large, 3.85e+06. This might indicate that there are\n",
      "strong multicollinearity or other numerical problems.\n"
     ]
    },
    {
     "data": {
      "image/png": "[encoded data removed]",
      "text/plain": [
       "<Figure size 432x288 with 1 Axes>"
      ]
     },
     "metadata": {
      "needs_background": "light"
     },
     "output_type": "display_data"
    },
    {
     "name": "stdout",
     "output_type": "stream",
     "text": [
      "\n",
      "\n",
      "\n",
      "\n"
     ]
    }
   ],
   "source": [
    "results=linear1(x,y)"
   ]
  },
  {
   "cell_type": "markdown",
   "id": "7f244630",
   "metadata": {},
   "source": [
    "### Linear regression with time offset"
   ]
  },
  {
   "cell_type": "markdown",
   "id": "4dafd54b",
   "metadata": {},
   "source": [
    "#### autoregression"
   ]
  },
  {
   "cell_type": "code",
   "execution_count": 19,
   "id": "12eb2479",
   "metadata": {
    "ExecuteTime": {
     "end_time": "2022-08-28T12:27:53.689800Z",
     "start_time": "2022-08-28T12:27:53.660791Z"
    }
   },
   "outputs": [],
   "source": [
    "shift=1\n",
    "Df=df.copy()\n",
    "Df['Lag_1'] = Df['Price'].shift(shift)\n",
    "Df = Df.reindex(columns=['Price', 'Lag_1'])\n",
    "X = Df.loc[:, ['Lag_1']]\n",
    "X.dropna(inplace=True)  # drop missing values in the feature set\n",
    "y = Df.loc[:, ['Price']]  # create the target\n",
    "y, X = y.align(X, join='inner',axis=0)  # drop corresponding values in target"
   ]
  },
  {
   "cell_type": "code",
   "execution_count": 20,
   "id": "8e946e0b",
   "metadata": {
    "ExecuteTime": {
     "end_time": "2022-08-28T12:27:53.721807Z",
     "start_time": "2022-08-28T12:27:53.701803Z"
    }
   },
   "outputs": [],
   "source": [
    "def linearshift():  \n",
    "    for shift in range(1,32):\n",
    "        Df=df.copy()\n",
    "        Df['Lag'] = Df['Price'].shift(shift)\n",
    "        Df = Df.reindex(columns=['Price', 'Lag'])\n",
    "        X = Df.loc[:, ['Lag']]\n",
    "        X.dropna(inplace=True)  # drop missing values in the feature set\n",
    "        y = Df.loc[:, ['Price']]  # create the target\n",
    "        y, X = y.align(X, join='inner',axis=0)  # drop corresponding values in target\n",
    "\n",
    "        x_train=X.loc[:'2022-02-28',:]\n",
    "        x_test=X.loc['2022-03-01':,:]\n",
    "        y_train=y.loc[:'2022-02-28',:]\n",
    "        y_test=y.loc['2022-03-01':,:]\n",
    "        model = LinearRegression()\n",
    "        model.fit(x_train, y_train)\n",
    "\n",
    "        y_pred = pd.Series(model.predict(x_test).T[0], index=x_test.index)\n",
    "        print('MSE:',MSE(ytest,y_pred),'\\nr2_score:', R2(ytest,y_pred),'\\nMAPE:', MAPE(ytest,y_pred),'\\n')"
   ]
  },
  {
   "cell_type": "code",
   "execution_count": 21,
   "id": "1c1d2667",
   "metadata": {
    "ExecuteTime": {
     "end_time": "2022-08-28T12:27:55.092113Z",
     "start_time": "2022-08-28T12:27:53.725811Z"
    },
    "scrolled": true
   },
   "outputs": [
    {
     "name": "stdout",
     "output_type": "stream",
     "text": [
      "MSE: 397.5793114852559 \n",
      "r2_score: 0.377504815509377 \n",
      "MAPE: 0.4014530929137329 \n",
      "\n",
      "MSE: 581.1330355809501 \n",
      "r2_score: 0.0901123228818338 \n",
      "MAPE: 0.41856343383768035 \n",
      "\n",
      "MSE: 603.665005058471 \n",
      "r2_score: 0.05483372036992584 \n",
      "MAPE: 0.41120513660307173 \n",
      "\n",
      "MSE: 701.7219267832842 \n",
      "r2_score: -0.09869529841035307 \n",
      "MAPE: 0.47494596668627803 \n",
      "\n",
      "MSE: 610.3946298219911 \n",
      "r2_score: 0.04429705790358551 \n",
      "MAPE: 0.4473152027681309 \n",
      "\n",
      "MSE: 567.2144371553052 \n",
      "r2_score: 0.11190485645822956 \n",
      "MAPE: 0.4332053990473793 \n",
      "\n",
      "MSE: 677.7773233852366 \n",
      "r2_score: -0.06120491629228053 \n",
      "MAPE: 0.5152278470082219 \n",
      "\n",
      "MSE: 715.8998996182999 \n",
      "r2_score: -0.12089393792875613 \n",
      "MAPE: 0.5419287311867176 \n",
      "\n",
      "MSE: 743.2031869683526 \n",
      "r2_score: -0.16364305591650607 \n",
      "MAPE: 0.5528570307984884 \n",
      "\n",
      "MSE: 716.2397653905263 \n",
      "r2_score: -0.12142607026178376 \n",
      "MAPE: 0.54353153260941 \n",
      "\n",
      "MSE: 616.6284273174132 \n",
      "r2_score: 0.03453671874636577 \n",
      "MAPE: 0.5039070513161734 \n",
      "\n",
      "MSE: 571.7409798197859 \n",
      "r2_score: 0.10481758876186931 \n",
      "MAPE: 0.4961388802277892 \n",
      "\n",
      "MSE: 594.6664432439371 \n",
      "r2_score: 0.06892288757523768 \n",
      "MAPE: 0.4853221358559936 \n",
      "\n",
      "MSE: 641.488326189715 \n",
      "r2_score: -0.004386753597103166 \n",
      "MAPE: 0.4998308490725533 \n",
      "\n",
      "MSE: 661.0664969730393 \n",
      "r2_score: -0.03504055444057652 \n",
      "MAPE: 0.49657767783835627 \n",
      "\n",
      "MSE: 670.7837392527042 \n",
      "r2_score: -0.050254969152003115 \n",
      "MAPE: 0.5175294072998098 \n",
      "\n",
      "MSE: 649.6818734363021 \n",
      "r2_score: -0.01721549885007634 \n",
      "MAPE: 0.500473530796675 \n",
      "\n",
      "MSE: 625.9412252766191 \n",
      "r2_score: 0.019955547854744293 \n",
      "MAPE: 0.4641350310440358 \n",
      "\n",
      "MSE: 645.1248683896334 \n",
      "r2_score: -0.01008053579917334 \n",
      "MAPE: 0.4842710391619217 \n",
      "\n",
      "MSE: 656.9521828396911 \n",
      "r2_score: -0.028598718405589807 \n",
      "MAPE: 0.46041144722801336 \n",
      "\n",
      "MSE: 698.9136627935062 \n",
      "r2_score: -0.09429836235277844 \n",
      "MAPE: 0.4726550206389135 \n",
      "\n",
      "MSE: 738.7368526421055 \n",
      "r2_score: -0.15665005721134828 \n",
      "MAPE: 0.5032484308891605 \n",
      "\n",
      "MSE: 716.642017459889 \n",
      "r2_score: -0.12205588164506276 \n",
      "MAPE: 0.48052759678370294 \n",
      "\n",
      "MSE: 739.0347556991298 \n",
      "r2_score: -0.157116487966384 \n",
      "MAPE: 0.4862088125713522 \n",
      "\n",
      "MSE: 770.349646226705 \n",
      "r2_score: -0.20614662608761636 \n",
      "MAPE: 0.5168800940938107 \n",
      "\n",
      "MSE: 779.7069815134878 \n",
      "r2_score: -0.2207975296618645 \n",
      "MAPE: 0.5343189394311747 \n",
      "\n",
      "MSE: 804.6461236528484 \n",
      "r2_score: -0.2598450742362628 \n",
      "MAPE: 0.5628389901754433 \n",
      "\n",
      "MSE: 799.0757238955638 \n",
      "r2_score: -0.251123425688597 \n",
      "MAPE: 0.5668374787372847 \n",
      "\n",
      "MSE: 802.2846249780795 \n",
      "r2_score: -0.2561476445391968 \n",
      "MAPE: 0.5652270152017749 \n",
      "\n",
      "MSE: 797.245506989904 \n",
      "r2_score: -0.2482578308816379 \n",
      "MAPE: 0.5436147899523117 \n",
      "\n",
      "MSE: 794.871314580642 \n",
      "r2_score: -0.24454052643664892 \n",
      "MAPE: 0.5486269042693434 \n",
      "\n"
     ]
    }
   ],
   "source": [
    "linearshift()"
   ]
  },
  {
   "cell_type": "code",
   "execution_count": 22,
   "id": "0b531c89",
   "metadata": {
    "ExecuteTime": {
     "end_time": "2022-08-28T12:27:55.124132Z",
     "start_time": "2022-08-28T12:27:55.097116Z"
    }
   },
   "outputs": [],
   "source": [
    "Df=df.copy()\n",
    "Df['Lag_1'] = Df['Price'].shift()\n",
    "Df = Df.reindex(columns=['Price', 'Lag_1'])\n",
    "X = Df.loc[:, ['Lag_1']]\n",
    "X.dropna(inplace=True)  # drop missing values in the feature set\n",
    "y = Df.loc[:, ['Price']]  # create the target\n",
    "y, X = y.align(X, join='inner',axis=0)  # drop corresponding values in target"
   ]
  },
  {
   "cell_type": "code",
   "execution_count": 23,
   "id": "f2799a4e",
   "metadata": {
    "ExecuteTime": {
     "end_time": "2022-08-28T12:27:55.155141Z",
     "start_time": "2022-08-28T12:27:55.129134Z"
    }
   },
   "outputs": [],
   "source": [
    "# x_trainl=X.loc['2019-01-02':'2022-01-31',:]\n",
    "# x_testl=X.loc['2022-02-01':'2022-04-30',:]\n",
    "# y_trainl=y.loc['2019-01-02':'2022-01-31',:]\n",
    "# y_testl=y.loc['2022-02-01':'2022-04-30',:]\n",
    "x_trainl=X.loc[:'2022-02-28',:]\n",
    "x_testl=X.loc['2022-03-01':,:]\n",
    "y_trainl=y.loc[:'2022-02-28',:]\n",
    "y_testl=y.loc['2022-03-01':,:]"
   ]
  },
  {
   "cell_type": "code",
   "execution_count": 24,
   "id": "e4be1fa6",
   "metadata": {
    "ExecuteTime": {
     "end_time": "2022-08-28T12:27:55.187147Z",
     "start_time": "2022-08-28T12:27:55.160141Z"
    }
   },
   "outputs": [],
   "source": [
    "model = LinearRegression()\n",
    "model.fit(x_trainl, y_trainl)\n",
    "\n",
    "y_predl = pd.Series(model.predict(x_testl).T[0], index=x_testl.index)"
   ]
  },
  {
   "cell_type": "code",
   "execution_count": 25,
   "id": "3c353b44",
   "metadata": {
    "ExecuteTime": {
     "end_time": "2022-08-28T12:27:55.219157Z",
     "start_time": "2022-08-28T12:27:55.191148Z"
    }
   },
   "outputs": [
    {
     "name": "stdout",
     "output_type": "stream",
     "text": [
      "MSE:397.579311, r2 score:0.377505 and MAPE:0.401453\n"
     ]
    }
   ],
   "source": [
    "print('MSE:%f, r2 score:%f and MAPE:%f' %(MSE(y_testl,y_predl), R2(y_testl,y_predl),MAPE(y_testl,y_predl)))"
   ]
  },
  {
   "cell_type": "code",
   "execution_count": 26,
   "id": "c6a1dbec",
   "metadata": {
    "ExecuteTime": {
     "end_time": "2022-08-28T12:27:55.235155Z",
     "start_time": "2022-08-28T12:27:55.224155Z"
    }
   },
   "outputs": [
    {
     "name": "stdout",
     "output_type": "stream",
     "text": [
      "The corresponding coefficient of linear model is 0.894835.\n"
     ]
    }
   ],
   "source": [
    "print('The corresponding coefficient of linear model is %f.' %model.coef_)"
   ]
  },
  {
   "cell_type": "code",
   "execution_count": 27,
   "id": "7024488a",
   "metadata": {
    "ExecuteTime": {
     "end_time": "2022-08-28T12:27:55.553239Z",
     "start_time": "2022-08-28T12:27:55.240159Z"
    }
   },
   "outputs": [
    {
     "data": {
      "image/png": "[encoded data removed]",
      "text/plain": [
       "<Figure size 432x288 with 1 Axes>"
      ]
     },
     "metadata": {
      "needs_background": "light"
     },
     "output_type": "display_data"
    }
   ],
   "source": [
    "fig, ax = plt.subplots()\n",
    "ax.plot(x_testl, y_testl, '.', color='0.25')\n",
    "ax.plot(x_testl, y_predl)\n",
    "ax.set_aspect('equal')\n",
    "ax.set_ylabel('Price')\n",
    "ax.set_xlabel('Lag_1')\n",
    "ax.set_title('Lag Plot of Power Price');"
   ]
  },
  {
   "cell_type": "code",
   "execution_count": 28,
   "id": "c92a2236",
   "metadata": {
    "ExecuteTime": {
     "end_time": "2022-08-28T12:27:55.585248Z",
     "start_time": "2022-08-28T12:27:55.558241Z"
    }
   },
   "outputs": [
    {
     "data": {
      "text/html": [
       "<div>\n",
       "<style scoped>\n",
       "    .dataframe tbody tr th:only-of-type {\n",
       "        vertical-align: middle;\n",
       "    }\n",
       "\n",
       "    .dataframe tbody tr th {\n",
       "        vertical-align: top;\n",
       "    }\n",
       "\n",
       "    .dataframe thead th {\n",
       "        text-align: right;\n",
       "    }\n",
       "</style>\n",
       "<table border=\"1\" class=\"dataframe\">\n",
       "  <thead>\n",
       "    <tr style=\"text-align: right;\">\n",
       "      <th></th>\n",
       "      <th>Lag_1</th>\n",
       "    </tr>\n",
       "    <tr>\n",
       "      <th>Date</th>\n",
       "      <th></th>\n",
       "    </tr>\n",
       "  </thead>\n",
       "  <tbody>\n",
       "    <tr>\n",
       "      <th>2022-03-01</th>\n",
       "      <td>15.13</td>\n",
       "    </tr>\n",
       "    <tr>\n",
       "      <th>2022-03-02</th>\n",
       "      <td>13.68</td>\n",
       "    </tr>\n",
       "    <tr>\n",
       "      <th>2022-03-03</th>\n",
       "      <td>13.28</td>\n",
       "    </tr>\n",
       "    <tr>\n",
       "      <th>2022-03-04</th>\n",
       "      <td>20.63</td>\n",
       "    </tr>\n",
       "    <tr>\n",
       "      <th>2022-03-05</th>\n",
       "      <td>23.72</td>\n",
       "    </tr>\n",
       "    <tr>\n",
       "      <th>...</th>\n",
       "      <td>...</td>\n",
       "    </tr>\n",
       "    <tr>\n",
       "      <th>2022-04-26</th>\n",
       "      <td>40.27</td>\n",
       "    </tr>\n",
       "    <tr>\n",
       "      <th>2022-04-27</th>\n",
       "      <td>23.94</td>\n",
       "    </tr>\n",
       "    <tr>\n",
       "      <th>2022-04-28</th>\n",
       "      <td>43.43</td>\n",
       "    </tr>\n",
       "    <tr>\n",
       "      <th>2022-04-29</th>\n",
       "      <td>19.30</td>\n",
       "    </tr>\n",
       "    <tr>\n",
       "      <th>2022-04-30</th>\n",
       "      <td>31.43</td>\n",
       "    </tr>\n",
       "  </tbody>\n",
       "</table>\n",
       "<p>61 rows × 1 columns</p>\n",
       "</div>"
      ],
      "text/plain": [
       "            Lag_1\n",
       "Date             \n",
       "2022-03-01  15.13\n",
       "2022-03-02  13.68\n",
       "2022-03-03  13.28\n",
       "2022-03-04  20.63\n",
       "2022-03-05  23.72\n",
       "...           ...\n",
       "2022-04-26  40.27\n",
       "2022-04-27  23.94\n",
       "2022-04-28  43.43\n",
       "2022-04-29  19.30\n",
       "2022-04-30  31.43\n",
       "\n",
       "[61 rows x 1 columns]"
      ]
     },
     "execution_count": 28,
     "metadata": {},
     "output_type": "execute_result"
    }
   ],
   "source": [
    "x_testl"
   ]
  },
  {
   "cell_type": "code",
   "execution_count": 29,
   "id": "4648c67f",
   "metadata": {
    "ExecuteTime": {
     "end_time": "2022-08-28T12:27:55.617254Z",
     "start_time": "2022-08-28T12:27:55.590251Z"
    }
   },
   "outputs": [
    {
     "data": {
      "text/plain": [
       "Date\n",
       "2022-03-01    16.828128\n",
       "2022-03-02    15.530618\n",
       "2022-03-03    15.172684\n",
       "2022-03-04    21.749719\n",
       "2022-03-05    24.514758\n",
       "                ...    \n",
       "2022-04-26    39.324272\n",
       "2022-04-27    24.711622\n",
       "2022-04-28    42.151950\n",
       "2022-04-29    20.559589\n",
       "2022-04-30    31.413934\n",
       "Length: 61, dtype: float64"
      ]
     },
     "execution_count": 29,
     "metadata": {},
     "output_type": "execute_result"
    }
   ],
   "source": [
    "y_predl"
   ]
  },
  {
   "cell_type": "code",
   "execution_count": 30,
   "id": "7e0fe1ca",
   "metadata": {
    "ExecuteTime": {
     "end_time": "2022-08-28T12:27:55.633257Z",
     "start_time": "2022-08-28T12:27:55.622253Z"
    }
   },
   "outputs": [],
   "source": [
    "plot_params = dict(\n",
    "    color=\"0.75\",\n",
    "    style=\".-\",\n",
    "    markeredgecolor=\"0.25\",\n",
    "    markerfacecolor=\"0.25\",\n",
    "    legend=False,\n",
    "    linewidth=1.5\n",
    ")"
   ]
  },
  {
   "cell_type": "code",
   "execution_count": 31,
   "id": "ee3a46ef",
   "metadata": {
    "ExecuteTime": {
     "end_time": "2022-08-28T12:27:56.429442Z",
     "start_time": "2022-08-28T12:27:55.638261Z"
    }
   },
   "outputs": [
    {
     "data": {
      "image/png": "[encoded data removed]",
      "text/plain": [
       "<Figure size 432x288 with 1 Axes>"
      ]
     },
     "metadata": {
      "needs_background": "light"
     },
     "output_type": "display_data"
    }
   ],
   "source": [
    "y_testl.columns=['Price_true']\n",
    "ax = y_testl.plot(**plot_params)\n",
    "ax = y_predl.plot(label='Price_pred')\n",
    "plt.grid()\n",
    "plt.legend(loc='best')\n",
    "plt.tight_layout()"
   ]
  },
  {
   "cell_type": "code",
   "execution_count": 32,
   "id": "aafa11fe",
   "metadata": {
    "ExecuteTime": {
     "end_time": "2022-08-28T12:27:57.257672Z",
     "start_time": "2022-08-28T12:27:56.433447Z"
    }
   },
   "outputs": [
    {
     "name": "stdout",
     "output_type": "stream",
     "text": [
      "residual Mean: 0.759294,Median: -0.284880, skewness -0.251569, kurtosis: 3.324114\n"
     ]
    },
    {
     "data": {
      "image/png": "[encoded data removed]",
      "text/plain": [
       "<Figure size 864x432 with 1 Axes>"
      ]
     },
     "metadata": {
      "needs_background": "light"
     },
     "output_type": "display_data"
    }
   ],
   "source": [
    "residual=y_testl.Price_true-pd.DataFrame(y_predl,columns=['Price_pred']).Price_pred\n",
    "residual=pd.DataFrame(residual,columns=['diff'])\n",
    "plt.figure(figsize=(12, 6))\n",
    "sns.set_theme(style=\"whitegrid\")\n",
    "sns.set_context('notebook', font_scale=1.2, rc={'lines.linewidth':1}) \n",
    "sns.scatterplot(data=residual)\n",
    "print('residual Mean: %f,Median: %f, skewness %f, kurtosis: %f' \n",
    "      %(residual.mean(),residual.median(),residual.skew(),residual.kurt()))"
   ]
  },
  {
   "cell_type": "markdown",
   "id": "8e2327fa",
   "metadata": {},
   "source": [
    "#### regression with elements"
   ]
  },
  {
   "cell_type": "code",
   "execution_count": 33,
   "id": "7b432464",
   "metadata": {
    "ExecuteTime": {
     "end_time": "2022-08-28T12:27:57.289677Z",
     "start_time": "2022-08-28T12:27:57.261672Z"
    }
   },
   "outputs": [],
   "source": [
    "def linear2(Df,n):\n",
    "    df=Df.copy()\n",
    "    df['Lag_1'] = df['Price'].shift(1)\n",
    "    df['Lag '+n] = df[n].shift(1)\n",
    "    df1 = df.reindex(columns=['Price','Lag'+n, 'Lag_1'])\n",
    "    X = df.loc[:, ['Lag '+n,'Lag_1']]\n",
    "    X.dropna(inplace=True)  # drop missing values in the feature set\n",
    "    y = df.loc[:, ['Price']]  # create the target\n",
    "    y, X = y.align(X, join='inner',axis=0)  # drop corresponding values in target\n",
    "#     x_train=X.loc['2019-01-02':'2022-01-31',:]\n",
    "#     x_test=X.loc['2022-02-01':'2022-04-30',:]\n",
    "#     y_train=y.loc['2019-01-02':'2022-01-31',:]\n",
    "#     y_test=y.loc['2022-02-01':'2022-04-30',:]\n",
    "    x_train=X.loc[:'2022-02-28',:]\n",
    "    x_test=X.loc['2022-03-01':,:]\n",
    "    y_train=y.loc[:'2022-02-28',:]\n",
    "    y_test=y.loc['2022-03-01':,:]\n",
    "    scaler = MinMaxScaler() \n",
    "    x_train1 = scaler.fit_transform(x_train)\n",
    "    x_test1 = scaler.transform(x_test)\n",
    "    scaler = StandardScaler()\n",
    "    x_train2 = scaler.fit_transform(x_train)\n",
    "    x_test2 = scaler.transform(x_test)\n",
    "\n",
    "    model = LinearRegression()\n",
    "    model.fit(x_train1, y_train)\n",
    "\n",
    "    y_pred = pd.Series(model.predict(x_test1).T[0], index=x_test.index)\n",
    "    print('MSE:%f, r2 score:%f and MAPE:%f \\n' %(MSE(y_test,y_pred), R2(y_test,y_pred),MAPE(y_test,y_pred)))\n",
    "\n",
    "    fig, ax = plt.subplots()\n",
    "    ax = sns.regplot(x='Lag '+n, y='Price', data=df, ci=None, scatter_kws=dict(color='0.25'))\n",
    "    ax.set_title('Lag '+n+' of Power Price')\n",
    "    \n",
    "#     plt.plot(x_test['Lag'+n],y_test, '.', color='0.25')\n",
    "#     plt.plot(x_test['Lag'+n],y_pred)\n",
    "# #     plt.set_aspect('equal')\n",
    "#     plt.ylabel('Price')\n",
    "#     plt.xlabel('Lag '+n)\n",
    "#     plt.title('Lag Plot of Power Price');\n",
    "    \n",
    "    plot_params = dict(\n",
    "        color=\"0.75\",\n",
    "        style=\".-\",\n",
    "        markeredgecolor=\"0.25\",\n",
    "        markerfacecolor=\"0.25\",\n",
    "        legend=False,\n",
    "        linewidth=1.5\n",
    "    )\n",
    "    y_test.plot(**plot_params)\n",
    "    y_pred.plot()\n",
    "    plt.grid()\n",
    "    plt.tight_layout()"
   ]
  },
  {
   "cell_type": "code",
   "execution_count": 34,
   "id": "157d7940",
   "metadata": {
    "ExecuteTime": {
     "end_time": "2022-08-28T12:27:59.066086Z",
     "start_time": "2022-08-28T12:27:57.293679Z"
    },
    "scrolled": false
   },
   "outputs": [
    {
     "name": "stdout",
     "output_type": "stream",
     "text": [
      "MSE:385.891377, r2 score:0.395805 and MAPE:0.414399 \n",
      "\n"
     ]
    },
    {
     "data": {
      "image/png": "[encoded data removed]",
      "text/plain": [
       "<Figure size 432x288 with 1 Axes>"
      ]
     },
     "metadata": {},
     "output_type": "display_data"
    },
    {
     "data": {
      "image/png": "[encoded data removed]",
      "text/plain": [
       "<Figure size 432x288 with 1 Axes>"
      ]
     },
     "metadata": {},
     "output_type": "display_data"
    }
   ],
   "source": [
    "linear2(df,'GDP')"
   ]
  },
  {
   "cell_type": "code",
   "execution_count": 35,
   "id": "e32f8fa2",
   "metadata": {
    "ExecuteTime": {
     "end_time": "2022-08-28T12:27:59.098090Z",
     "start_time": "2022-08-28T12:27:59.072085Z"
    }
   },
   "outputs": [],
   "source": [
    "def linear3(Df,n):\n",
    "    df=Df.copy()\n",
    "    for m in range(1,31):\n",
    "        df['Lag_1'] = df['Price'].shift(1)\n",
    "        df['Lag '+n] = df[n].shift(m)\n",
    "        df1 = df.reindex(columns=['Price','Lag'+n, 'Lag_1'])\n",
    "        X = df.loc[:, ['Lag '+n,'Lag_1']]\n",
    "        X.dropna(inplace=True)  # drop missing values in the feature set\n",
    "        y = df.loc[:, ['Price']]  # create the target\n",
    "        y, X = y.align(X, join='inner',axis=0)  # drop corresponding values in target\n",
    "    #     x_train=X.loc['2019-01-02':'2022-01-31',:]\n",
    "    #     x_test=X.loc['2022-02-01':'2022-04-30',:]\n",
    "    #     y_train=y.loc['2019-01-02':'2022-01-31',:]\n",
    "    #     y_test=y.loc['2022-02-01':'2022-04-30',:]\n",
    "        x_train=X.loc[:'2022-02-28',:]\n",
    "        x_test=X.loc['2022-03-01':,:]\n",
    "        y_train=y.loc[:'2022-02-28',:]\n",
    "        y_test=y.loc['2022-03-01':,:]\n",
    "        scaler = MinMaxScaler() \n",
    "        x_train1 = scaler.fit_transform(x_train)\n",
    "        x_test1 = scaler.transform(x_test)\n",
    "        scaler = StandardScaler()\n",
    "        x_train2 = scaler.fit_transform(x_train)\n",
    "        x_test2 = scaler.transform(x_test)\n",
    "\n",
    "        model = LinearRegression()\n",
    "        model.fit(x_train1, y_train)\n",
    "\n",
    "        y_pred = pd.Series(model.predict(x_test1).T[0], index=x_test.index)\n",
    "        print('%d MSE:%f, r2 score:%f and MAPE:%f \\n' %(m, MSE(y_test,y_pred), R2(y_test,y_pred),MAPE(y_test,y_pred)))\n"
   ]
  },
  {
   "cell_type": "code",
   "execution_count": 36,
   "id": "47ede27a",
   "metadata": {
    "ExecuteTime": {
     "end_time": "2022-08-28T12:28:00.683457Z",
     "start_time": "2022-08-28T12:27:59.103093Z"
    },
    "scrolled": true
   },
   "outputs": [
    {
     "name": "stdout",
     "output_type": "stream",
     "text": [
      "1 MSE:397.448775, r2 score:0.377709 and MAPE:0.401765 \n",
      "\n",
      "2 MSE:397.624212, r2 score:0.377435 and MAPE:0.401527 \n",
      "\n",
      "3 MSE:397.599699, r2 score:0.377473 and MAPE:0.401339 \n",
      "\n",
      "4 MSE:397.596354, r2 score:0.377478 and MAPE:0.401303 \n",
      "\n",
      "5 MSE:397.586698, r2 score:0.377493 and MAPE:0.401254 \n",
      "\n",
      "6 MSE:397.573219, r2 score:0.377514 and MAPE:0.401198 \n",
      "\n",
      "7 MSE:397.559411, r2 score:0.377536 and MAPE:0.401145 \n",
      "\n",
      "8 MSE:397.560102, r2 score:0.377535 and MAPE:0.401127 \n",
      "\n",
      "9 MSE:397.545251, r2 score:0.377558 and MAPE:0.401072 \n",
      "\n",
      "10 MSE:397.532599, r2 score:0.377578 and MAPE:0.401026 \n",
      "\n",
      "11 MSE:397.532761, r2 score:0.377578 and MAPE:0.401011 \n",
      "\n",
      "12 MSE:397.523675, r2 score:0.377592 and MAPE:0.400975 \n",
      "\n",
      "13 MSE:397.515030, r2 score:0.377605 and MAPE:0.400942 \n",
      "\n",
      "14 MSE:397.532425, r2 score:0.377578 and MAPE:0.400973 \n",
      "\n",
      "15 MSE:397.498467, r2 score:0.377631 and MAPE:0.400847 \n",
      "\n",
      "16 MSE:397.465684, r2 score:0.377683 and MAPE:0.400773 \n",
      "\n",
      "17 MSE:397.445701, r2 score:0.377714 and MAPE:0.400732 \n",
      "\n",
      "18 MSE:397.402115, r2 score:0.377782 and MAPE:0.400650 \n",
      "\n",
      "19 MSE:397.364282, r2 score:0.377841 and MAPE:0.400587 \n",
      "\n",
      "20 MSE:397.332222, r2 score:0.377892 and MAPE:0.400538 \n",
      "\n",
      "21 MSE:397.140087, r2 score:0.378193 and MAPE:0.400238 \n",
      "\n",
      "22 MSE:397.169806, r2 score:0.378146 and MAPE:0.400279 \n",
      "\n",
      "23 MSE:397.022829, r2 score:0.378376 and MAPE:0.400104 \n",
      "\n",
      "24 MSE:396.747541, r2 score:0.378807 and MAPE:0.399805 \n",
      "\n",
      "25 MSE:396.924819, r2 score:0.378530 and MAPE:0.399991 \n",
      "\n",
      "26 MSE:397.051629, r2 score:0.378331 and MAPE:0.400152 \n",
      "\n",
      "27 MSE:397.037257, r2 score:0.378354 and MAPE:0.400145 \n",
      "\n",
      "28 MSE:396.963527, r2 score:0.378469 and MAPE:0.400044 \n",
      "\n",
      "29 MSE:396.858392, r2 score:0.378634 and MAPE:0.399915 \n",
      "\n",
      "30 MSE:396.838978, r2 score:0.378664 and MAPE:0.399910 \n",
      "\n"
     ]
    }
   ],
   "source": [
    "linear3(df,'EV')"
   ]
  },
  {
   "cell_type": "code",
   "execution_count": 37,
   "id": "a1634fbd",
   "metadata": {
    "ExecuteTime": {
     "end_time": "2022-08-28T12:28:00.698627Z",
     "start_time": "2022-08-28T12:28:00.687458Z"
    }
   },
   "outputs": [],
   "source": [
    "df1=Df.copy()"
   ]
  },
  {
   "cell_type": "code",
   "execution_count": 38,
   "id": "0411b8e8",
   "metadata": {
    "ExecuteTime": {
     "end_time": "2022-08-28T12:28:00.729478Z",
     "start_time": "2022-08-28T12:28:00.703470Z"
    }
   },
   "outputs": [
    {
     "data": {
      "text/html": [
       "<div>\n",
       "<style scoped>\n",
       "    .dataframe tbody tr th:only-of-type {\n",
       "        vertical-align: middle;\n",
       "    }\n",
       "\n",
       "    .dataframe tbody tr th {\n",
       "        vertical-align: top;\n",
       "    }\n",
       "\n",
       "    .dataframe thead th {\n",
       "        text-align: right;\n",
       "    }\n",
       "</style>\n",
       "<table border=\"1\" class=\"dataframe\">\n",
       "  <thead>\n",
       "    <tr style=\"text-align: right;\">\n",
       "      <th></th>\n",
       "      <th>Price</th>\n",
       "      <th>Lag_1</th>\n",
       "    </tr>\n",
       "    <tr>\n",
       "      <th>Date</th>\n",
       "      <th></th>\n",
       "      <th></th>\n",
       "    </tr>\n",
       "  </thead>\n",
       "  <tbody>\n",
       "    <tr>\n",
       "      <th>2019-01-01</th>\n",
       "      <td>22.58</td>\n",
       "      <td>NaN</td>\n",
       "    </tr>\n",
       "    <tr>\n",
       "      <th>2019-01-02</th>\n",
       "      <td>42.65</td>\n",
       "      <td>22.58</td>\n",
       "    </tr>\n",
       "    <tr>\n",
       "      <th>2019-01-03</th>\n",
       "      <td>51.90</td>\n",
       "      <td>42.65</td>\n",
       "    </tr>\n",
       "    <tr>\n",
       "      <th>2019-01-04</th>\n",
       "      <td>50.85</td>\n",
       "      <td>51.90</td>\n",
       "    </tr>\n",
       "    <tr>\n",
       "      <th>2019-01-05</th>\n",
       "      <td>50.72</td>\n",
       "      <td>50.85</td>\n",
       "    </tr>\n",
       "    <tr>\n",
       "      <th>...</th>\n",
       "      <td>...</td>\n",
       "      <td>...</td>\n",
       "    </tr>\n",
       "    <tr>\n",
       "      <th>2022-04-26</th>\n",
       "      <td>23.94</td>\n",
       "      <td>40.27</td>\n",
       "    </tr>\n",
       "    <tr>\n",
       "      <th>2022-04-27</th>\n",
       "      <td>43.43</td>\n",
       "      <td>23.94</td>\n",
       "    </tr>\n",
       "    <tr>\n",
       "      <th>2022-04-28</th>\n",
       "      <td>19.30</td>\n",
       "      <td>43.43</td>\n",
       "    </tr>\n",
       "    <tr>\n",
       "      <th>2022-04-29</th>\n",
       "      <td>31.43</td>\n",
       "      <td>19.30</td>\n",
       "    </tr>\n",
       "    <tr>\n",
       "      <th>2022-04-30</th>\n",
       "      <td>31.11</td>\n",
       "      <td>31.43</td>\n",
       "    </tr>\n",
       "  </tbody>\n",
       "</table>\n",
       "<p>1216 rows × 2 columns</p>\n",
       "</div>"
      ],
      "text/plain": [
       "            Price  Lag_1\n",
       "Date                    \n",
       "2019-01-01  22.58    NaN\n",
       "2019-01-02  42.65  22.58\n",
       "2019-01-03  51.90  42.65\n",
       "2019-01-04  50.85  51.90\n",
       "2019-01-05  50.72  50.85\n",
       "...           ...    ...\n",
       "2022-04-26  23.94  40.27\n",
       "2022-04-27  43.43  23.94\n",
       "2022-04-28  19.30  43.43\n",
       "2022-04-29  31.43  19.30\n",
       "2022-04-30  31.11  31.43\n",
       "\n",
       "[1216 rows x 2 columns]"
      ]
     },
     "execution_count": 38,
     "metadata": {},
     "output_type": "execute_result"
    }
   ],
   "source": [
    "Df"
   ]
  },
  {
   "cell_type": "code",
   "execution_count": 39,
   "id": "e9019a49",
   "metadata": {
    "ExecuteTime": {
     "end_time": "2022-08-28T12:28:00.793492Z",
     "start_time": "2022-08-28T12:28:00.734478Z"
    }
   },
   "outputs": [
    {
     "name": "stdout",
     "output_type": "stream",
     "text": [
      "MSE:397.579311, r2 score:0.377505 and MAPE:0.401453 \n",
      "\n"
     ]
    }
   ],
   "source": [
    "# n='EV'\n",
    "# df1['Lag '+n] = df[n].shift(1) \n",
    "X = df1.iloc[:, 1:]\n",
    "X.dropna(inplace=True)  # drop missing values in the feature set\n",
    "y = df1.loc[:, ['Price']]  # create the target\n",
    "y, X = y.align(X, join='inner',axis=0)  # drop corresponding values in target\n",
    "\n",
    "x_train=X.loc[:'2022-02-28',:]\n",
    "x_test=X.loc['2022-03-01':,:]\n",
    "y_train=y.loc[:'2022-02-28',:]\n",
    "y_test=y.loc['2022-03-01':,:]\n",
    "scaler = MinMaxScaler() \n",
    "x_train1 = scaler.fit_transform(x_train)\n",
    "x_test1 = scaler.transform(x_test)\n",
    "scaler = StandardScaler()\n",
    "x_train2 = scaler.fit_transform(x_train)\n",
    "x_test2 = scaler.transform(x_test)\n",
    "\n",
    "model = LinearRegression()\n",
    "model.fit(x_train1, y_train)\n",
    "y_pred = pd.Series(model.predict(x_test1).T[0], index=x_test.index)\n",
    "print('MSE:%f, r2 score:%f and MAPE:%f \\n' %(MSE(y_test,y_pred), R2(y_test,y_pred),MAPE(y_test,y_pred)))\n"
   ]
  },
  {
   "cell_type": "code",
   "execution_count": 40,
   "id": "b8e9c559",
   "metadata": {
    "ExecuteTime": {
     "end_time": "2022-08-28T12:28:00.809495Z",
     "start_time": "2022-08-28T12:28:00.799493Z"
    }
   },
   "outputs": [
    {
     "data": {
      "text/plain": [
       "array([[208.10275855]])"
      ]
     },
     "execution_count": 40,
     "metadata": {},
     "output_type": "execute_result"
    }
   ],
   "source": [
    "model.coef_"
   ]
  },
  {
   "cell_type": "code",
   "execution_count": 41,
   "id": "a6267b4a",
   "metadata": {
    "ExecuteTime": {
     "end_time": "2022-08-28T12:28:02.235354Z",
     "start_time": "2022-08-28T12:28:00.814495Z"
    }
   },
   "outputs": [
    {
     "data": {
      "image/png": "[encoded data removed]",
      "text/plain": [
       "<Figure size 432x288 with 1 Axes>"
      ]
     },
     "metadata": {},
     "output_type": "display_data"
    }
   ],
   "source": [
    "y_test.columns=['Price_true']\n",
    "ax = y_test.plot(**plot_params)\n",
    "ax = y_pred.plot(label='Price_pred',color='teal')\n",
    "plt.grid()\n",
    "plt.legend(loc='best')\n",
    "plt.tight_layout()"
   ]
  },
  {
   "cell_type": "code",
   "execution_count": 42,
   "id": "336eaff4",
   "metadata": {
    "ExecuteTime": {
     "end_time": "2022-08-28T12:28:02.251357Z",
     "start_time": "2022-08-28T12:28:02.239354Z"
    }
   },
   "outputs": [],
   "source": [
    "df2=df1.copy()"
   ]
  },
  {
   "cell_type": "code",
   "execution_count": 43,
   "id": "815d5b27",
   "metadata": {
    "ExecuteTime": {
     "end_time": "2022-08-28T12:28:02.267441Z",
     "start_time": "2022-08-28T12:28:02.255361Z"
    }
   },
   "outputs": [],
   "source": [
    "df1=df2.copy()"
   ]
  },
  {
   "cell_type": "markdown",
   "id": "1a78d768",
   "metadata": {},
   "source": [
    "MSE:385.891377, r2 score:0.395805 and MAPE:0.414399 1\n",
    "\n",
    "MSE:385.420568, r2 score:0.396542 and MAPE:0.418941 2\n",
    "\n",
    "MSE:385.267151, r2 score:0.396782 and MAPE:0.401923 16  \n",
    "\n",
    "MSE:384.837742, r2 score:0.397454 and MAPE:0.388549 1\n",
    "\n",
    "MSE:378.607545, r2 score:0.407209 and MAPE:0.401401  11\n",
    "\n",
    "carbon X\n",
    "\n",
    "MSE:377.087824, r2 score:0.409589 and MAPE:0.400438 5\n",
    "\n",
    "MSE:376.538162, r2 score:0.410449 and MAPE:0.412878 1\n",
    "\n",
    "MSE:376.401796, r2 score:0.410663 and MAPE:0.412103 1\n",
    "\n",
    "EV X"
   ]
  },
  {
   "cell_type": "code",
   "execution_count": 44,
   "id": "065def73",
   "metadata": {
    "ExecuteTime": {
     "end_time": "2022-08-28T12:28:02.362464Z",
     "start_time": "2022-08-28T12:28:02.272468Z"
    }
   },
   "outputs": [
    {
     "name": "stdout",
     "output_type": "stream",
     "text": [
      "MSE:376.401796, r2 score:0.410663 and MAPE:0.412103 \n",
      "\n"
     ]
    }
   ],
   "source": [
    "df1=Df.copy()\n",
    "n='GDP'\n",
    "df1['Lag '+n] = df[n].shift(1) \n",
    "n='gas'\n",
    "df1['Lag '+n] = df[n].shift(2) \n",
    "n='crude'\n",
    "df1['Lag '+n] = df[n].shift(16) \n",
    "n='EG'\n",
    "df1['Lag '+n] = df[n].shift(1) \n",
    "n='wind'\n",
    "df1['Lag '+n] = df[n].shift(11) \n",
    "n='temp'\n",
    "df1['Lag '+n] = df[n].shift(5) \n",
    "n='netimport'\n",
    "df1['Lag '+n] = df[n].shift(1) \n",
    "n='precip'\n",
    "df1['Lag '+n] = df[n].shift(1) \n",
    "X = df1.iloc[:, 1:]\n",
    "X.dropna(inplace=True)  # drop missing values in the feature set\n",
    "y = df1.loc[:, ['Price']]  # create the target\n",
    "y, X = y.align(X, join='inner',axis=0)  # drop corresponding values in target\n",
    "\n",
    "x_train=X.loc[:'2022-02-28',:]\n",
    "x_test=X.loc['2022-03-01':,:]\n",
    "y_train=y.loc[:'2022-02-28',:]\n",
    "y_test=y.loc['2022-03-01':,:]\n",
    "scaler = MinMaxScaler() \n",
    "x_train1 = scaler.fit_transform(x_train)\n",
    "x_test1 = scaler.transform(x_test)\n",
    "scaler = StandardScaler()\n",
    "x_train2 = scaler.fit_transform(x_train)\n",
    "x_test2 = scaler.transform(x_test)\n",
    "\n",
    "model = LinearRegression()\n",
    "model.fit(x_train1, y_train)\n",
    "y_pred = pd.Series(model.predict(x_test1).T[0], index=x_test.index)\n",
    "print('MSE:%f, r2 score:%f and MAPE:%f \\n' %(MSE(y_test,y_pred), R2(y_test,y_pred),MAPE(y_test,y_pred)))"
   ]
  },
  {
   "cell_type": "code",
   "execution_count": 45,
   "id": "cba8369f",
   "metadata": {
    "ExecuteTime": {
     "end_time": "2022-08-28T12:28:02.378467Z",
     "start_time": "2022-08-28T12:28:02.367465Z"
    }
   },
   "outputs": [
    {
     "data": {
      "text/plain": [
       "array([[ 1.92366971e+02,  6.07202811e+00,  1.87225530e+00,\n",
       "         1.62086504e-02, -2.86925064e+00, -4.67832297e+00,\n",
       "        -8.50465227e-01,  2.71585758e+00,  2.26120015e-01]])"
      ]
     },
     "execution_count": 45,
     "metadata": {},
     "output_type": "execute_result"
    }
   ],
   "source": [
    "model.coef_"
   ]
  },
  {
   "cell_type": "code",
   "execution_count": 46,
   "id": "b5aa9742",
   "metadata": {
    "ExecuteTime": {
     "end_time": "2022-08-28T12:28:03.746783Z",
     "start_time": "2022-08-28T12:28:02.383468Z"
    }
   },
   "outputs": [
    {
     "data": {
      "image/png": "[encoded data removed]",
      "text/plain": [
       "<Figure size 432x288 with 1 Axes>"
      ]
     },
     "metadata": {},
     "output_type": "display_data"
    }
   ],
   "source": [
    "y_test.columns=['Price_true']\n",
    "ax = y_test.plot(**plot_params)\n",
    "ax = y_pred.plot(label='Price_pred',color='teal')\n",
    "plt.grid()\n",
    "plt.legend(loc='best')\n",
    "plt.tight_layout()"
   ]
  },
  {
   "cell_type": "code",
   "execution_count": 47,
   "id": "7fb02454",
   "metadata": {
    "ExecuteTime": {
     "end_time": "2022-08-28T12:28:03.762786Z",
     "start_time": "2022-08-28T12:28:03.749783Z"
    }
   },
   "outputs": [],
   "source": [
    "residual=y_test.Price_true-pd.DataFrame(y_pred,columns=['Price_pred']).Price_pred\n",
    "residual=pd.DataFrame(residual,columns=['diff'])"
   ]
  },
  {
   "cell_type": "code",
   "execution_count": 48,
   "id": "0ebb0198",
   "metadata": {
    "ExecuteTime": {
     "end_time": "2022-08-28T12:28:04.526890Z",
     "start_time": "2022-08-28T12:28:03.770166Z"
    }
   },
   "outputs": [
    {
     "data": {
      "text/plain": [
       "<AxesSubplot:xlabel='Date'>"
      ]
     },
     "execution_count": 48,
     "metadata": {},
     "output_type": "execute_result"
    },
    {
     "data": {
      "image/png": "[encoded data removed]",
      "text/plain": [
       "<Figure size 864x432 with 1 Axes>"
      ]
     },
     "metadata": {},
     "output_type": "display_data"
    }
   ],
   "source": [
    "plt.figure(figsize=(12, 6))\n",
    "sns.set_theme(style=\"whitegrid\")\n",
    "sns.set_context('notebook', font_scale=1.2, rc={'lines.linewidth':1}) \n",
    "sns.scatterplot(data=residual)"
   ]
  },
  {
   "cell_type": "code",
   "execution_count": 49,
   "id": "89c5f2c1",
   "metadata": {
    "ExecuteTime": {
     "end_time": "2022-08-28T12:28:04.542893Z",
     "start_time": "2022-08-28T12:28:04.531891Z"
    }
   },
   "outputs": [
    {
     "name": "stdout",
     "output_type": "stream",
     "text": [
      "residual Mean: -0.134479,Median: -2.070275, skewness -0.014651, kurtosis: 3.007589\n"
     ]
    }
   ],
   "source": [
    "print('residual Mean: %f,Median: %f, skewness %f, kurtosis: %f' \n",
    "      %(residual.mean(),residual.median(),residual.skew(),residual.kurt()))"
   ]
  },
  {
   "cell_type": "code",
   "execution_count": 50,
   "id": "12a9d041",
   "metadata": {
    "ExecuteTime": {
     "end_time": "2022-08-28T12:28:04.558897Z",
     "start_time": "2022-08-28T12:28:04.546894Z"
    }
   },
   "outputs": [
    {
     "data": {
      "text/plain": [
       "diff   -0.134479\n",
       "dtype: float64"
      ]
     },
     "execution_count": 50,
     "metadata": {},
     "output_type": "execute_result"
    }
   ],
   "source": [
    "residual.mean()"
   ]
  },
  {
   "cell_type": "code",
   "execution_count": 51,
   "id": "33ef2c14",
   "metadata": {
    "ExecuteTime": {
     "end_time": "2022-08-28T12:28:04.574901Z",
     "start_time": "2022-08-28T12:28:04.562898Z"
    }
   },
   "outputs": [
    {
     "data": {
      "text/plain": [
       "diff   -2.070275\n",
       "dtype: float64"
      ]
     },
     "execution_count": 51,
     "metadata": {},
     "output_type": "execute_result"
    }
   ],
   "source": [
    "residual.median()"
   ]
  },
  {
   "cell_type": "code",
   "execution_count": null,
   "id": "ad137dc1",
   "metadata": {},
   "outputs": [],
   "source": []
  }
 ],
 "metadata": {
  "kernelspec": {
   "display_name": "Python 3 (ipykernel)",
   "language": "python",
   "name": "python3"
  },
  "language_info": {
   "codemirror_mode": {
    "name": "ipython",
    "version": 3
   },
   "file_extension": ".py",
   "mimetype": "text/x-python",
   "name": "python",
   "nbconvert_exporter": "python",
   "pygments_lexer": "ipython3",
   "version": "3.7.11"
  },
  "varInspector": {
   "cols": {
    "lenName": 16,
    "lenType": 16,
    "lenVar": 40
   },
   "kernels_config": {
    "python": {
     "delete_cmd_postfix": "",
     "delete_cmd_prefix": "del ",
     "library": "var_list.py",
     "varRefreshCmd": "print(var_dic_list())"
    },
    "r": {
     "delete_cmd_postfix": ") ",
     "delete_cmd_prefix": "rm(",
     "library": "var_list.r",
     "varRefreshCmd": "cat(var_dic_list()) "
    }
   },
   "types_to_exclude": [
    "module",
    "function",
    "builtin_function_or_method",
    "instance",
    "_Feature"
   ],
   "window_display": false
  }
 },
 "nbformat": 4,
 "nbformat_minor": 5
}
