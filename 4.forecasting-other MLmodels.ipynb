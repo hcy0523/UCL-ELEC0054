{
 "cells": [
  {
   "cell_type": "code",
   "execution_count": 1,
   "id": "ec98e2b8",
   "metadata": {
    "ExecuteTime": {
     "end_time": "2022-08-28T11:34:45.674042Z",
     "start_time": "2022-08-28T11:34:38.366377Z"
    }
   },
   "outputs": [],
   "source": [
    "import os\n",
    "import pandas as pd\n",
    "import numpy as np\n",
    "\n",
    "import datetime\n",
    "import matplotlib.pyplot as plt\n",
    "import seaborn as sns\n",
    "%matplotlib inline\n",
    "from scipy import stats\n",
    "from statsmodels.tsa.seasonal import seasonal_decompose\n",
    "from scipy.stats import pearsonr,spearmanr\n",
    "import warnings\n",
    "warnings.filterwarnings(\"ignore\")#忽略警告\n",
    "\n",
    "import datetime\n",
    "from collections import Counter\n",
    "from scipy import stats\n",
    "from sklearn.preprocessing import MinMaxScaler,StandardScaler\n",
    "# from calendar import day_abbr, month_abbr, mdays\n",
    "# import holidays\n",
    "# from fbprophet import Prophet\n",
    "from sklearn.metrics import mean_squared_error as MSE, r2_score as R2, mean_absolute_percentage_error as MAPE\n",
    "from sklearn.model_selection import train_test_split\n",
    "from statsmodels.tsa.deterministic import CalendarFourier, DeterministicProcess\n",
    "\n",
    "from sklearn.linear_model import LinearRegression\n",
    "from sklearn.multioutput import RegressorChain\n",
    "from sklearn.preprocessing import LabelEncoder\n",
    "from xgboost import XGBRegressor\n",
    "\n",
    "from sklearn.neighbors import KNeighborsRegressor\n",
    "from sklearn import metrics\n",
    "from sklearn import svm\n",
    "import joblib\n",
    "\n",
    "from sklearn import tree\n",
    "from sklearn.ensemble import RandomForestRegressor\n",
    "from sklearn.ensemble import BaggingRegressor\n",
    "from sklearn.ensemble import AdaBoostRegressor\n",
    "\n",
    "from pathlib import Path\n",
    "from warnings import simplefilter"
   ]
  },
  {
   "cell_type": "code",
   "execution_count": 2,
   "id": "0862e87a",
   "metadata": {
    "ExecuteTime": {
     "end_time": "2022-08-28T11:34:45.690045Z",
     "start_time": "2022-08-28T11:34:45.678043Z"
    }
   },
   "outputs": [],
   "source": [
    "simplefilter(\"ignore\")\n",
    "\n",
    "# Set Matplotlib defaults\n",
    "plt.style.use(\"seaborn-whitegrid\")\n",
    "plt.rc(\n",
    "    \"figure\",\n",
    "    autolayout=True,\n",
    "    figsize=(11, 4),\n",
    "    titlesize=18,\n",
    "    titleweight='bold',\n",
    ")\n",
    "plt.rc(\n",
    "    \"axes\",\n",
    "    labelweight=\"bold\",\n",
    "    labelsize=\"large\",\n",
    "    titleweight=\"bold\",\n",
    "    titlesize=16,\n",
    "    titlepad=10,\n",
    ")\n",
    "plot_params = dict(\n",
    "    color=\"0.75\",\n",
    "    style=\".-\",\n",
    "    markeredgecolor=\"0.25\",\n",
    "    markerfacecolor=\"0.25\",\n",
    ")"
   ]
  },
  {
   "cell_type": "code",
   "execution_count": 3,
   "id": "db3421d8",
   "metadata": {
    "ExecuteTime": {
     "end_time": "2022-08-28T11:34:45.738057Z",
     "start_time": "2022-08-28T11:34:45.693049Z"
    }
   },
   "outputs": [],
   "source": [
    "df=pd.read_csv('./data/preprocessed/data.csv')\n",
    "df['Date']=pd.to_datetime(df['Date'].astype('str'))\n",
    "df.set_index('Date',drop=True,inplace=True)\n",
    "\n",
    "# x = df.iloc[:,1:]  # features\n",
    "# x_train=x.loc[:'2022-02-28',:]\n",
    "# x_test=x.loc['2022-03-01':,:]\n",
    "# y = df.loc[:, ['Price']]  # target\n",
    "# y_train=y.loc[:'2022-02-28',:]\n",
    "# y_test=y.loc['2022-03-01':,:]\n",
    "\n",
    "# # Pre-process data\n",
    "# scaler = MinMaxScaler() \n",
    "# x_train1 = scaler.fit_transform(x_train)\n",
    "# x_test1 = scaler.transform(x_test)\n",
    "# scaler = StandardScaler()\n",
    "# x_train2 = scaler.fit_transform(x_train)\n",
    "# x_test2 = scaler.transform(x_test)"
   ]
  },
  {
   "cell_type": "code",
   "execution_count": 4,
   "id": "c4dcecd0",
   "metadata": {
    "ExecuteTime": {
     "end_time": "2022-08-28T11:34:45.754064Z",
     "start_time": "2022-08-28T11:34:45.742058Z"
    }
   },
   "outputs": [],
   "source": [
    "def make_lags(ts, lags, lead_time=1):\n",
    "    return pd.concat(\n",
    "        {\n",
    "            f'y_lag_{i}': ts.shift(i)\n",
    "            for i in range(lead_time, lags + lead_time)\n",
    "        },\n",
    "        axis=1)"
   ]
  },
  {
   "cell_type": "code",
   "execution_count": 5,
   "id": "faf44729",
   "metadata": {
    "ExecuteTime": {
     "end_time": "2022-08-28T11:34:45.770067Z",
     "start_time": "2022-08-28T11:34:45.758061Z"
    }
   },
   "outputs": [],
   "source": [
    "def make_multistep_target(ts, steps):\n",
    "    return pd.concat(\n",
    "        {f'y_step_{i + 1}': ts.shift(-i)\n",
    "         for i in range(steps)},\n",
    "        axis=1)"
   ]
  },
  {
   "cell_type": "code",
   "execution_count": 6,
   "id": "77578934",
   "metadata": {
    "ExecuteTime": {
     "end_time": "2022-08-28T11:34:45.802075Z",
     "start_time": "2022-08-28T11:34:45.774065Z"
    }
   },
   "outputs": [],
   "source": [
    "def forecast(n,a,m,s):  \n",
    "    # YOUR CODE HERE: Make 4 lag features\n",
    "    # X = make_lags(df, lags=1).dropna()\n",
    "    if n==0:\n",
    "        X = pd.DataFrame(df.iloc[:,1:])    \n",
    "    elif n>=0:    \n",
    "        if a=='n':\n",
    "            X = make_lags(pd.DataFrame(df.Price), lags=n).dropna()\n",
    "        elif a=='y':\n",
    "            X = make_lags(df, lags=1).dropna()\n",
    "\n",
    "\n",
    "    # YOUR CODE HERE: Make multistep target\n",
    "    # y = make_multistep_target(df.Price, steps=7).dropna()\n",
    "    y = pd.DataFrame(df.Price)\n",
    "    y, X = y.align(X, join='inner', axis=0)\n",
    " \n",
    "\n",
    "    X_train, X_test, y_train, y_test = train_test_split(X, y, test_size=61, shuffle=False)\n",
    "    if s==1:\n",
    "        scaler = MinMaxScaler() \n",
    "        X_train = scaler.fit_transform(X_train)\n",
    "        X_test = scaler.transform(X_test)\n",
    "    elif s==2:\n",
    "        scaler = StandardScaler()\n",
    "        X_train = scaler.fit_transform(X_train)\n",
    "        X_test = scaler.transform(X_test)\n",
    "#     else:\n",
    "#         print('Have not transform data.')  \n",
    "\n",
    "    if m==1:\n",
    "        model = LinearRegression()\n",
    "    if m==2:\n",
    "        model = XGBRegressor()\n",
    "    if m==3:\n",
    "        model = KNeighborsRegressor(n_neighbors=1)\n",
    "    if m==4:\n",
    "        model = svm.SVR(kernel='linear')\n",
    "    if m==5:\n",
    "        tree_params={'criterion':'friedman_mse','splitter': 'best'}\n",
    "        model = tree.DecisionTreeRegressor( **tree_params )\n",
    "    if m==6:\n",
    "        model=BaggingRegressor(n_estimators=12)\n",
    "    if m==7:\n",
    "        model=AdaBoostRegressor(n_estimators=5)\n",
    "    if m==8:\n",
    "        model=RandomForestRegressor()\n",
    "    model.fit(X_train, y_train)\n",
    "\n",
    "    y_fit = pd.DataFrame(model.predict(X_train), index=X_train.index, columns=y.columns)\n",
    "    y_pred = pd.DataFrame(model.predict(X_test), index=X_test.index, columns=y.columns)\n",
    "    M=MSE(y_test,y_pred)\n",
    "    R=R2(y_test,y_pred)\n",
    "    MA=MAPE(y_test,y_pred)\n",
    "    print('Lag=',n,'\\nMSE:',M,'\\nr2_score:', R,'\\nMAPE:', MA,'\\n')\n",
    "    return M,R,MA"
   ]
  },
  {
   "cell_type": "code",
   "execution_count": 7,
   "id": "547ab352",
   "metadata": {
    "ExecuteTime": {
     "end_time": "2022-08-28T11:34:46.424212Z",
     "start_time": "2022-08-28T11:34:45.805073Z"
    }
   },
   "outputs": [
    {
     "name": "stdout",
     "output_type": "stream",
     "text": [
      "Lag= 0 \n",
      "MSE: 793.5019459016394 \n",
      "r2_score: -0.24239648779115952 \n",
      "MAPE: 0.35163401822245305 \n",
      "\n",
      "Lag= 1 \n",
      "MSE: 859.2571692622951 \n",
      "r2_score: -0.3453503103736293 \n",
      "MAPE: 0.4950288262639557 \n",
      "\n",
      "Lag= 2 \n",
      "MSE: 679.1727442622949 \n",
      "r2_score: -0.06338974520870844 \n",
      "MAPE: 0.4699928942615976 \n",
      "\n",
      "Lag= 3 \n",
      "MSE: 860.2786295081967 \n",
      "r2_score: -0.3469496241856256 \n",
      "MAPE: 0.5063574726689365 \n",
      "\n",
      "Lag= 4 \n",
      "MSE: 966.8114114754097 \n",
      "r2_score: -0.5137494094089543 \n",
      "MAPE: 0.5406093981540765 \n",
      "\n",
      "Lag= 5 \n",
      "MSE: 705.9229426229509 \n",
      "r2_score: -0.10527288445322824 \n",
      "MAPE: 0.45794483041629674 \n",
      "\n",
      "Lag= 6 \n",
      "MSE: 408.40277868852456 \n",
      "r2_score: 0.3605583698093804 \n",
      "MAPE: 0.43841985111549725 \n",
      "\n",
      "Lag= 7 \n",
      "MSE: 436.8536295081967 \n",
      "r2_score: 0.31601249652501606 \n",
      "MAPE: 0.4096103774169215 \n",
      "\n",
      "Lag= 8 \n",
      "MSE: 1138.8515327868852 \n",
      "r2_score: -0.7831149019329475 \n",
      "MAPE: 0.5657886066075539 \n",
      "\n",
      "Lag= 9 \n",
      "MSE: 1036.4790475409836 \n",
      "r2_score: -0.6228289482905272 \n",
      "MAPE: 0.5878073261164093 \n",
      "\n"
     ]
    }
   ],
   "source": [
    "Rsquared =[]\n",
    "for n in range(0,10):\n",
    "    M,R,MA=forecast(n,'n',5,0)\n",
    "    Rsquared.append(R)"
   ]
  },
  {
   "cell_type": "code",
   "execution_count": null,
   "id": "d907ed12",
   "metadata": {},
   "outputs": [],
   "source": []
  },
  {
   "cell_type": "markdown",
   "id": "9b347244",
   "metadata": {},
   "source": [
    "linear 5 0.41\n",
    "XGboost 6 0.33\n",
    "KNN 2 n_neighbors=1 0.49\n",
    "SVR 3 linear 0.35\n",
    "decisiontree  6 'criterion':'friedman_mse','splitter': 'best' 0.44\n",
    "Bagging 6 n_estimators=13 0.41\n",
    "AdaBoostRegressor 6 (n_estimators=5) 0.41"
   ]
  },
  {
   "cell_type": "markdown",
   "id": "5ae39c9c",
   "metadata": {},
   "source": [
    "0.35 linear"
   ]
  },
  {
   "cell_type": "code",
   "execution_count": 8,
   "id": "587c1aa8",
   "metadata": {
    "ExecuteTime": {
     "end_time": "2022-08-28T11:34:46.456217Z",
     "start_time": "2022-08-28T11:34:46.429213Z"
    }
   },
   "outputs": [
    {
     "data": {
      "text/plain": [
       "6"
      ]
     },
     "execution_count": 8,
     "metadata": {},
     "output_type": "execute_result"
    }
   ],
   "source": [
    "Rsquared.index(np.max(Rsquared))"
   ]
  },
  {
   "cell_type": "code",
   "execution_count": 9,
   "id": "1c444b54",
   "metadata": {
    "ExecuteTime": {
     "end_time": "2022-08-28T11:34:46.472222Z",
     "start_time": "2022-08-28T11:34:46.460219Z"
    }
   },
   "outputs": [
    {
     "data": {
      "text/plain": [
       "0.3605583698093804"
      ]
     },
     "execution_count": 9,
     "metadata": {},
     "output_type": "execute_result"
    }
   ],
   "source": [
    "np.max(Rsquared)"
   ]
  },
  {
   "cell_type": "markdown",
   "id": "e2ac3db4",
   "metadata": {},
   "source": [
    "### !!!Content below is a test!!!"
   ]
  },
  {
   "cell_type": "code",
   "execution_count": 10,
   "id": "3feb6c58",
   "metadata": {
    "ExecuteTime": {
     "end_time": "2022-08-28T11:34:46.488227Z",
     "start_time": "2022-08-28T11:34:46.478224Z"
    }
   },
   "outputs": [],
   "source": [
    "from statsmodels.tsa.deterministic import CalendarFourier, DeterministicProcess"
   ]
  },
  {
   "cell_type": "code",
   "execution_count": 11,
   "id": "12f6c404",
   "metadata": {
    "ExecuteTime": {
     "end_time": "2022-08-28T11:34:46.567242Z",
     "start_time": "2022-08-28T11:34:46.491228Z"
    }
   },
   "outputs": [],
   "source": [
    "y=pd.DataFrame(df.iloc[1:,0]).copy()\n",
    "dp = DeterministicProcess(\n",
    "    index=y.index,  # dates from the training data\n",
    "    constant=True,  # the intercept\n",
    "    order=2,        # quadratic trend\n",
    "    drop=True,      # drop terms to avoid collinearity\n",
    ")\n",
    "X = dp.in_sample()  # features for the training data"
   ]
  },
  {
   "cell_type": "code",
   "execution_count": 12,
   "id": "318281da",
   "metadata": {
    "ExecuteTime": {
     "end_time": "2022-08-28T11:34:47.489450Z",
     "start_time": "2022-08-28T11:34:46.570245Z"
    }
   },
   "outputs": [
    {
     "data": {
      "image/png": "[encoded data removed]",
      "text/plain": [
       "<Figure size 792x288 with 1 Axes>"
      ]
     },
     "metadata": {},
     "output_type": "display_data"
    }
   ],
   "source": [
    "# Test on the years 2016-2019. It will be easier for us later if we\n",
    "# split the date index instead of the dataframe directly.\n",
    "idx_train, idx_test = train_test_split(\n",
    "    y.index, test_size=61, shuffle=False,\n",
    ")\n",
    "X_train, X_test = X.loc[idx_train, :], X.loc[idx_test, :]\n",
    "y_train, y_test = y.loc[idx_train], y.loc[idx_test]\n",
    "\n",
    "# Fit trend model\n",
    "model = LinearRegression(fit_intercept=False)\n",
    "model.fit(X_train, y_train)\n",
    "\n",
    "# Make predictions\n",
    "y_fit = pd.DataFrame(\n",
    "    model.predict(X_train),\n",
    "    index=y_train.index,\n",
    "    columns=y_train.columns,\n",
    ")\n",
    "y_pred = pd.DataFrame(\n",
    "    model.predict(X_test),\n",
    "    index=y_test.index,\n",
    "    columns=y_test.columns,\n",
    ")\n",
    "\n",
    "# Plot\n",
    "axs = y_train.plot(color='0.25', subplots=True, sharex=True)\n",
    "axs = y_test.plot(color='0.25', subplots=True, sharex=True, ax=axs)\n",
    "axs = y_fit.plot(color='C0', subplots=True, sharex=True, ax=axs)\n",
    "axs = y_pred.plot(color='C3', subplots=True, sharex=True, ax=axs)\n",
    "for ax in axs: ax.legend([])\n",
    "_ = plt.suptitle(\"Trends\")"
   ]
  },
  {
   "cell_type": "code",
   "execution_count": 13,
   "id": "b0c28616",
   "metadata": {
    "ExecuteTime": {
     "end_time": "2022-08-28T11:34:47.521457Z",
     "start_time": "2022-08-28T11:34:47.492451Z"
    }
   },
   "outputs": [],
   "source": [
    "X=pd.DataFrame(df.iloc[:,1:])\n",
    "X['PriceLag']=df.Price.shift(1)\n",
    "# X[\"Month\"]=[int(datetime.datetime.strptime(str(n), '%Y-%m-%d %H:%M:%S').strftime('%m')) for n in X.index]\n",
    "X.dropna(inplace=True)"
   ]
  },
  {
   "cell_type": "code",
   "execution_count": 14,
   "id": "bc739103",
   "metadata": {
    "ExecuteTime": {
     "end_time": "2022-08-28T11:34:47.569471Z",
     "start_time": "2022-08-28T11:34:47.524457Z"
    }
   },
   "outputs": [
    {
     "data": {
      "text/html": [
       "<div>\n",
       "<style scoped>\n",
       "    .dataframe tbody tr th:only-of-type {\n",
       "        vertical-align: middle;\n",
       "    }\n",
       "\n",
       "    .dataframe tbody tr th {\n",
       "        vertical-align: top;\n",
       "    }\n",
       "\n",
       "    .dataframe thead th {\n",
       "        text-align: right;\n",
       "    }\n",
       "</style>\n",
       "<table border=\"1\" class=\"dataframe\">\n",
       "  <thead>\n",
       "    <tr style=\"text-align: right;\">\n",
       "      <th></th>\n",
       "      <th>GDP</th>\n",
       "      <th>netimport</th>\n",
       "      <th>EV</th>\n",
       "      <th>EG</th>\n",
       "      <th>carbon</th>\n",
       "      <th>crude</th>\n",
       "      <th>gas</th>\n",
       "      <th>temp</th>\n",
       "      <th>precip</th>\n",
       "      <th>wind</th>\n",
       "      <th>PriceLag</th>\n",
       "    </tr>\n",
       "    <tr>\n",
       "      <th>Date</th>\n",
       "      <th></th>\n",
       "      <th></th>\n",
       "      <th></th>\n",
       "      <th></th>\n",
       "      <th></th>\n",
       "      <th></th>\n",
       "      <th></th>\n",
       "      <th></th>\n",
       "      <th></th>\n",
       "      <th></th>\n",
       "      <th></th>\n",
       "    </tr>\n",
       "  </thead>\n",
       "  <tbody>\n",
       "    <tr>\n",
       "      <th>2019-01-02</th>\n",
       "      <td>53293.963287</td>\n",
       "      <td>-21.708370</td>\n",
       "      <td>8.036170</td>\n",
       "      <td>165.900397</td>\n",
       "      <td>24.727155</td>\n",
       "      <td>54.910000</td>\n",
       "      <td>2.958000</td>\n",
       "      <td>-1.1</td>\n",
       "      <td>1.081985</td>\n",
       "      <td>17.802005</td>\n",
       "      <td>22.58</td>\n",
       "    </tr>\n",
       "    <tr>\n",
       "      <th>2019-01-03</th>\n",
       "      <td>53295.735821</td>\n",
       "      <td>-21.745108</td>\n",
       "      <td>8.042818</td>\n",
       "      <td>165.921191</td>\n",
       "      <td>24.488984</td>\n",
       "      <td>55.950001</td>\n",
       "      <td>2.945000</td>\n",
       "      <td>-2.7</td>\n",
       "      <td>1.050423</td>\n",
       "      <td>17.888769</td>\n",
       "      <td>42.65</td>\n",
       "    </tr>\n",
       "    <tr>\n",
       "      <th>2019-01-04</th>\n",
       "      <td>53297.504864</td>\n",
       "      <td>-21.781844</td>\n",
       "      <td>8.049554</td>\n",
       "      <td>165.941983</td>\n",
       "      <td>24.200305</td>\n",
       "      <td>57.060001</td>\n",
       "      <td>3.044000</td>\n",
       "      <td>2.7</td>\n",
       "      <td>1.019531</td>\n",
       "      <td>17.976465</td>\n",
       "      <td>51.90</td>\n",
       "    </tr>\n",
       "    <tr>\n",
       "      <th>2019-01-05</th>\n",
       "      <td>53299.270346</td>\n",
       "      <td>-21.818573</td>\n",
       "      <td>8.056381</td>\n",
       "      <td>165.962772</td>\n",
       "      <td>23.858996</td>\n",
       "      <td>57.708959</td>\n",
       "      <td>3.060007</td>\n",
       "      <td>0.8</td>\n",
       "      <td>0.989615</td>\n",
       "      <td>18.065043</td>\n",
       "      <td>50.85</td>\n",
       "    </tr>\n",
       "    <tr>\n",
       "      <th>2019-01-06</th>\n",
       "      <td>53301.032199</td>\n",
       "      <td>-21.855295</td>\n",
       "      <td>8.063298</td>\n",
       "      <td>165.983556</td>\n",
       "      <td>23.462935</td>\n",
       "      <td>58.434992</td>\n",
       "      <td>2.979704</td>\n",
       "      <td>0.8</td>\n",
       "      <td>0.960979</td>\n",
       "      <td>18.154456</td>\n",
       "      <td>50.72</td>\n",
       "    </tr>\n",
       "    <tr>\n",
       "      <th>...</th>\n",
       "      <td>...</td>\n",
       "      <td>...</td>\n",
       "      <td>...</td>\n",
       "      <td>...</td>\n",
       "      <td>...</td>\n",
       "      <td>...</td>\n",
       "      <td>...</td>\n",
       "      <td>...</td>\n",
       "      <td>...</td>\n",
       "      <td>...</td>\n",
       "      <td>...</td>\n",
       "    </tr>\n",
       "    <tr>\n",
       "      <th>2022-04-26</th>\n",
       "      <td>53256.877019</td>\n",
       "      <td>-23.672716</td>\n",
       "      <td>17.801233</td>\n",
       "      <td>184.189287</td>\n",
       "      <td>83.430000</td>\n",
       "      <td>104.989998</td>\n",
       "      <td>6.850000</td>\n",
       "      <td>7.3</td>\n",
       "      <td>1.156897</td>\n",
       "      <td>21.354969</td>\n",
       "      <td>40.27</td>\n",
       "    </tr>\n",
       "    <tr>\n",
       "      <th>2022-04-27</th>\n",
       "      <td>53252.699646</td>\n",
       "      <td>-23.660389</td>\n",
       "      <td>17.636705</td>\n",
       "      <td>184.239084</td>\n",
       "      <td>81.615707</td>\n",
       "      <td>105.320000</td>\n",
       "      <td>7.267000</td>\n",
       "      <td>4.9</td>\n",
       "      <td>1.168487</td>\n",
       "      <td>21.423244</td>\n",
       "      <td>23.94</td>\n",
       "    </tr>\n",
       "    <tr>\n",
       "      <th>2022-04-28</th>\n",
       "      <td>53248.495739</td>\n",
       "      <td>-23.648040</td>\n",
       "      <td>17.471570</td>\n",
       "      <td>184.288904</td>\n",
       "      <td>80.550000</td>\n",
       "      <td>107.589996</td>\n",
       "      <td>6.888000</td>\n",
       "      <td>7.0</td>\n",
       "      <td>1.179634</td>\n",
       "      <td>21.488335</td>\n",
       "      <td>43.43</td>\n",
       "    </tr>\n",
       "    <tr>\n",
       "      <th>2022-04-29</th>\n",
       "      <td>53244.265215</td>\n",
       "      <td>-23.635671</td>\n",
       "      <td>17.305825</td>\n",
       "      <td>184.338745</td>\n",
       "      <td>80.456200</td>\n",
       "      <td>109.339996</td>\n",
       "      <td>7.244000</td>\n",
       "      <td>6.0</td>\n",
       "      <td>1.190293</td>\n",
       "      <td>21.550000</td>\n",
       "      <td>19.30</td>\n",
       "    </tr>\n",
       "    <tr>\n",
       "      <th>2022-04-30</th>\n",
       "      <td>53240.007990</td>\n",
       "      <td>-23.623280</td>\n",
       "      <td>17.139470</td>\n",
       "      <td>184.388607</td>\n",
       "      <td>80.866425</td>\n",
       "      <td>112.291004</td>\n",
       "      <td>7.552826</td>\n",
       "      <td>7.9</td>\n",
       "      <td>1.200422</td>\n",
       "      <td>21.607996</td>\n",
       "      <td>31.43</td>\n",
       "    </tr>\n",
       "  </tbody>\n",
       "</table>\n",
       "<p>1215 rows × 11 columns</p>\n",
       "</div>"
      ],
      "text/plain": [
       "                     GDP  netimport         EV          EG     carbon  \\\n",
       "Date                                                                    \n",
       "2019-01-02  53293.963287 -21.708370   8.036170  165.900397  24.727155   \n",
       "2019-01-03  53295.735821 -21.745108   8.042818  165.921191  24.488984   \n",
       "2019-01-04  53297.504864 -21.781844   8.049554  165.941983  24.200305   \n",
       "2019-01-05  53299.270346 -21.818573   8.056381  165.962772  23.858996   \n",
       "2019-01-06  53301.032199 -21.855295   8.063298  165.983556  23.462935   \n",
       "...                  ...        ...        ...         ...        ...   \n",
       "2022-04-26  53256.877019 -23.672716  17.801233  184.189287  83.430000   \n",
       "2022-04-27  53252.699646 -23.660389  17.636705  184.239084  81.615707   \n",
       "2022-04-28  53248.495739 -23.648040  17.471570  184.288904  80.550000   \n",
       "2022-04-29  53244.265215 -23.635671  17.305825  184.338745  80.456200   \n",
       "2022-04-30  53240.007990 -23.623280  17.139470  184.388607  80.866425   \n",
       "\n",
       "                 crude       gas  temp    precip       wind  PriceLag  \n",
       "Date                                                                   \n",
       "2019-01-02   54.910000  2.958000  -1.1  1.081985  17.802005     22.58  \n",
       "2019-01-03   55.950001  2.945000  -2.7  1.050423  17.888769     42.65  \n",
       "2019-01-04   57.060001  3.044000   2.7  1.019531  17.976465     51.90  \n",
       "2019-01-05   57.708959  3.060007   0.8  0.989615  18.065043     50.85  \n",
       "2019-01-06   58.434992  2.979704   0.8  0.960979  18.154456     50.72  \n",
       "...                ...       ...   ...       ...        ...       ...  \n",
       "2022-04-26  104.989998  6.850000   7.3  1.156897  21.354969     40.27  \n",
       "2022-04-27  105.320000  7.267000   4.9  1.168487  21.423244     23.94  \n",
       "2022-04-28  107.589996  6.888000   7.0  1.179634  21.488335     43.43  \n",
       "2022-04-29  109.339996  7.244000   6.0  1.190293  21.550000     19.30  \n",
       "2022-04-30  112.291004  7.552826   7.9  1.200422  21.607996     31.43  \n",
       "\n",
       "[1215 rows x 11 columns]"
      ]
     },
     "execution_count": 14,
     "metadata": {},
     "output_type": "execute_result"
    }
   ],
   "source": [
    "X"
   ]
  },
  {
   "cell_type": "code",
   "execution_count": 15,
   "id": "1c9f69ed",
   "metadata": {
    "ExecuteTime": {
     "end_time": "2022-08-28T11:34:47.601476Z",
     "start_time": "2022-08-28T11:34:47.572469Z"
    }
   },
   "outputs": [],
   "source": [
    "X_train, X_test = X.loc[idx_train, :], X.loc[idx_test, :]\n",
    "y_train, y_test = y.loc[idx_train], y.loc[idx_test]"
   ]
  },
  {
   "cell_type": "code",
   "execution_count": 16,
   "id": "6c1f3332",
   "metadata": {
    "ExecuteTime": {
     "end_time": "2022-08-28T11:34:47.617482Z",
     "start_time": "2022-08-28T11:34:47.604475Z"
    }
   },
   "outputs": [],
   "source": [
    "# y_fit = y_fit.stack().squeeze()    # trend from training set\n",
    "# y_pred = y_pred.stack().squeeze()  # trend from test set\n",
    "y_resid = y_train - y_fit"
   ]
  },
  {
   "cell_type": "code",
   "execution_count": 17,
   "id": "5bed0fa9",
   "metadata": {
    "ExecuteTime": {
     "end_time": "2022-08-28T11:34:48.001565Z",
     "start_time": "2022-08-28T11:34:47.621480Z"
    }
   },
   "outputs": [],
   "source": [
    "# Train XGBoost on the residuals\n",
    "xgb = XGBRegressor()\n",
    "xgb.fit(X_train, y_resid)\n",
    "\n",
    "# Add the predicted residuals onto the predicted trends\n",
    "y_fit_boosted = (xgb.predict(X_train) + y_fit.T).T\n",
    "y_pred_boosted = (xgb.predict(X_test) + y_pred.T).T"
   ]
  },
  {
   "cell_type": "code",
   "execution_count": 18,
   "id": "ebde52cc",
   "metadata": {
    "ExecuteTime": {
     "end_time": "2022-08-28T11:34:48.528684Z",
     "start_time": "2022-08-28T11:34:48.005567Z"
    }
   },
   "outputs": [
    {
     "data": {
      "image/png": "[encoded data removed]",
      "text/plain": [
       "<Figure size 792x360 with 1 Axes>"
      ]
     },
     "metadata": {},
     "output_type": "display_data"
    }
   ],
   "source": [
    "axs = y_train.plot(\n",
    "    color='0.25', figsize=(11, 5), subplots=True, sharex=True,\n",
    ")\n",
    "axs = y_test.plot(\n",
    "    color='0.25', subplots=True, sharex=True, ax=axs,\n",
    ")\n",
    "axs = y_fit_boosted.plot(\n",
    "    color='C0', subplots=True, sharex=True, ax=axs,\n",
    ")\n",
    "axs = y_pred_boosted.plot(\n",
    "    color='C3', subplots=True, sharex=True, ax=axs,\n",
    ")\n",
    "for ax in axs: ax.legend([])"
   ]
  },
  {
   "cell_type": "code",
   "execution_count": 19,
   "id": "e08ebc03",
   "metadata": {
    "ExecuteTime": {
     "end_time": "2022-08-28T11:34:48.559691Z",
     "start_time": "2022-08-28T11:34:48.531685Z"
    }
   },
   "outputs": [
    {
     "data": {
      "text/html": [
       "<div>\n",
       "<style scoped>\n",
       "    .dataframe tbody tr th:only-of-type {\n",
       "        vertical-align: middle;\n",
       "    }\n",
       "\n",
       "    .dataframe tbody tr th {\n",
       "        vertical-align: top;\n",
       "    }\n",
       "\n",
       "    .dataframe thead th {\n",
       "        text-align: right;\n",
       "    }\n",
       "</style>\n",
       "<table border=\"1\" class=\"dataframe\">\n",
       "  <thead>\n",
       "    <tr style=\"text-align: right;\">\n",
       "      <th></th>\n",
       "      <th>Price</th>\n",
       "    </tr>\n",
       "    <tr>\n",
       "      <th>Date</th>\n",
       "      <th></th>\n",
       "    </tr>\n",
       "  </thead>\n",
       "  <tbody>\n",
       "    <tr>\n",
       "      <th>2022-03-01</th>\n",
       "      <td>14.559314</td>\n",
       "    </tr>\n",
       "    <tr>\n",
       "      <th>2022-03-02</th>\n",
       "      <td>24.276176</td>\n",
       "    </tr>\n",
       "    <tr>\n",
       "      <th>2022-03-03</th>\n",
       "      <td>17.338427</td>\n",
       "    </tr>\n",
       "    <tr>\n",
       "      <th>2022-03-04</th>\n",
       "      <td>27.491720</td>\n",
       "    </tr>\n",
       "    <tr>\n",
       "      <th>2022-03-05</th>\n",
       "      <td>31.409381</td>\n",
       "    </tr>\n",
       "    <tr>\n",
       "      <th>...</th>\n",
       "      <td>...</td>\n",
       "    </tr>\n",
       "    <tr>\n",
       "      <th>2022-04-26</th>\n",
       "      <td>39.584394</td>\n",
       "    </tr>\n",
       "    <tr>\n",
       "      <th>2022-04-27</th>\n",
       "      <td>35.604883</td>\n",
       "    </tr>\n",
       "    <tr>\n",
       "      <th>2022-04-28</th>\n",
       "      <td>42.342672</td>\n",
       "    </tr>\n",
       "    <tr>\n",
       "      <th>2022-04-29</th>\n",
       "      <td>35.714697</td>\n",
       "    </tr>\n",
       "    <tr>\n",
       "      <th>2022-04-30</th>\n",
       "      <td>40.816939</td>\n",
       "    </tr>\n",
       "  </tbody>\n",
       "</table>\n",
       "<p>61 rows × 1 columns</p>\n",
       "</div>"
      ],
      "text/plain": [
       "                Price\n",
       "Date                 \n",
       "2022-03-01  14.559314\n",
       "2022-03-02  24.276176\n",
       "2022-03-03  17.338427\n",
       "2022-03-04  27.491720\n",
       "2022-03-05  31.409381\n",
       "...               ...\n",
       "2022-04-26  39.584394\n",
       "2022-04-27  35.604883\n",
       "2022-04-28  42.342672\n",
       "2022-04-29  35.714697\n",
       "2022-04-30  40.816939\n",
       "\n",
       "[61 rows x 1 columns]"
      ]
     },
     "execution_count": 19,
     "metadata": {},
     "output_type": "execute_result"
    }
   ],
   "source": [
    "y_pred_boosted"
   ]
  },
  {
   "cell_type": "code",
   "execution_count": 20,
   "id": "2a4ec6ed",
   "metadata": {
    "ExecuteTime": {
     "end_time": "2022-08-28T11:34:48.591700Z",
     "start_time": "2022-08-28T11:34:48.561692Z"
    }
   },
   "outputs": [
    {
     "name": "stdout",
     "output_type": "stream",
     "text": [
      "\n",
      "MSE: 477.02090738204055 \n",
      "r2_score: 0.25312205849604485 \n",
      "MAPE: 0.5800034496756402 \n",
      "\n"
     ]
    }
   ],
   "source": [
    "M=MSE(y_test,y_pred_boosted)\n",
    "R=R2(y_test,y_pred_boosted)\n",
    "MA=MAPE(y_test,y_pred_boosted)\n",
    "print('\\nMSE:',M,'\\nr2_score:', R,'\\nMAPE:', MA,'\\n')\n"
   ]
  },
  {
   "cell_type": "code",
   "execution_count": null,
   "id": "1dff941a",
   "metadata": {},
   "outputs": [],
   "source": []
  }
 ],
 "metadata": {
  "kernelspec": {
   "display_name": "Python 3 (ipykernel)",
   "language": "python",
   "name": "python3"
  },
  "language_info": {
   "codemirror_mode": {
    "name": "ipython",
    "version": 3
   },
   "file_extension": ".py",
   "mimetype": "text/x-python",
   "name": "python",
   "nbconvert_exporter": "python",
   "pygments_lexer": "ipython3",
   "version": "3.7.11"
  },
  "varInspector": {
   "cols": {
    "lenName": 16,
    "lenType": 16,
    "lenVar": 40
   },
   "kernels_config": {
    "python": {
     "delete_cmd_postfix": "",
     "delete_cmd_prefix": "del ",
     "library": "var_list.py",
     "varRefreshCmd": "print(var_dic_list())"
    },
    "r": {
     "delete_cmd_postfix": ") ",
     "delete_cmd_prefix": "rm(",
     "library": "var_list.r",
     "varRefreshCmd": "cat(var_dic_list()) "
    }
   },
   "types_to_exclude": [
    "module",
    "function",
    "builtin_function_or_method",
    "instance",
    "_Feature"
   ],
   "window_display": false
  }
 },
 "nbformat": 4,
 "nbformat_minor": 5
}
