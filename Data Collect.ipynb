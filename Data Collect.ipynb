{
 "cells": [
  {
   "cell_type": "code",
   "execution_count": 1,
   "id": "7bd6057e",
   "metadata": {
    "ExecuteTime": {
     "end_time": "2022-07-21T19:05:29.938033Z",
     "start_time": "2022-07-21T19:05:28.621735Z"
    }
   },
   "outputs": [],
   "source": [
    "import os\n",
    "import pandas as pd\n",
    "import numpy as np\n",
    "\n",
    "# from nordpool import elspot, elbas\n",
    "# import datetime\n",
    "import matplotlib.pyplot as plt\n",
    "import seaborn as sns\n",
    "%matplotlib inline"
   ]
  },
  {
   "cell_type": "markdown",
   "id": "93468f0b",
   "metadata": {},
   "source": [
    "# 1. Swedish Power Pricing-Daily"
   ]
  },
  {
   "cell_type": "code",
   "execution_count": 33,
   "id": "aaaba1a5",
   "metadata": {
    "ExecuteTime": {
     "end_time": "2022-06-21T17:58:20.645162Z",
     "start_time": "2022-06-21T17:58:20.630156Z"
    }
   },
   "outputs": [],
   "source": [
    "def Date_Capture(area):    \n",
    "    prices_spot = elspot.Prices()\n",
    "    begin_day=datetime.datetime(2019,1,1)\n",
    "    end_date=datetime.datetime.now()\n",
    "    Prices=[]\n",
    "    while begin_day<end_date:\n",
    "        Prices.extend(prices_spot.daily(end_date=end_date,areas=[area])['areas'][area]['values'])\n",
    "        end_date=end_date-datetime.timedelta(days=31)\n",
    "\n",
    "    price={}\n",
    "    for n,i in enumerate(Prices):\n",
    "        price[Prices[n]['end']]=Prices[n]['value']\n",
    "\n",
    "    Price=pd.DataFrame.from_dict(price, orient='index').reset_index()\n",
    "    Price.columns=['Date',area]\n",
    "\n",
    "    Price['Date']=[datetime.datetime.strptime(str(time.replace(tzinfo=None)),'%Y-%m-%d %H:%M:%S').strftime('%Y-%m-%d') for time in Price['Date']]\n",
    "\n",
    "    Price=Price.sort_values(by = \"Date\",ascending=True).reset_index(drop=True).set_index('Date')\n",
    "    return Price"
   ]
  },
  {
   "cell_type": "code",
   "execution_count": 34,
   "id": "cec09e33",
   "metadata": {
    "ExecuteTime": {
     "end_time": "2022-06-21T17:59:52.525099Z",
     "start_time": "2022-06-21T17:58:21.358761Z"
    }
   },
   "outputs": [],
   "source": [
    "SE1=Date_Capture('SE1')\n",
    "SE2=Date_Capture('SE2')\n",
    "SE3=Date_Capture('SE3')\n",
    "SE4=Date_Capture('SE4')"
   ]
  },
  {
   "cell_type": "code",
   "execution_count": 35,
   "id": "d06f27e7",
   "metadata": {
    "ExecuteTime": {
     "end_time": "2022-06-21T17:59:55.820647Z",
     "start_time": "2022-06-21T17:59:55.813646Z"
    },
    "scrolled": true
   },
   "outputs": [],
   "source": [
    "EP=pd.concat([SE1,SE2['SE2'],SE3['SE3'],SE4['SE4']],axis=1)"
   ]
  },
  {
   "cell_type": "code",
   "execution_count": 36,
   "id": "89705813",
   "metadata": {
    "ExecuteTime": {
     "end_time": "2022-06-21T17:59:56.845589Z",
     "start_time": "2022-06-21T17:59:56.834586Z"
    }
   },
   "outputs": [
    {
     "data": {
      "text/html": [
       "<div>\n",
       "<style scoped>\n",
       "    .dataframe tbody tr th:only-of-type {\n",
       "        vertical-align: middle;\n",
       "    }\n",
       "\n",
       "    .dataframe tbody tr th {\n",
       "        vertical-align: top;\n",
       "    }\n",
       "\n",
       "    .dataframe thead th {\n",
       "        text-align: right;\n",
       "    }\n",
       "</style>\n",
       "<table border=\"1\" class=\"dataframe\">\n",
       "  <thead>\n",
       "    <tr style=\"text-align: right;\">\n",
       "      <th></th>\n",
       "      <th>SE1</th>\n",
       "      <th>SE2</th>\n",
       "      <th>SE3</th>\n",
       "      <th>SE4</th>\n",
       "    </tr>\n",
       "    <tr>\n",
       "      <th>Date</th>\n",
       "      <th></th>\n",
       "      <th></th>\n",
       "      <th></th>\n",
       "      <th></th>\n",
       "    </tr>\n",
       "  </thead>\n",
       "  <tbody>\n",
       "    <tr>\n",
       "      <th>2021-01-01</th>\n",
       "      <td>26.17</td>\n",
       "      <td>26.17</td>\n",
       "      <td>26.17</td>\n",
       "      <td>36.24</td>\n",
       "    </tr>\n",
       "    <tr>\n",
       "      <th>2021-01-02</th>\n",
       "      <td>31.58</td>\n",
       "      <td>31.58</td>\n",
       "      <td>31.58</td>\n",
       "      <td>43.17</td>\n",
       "    </tr>\n",
       "    <tr>\n",
       "      <th>2021-01-03</th>\n",
       "      <td>25.78</td>\n",
       "      <td>25.78</td>\n",
       "      <td>25.78</td>\n",
       "      <td>27.31</td>\n",
       "    </tr>\n",
       "    <tr>\n",
       "      <th>2021-01-04</th>\n",
       "      <td>42.17</td>\n",
       "      <td>42.17</td>\n",
       "      <td>42.17</td>\n",
       "      <td>43.88</td>\n",
       "    </tr>\n",
       "    <tr>\n",
       "      <th>2021-01-05</th>\n",
       "      <td>47.29</td>\n",
       "      <td>47.29</td>\n",
       "      <td>47.29</td>\n",
       "      <td>47.29</td>\n",
       "    </tr>\n",
       "    <tr>\n",
       "      <th>...</th>\n",
       "      <td>...</td>\n",
       "      <td>...</td>\n",
       "      <td>...</td>\n",
       "      <td>...</td>\n",
       "    </tr>\n",
       "    <tr>\n",
       "      <th>2022-06-18</th>\n",
       "      <td>9.37</td>\n",
       "      <td>9.37</td>\n",
       "      <td>9.37</td>\n",
       "      <td>9.37</td>\n",
       "    </tr>\n",
       "    <tr>\n",
       "      <th>2022-06-19</th>\n",
       "      <td>15.57</td>\n",
       "      <td>15.57</td>\n",
       "      <td>17.81</td>\n",
       "      <td>17.81</td>\n",
       "    </tr>\n",
       "    <tr>\n",
       "      <th>2022-06-20</th>\n",
       "      <td>36.68</td>\n",
       "      <td>36.68</td>\n",
       "      <td>217.97</td>\n",
       "      <td>221.65</td>\n",
       "    </tr>\n",
       "    <tr>\n",
       "      <th>2022-06-21</th>\n",
       "      <td>37.71</td>\n",
       "      <td>37.71</td>\n",
       "      <td>179.99</td>\n",
       "      <td>214.95</td>\n",
       "    </tr>\n",
       "    <tr>\n",
       "      <th>2022-06-22</th>\n",
       "      <td>50.52</td>\n",
       "      <td>50.52</td>\n",
       "      <td>162.88</td>\n",
       "      <td>214.56</td>\n",
       "    </tr>\n",
       "  </tbody>\n",
       "</table>\n",
       "<p>538 rows × 4 columns</p>\n",
       "</div>"
      ],
      "text/plain": [
       "              SE1    SE2     SE3     SE4\n",
       "Date                                    \n",
       "2021-01-01  26.17  26.17   26.17   36.24\n",
       "2021-01-02  31.58  31.58   31.58   43.17\n",
       "2021-01-03  25.78  25.78   25.78   27.31\n",
       "2021-01-04  42.17  42.17   42.17   43.88\n",
       "2021-01-05  47.29  47.29   47.29   47.29\n",
       "...           ...    ...     ...     ...\n",
       "2022-06-18   9.37   9.37    9.37    9.37\n",
       "2022-06-19  15.57  15.57   17.81   17.81\n",
       "2022-06-20  36.68  36.68  217.97  221.65\n",
       "2022-06-21  37.71  37.71  179.99  214.95\n",
       "2022-06-22  50.52  50.52  162.88  214.56\n",
       "\n",
       "[538 rows x 4 columns]"
      ]
     },
     "execution_count": 36,
     "metadata": {},
     "output_type": "execute_result"
    }
   ],
   "source": [
    "EP.head()"
   ]
  },
  {
   "cell_type": "markdown",
   "id": "5746417e",
   "metadata": {},
   "source": [
    "# 2.  Net Import Electricity-Yearly"
   ]
  },
  {
   "cell_type": "code",
   "execution_count": 2,
   "id": "b899e92e",
   "metadata": {
    "ExecuteTime": {
     "end_time": "2022-06-24T06:16:55.334784Z",
     "start_time": "2022-06-24T06:16:55.321781Z"
    }
   },
   "outputs": [],
   "source": [
    "dir_name = 'figure'\n",
    "if not os.path.isdir(dir_name):\n",
    "    os.makedirs(dir_name)"
   ]
  },
  {
   "cell_type": "code",
   "execution_count": 3,
   "id": "2c44775f",
   "metadata": {
    "ExecuteTime": {
     "end_time": "2022-06-24T06:16:55.759590Z",
     "start_time": "2022-06-24T06:16:55.751586Z"
    }
   },
   "outputs": [],
   "source": [
    "net_imp=pd.read_csv('./Data/net import/net-electricity-imports.csv')"
   ]
  },
  {
   "cell_type": "code",
   "execution_count": 4,
   "id": "2880f2ea",
   "metadata": {
    "ExecuteTime": {
     "end_time": "2022-06-24T06:16:56.148097Z",
     "start_time": "2022-06-24T06:16:56.132094Z"
    }
   },
   "outputs": [],
   "source": [
    "se_imp=net_imp[net_imp['Entity'].str.contains('Sweden')]"
   ]
  },
  {
   "cell_type": "code",
   "execution_count": 5,
   "id": "86ebe8c7",
   "metadata": {
    "ExecuteTime": {
     "end_time": "2022-06-24T06:16:56.541404Z",
     "start_time": "2022-06-24T06:16:56.526427Z"
    }
   },
   "outputs": [],
   "source": [
    "se_imp.reset_index(drop=True,inplace=True)"
   ]
  },
  {
   "cell_type": "code",
   "execution_count": 6,
   "id": "29f04a59",
   "metadata": {
    "ExecuteTime": {
     "end_time": "2022-06-24T06:16:56.993035Z",
     "start_time": "2022-06-24T06:16:56.989140Z"
    }
   },
   "outputs": [],
   "source": [
    "ie=[]\n",
    "for n in se_imp['Net imports (TWh)']:\n",
    "    if n>0:\n",
    "        ie.append('import')\n",
    "    elif n<0:\n",
    "        ie.append('export')"
   ]
  },
  {
   "cell_type": "code",
   "execution_count": 7,
   "id": "5549a360",
   "metadata": {
    "ExecuteTime": {
     "end_time": "2022-06-24T06:16:57.549036Z",
     "start_time": "2022-06-24T06:16:57.541958Z"
    }
   },
   "outputs": [],
   "source": [
    "se_imp.insert(loc=len(se_imp.columns), column='ie', value=ie)"
   ]
  },
  {
   "cell_type": "code",
   "execution_count": 8,
   "id": "b945cba7",
   "metadata": {
    "ExecuteTime": {
     "end_time": "2022-06-24T06:17:06.171288Z",
     "start_time": "2022-06-24T06:17:04.881997Z"
    },
    "scrolled": true
   },
   "outputs": [
    {
     "data": {
      "image/png": "[encoded data removed]",
      "text/plain": [
       "<Figure size 864x432 with 1 Axes>"
      ]
     },
     "metadata": {},
     "output_type": "display_data"
    }
   ],
   "source": [
    "sns.set_style('whitegrid') \n",
    "fig = plt.figure(figsize=(12,6))\n",
    "sns.lineplot(data=se_imp,x='Year',y='Net imports (TWh)',palette='husl',marker='o',markerfacecolor='black')\n",
    "for a, b in zip(se_imp['Year'], se_imp['Net imports (TWh)']):\n",
    "    plt.text(a, b, b,ha='center',va='bottom',fontsize=12)\n",
    "plt.savefig(\"figure/netimport.png\",dpi=600)"
   ]
  },
  {
   "cell_type": "code",
   "execution_count": 9,
   "id": "107b3aa3",
   "metadata": {
    "ExecuteTime": {
     "end_time": "2022-06-24T06:17:07.650798Z",
     "start_time": "2022-06-24T06:17:07.636793Z"
    }
   },
   "outputs": [],
   "source": [
    "dic={se_imp['Year'][n]:se_imp['Net imports (TWh)'][n] for n in se_imp.index}"
   ]
  },
  {
   "cell_type": "code",
   "execution_count": 10,
   "id": "4cbc0336",
   "metadata": {
    "ExecuteTime": {
     "end_time": "2022-06-24T06:17:08.870558Z",
     "start_time": "2022-06-24T06:17:08.864557Z"
    }
   },
   "outputs": [],
   "source": [
    "df=pd.DataFrame.from_dict(dic,columns=['Net imports (TWh)'],orient='index')"
   ]
  },
  {
   "cell_type": "code",
   "execution_count": 11,
   "id": "b4daf80c",
   "metadata": {
    "ExecuteTime": {
     "end_time": "2022-06-24T06:17:09.368964Z",
     "start_time": "2022-06-24T06:17:09.362902Z"
    }
   },
   "outputs": [],
   "source": [
    "df.index.name='Year'"
   ]
  },
  {
   "cell_type": "code",
   "execution_count": 12,
   "id": "9a977966",
   "metadata": {
    "ExecuteTime": {
     "end_time": "2022-06-24T06:17:09.804166Z",
     "start_time": "2022-06-24T06:17:09.789776Z"
    }
   },
   "outputs": [],
   "source": [
    "df.to_csv('./Data/net import/netimport.csv')"
   ]
  },
  {
   "cell_type": "markdown",
   "id": "e0b87863",
   "metadata": {},
   "source": [
    "# 3. Swedish Electricity Mix-Yearly"
   ]
  },
  {
   "cell_type": "code",
   "execution_count": 13,
   "id": "81c4f467",
   "metadata": {
    "ExecuteTime": {
     "end_time": "2022-06-24T06:17:10.977765Z",
     "start_time": "2022-06-24T06:17:10.953758Z"
    }
   },
   "outputs": [],
   "source": [
    "source=pd.read_csv('./Data/source/share-elec-by-source.csv')\n",
    "\n",
    "se_source=source[source['Entity'].str.contains('Sweden')]"
   ]
  },
  {
   "cell_type": "code",
   "execution_count": 14,
   "id": "32dc6bab",
   "metadata": {
    "ExecuteTime": {
     "end_time": "2022-06-24T06:17:11.635602Z",
     "start_time": "2022-06-24T06:17:11.624600Z"
    }
   },
   "outputs": [],
   "source": [
    "# se_source=se_source[se_source['Year']>=2012]"
   ]
  },
  {
   "cell_type": "code",
   "execution_count": 15,
   "id": "13c36489",
   "metadata": {
    "ExecuteTime": {
     "end_time": "2022-06-24T06:17:12.165786Z",
     "start_time": "2022-06-24T06:17:12.162785Z"
    }
   },
   "outputs": [],
   "source": [
    "se_source.reset_index(drop=True,inplace=True)"
   ]
  },
  {
   "cell_type": "code",
   "execution_count": 16,
   "id": "0a68c549",
   "metadata": {
    "ExecuteTime": {
     "end_time": "2022-06-24T06:17:12.863960Z",
     "start_time": "2022-06-24T06:17:12.855958Z"
    }
   },
   "outputs": [],
   "source": [
    "newse_source=se_source[['Year','Coal (% electricity)','Gas (% electricity)','Hydro (% electricity)','Solar (% electricity)','Wind (% electricity)','Oil (% electricity)','Nuclear (% electricity)','Other renewables including bioenergy (% electricity)']]"
   ]
  },
  {
   "cell_type": "code",
   "execution_count": 17,
   "id": "082448cc",
   "metadata": {
    "ExecuteTime": {
     "end_time": "2022-06-24T06:17:14.230819Z",
     "start_time": "2022-06-24T06:17:14.214815Z"
    }
   },
   "outputs": [
    {
     "data": {
      "text/html": [
       "<div>\n",
       "<style scoped>\n",
       "    .dataframe tbody tr th:only-of-type {\n",
       "        vertical-align: middle;\n",
       "    }\n",
       "\n",
       "    .dataframe tbody tr th {\n",
       "        vertical-align: top;\n",
       "    }\n",
       "\n",
       "    .dataframe thead th {\n",
       "        text-align: right;\n",
       "    }\n",
       "</style>\n",
       "<table border=\"1\" class=\"dataframe\">\n",
       "  <thead>\n",
       "    <tr style=\"text-align: right;\">\n",
       "      <th></th>\n",
       "      <th>Year</th>\n",
       "      <th>Coal (% electricity)</th>\n",
       "      <th>Gas (% electricity)</th>\n",
       "      <th>Hydro (% electricity)</th>\n",
       "      <th>Solar (% electricity)</th>\n",
       "      <th>Wind (% electricity)</th>\n",
       "      <th>Oil (% electricity)</th>\n",
       "      <th>Nuclear (% electricity)</th>\n",
       "      <th>Other renewables including bioenergy (% electricity)</th>\n",
       "    </tr>\n",
       "  </thead>\n",
       "  <tbody>\n",
       "    <tr>\n",
       "      <th>0</th>\n",
       "      <td>1990</td>\n",
       "      <td>0.740</td>\n",
       "      <td>0.288</td>\n",
       "      <td>49.664</td>\n",
       "      <td>0.0</td>\n",
       "      <td>0.007</td>\n",
       "      <td>1.267</td>\n",
       "      <td>46.705</td>\n",
       "      <td>1.329</td>\n",
       "    </tr>\n",
       "    <tr>\n",
       "      <th>1</th>\n",
       "      <td>1991</td>\n",
       "      <td>1.334</td>\n",
       "      <td>0.395</td>\n",
       "      <td>43.029</td>\n",
       "      <td>0.0</td>\n",
       "      <td>0.007</td>\n",
       "      <td>1.742</td>\n",
       "      <td>52.228</td>\n",
       "      <td>1.266</td>\n",
       "    </tr>\n",
       "    <tr>\n",
       "      <th>2</th>\n",
       "      <td>1992</td>\n",
       "      <td>1.233</td>\n",
       "      <td>0.541</td>\n",
       "      <td>50.935</td>\n",
       "      <td>0.0</td>\n",
       "      <td>0.021</td>\n",
       "      <td>2.350</td>\n",
       "      <td>43.541</td>\n",
       "      <td>1.377</td>\n",
       "    </tr>\n",
       "    <tr>\n",
       "      <th>3</th>\n",
       "      <td>1993</td>\n",
       "      <td>1.432</td>\n",
       "      <td>0.626</td>\n",
       "      <td>51.391</td>\n",
       "      <td>0.0</td>\n",
       "      <td>0.034</td>\n",
       "      <td>2.754</td>\n",
       "      <td>42.269</td>\n",
       "      <td>1.494</td>\n",
       "    </tr>\n",
       "    <tr>\n",
       "      <th>4</th>\n",
       "      <td>1994</td>\n",
       "      <td>1.829</td>\n",
       "      <td>0.603</td>\n",
       "      <td>41.416</td>\n",
       "      <td>0.0</td>\n",
       "      <td>0.049</td>\n",
       "      <td>3.273</td>\n",
       "      <td>51.268</td>\n",
       "      <td>1.563</td>\n",
       "    </tr>\n",
       "  </tbody>\n",
       "</table>\n",
       "</div>"
      ],
      "text/plain": [
       "   Year  Coal (% electricity)  Gas (% electricity)  Hydro (% electricity)  \\\n",
       "0  1990                 0.740                0.288                 49.664   \n",
       "1  1991                 1.334                0.395                 43.029   \n",
       "2  1992                 1.233                0.541                 50.935   \n",
       "3  1993                 1.432                0.626                 51.391   \n",
       "4  1994                 1.829                0.603                 41.416   \n",
       "\n",
       "   Solar (% electricity)  Wind (% electricity)  Oil (% electricity)  \\\n",
       "0                    0.0                 0.007                1.267   \n",
       "1                    0.0                 0.007                1.742   \n",
       "2                    0.0                 0.021                2.350   \n",
       "3                    0.0                 0.034                2.754   \n",
       "4                    0.0                 0.049                3.273   \n",
       "\n",
       "   Nuclear (% electricity)  \\\n",
       "0                   46.705   \n",
       "1                   52.228   \n",
       "2                   43.541   \n",
       "3                   42.269   \n",
       "4                   51.268   \n",
       "\n",
       "   Other renewables including bioenergy (% electricity)  \n",
       "0                                              1.329     \n",
       "1                                              1.266     \n",
       "2                                              1.377     \n",
       "3                                              1.494     \n",
       "4                                              1.563     "
      ]
     },
     "execution_count": 17,
     "metadata": {},
     "output_type": "execute_result"
    }
   ],
   "source": [
    "newse_source.head()"
   ]
  },
  {
   "cell_type": "code",
   "execution_count": 18,
   "id": "5ced4485",
   "metadata": {
    "ExecuteTime": {
     "end_time": "2022-06-24T06:17:14.951814Z",
     "start_time": "2022-06-24T06:17:14.947770Z"
    }
   },
   "outputs": [],
   "source": [
    "new=newse_source.sort_values(by = \"Year\",ascending=True)"
   ]
  },
  {
   "cell_type": "code",
   "execution_count": 19,
   "id": "fe20dfce",
   "metadata": {
    "ExecuteTime": {
     "end_time": "2022-06-24T06:17:15.481821Z",
     "start_time": "2022-06-24T06:17:15.475819Z"
    }
   },
   "outputs": [],
   "source": [
    "newse_source=new[new['Year']>=2012]"
   ]
  },
  {
   "cell_type": "code",
   "execution_count": 20,
   "id": "08fdf36c",
   "metadata": {
    "ExecuteTime": {
     "end_time": "2022-06-24T06:17:15.970004Z",
     "start_time": "2022-06-24T06:17:15.958001Z"
    }
   },
   "outputs": [],
   "source": [
    "newse_source.set_index(newse_source['Year'],inplace=True)\n",
    "final_source=newse_source.drop(columns='Year')"
   ]
  },
  {
   "cell_type": "code",
   "execution_count": 21,
   "id": "2ba4488a",
   "metadata": {
    "ExecuteTime": {
     "end_time": "2022-06-24T06:17:17.898491Z",
     "start_time": "2022-06-24T06:17:16.270775Z"
    },
    "scrolled": true
   },
   "outputs": [
    {
     "data": {
      "image/png": "[encoded data removed]",
      "text/plain": [
       "<Figure size 864x576 with 1 Axes>"
      ]
     },
     "metadata": {},
     "output_type": "display_data"
    }
   ],
   "source": [
    "sns.set_style('ticks') \n",
    "fig = plt.figure(figsize=(12,8))\n",
    "sns.set_context('paper', font_scale=1.5, rc={'lines.linewidth':2.5})\n",
    "sns.lineplot(data=final_source,linewidth=2.5)\n",
    "plt.text(2021,final_source.iloc[9,2] , 'Hydro '+str(final_source.iloc[9,2])+'%',ha='left',va='bottom',fontsize=12)\n",
    "plt.text(2021,final_source.iloc[9,4] , 'Wind '+str(final_source.iloc[9,4])+'%',ha='left',va='bottom',fontsize=12)\n",
    "plt.text(2021,final_source.iloc[9,6] , 'Nuclear '+str(final_source.iloc[9,6])+'%',ha='left',va='bottom',fontsize=12)\n",
    "plt.text(2021,final_source.iloc[9,7] , 'Other renewables \\n'+str(final_source.iloc[9,7])+'%',ha='left',va='bottom',fontsize=12)\n",
    "sns.despine(offset=(10,10),trim=False)\n",
    "plt.savefig(\"figure/source.png\",dpi=600)"
   ]
  },
  {
   "cell_type": "code",
   "execution_count": 22,
   "id": "f1e62963",
   "metadata": {
    "ExecuteTime": {
     "end_time": "2022-06-24T06:17:18.805276Z",
     "start_time": "2022-06-24T06:17:18.790766Z"
    }
   },
   "outputs": [],
   "source": [
    "new.to_csv('./Data/source/sourceshare.csv',index=False)"
   ]
  },
  {
   "cell_type": "markdown",
   "id": "c1402c34",
   "metadata": {},
   "source": [
    "# 4. Carbon Price-Daily"
   ]
  },
  {
   "cell_type": "code",
   "execution_count": 2,
   "id": "d539f842",
   "metadata": {
    "ExecuteTime": {
     "end_time": "2022-06-24T06:32:40.155504Z",
     "start_time": "2022-06-24T06:32:40.113496Z"
    }
   },
   "outputs": [],
   "source": [
    "excelFile = \"./data/carbon/emission-spot-primary-market-auction-report-2019-data.xlsx\"\n",
    "df = pd.read_excel(excelFile,sheet_name= \"Primary Market Auction\")\n",
    "data=df.iloc[:,[1,5]]\n",
    "Data19=data.dropna(axis=0, how='any', thresh=None, subset=None, inplace=False)\n",
    "Data19=Data19.rename(columns=data.iloc[4,:]).drop([3,4],axis=0)"
   ]
  },
  {
   "cell_type": "code",
   "execution_count": 3,
   "id": "03aae083",
   "metadata": {
    "ExecuteTime": {
     "end_time": "2022-06-24T06:32:40.949075Z",
     "start_time": "2022-06-24T06:32:40.647378Z"
    }
   },
   "outputs": [
    {
     "name": "stderr",
     "output_type": "stream",
     "text": [
      "D:\\ProgramData\\Anaconda3\\envs\\daps\\lib\\site-packages\\openpyxl\\styles\\stylesheet.py:226: UserWarning: Workbook contains no default style, apply openpyxl's default\n",
      "  warn(\"Workbook contains no default style, apply openpyxl's default\")\n"
     ]
    }
   ],
   "source": [
    "excelFile = \"./data/carbon/emission-spot-primary-market-auction-report-2020-data.xlsx\"\n",
    "df = pd.read_excel(excelFile,sheet_name= \"Primary Market Auction\")\n",
    "data=df.iloc[:,[1,6]]\n",
    "Data20=data.dropna(axis=0, how='any', thresh=None, subset=None, inplace=False)\n",
    "Data20=Data20.rename(columns=data.iloc[4,:]).drop([3,4],axis=0)"
   ]
  },
  {
   "cell_type": "code",
   "execution_count": 4,
   "id": "c680f64a",
   "metadata": {
    "ExecuteTime": {
     "end_time": "2022-06-24T06:32:41.215540Z",
     "start_time": "2022-06-24T06:32:41.063556Z"
    }
   },
   "outputs": [
    {
     "name": "stderr",
     "output_type": "stream",
     "text": [
      "D:\\ProgramData\\Anaconda3\\envs\\daps\\lib\\site-packages\\openpyxl\\styles\\stylesheet.py:226: UserWarning: Workbook contains no default style, apply openpyxl's default\n",
      "  warn(\"Workbook contains no default style, apply openpyxl's default\")\n"
     ]
    }
   ],
   "source": [
    "excelFile = \"./data/carbon/emission-spot-primary-market-auction-report-2021-data.xlsx\"\n",
    "df = pd.read_excel(excelFile,sheet_name= \"Primary Market Auction\")\n",
    "data=df.iloc[:,[1,6]]\n",
    "Data21=data.dropna(axis=0, how='any', thresh=None, subset=None, inplace=False)\n",
    "Data21=Data21.rename(columns=data.iloc[4,:]).drop([3,4],axis=0)"
   ]
  },
  {
   "cell_type": "code",
   "execution_count": 5,
   "id": "5b5e1c07",
   "metadata": {
    "ExecuteTime": {
     "end_time": "2022-06-24T06:32:41.793820Z",
     "start_time": "2022-06-24T06:32:41.665791Z"
    }
   },
   "outputs": [
    {
     "name": "stderr",
     "output_type": "stream",
     "text": [
      "D:\\ProgramData\\Anaconda3\\envs\\daps\\lib\\site-packages\\openpyxl\\styles\\stylesheet.py:226: UserWarning: Workbook contains no default style, apply openpyxl's default\n",
      "  warn(\"Workbook contains no default style, apply openpyxl's default\")\n"
     ]
    }
   ],
   "source": [
    "excelFile = \"./data/carbon/emission-spot-primary-market-auction-report-2022-data.xlsx\"\n",
    "df = pd.read_excel(excelFile,sheet_name= \"Primary Market Auction\")\n",
    "data=df.iloc[:,[1,6]]\n",
    "Data22=data.dropna(axis=0, how='any', thresh=None, subset=None, inplace=False)\n",
    "Data22=Data22.rename(columns=data.iloc[4,:]).drop([3,4],axis=0)"
   ]
  },
  {
   "cell_type": "code",
   "execution_count": 6,
   "id": "7470f22c",
   "metadata": {
    "ExecuteTime": {
     "end_time": "2022-06-24T06:32:42.536360Z",
     "start_time": "2022-06-24T06:32:42.518356Z"
    }
   },
   "outputs": [],
   "source": [
    "carbon=pd.concat([Data19,Data20,Data21,Data22])"
   ]
  },
  {
   "cell_type": "code",
   "execution_count": 7,
   "id": "87ea9d17",
   "metadata": {
    "ExecuteTime": {
     "end_time": "2022-06-24T06:32:45.354159Z",
     "start_time": "2022-06-24T06:32:45.345155Z"
    }
   },
   "outputs": [],
   "source": [
    "Carbon=carbon.sort_values(by = \"Date\",ascending=True).reset_index(drop=True).set_index('Date')"
   ]
  },
  {
   "cell_type": "code",
   "execution_count": 8,
   "id": "ed5cf6d9",
   "metadata": {
    "ExecuteTime": {
     "end_time": "2022-06-24T06:32:50.211777Z",
     "start_time": "2022-06-24T06:32:50.192771Z"
    }
   },
   "outputs": [
    {
     "data": {
      "text/html": [
       "<div>\n",
       "<style scoped>\n",
       "    .dataframe tbody tr th:only-of-type {\n",
       "        vertical-align: middle;\n",
       "    }\n",
       "\n",
       "    .dataframe tbody tr th {\n",
       "        vertical-align: top;\n",
       "    }\n",
       "\n",
       "    .dataframe thead th {\n",
       "        text-align: right;\n",
       "    }\n",
       "</style>\n",
       "<table border=\"1\" class=\"dataframe\">\n",
       "  <thead>\n",
       "    <tr style=\"text-align: right;\">\n",
       "      <th></th>\n",
       "      <th>Auction Price €/tCO2</th>\n",
       "    </tr>\n",
       "    <tr>\n",
       "      <th>Date</th>\n",
       "      <th></th>\n",
       "    </tr>\n",
       "  </thead>\n",
       "  <tbody>\n",
       "    <tr>\n",
       "      <th>2019-01-07</th>\n",
       "      <td>23.01</td>\n",
       "    </tr>\n",
       "    <tr>\n",
       "      <th>2019-01-08</th>\n",
       "      <td>22.4</td>\n",
       "    </tr>\n",
       "    <tr>\n",
       "      <th>2019-01-10</th>\n",
       "      <td>21.4</td>\n",
       "    </tr>\n",
       "    <tr>\n",
       "      <th>2019-01-14</th>\n",
       "      <td>21.95</td>\n",
       "    </tr>\n",
       "    <tr>\n",
       "      <th>2019-01-15</th>\n",
       "      <td>22.55</td>\n",
       "    </tr>\n",
       "    <tr>\n",
       "      <th>...</th>\n",
       "      <td>...</td>\n",
       "    </tr>\n",
       "    <tr>\n",
       "      <th>2022-06-16</th>\n",
       "      <td>85.95</td>\n",
       "    </tr>\n",
       "    <tr>\n",
       "      <th>2022-06-17</th>\n",
       "      <td>83.0</td>\n",
       "    </tr>\n",
       "    <tr>\n",
       "      <th>2022-06-20</th>\n",
       "      <td>83.51</td>\n",
       "    </tr>\n",
       "    <tr>\n",
       "      <th>2022-06-21</th>\n",
       "      <td>84.26</td>\n",
       "    </tr>\n",
       "    <tr>\n",
       "      <th>2022-06-22</th>\n",
       "      <td>83.06</td>\n",
       "    </tr>\n",
       "  </tbody>\n",
       "</table>\n",
       "<p>765 rows × 1 columns</p>\n",
       "</div>"
      ],
      "text/plain": [
       "           Auction Price €/tCO2\n",
       "Date                           \n",
       "2019-01-07                23.01\n",
       "2019-01-08                 22.4\n",
       "2019-01-10                 21.4\n",
       "2019-01-14                21.95\n",
       "2019-01-15                22.55\n",
       "...                         ...\n",
       "2022-06-16                85.95\n",
       "2022-06-17                 83.0\n",
       "2022-06-20                83.51\n",
       "2022-06-21                84.26\n",
       "2022-06-22                83.06\n",
       "\n",
       "[765 rows x 1 columns]"
      ]
     },
     "execution_count": 8,
     "metadata": {},
     "output_type": "execute_result"
    }
   ],
   "source": [
    "Carbon"
   ]
  },
  {
   "cell_type": "code",
   "execution_count": 30,
   "id": "fd0a50cb",
   "metadata": {
    "ExecuteTime": {
     "end_time": "2022-06-24T06:17:29.565985Z",
     "start_time": "2022-06-24T06:17:29.554983Z"
    }
   },
   "outputs": [],
   "source": [
    "Carbon.to_csv('./data/carbon/Carbon.csv')"
   ]
  },
  {
   "cell_type": "markdown",
   "id": "e35c4f7d",
   "metadata": {},
   "source": [
    "supported values are 'Accent', 'Accent_r', 'Blues', 'Blues_r', 'BrBG', 'BrBG_r', 'BuGn', 'BuGn_r', 'BuPu', 'BuPu_r', 'CMRmap', 'CMRmap_r', 'Dark2', 'Dark2_r', 'GnBu', 'GnBu_r', 'Greens', 'Greens_r', 'Greys', 'Greys_r', 'OrRd', 'OrRd_r', 'Oranges', 'Oranges_r', 'PRGn', 'PRGn_r', 'Paired', 'Paired_r', 'Pastel1', 'Pastel1_r', 'Pastel2', 'Pastel2_r', 'PiYG', 'PiYG_r', 'PuBu', 'PuBuGn', 'PuBuGn_r', 'PuBu_r', 'PuOr', 'PuOr_r', 'PuRd', 'PuRd_r', 'Purples', 'Purples_r', 'RdBu', 'RdBu_r', 'RdGy', 'RdGy_r', 'RdPu', 'RdPu_r', 'RdYlBu', 'RdYlBu_r', 'RdYlGn', 'RdYlGn_r', 'Reds', 'Reds_r', 'Set1', 'Set1_r', 'Set2', 'Set2_r', 'Set3', 'Set3_r', 'Spectral', 'Spectral_r', 'Wistia', 'Wistia_r', 'YlGn', 'YlGnBu', 'YlGnBu_r', 'YlGn_r', 'YlOrBr', 'YlOrBr_r', 'YlOrRd', 'YlOrRd_r', 'afmhot', 'afmhot_r', 'autumn', 'autumn_r', 'binary', 'binary_r', 'bone', 'bone_r', 'brg', 'brg_r', 'bwr', 'bwr_r', 'cividis', 'cividis_r', 'cool', 'cool_r', 'coolwarm', 'coolwarm_r', 'copper', 'copper_r', 'crest', 'crest_r', 'cubehelix', 'cubehelix_r', 'flag', 'flag_r', 'flare', 'flare_r', 'gist_earth', 'gist_earth_r', 'gist_gray', 'gist_gray_r', 'gist_heat', 'gist_heat_r', 'gist_ncar', 'gist_ncar_r', 'gist_rainbow', 'gist_rainbow_r', 'gist_stern', 'gist_stern_r', 'gist_yarg', 'gist_yarg_r', 'gnuplot', 'gnuplot2', 'gnuplot2_r', 'gnuplot_r', 'gray', 'gray_r', 'hot', 'hot_r', 'hsv', 'hsv_r', 'icefire', 'icefire_r', 'inferno', 'inferno_r', 'jet', 'jet_r', 'magma', 'magma_r', 'mako', 'mako_r', 'nipy_spectral', 'nipy_spectral_r', 'ocean', 'ocean_r', 'pink', 'pink_r', 'plasma', 'plasma_r', 'prism', 'prism_r', 'rainbow', 'rainbow_r', 'rocket', 'rocket_r', 'seismic', 'seismic_r', 'spring', 'spring_r', 'summer', 'summer_r', 'tab10', 'tab10_r', 'tab20', 'tab20_r', 'tab20b', 'tab20b_r', 'tab20c', 'tab20c_r', 'terrain', 'terrain_r', 'turbo', 'turbo_r', 'twilight', 'twilight_r', 'twilight_shifted', 'twilight_shifted_r', 'viridis', 'viridis_r', 'vlag', 'vlag_r', 'winter', 'winter_r'"
   ]
  },
  {
   "cell_type": "code",
   "execution_count": 10,
   "id": "9e1de765",
   "metadata": {
    "ExecuteTime": {
     "end_time": "2022-06-24T06:34:40.383712Z",
     "start_time": "2022-06-24T06:34:40.368368Z"
    }
   },
   "outputs": [
    {
     "data": {
      "text/plain": [
       "pandas._libs.tslibs.timestamps.Timestamp"
      ]
     },
     "execution_count": 10,
     "metadata": {},
     "output_type": "execute_result"
    }
   ],
   "source": [
    "type(Carbon.index[0])"
   ]
  },
  {
   "cell_type": "code",
   "execution_count": 9,
   "id": "031ec9bb",
   "metadata": {
    "ExecuteTime": {
     "end_time": "2022-06-24T06:33:17.537549Z",
     "start_time": "2022-06-24T06:33:16.989427Z"
    },
    "scrolled": false
   },
   "outputs": [
    {
     "data": {
      "image/png": "[encoded data removed]",
      "text/plain": [
       "<Figure size 864x432 with 1 Axes>"
      ]
     },
     "metadata": {},
     "output_type": "display_data"
    }
   ],
   "source": [
    "sns.set_style('whitegrid') \n",
    "fig=plt.figure(figsize=(12,6))\n",
    "sns.lineplot(data=Carbon,palette='Oranges_r',linewidth=1.5)\n",
    "plt.ylim(10,110)\n",
    "plt.ylabel('Auction Price €/tCO2')\n",
    "sns.set_context('paper', font_scale=1.5, rc={'lines.linewidth':1.5})\n",
    "sns.despine(offset=(10,10),trim=False)"
   ]
  },
  {
   "cell_type": "markdown",
   "id": "7cfe9912",
   "metadata": {},
   "source": [
    "# 5. Swedish Weather Data-Daily"
   ]
  },
  {
   "cell_type": "code",
   "execution_count": 8,
   "id": "694a46c1",
   "metadata": {
    "ExecuteTime": {
     "end_time": "2022-07-21T20:05:26.701631Z",
     "start_time": "2022-07-21T20:05:26.666766Z"
    }
   },
   "outputs": [],
   "source": [
    "w0=pd.read_csv('./data/weather data/sweden 2018-10-01 to 2018-12-31.csv')\n",
    "w1=pd.read_csv('./data/weather data/sweden 2019-01-01 to 2020-12-31.csv')\n",
    "w2=pd.read_csv('./data/weather data/sweden 2021-01-01 to 2022-07-01.csv')"
   ]
  },
  {
   "cell_type": "code",
   "execution_count": 9,
   "id": "39c586ee",
   "metadata": {
    "ExecuteTime": {
     "end_time": "2022-07-21T20:05:33.536264Z",
     "start_time": "2022-07-21T20:05:33.520258Z"
    }
   },
   "outputs": [],
   "source": [
    "w=pd.concat([w0,w1,w2])"
   ]
  },
  {
   "cell_type": "code",
   "execution_count": 10,
   "id": "9c693e9c",
   "metadata": {
    "ExecuteTime": {
     "end_time": "2022-07-21T20:05:36.741240Z",
     "start_time": "2022-07-21T20:05:36.717042Z"
    },
    "scrolled": true
   },
   "outputs": [
    {
     "data": {
      "text/html": [
       "<div>\n",
       "<style scoped>\n",
       "    .dataframe tbody tr th:only-of-type {\n",
       "        vertical-align: middle;\n",
       "    }\n",
       "\n",
       "    .dataframe tbody tr th {\n",
       "        vertical-align: top;\n",
       "    }\n",
       "\n",
       "    .dataframe thead th {\n",
       "        text-align: right;\n",
       "    }\n",
       "</style>\n",
       "<table border=\"1\" class=\"dataframe\">\n",
       "  <thead>\n",
       "    <tr style=\"text-align: right;\">\n",
       "      <th></th>\n",
       "      <th>name</th>\n",
       "      <th>datetime</th>\n",
       "      <th>tempmax</th>\n",
       "      <th>tempmin</th>\n",
       "      <th>temp</th>\n",
       "      <th>feelslikemax</th>\n",
       "      <th>feelslikemin</th>\n",
       "      <th>feelslike</th>\n",
       "      <th>dew</th>\n",
       "      <th>humidity</th>\n",
       "      <th>...</th>\n",
       "      <th>solarenergy</th>\n",
       "      <th>uvindex</th>\n",
       "      <th>severerisk</th>\n",
       "      <th>sunrise</th>\n",
       "      <th>sunset</th>\n",
       "      <th>moonphase</th>\n",
       "      <th>conditions</th>\n",
       "      <th>description</th>\n",
       "      <th>icon</th>\n",
       "      <th>stations</th>\n",
       "    </tr>\n",
       "  </thead>\n",
       "  <tbody>\n",
       "    <tr>\n",
       "      <th>0</th>\n",
       "      <td>sweden</td>\n",
       "      <td>2018-10-01</td>\n",
       "      <td>11.8</td>\n",
       "      <td>6.8</td>\n",
       "      <td>8.9</td>\n",
       "      <td>11.8</td>\n",
       "      <td>6.0</td>\n",
       "      <td>8.1</td>\n",
       "      <td>6.3</td>\n",
       "      <td>84.4</td>\n",
       "      <td>...</td>\n",
       "      <td>5.7</td>\n",
       "      <td>3</td>\n",
       "      <td>NaN</td>\n",
       "      <td>2018-10-01T06:52:15</td>\n",
       "      <td>2018-10-01T18:21:22</td>\n",
       "      <td>0.70</td>\n",
       "      <td>Rain</td>\n",
       "      <td>Clear conditions throughout the day with late ...</td>\n",
       "      <td>rain</td>\n",
       "      <td>02486099999,02464099999,02469099999,0248909999...</td>\n",
       "    </tr>\n",
       "    <tr>\n",
       "      <th>1</th>\n",
       "      <td>sweden</td>\n",
       "      <td>2018-10-02</td>\n",
       "      <td>9.7</td>\n",
       "      <td>3.9</td>\n",
       "      <td>7.3</td>\n",
       "      <td>8.3</td>\n",
       "      <td>3.9</td>\n",
       "      <td>6.3</td>\n",
       "      <td>5.3</td>\n",
       "      <td>87.2</td>\n",
       "      <td>...</td>\n",
       "      <td>4.7</td>\n",
       "      <td>2</td>\n",
       "      <td>NaN</td>\n",
       "      <td>2018-10-02T06:54:33</td>\n",
       "      <td>2018-10-02T18:18:25</td>\n",
       "      <td>0.76</td>\n",
       "      <td>Rain</td>\n",
       "      <td>Clear conditions throughout the day with rain.</td>\n",
       "      <td>rain</td>\n",
       "      <td>02486099999,02464099999,02469099999,0248909999...</td>\n",
       "    </tr>\n",
       "    <tr>\n",
       "      <th>2</th>\n",
       "      <td>sweden</td>\n",
       "      <td>2018-10-03</td>\n",
       "      <td>9.5</td>\n",
       "      <td>5.1</td>\n",
       "      <td>7.1</td>\n",
       "      <td>6.7</td>\n",
       "      <td>2.8</td>\n",
       "      <td>4.7</td>\n",
       "      <td>3.7</td>\n",
       "      <td>80.1</td>\n",
       "      <td>...</td>\n",
       "      <td>4.3</td>\n",
       "      <td>3</td>\n",
       "      <td>NaN</td>\n",
       "      <td>2018-10-03T06:56:52</td>\n",
       "      <td>2018-10-03T18:15:29</td>\n",
       "      <td>0.82</td>\n",
       "      <td>Rain</td>\n",
       "      <td>Clear conditions throughout the day with rain ...</td>\n",
       "      <td>rain</td>\n",
       "      <td>02486099999,02464099999,02469099999,0248909999...</td>\n",
       "    </tr>\n",
       "    <tr>\n",
       "      <th>3</th>\n",
       "      <td>sweden</td>\n",
       "      <td>2018-10-04</td>\n",
       "      <td>8.9</td>\n",
       "      <td>2.2</td>\n",
       "      <td>5.7</td>\n",
       "      <td>7.3</td>\n",
       "      <td>-0.2</td>\n",
       "      <td>4.0</td>\n",
       "      <td>1.8</td>\n",
       "      <td>77.2</td>\n",
       "      <td>...</td>\n",
       "      <td>4.5</td>\n",
       "      <td>4</td>\n",
       "      <td>NaN</td>\n",
       "      <td>2018-10-04T06:59:11</td>\n",
       "      <td>2018-10-04T18:12:33</td>\n",
       "      <td>0.87</td>\n",
       "      <td>Rain</td>\n",
       "      <td>Clear conditions throughout the day with late ...</td>\n",
       "      <td>rain</td>\n",
       "      <td>02486099999,02464099999,02469099999,0248909999...</td>\n",
       "    </tr>\n",
       "    <tr>\n",
       "      <th>4</th>\n",
       "      <td>sweden</td>\n",
       "      <td>2018-10-05</td>\n",
       "      <td>16.0</td>\n",
       "      <td>8.4</td>\n",
       "      <td>12.2</td>\n",
       "      <td>16.0</td>\n",
       "      <td>6.4</td>\n",
       "      <td>11.9</td>\n",
       "      <td>6.8</td>\n",
       "      <td>71.4</td>\n",
       "      <td>...</td>\n",
       "      <td>5.9</td>\n",
       "      <td>4</td>\n",
       "      <td>NaN</td>\n",
       "      <td>2018-10-05T07:01:31</td>\n",
       "      <td>2018-10-05T18:09:38</td>\n",
       "      <td>0.92</td>\n",
       "      <td>Rain</td>\n",
       "      <td>Clear conditions throughout the day with morni...</td>\n",
       "      <td>rain</td>\n",
       "      <td>02486099999,02464099999,02469099999,0248909999...</td>\n",
       "    </tr>\n",
       "  </tbody>\n",
       "</table>\n",
       "<p>5 rows × 33 columns</p>\n",
       "</div>"
      ],
      "text/plain": [
       "     name    datetime  tempmax  tempmin  temp  feelslikemax  feelslikemin  \\\n",
       "0  sweden  2018-10-01     11.8      6.8   8.9          11.8           6.0   \n",
       "1  sweden  2018-10-02      9.7      3.9   7.3           8.3           3.9   \n",
       "2  sweden  2018-10-03      9.5      5.1   7.1           6.7           2.8   \n",
       "3  sweden  2018-10-04      8.9      2.2   5.7           7.3          -0.2   \n",
       "4  sweden  2018-10-05     16.0      8.4  12.2          16.0           6.4   \n",
       "\n",
       "   feelslike  dew  humidity  ...  solarenergy  uvindex  severerisk  \\\n",
       "0        8.1  6.3      84.4  ...          5.7        3         NaN   \n",
       "1        6.3  5.3      87.2  ...          4.7        2         NaN   \n",
       "2        4.7  3.7      80.1  ...          4.3        3         NaN   \n",
       "3        4.0  1.8      77.2  ...          4.5        4         NaN   \n",
       "4       11.9  6.8      71.4  ...          5.9        4         NaN   \n",
       "\n",
       "               sunrise               sunset  moonphase  conditions  \\\n",
       "0  2018-10-01T06:52:15  2018-10-01T18:21:22       0.70        Rain   \n",
       "1  2018-10-02T06:54:33  2018-10-02T18:18:25       0.76        Rain   \n",
       "2  2018-10-03T06:56:52  2018-10-03T18:15:29       0.82        Rain   \n",
       "3  2018-10-04T06:59:11  2018-10-04T18:12:33       0.87        Rain   \n",
       "4  2018-10-05T07:01:31  2018-10-05T18:09:38       0.92        Rain   \n",
       "\n",
       "                                         description  icon  \\\n",
       "0  Clear conditions throughout the day with late ...  rain   \n",
       "1     Clear conditions throughout the day with rain.  rain   \n",
       "2  Clear conditions throughout the day with rain ...  rain   \n",
       "3  Clear conditions throughout the day with late ...  rain   \n",
       "4  Clear conditions throughout the day with morni...  rain   \n",
       "\n",
       "                                            stations  \n",
       "0  02486099999,02464099999,02469099999,0248909999...  \n",
       "1  02486099999,02464099999,02469099999,0248909999...  \n",
       "2  02486099999,02464099999,02469099999,0248909999...  \n",
       "3  02486099999,02464099999,02469099999,0248909999...  \n",
       "4  02486099999,02464099999,02469099999,0248909999...  \n",
       "\n",
       "[5 rows x 33 columns]"
      ]
     },
     "execution_count": 10,
     "metadata": {},
     "output_type": "execute_result"
    }
   ],
   "source": [
    "w.head()"
   ]
  },
  {
   "cell_type": "code",
   "execution_count": 11,
   "id": "2b425336",
   "metadata": {
    "ExecuteTime": {
     "end_time": "2022-07-21T20:05:45.206321Z",
     "start_time": "2022-07-21T20:05:45.189317Z"
    }
   },
   "outputs": [
    {
     "data": {
      "text/plain": [
       "Index(['name', 'datetime', 'tempmax', 'tempmin', 'temp', 'feelslikemax',\n",
       "       'feelslikemin', 'feelslike', 'dew', 'humidity', 'precip', 'precipprob',\n",
       "       'precipcover', 'preciptype', 'snow', 'snowdepth', 'windgust',\n",
       "       'windspeed', 'winddir', 'sealevelpressure', 'cloudcover', 'visibility',\n",
       "       'solarradiation', 'solarenergy', 'uvindex', 'severerisk', 'sunrise',\n",
       "       'sunset', 'moonphase', 'conditions', 'description', 'icon', 'stations'],\n",
       "      dtype='object')"
      ]
     },
     "execution_count": 11,
     "metadata": {},
     "output_type": "execute_result"
    }
   ],
   "source": [
    "w.columns"
   ]
  },
  {
   "cell_type": "code",
   "execution_count": 12,
   "id": "2d251b4e",
   "metadata": {
    "ExecuteTime": {
     "end_time": "2022-07-21T20:05:50.585334Z",
     "start_time": "2022-07-21T20:05:50.567341Z"
    }
   },
   "outputs": [],
   "source": [
    "weather=w.loc[:,['datetime','temp','precip','windspeed']].rename(columns={'datetime':'Date'})"
   ]
  },
  {
   "cell_type": "code",
   "execution_count": 13,
   "id": "03b9580a",
   "metadata": {
    "ExecuteTime": {
     "end_time": "2022-07-21T20:05:51.467330Z",
     "start_time": "2022-07-21T20:05:51.461338Z"
    }
   },
   "outputs": [],
   "source": [
    "# weather.columns=(['Date','temp','precip','windspeed'])"
   ]
  },
  {
   "cell_type": "code",
   "execution_count": 14,
   "id": "ef856b23",
   "metadata": {
    "ExecuteTime": {
     "end_time": "2022-07-21T20:05:52.200631Z",
     "start_time": "2022-07-21T20:05:52.194630Z"
    },
    "scrolled": true
   },
   "outputs": [],
   "source": [
    "weather.set_index('Date',drop=True,inplace=True)"
   ]
  },
  {
   "cell_type": "code",
   "execution_count": 15,
   "id": "b0ee7d12",
   "metadata": {
    "ExecuteTime": {
     "end_time": "2022-07-21T20:05:53.110371Z",
     "start_time": "2022-07-21T20:05:53.103370Z"
    }
   },
   "outputs": [],
   "source": [
    "weather.to_csv('./data/weather data/weather.csv')"
   ]
  },
  {
   "cell_type": "markdown",
   "id": "7a7a5388",
   "metadata": {},
   "source": [
    "# 6. Electric vehicle-Yearly"
   ]
  },
  {
   "cell_type": "code",
   "execution_count": 56,
   "id": "e8ecd0d5",
   "metadata": {
    "ExecuteTime": {
     "end_time": "2022-06-24T01:13:46.208774Z",
     "start_time": "2022-06-24T01:13:46.190690Z"
    }
   },
   "outputs": [],
   "source": [
    "EV=pd.read_csv('./data/EV/IEA-EV-data.csv')"
   ]
  },
  {
   "cell_type": "code",
   "execution_count": 58,
   "id": "0ec05816",
   "metadata": {
    "ExecuteTime": {
     "end_time": "2022-06-24T01:15:13.083417Z",
     "start_time": "2022-06-24T01:15:13.065629Z"
    }
   },
   "outputs": [],
   "source": [
    "SEV=EV[EV['region'].str.contains('Sweden')]"
   ]
  },
  {
   "cell_type": "code",
   "execution_count": 71,
   "id": "131c3c64",
   "metadata": {
    "ExecuteTime": {
     "end_time": "2022-06-24T01:22:42.233320Z",
     "start_time": "2022-06-24T01:22:42.222317Z"
    }
   },
   "outputs": [
    {
     "data": {
      "text/html": [
       "<div>\n",
       "<style scoped>\n",
       "    .dataframe tbody tr th:only-of-type {\n",
       "        vertical-align: middle;\n",
       "    }\n",
       "\n",
       "    .dataframe tbody tr th {\n",
       "        vertical-align: top;\n",
       "    }\n",
       "\n",
       "    .dataframe thead th {\n",
       "        text-align: right;\n",
       "    }\n",
       "</style>\n",
       "<table border=\"1\" class=\"dataframe\">\n",
       "  <thead>\n",
       "    <tr style=\"text-align: right;\">\n",
       "      <th></th>\n",
       "      <th>region</th>\n",
       "      <th>category</th>\n",
       "      <th>parameter</th>\n",
       "      <th>mode</th>\n",
       "      <th>powertrain</th>\n",
       "      <th>year</th>\n",
       "      <th>unit</th>\n",
       "      <th>value</th>\n",
       "    </tr>\n",
       "  </thead>\n",
       "  <tbody>\n",
       "    <tr>\n",
       "      <th>5693</th>\n",
       "      <td>Sweden</td>\n",
       "      <td>Historical</td>\n",
       "      <td>EV sales</td>\n",
       "      <td>Cars</td>\n",
       "      <td>BEV</td>\n",
       "      <td>2010</td>\n",
       "      <td>sales</td>\n",
       "      <td>4.000000</td>\n",
       "    </tr>\n",
       "    <tr>\n",
       "      <th>5694</th>\n",
       "      <td>Sweden</td>\n",
       "      <td>Historical</td>\n",
       "      <td>EV stock</td>\n",
       "      <td>Cars</td>\n",
       "      <td>BEV</td>\n",
       "      <td>2010</td>\n",
       "      <td>stock</td>\n",
       "      <td>4.000000</td>\n",
       "    </tr>\n",
       "    <tr>\n",
       "      <th>5695</th>\n",
       "      <td>Sweden</td>\n",
       "      <td>Historical</td>\n",
       "      <td>EV sales share</td>\n",
       "      <td>Cars</td>\n",
       "      <td>EV</td>\n",
       "      <td>2010</td>\n",
       "      <td>percent</td>\n",
       "      <td>0.001296</td>\n",
       "    </tr>\n",
       "    <tr>\n",
       "      <th>5696</th>\n",
       "      <td>Sweden</td>\n",
       "      <td>Historical</td>\n",
       "      <td>EV stock share</td>\n",
       "      <td>Cars</td>\n",
       "      <td>EV</td>\n",
       "      <td>2010</td>\n",
       "      <td>percent</td>\n",
       "      <td>0.000100</td>\n",
       "    </tr>\n",
       "    <tr>\n",
       "      <th>5697</th>\n",
       "      <td>Sweden</td>\n",
       "      <td>Historical</td>\n",
       "      <td>EV stock share</td>\n",
       "      <td>Cars</td>\n",
       "      <td>EV</td>\n",
       "      <td>2011</td>\n",
       "      <td>percent</td>\n",
       "      <td>0.004419</td>\n",
       "    </tr>\n",
       "  </tbody>\n",
       "</table>\n",
       "</div>"
      ],
      "text/plain": [
       "      region    category       parameter  mode powertrain  year     unit  \\\n",
       "5693  Sweden  Historical        EV sales  Cars        BEV  2010    sales   \n",
       "5694  Sweden  Historical        EV stock  Cars        BEV  2010    stock   \n",
       "5695  Sweden  Historical  EV sales share  Cars         EV  2010  percent   \n",
       "5696  Sweden  Historical  EV stock share  Cars         EV  2010  percent   \n",
       "5697  Sweden  Historical  EV stock share  Cars         EV  2011  percent   \n",
       "\n",
       "         value  \n",
       "5693  4.000000  \n",
       "5694  4.000000  \n",
       "5695  0.001296  \n",
       "5696  0.000100  \n",
       "5697  0.004419  "
      ]
     },
     "execution_count": 71,
     "metadata": {},
     "output_type": "execute_result"
    }
   ],
   "source": [
    "SEV.head()"
   ]
  },
  {
   "cell_type": "code",
   "execution_count": 62,
   "id": "ae99e72d",
   "metadata": {
    "ExecuteTime": {
     "end_time": "2022-06-24T01:18:48.043461Z",
     "start_time": "2022-06-24T01:18:48.033459Z"
    },
    "scrolled": true
   },
   "outputs": [
    {
     "data": {
      "text/plain": [
       "parameter\n",
       "EV stock              61\n",
       "EV sales              45\n",
       "EV stock share        38\n",
       "EV sales share        31\n",
       "EV charging points    20\n",
       "dtype: int64"
      ]
     },
     "execution_count": 62,
     "metadata": {},
     "output_type": "execute_result"
    }
   ],
   "source": [
    "SEV.value_counts('parameter')"
   ]
  },
  {
   "cell_type": "code",
   "execution_count": 60,
   "id": "2af38c91",
   "metadata": {
    "ExecuteTime": {
     "end_time": "2022-06-24T01:17:07.347547Z",
     "start_time": "2022-06-24T01:17:07.333544Z"
    }
   },
   "outputs": [],
   "source": [
    "gp=SEV.groupby('parameter')"
   ]
  },
  {
   "cell_type": "code",
   "execution_count": 61,
   "id": "6b56eb10",
   "metadata": {
    "ExecuteTime": {
     "end_time": "2022-06-24T01:18:04.331481Z",
     "start_time": "2022-06-24T01:18:04.314477Z"
    }
   },
   "outputs": [],
   "source": [
    "groups = {}\n",
    "for k, g in gp:\n",
    "    groups[k]=g  \n",
    "for i in groups:\n",
    "    groups[i]=pd.DataFrame(groups[i])"
   ]
  },
  {
   "cell_type": "code",
   "execution_count": 79,
   "id": "2f129689",
   "metadata": {
    "ExecuteTime": {
     "end_time": "2022-06-24T01:28:32.389431Z",
     "start_time": "2022-06-24T01:28:32.383427Z"
    }
   },
   "outputs": [],
   "source": [
    "EVshare=groups['EV sales share']"
   ]
  },
  {
   "cell_type": "code",
   "execution_count": 82,
   "id": "afedc68e",
   "metadata": {
    "ExecuteTime": {
     "end_time": "2022-06-24T01:28:53.448134Z",
     "start_time": "2022-06-24T01:28:53.428129Z"
    }
   },
   "outputs": [
    {
     "data": {
      "text/html": [
       "<div>\n",
       "<style scoped>\n",
       "    .dataframe tbody tr th:only-of-type {\n",
       "        vertical-align: middle;\n",
       "    }\n",
       "\n",
       "    .dataframe tbody tr th {\n",
       "        vertical-align: top;\n",
       "    }\n",
       "\n",
       "    .dataframe thead th {\n",
       "        text-align: right;\n",
       "    }\n",
       "</style>\n",
       "<table border=\"1\" class=\"dataframe\">\n",
       "  <thead>\n",
       "    <tr style=\"text-align: right;\">\n",
       "      <th></th>\n",
       "      <th>region</th>\n",
       "      <th>category</th>\n",
       "      <th>parameter</th>\n",
       "      <th>mode</th>\n",
       "      <th>powertrain</th>\n",
       "      <th>year</th>\n",
       "      <th>unit</th>\n",
       "      <th>value</th>\n",
       "    </tr>\n",
       "  </thead>\n",
       "  <tbody>\n",
       "    <tr>\n",
       "      <th>5695</th>\n",
       "      <td>Sweden</td>\n",
       "      <td>Historical</td>\n",
       "      <td>EV sales share</td>\n",
       "      <td>Cars</td>\n",
       "      <td>EV</td>\n",
       "      <td>2010</td>\n",
       "      <td>percent</td>\n",
       "      <td>0.001296</td>\n",
       "    </tr>\n",
       "    <tr>\n",
       "      <th>5698</th>\n",
       "      <td>Sweden</td>\n",
       "      <td>Historical</td>\n",
       "      <td>EV sales share</td>\n",
       "      <td>Cars</td>\n",
       "      <td>EV</td>\n",
       "      <td>2011</td>\n",
       "      <td>percent</td>\n",
       "      <td>0.054493</td>\n",
       "    </tr>\n",
       "    <tr>\n",
       "      <th>5700</th>\n",
       "      <td>Sweden</td>\n",
       "      <td>Historical</td>\n",
       "      <td>EV sales share</td>\n",
       "      <td>Vans</td>\n",
       "      <td>EV</td>\n",
       "      <td>2011</td>\n",
       "      <td>percent</td>\n",
       "      <td>0.019393</td>\n",
       "    </tr>\n",
       "    <tr>\n",
       "      <th>5715</th>\n",
       "      <td>Sweden</td>\n",
       "      <td>Historical</td>\n",
       "      <td>EV sales share</td>\n",
       "      <td>Vans</td>\n",
       "      <td>EV</td>\n",
       "      <td>2012</td>\n",
       "      <td>percent</td>\n",
       "      <td>0.699425</td>\n",
       "    </tr>\n",
       "    <tr>\n",
       "      <th>5717</th>\n",
       "      <td>Sweden</td>\n",
       "      <td>Historical</td>\n",
       "      <td>EV sales share</td>\n",
       "      <td>Cars</td>\n",
       "      <td>EV</td>\n",
       "      <td>2012</td>\n",
       "      <td>percent</td>\n",
       "      <td>0.307963</td>\n",
       "    </tr>\n",
       "  </tbody>\n",
       "</table>\n",
       "</div>"
      ],
      "text/plain": [
       "      region    category       parameter  mode powertrain  year     unit  \\\n",
       "5695  Sweden  Historical  EV sales share  Cars         EV  2010  percent   \n",
       "5698  Sweden  Historical  EV sales share  Cars         EV  2011  percent   \n",
       "5700  Sweden  Historical  EV sales share  Vans         EV  2011  percent   \n",
       "5715  Sweden  Historical  EV sales share  Vans         EV  2012  percent   \n",
       "5717  Sweden  Historical  EV sales share  Cars         EV  2012  percent   \n",
       "\n",
       "         value  \n",
       "5695  0.001296  \n",
       "5698  0.054493  \n",
       "5700  0.019393  \n",
       "5715  0.699425  \n",
       "5717  0.307963  "
      ]
     },
     "execution_count": 82,
     "metadata": {},
     "output_type": "execute_result"
    }
   ],
   "source": [
    "EVshare.head()"
   ]
  },
  {
   "cell_type": "code",
   "execution_count": 81,
   "id": "47b667b8",
   "metadata": {
    "ExecuteTime": {
     "end_time": "2022-06-24T01:28:47.669290Z",
     "start_time": "2022-06-24T01:28:47.662288Z"
    }
   },
   "outputs": [],
   "source": [
    "mode=EVshare.groupby('mode')"
   ]
  },
  {
   "cell_type": "code",
   "execution_count": 85,
   "id": "fd71a3b4",
   "metadata": {
    "ExecuteTime": {
     "end_time": "2022-06-24T01:29:42.539502Z",
     "start_time": "2022-06-24T01:29:42.523499Z"
    }
   },
   "outputs": [
    {
     "data": {
      "text/plain": [
       "mode\n",
       "Cars      12\n",
       "Vans      11\n",
       "Buses      6\n",
       "Trucks     2\n",
       "dtype: int64"
      ]
     },
     "execution_count": 85,
     "metadata": {},
     "output_type": "execute_result"
    }
   ],
   "source": [
    "EVshare.value_counts('mode')"
   ]
  },
  {
   "cell_type": "code",
   "execution_count": 84,
   "id": "f7f1e954",
   "metadata": {
    "ExecuteTime": {
     "end_time": "2022-06-24T01:29:31.604063Z",
     "start_time": "2022-06-24T01:29:31.601062Z"
    }
   },
   "outputs": [],
   "source": [
    "Mode = {}\n",
    "for k, g in mode:\n",
    "    Mode[k]=g  \n",
    "for i in Mode:\n",
    "    Mode[i]=pd.DataFrame(Mode[i])"
   ]
  },
  {
   "cell_type": "code",
   "execution_count": 87,
   "id": "3f6498b4",
   "metadata": {
    "ExecuteTime": {
     "end_time": "2022-06-24T01:29:59.532141Z",
     "start_time": "2022-06-24T01:29:59.525075Z"
    }
   },
   "outputs": [],
   "source": [
    "EVCarshare=Mode['Cars']"
   ]
  },
  {
   "cell_type": "code",
   "execution_count": 89,
   "id": "ca5e67b5",
   "metadata": {
    "ExecuteTime": {
     "end_time": "2022-06-24T01:32:52.804999Z",
     "start_time": "2022-06-24T01:32:52.794995Z"
    }
   },
   "outputs": [],
   "source": [
    "EVCarshare1=EVCarshare.loc[:,['year','value']]"
   ]
  },
  {
   "cell_type": "code",
   "execution_count": 98,
   "id": "4bfa0042",
   "metadata": {
    "ExecuteTime": {
     "end_time": "2022-06-24T01:39:10.265963Z",
     "start_time": "2022-06-24T01:39:10.257402Z"
    }
   },
   "outputs": [],
   "source": [
    "EVCarshare1.columns=(['Date','EVCar_Percent'])\n",
    "EVCarsaleshare=EVCarshare1.set_index('Date',drop=True)"
   ]
  },
  {
   "cell_type": "code",
   "execution_count": 100,
   "id": "aa7d2e03",
   "metadata": {
    "ExecuteTime": {
     "end_time": "2022-06-24T01:39:46.266582Z",
     "start_time": "2022-06-24T01:39:46.256578Z"
    }
   },
   "outputs": [],
   "source": [
    "EVCarsaleshare.to_csv('./data/EV/EVCarsaleshare.csv')"
   ]
  },
  {
   "cell_type": "markdown",
   "id": "cd4e11fd",
   "metadata": {},
   "source": [
    "# 7. GDP per capita-Quarterly"
   ]
  },
  {
   "cell_type": "code",
   "execution_count": 2,
   "id": "e1b9efac",
   "metadata": {
    "ExecuteTime": {
     "end_time": "2022-07-21T19:05:36.656985Z",
     "start_time": "2022-07-21T19:05:36.647983Z"
    }
   },
   "outputs": [],
   "source": [
    "GDP=pd.read_csv('./data/gdp per capita/QNA_21072022210426216.csv')"
   ]
  },
  {
   "cell_type": "code",
   "execution_count": 3,
   "id": "18cc9f77",
   "metadata": {
    "ExecuteTime": {
     "end_time": "2022-07-21T19:05:37.501178Z",
     "start_time": "2022-07-21T19:05:37.486175Z"
    }
   },
   "outputs": [
    {
     "data": {
      "text/html": [
       "<div>\n",
       "<style scoped>\n",
       "    .dataframe tbody tr th:only-of-type {\n",
       "        vertical-align: middle;\n",
       "    }\n",
       "\n",
       "    .dataframe tbody tr th {\n",
       "        vertical-align: top;\n",
       "    }\n",
       "\n",
       "    .dataframe thead th {\n",
       "        text-align: right;\n",
       "    }\n",
       "</style>\n",
       "<table border=\"1\" class=\"dataframe\">\n",
       "  <thead>\n",
       "    <tr style=\"text-align: right;\">\n",
       "      <th></th>\n",
       "      <th>LOCATION</th>\n",
       "      <th>Country</th>\n",
       "      <th>SUBJECT</th>\n",
       "      <th>Subject</th>\n",
       "      <th>MEASURE</th>\n",
       "      <th>Measure</th>\n",
       "      <th>FREQUENCY</th>\n",
       "      <th>Frequency</th>\n",
       "      <th>TIME</th>\n",
       "      <th>Period</th>\n",
       "      <th>Unit Code</th>\n",
       "      <th>Unit</th>\n",
       "      <th>PowerCode Code</th>\n",
       "      <th>PowerCode</th>\n",
       "      <th>Reference Period Code</th>\n",
       "      <th>Reference Period</th>\n",
       "      <th>Value</th>\n",
       "      <th>Flag Codes</th>\n",
       "      <th>Flags</th>\n",
       "    </tr>\n",
       "  </thead>\n",
       "  <tbody>\n",
       "    <tr>\n",
       "      <th>0</th>\n",
       "      <td>SWE</td>\n",
       "      <td>Sweden</td>\n",
       "      <td>B1_GE</td>\n",
       "      <td>Gross domestic product - expenditure approach</td>\n",
       "      <td>HCPCARSA</td>\n",
       "      <td>Per Head, US $, current prices, current PPPs, ...</td>\n",
       "      <td>Q</td>\n",
       "      <td>Quarterly</td>\n",
       "      <td>2018-Q4</td>\n",
       "      <td>Q4-2018</td>\n",
       "      <td>USD</td>\n",
       "      <td>US Dollar</td>\n",
       "      <td>0</td>\n",
       "      <td>Units</td>\n",
       "      <td>NaN</td>\n",
       "      <td>NaN</td>\n",
       "      <td>53873.6</td>\n",
       "      <td>NaN</td>\n",
       "      <td>NaN</td>\n",
       "    </tr>\n",
       "    <tr>\n",
       "      <th>1</th>\n",
       "      <td>SWE</td>\n",
       "      <td>Sweden</td>\n",
       "      <td>B1_GE</td>\n",
       "      <td>Gross domestic product - expenditure approach</td>\n",
       "      <td>HCPCARSA</td>\n",
       "      <td>Per Head, US $, current prices, current PPPs, ...</td>\n",
       "      <td>Q</td>\n",
       "      <td>Quarterly</td>\n",
       "      <td>2019-Q1</td>\n",
       "      <td>Q1-2019</td>\n",
       "      <td>USD</td>\n",
       "      <td>US Dollar</td>\n",
       "      <td>0</td>\n",
       "      <td>Units</td>\n",
       "      <td>NaN</td>\n",
       "      <td>NaN</td>\n",
       "      <td>53924.6</td>\n",
       "      <td>NaN</td>\n",
       "      <td>NaN</td>\n",
       "    </tr>\n",
       "    <tr>\n",
       "      <th>2</th>\n",
       "      <td>SWE</td>\n",
       "      <td>Sweden</td>\n",
       "      <td>B1_GE</td>\n",
       "      <td>Gross domestic product - expenditure approach</td>\n",
       "      <td>HCPCARSA</td>\n",
       "      <td>Per Head, US $, current prices, current PPPs, ...</td>\n",
       "      <td>Q</td>\n",
       "      <td>Quarterly</td>\n",
       "      <td>2019-Q2</td>\n",
       "      <td>Q2-2019</td>\n",
       "      <td>USD</td>\n",
       "      <td>US Dollar</td>\n",
       "      <td>0</td>\n",
       "      <td>Units</td>\n",
       "      <td>NaN</td>\n",
       "      <td>NaN</td>\n",
       "      <td>54322.4</td>\n",
       "      <td>NaN</td>\n",
       "      <td>NaN</td>\n",
       "    </tr>\n",
       "    <tr>\n",
       "      <th>3</th>\n",
       "      <td>SWE</td>\n",
       "      <td>Sweden</td>\n",
       "      <td>B1_GE</td>\n",
       "      <td>Gross domestic product - expenditure approach</td>\n",
       "      <td>HCPCARSA</td>\n",
       "      <td>Per Head, US $, current prices, current PPPs, ...</td>\n",
       "      <td>Q</td>\n",
       "      <td>Quarterly</td>\n",
       "      <td>2019-Q3</td>\n",
       "      <td>Q3-2019</td>\n",
       "      <td>USD</td>\n",
       "      <td>US Dollar</td>\n",
       "      <td>0</td>\n",
       "      <td>Units</td>\n",
       "      <td>NaN</td>\n",
       "      <td>NaN</td>\n",
       "      <td>54650.9</td>\n",
       "      <td>NaN</td>\n",
       "      <td>NaN</td>\n",
       "    </tr>\n",
       "    <tr>\n",
       "      <th>4</th>\n",
       "      <td>SWE</td>\n",
       "      <td>Sweden</td>\n",
       "      <td>B1_GE</td>\n",
       "      <td>Gross domestic product - expenditure approach</td>\n",
       "      <td>HCPCARSA</td>\n",
       "      <td>Per Head, US $, current prices, current PPPs, ...</td>\n",
       "      <td>Q</td>\n",
       "      <td>Quarterly</td>\n",
       "      <td>2019-Q4</td>\n",
       "      <td>Q4-2019</td>\n",
       "      <td>USD</td>\n",
       "      <td>US Dollar</td>\n",
       "      <td>0</td>\n",
       "      <td>Units</td>\n",
       "      <td>NaN</td>\n",
       "      <td>NaN</td>\n",
       "      <td>55500.8</td>\n",
       "      <td>NaN</td>\n",
       "      <td>NaN</td>\n",
       "    </tr>\n",
       "  </tbody>\n",
       "</table>\n",
       "</div>"
      ],
      "text/plain": [
       "  LOCATION Country SUBJECT                                        Subject  \\\n",
       "0      SWE  Sweden   B1_GE  Gross domestic product - expenditure approach   \n",
       "1      SWE  Sweden   B1_GE  Gross domestic product - expenditure approach   \n",
       "2      SWE  Sweden   B1_GE  Gross domestic product - expenditure approach   \n",
       "3      SWE  Sweden   B1_GE  Gross domestic product - expenditure approach   \n",
       "4      SWE  Sweden   B1_GE  Gross domestic product - expenditure approach   \n",
       "\n",
       "    MEASURE                                            Measure FREQUENCY  \\\n",
       "0  HCPCARSA  Per Head, US $, current prices, current PPPs, ...         Q   \n",
       "1  HCPCARSA  Per Head, US $, current prices, current PPPs, ...         Q   \n",
       "2  HCPCARSA  Per Head, US $, current prices, current PPPs, ...         Q   \n",
       "3  HCPCARSA  Per Head, US $, current prices, current PPPs, ...         Q   \n",
       "4  HCPCARSA  Per Head, US $, current prices, current PPPs, ...         Q   \n",
       "\n",
       "   Frequency     TIME   Period Unit Code       Unit  PowerCode Code PowerCode  \\\n",
       "0  Quarterly  2018-Q4  Q4-2018       USD  US Dollar               0     Units   \n",
       "1  Quarterly  2019-Q1  Q1-2019       USD  US Dollar               0     Units   \n",
       "2  Quarterly  2019-Q2  Q2-2019       USD  US Dollar               0     Units   \n",
       "3  Quarterly  2019-Q3  Q3-2019       USD  US Dollar               0     Units   \n",
       "4  Quarterly  2019-Q4  Q4-2019       USD  US Dollar               0     Units   \n",
       "\n",
       "   Reference Period Code  Reference Period    Value  Flag Codes  Flags  \n",
       "0                    NaN               NaN  53873.6         NaN    NaN  \n",
       "1                    NaN               NaN  53924.6         NaN    NaN  \n",
       "2                    NaN               NaN  54322.4         NaN    NaN  \n",
       "3                    NaN               NaN  54650.9         NaN    NaN  \n",
       "4                    NaN               NaN  55500.8         NaN    NaN  "
      ]
     },
     "execution_count": 3,
     "metadata": {},
     "output_type": "execute_result"
    }
   ],
   "source": [
    "GDP.head()"
   ]
  },
  {
   "cell_type": "code",
   "execution_count": 4,
   "id": "85b05403",
   "metadata": {
    "ExecuteTime": {
     "end_time": "2022-07-21T19:05:45.699479Z",
     "start_time": "2022-07-21T19:05:45.681475Z"
    }
   },
   "outputs": [],
   "source": [
    "GDP=GDP.loc[:,['TIME','Value']]"
   ]
  },
  {
   "cell_type": "code",
   "execution_count": 5,
   "id": "7b323b87",
   "metadata": {
    "ExecuteTime": {
     "end_time": "2022-07-21T19:05:46.160585Z",
     "start_time": "2022-07-21T19:05:46.144579Z"
    }
   },
   "outputs": [],
   "source": [
    "GDP.columns=(['Date','GDPpercapita (USD)'])"
   ]
  },
  {
   "cell_type": "code",
   "execution_count": 6,
   "id": "3a1dcb45",
   "metadata": {
    "ExecuteTime": {
     "end_time": "2022-07-21T19:05:46.624690Z",
     "start_time": "2022-07-21T19:05:46.611687Z"
    },
    "scrolled": true
   },
   "outputs": [],
   "source": [
    "GDP.set_index('Date',drop=True,inplace=True)"
   ]
  },
  {
   "cell_type": "code",
   "execution_count": 7,
   "id": "d88b4f87",
   "metadata": {
    "ExecuteTime": {
     "end_time": "2022-07-21T19:05:47.146810Z",
     "start_time": "2022-07-21T19:05:47.135808Z"
    }
   },
   "outputs": [],
   "source": [
    "GDP.to_csv('./data/gdp per capita/GDP.csv')"
   ]
  },
  {
   "cell_type": "code",
   "execution_count": null,
   "id": "04e21051",
   "metadata": {},
   "outputs": [],
   "source": []
  }
 ],
 "metadata": {
  "kernelspec": {
   "display_name": "Python 3 (ipykernel)",
   "language": "python",
   "name": "python3"
  },
  "language_info": {
   "codemirror_mode": {
    "name": "ipython",
    "version": 3
   },
   "file_extension": ".py",
   "mimetype": "text/x-python",
   "name": "python",
   "nbconvert_exporter": "python",
   "pygments_lexer": "ipython3",
   "version": "3.7.11"
  },
  "varInspector": {
   "cols": {
    "lenName": 16,
    "lenType": 16,
    "lenVar": 40
   },
   "kernels_config": {
    "python": {
     "delete_cmd_postfix": "",
     "delete_cmd_prefix": "del ",
     "library": "var_list.py",
     "varRefreshCmd": "print(var_dic_list())"
    },
    "r": {
     "delete_cmd_postfix": ") ",
     "delete_cmd_prefix": "rm(",
     "library": "var_list.r",
     "varRefreshCmd": "cat(var_dic_list()) "
    }
   },
   "types_to_exclude": [
    "module",
    "function",
    "builtin_function_or_method",
    "instance",
    "_Feature"
   ],
   "window_display": false
  }
 },
 "nbformat": 4,
 "nbformat_minor": 5
}
