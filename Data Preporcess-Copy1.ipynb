{
 "cells": [
  {
   "cell_type": "code",
   "execution_count": 1,
   "id": "1c52c3b2",
   "metadata": {
    "ExecuteTime": {
     "end_time": "2022-06-24T04:53:25.183846Z",
     "start_time": "2022-06-24T04:53:23.725879Z"
    }
   },
   "outputs": [],
   "source": [
    "import os\n",
    "import pandas as pd\n",
    "import numpy as np\n",
    "from scipy.interpolate import griddata\n",
    "# from nordpool import elspot, elbas\n",
    "# import datetime\n",
    "import matplotlib.pyplot as plt\n",
    "import seaborn as sns\n",
    "%matplotlib inline\n",
    "\n",
    "from scipy import stats\n",
    "from sklearn.preprocessing import MinMaxScaler,StandardScaler\n",
    "from scipy.stats import pearsonr,spearmanr,chi2, chi2_contingency\n",
    "# from calendar import day_abbr, month_abbr, mdays\n",
    "# import holidays\n",
    "\n",
    "# from fbprophet import Prophet\n",
    "from sklearn.metrics import mean_squared_error, r2_score, explained_variance_score"
   ]
  },
  {
   "cell_type": "code",
   "execution_count": 2,
   "id": "a4d420b8",
   "metadata": {
    "ExecuteTime": {
     "end_time": "2022-06-24T04:53:25.199807Z",
     "start_time": "2022-06-24T04:53:25.185847Z"
    }
   },
   "outputs": [],
   "source": [
    "price=pd.read_csv('./data/electricity price/price.csv')\n",
    "source=pd.read_csv('./data/source/sourceshare.csv')\n",
    "netimport=pd.read_csv('./data/net import/netimport.csv')\n",
    "carbon=pd.read_csv('./data/carbon/Carbon.csv')\n",
    "weather=pd.read_csv('./data/weather data/weather.csv')\n",
    "GDP=pd.read_csv('./data/gdp per capita/GDP.csv')\n",
    "EVCarsaleshare=pd.read_csv('./data/EV/EVCarsaleshare.csv')"
   ]
  },
  {
   "cell_type": "code",
   "execution_count": 3,
   "id": "c9ea9e73",
   "metadata": {
    "ExecuteTime": {
     "end_time": "2022-06-24T04:53:25.215811Z",
     "start_time": "2022-06-24T04:53:25.200808Z"
    }
   },
   "outputs": [
    {
     "data": {
      "text/plain": [
       "0       True\n",
       "1       True\n",
       "2       True\n",
       "3       True\n",
       "4       True\n",
       "        ... \n",
       "1237    True\n",
       "1238    True\n",
       "1239    True\n",
       "1240    True\n",
       "1241    True\n",
       "Length: 1242, dtype: bool"
      ]
     },
     "execution_count": 3,
     "metadata": {},
     "output_type": "execute_result"
    },
    {
     "data": {
      "text/plain": [
       "0       True\n",
       "1       True\n",
       "2       True\n",
       "3       True\n",
       "4       True\n",
       "        ... \n",
       "1237    True\n",
       "1238    True\n",
       "1239    True\n",
       "1240    True\n",
       "1241    True\n",
       "Length: 1242, dtype: bool"
      ]
     },
     "execution_count": 3,
     "metadata": {},
     "output_type": "execute_result"
    }
   ],
   "source": [
    "price['SE1']==price['SE2']"
   ]
  },
  {
   "cell_type": "markdown",
   "id": "6cb8f568",
   "metadata": {},
   "source": [
    "# Interpolation method for yearly/quarterly data\n",
    "Many time series analyses assume observations over uniform time intervals."
   ]
  },
  {
   "cell_type": "code",
   "execution_count": 4,
   "id": "7b7d1a79",
   "metadata": {
    "ExecuteTime": {
     "end_time": "2022-06-24T04:53:25.231112Z",
     "start_time": "2022-06-24T04:53:25.217812Z"
    }
   },
   "outputs": [],
   "source": [
    "Source=source[source['Year']>=2018]"
   ]
  },
  {
   "cell_type": "code",
   "execution_count": 5,
   "id": "12e3e21d",
   "metadata": {
    "ExecuteTime": {
     "end_time": "2022-06-24T04:53:25.246791Z",
     "start_time": "2022-06-24T04:53:25.232111Z"
    }
   },
   "outputs": [
    {
     "name": "stderr",
     "output_type": "stream",
     "text": [
      "D:\\ProgramData\\Anaconda3\\envs\\daps\\lib\\site-packages\\pandas\\core\\indexing.py:1773: SettingWithCopyWarning: \n",
      "A value is trying to be set on a copy of a slice from a DataFrame.\n",
      "Try using .loc[row_indexer,col_indexer] = value instead\n",
      "\n",
      "See the caveats in the documentation: https://pandas.pydata.org/pandas-docs/stable/user_guide/indexing.html#returning-a-view-versus-a-copy\n",
      "  self._setitem_single_column(ilocs[0], value, pi)\n",
      "D:\\ProgramData\\Anaconda3\\envs\\daps\\lib\\site-packages\\pandas\\core\\indexing.py:1773: SettingWithCopyWarning: \n",
      "A value is trying to be set on a copy of a slice from a DataFrame.\n",
      "Try using .loc[row_indexer,col_indexer] = value instead\n",
      "\n",
      "See the caveats in the documentation: https://pandas.pydata.org/pandas-docs/stable/user_guide/indexing.html#returning-a-view-versus-a-copy\n",
      "  self._setitem_single_column(ilocs[0], value, pi)\n"
     ]
    }
   ],
   "source": [
    "Source.loc[:,'Year']=[ str(year)+'-06-15' for year in Source.loc[:,'Year']]\n"
   ]
  },
  {
   "cell_type": "code",
   "execution_count": 6,
   "id": "d90001fc",
   "metadata": {
    "ExecuteTime": {
     "end_time": "2022-06-24T04:53:25.261795Z",
     "start_time": "2022-06-24T04:53:25.247791Z"
    }
   },
   "outputs": [
    {
     "data": {
      "text/html": [
       "<div>\n",
       "<style scoped>\n",
       "    .dataframe tbody tr th:only-of-type {\n",
       "        vertical-align: middle;\n",
       "    }\n",
       "\n",
       "    .dataframe tbody tr th {\n",
       "        vertical-align: top;\n",
       "    }\n",
       "\n",
       "    .dataframe thead th {\n",
       "        text-align: right;\n",
       "    }\n",
       "</style>\n",
       "<table border=\"1\" class=\"dataframe\">\n",
       "  <thead>\n",
       "    <tr style=\"text-align: right;\">\n",
       "      <th></th>\n",
       "      <th>Year</th>\n",
       "      <th>Coal (% electricity)</th>\n",
       "      <th>Gas (% electricity)</th>\n",
       "      <th>Hydro (% electricity)</th>\n",
       "      <th>Solar (% electricity)</th>\n",
       "      <th>Wind (% electricity)</th>\n",
       "      <th>Oil (% electricity)</th>\n",
       "      <th>Nuclear (% electricity)</th>\n",
       "      <th>Other renewables including bioenergy (% electricity)</th>\n",
       "    </tr>\n",
       "  </thead>\n",
       "  <tbody>\n",
       "    <tr>\n",
       "      <th>33</th>\n",
       "      <td>2018-06-15</td>\n",
       "      <td>0.208</td>\n",
       "      <td>0.233</td>\n",
       "      <td>38.082</td>\n",
       "      <td>0.251</td>\n",
       "      <td>10.174</td>\n",
       "      <td>1.800</td>\n",
       "      <td>41.963</td>\n",
       "      <td>7.291</td>\n",
       "    </tr>\n",
       "    <tr>\n",
       "      <th>34</th>\n",
       "      <td>2019-06-15</td>\n",
       "      <td>0.125</td>\n",
       "      <td>0.172</td>\n",
       "      <td>38.814</td>\n",
       "      <td>0.404</td>\n",
       "      <td>11.786</td>\n",
       "      <td>1.692</td>\n",
       "      <td>39.265</td>\n",
       "      <td>7.743</td>\n",
       "    </tr>\n",
       "    <tr>\n",
       "      <th>35</th>\n",
       "      <td>2020-06-15</td>\n",
       "      <td>0.000</td>\n",
       "      <td>0.061</td>\n",
       "      <td>44.197</td>\n",
       "      <td>0.641</td>\n",
       "      <td>16.808</td>\n",
       "      <td>1.429</td>\n",
       "      <td>30.038</td>\n",
       "      <td>6.826</td>\n",
       "    </tr>\n",
       "    <tr>\n",
       "      <th>36</th>\n",
       "      <td>2021-06-15</td>\n",
       "      <td>0.000</td>\n",
       "      <td>0.058</td>\n",
       "      <td>42.965</td>\n",
       "      <td>0.614</td>\n",
       "      <td>15.964</td>\n",
       "      <td>1.368</td>\n",
       "      <td>31.239</td>\n",
       "      <td>7.792</td>\n",
       "    </tr>\n",
       "  </tbody>\n",
       "</table>\n",
       "</div>"
      ],
      "text/plain": [
       "          Year  Coal (% electricity)  Gas (% electricity)  \\\n",
       "33  2018-06-15                 0.208                0.233   \n",
       "34  2019-06-15                 0.125                0.172   \n",
       "35  2020-06-15                 0.000                0.061   \n",
       "36  2021-06-15                 0.000                0.058   \n",
       "\n",
       "    Hydro (% electricity)  Solar (% electricity)  Wind (% electricity)  \\\n",
       "33                 38.082                  0.251                10.174   \n",
       "34                 38.814                  0.404                11.786   \n",
       "35                 44.197                  0.641                16.808   \n",
       "36                 42.965                  0.614                15.964   \n",
       "\n",
       "    Oil (% electricity)  Nuclear (% electricity)  \\\n",
       "33                1.800                   41.963   \n",
       "34                1.692                   39.265   \n",
       "35                1.429                   30.038   \n",
       "36                1.368                   31.239   \n",
       "\n",
       "    Other renewables including bioenergy (% electricity)  \n",
       "33                                              7.291     \n",
       "34                                              7.743     \n",
       "35                                              6.826     \n",
       "36                                              7.792     "
      ]
     },
     "execution_count": 6,
     "metadata": {},
     "output_type": "execute_result"
    },
    {
     "data": {
      "text/html": [
       "<div>\n",
       "<style scoped>\n",
       "    .dataframe tbody tr th:only-of-type {\n",
       "        vertical-align: middle;\n",
       "    }\n",
       "\n",
       "    .dataframe tbody tr th {\n",
       "        vertical-align: top;\n",
       "    }\n",
       "\n",
       "    .dataframe thead th {\n",
       "        text-align: right;\n",
       "    }\n",
       "</style>\n",
       "<table border=\"1\" class=\"dataframe\">\n",
       "  <thead>\n",
       "    <tr style=\"text-align: right;\">\n",
       "      <th></th>\n",
       "      <th>Year</th>\n",
       "      <th>Coal (% electricity)</th>\n",
       "      <th>Gas (% electricity)</th>\n",
       "      <th>Hydro (% electricity)</th>\n",
       "      <th>Solar (% electricity)</th>\n",
       "      <th>Wind (% electricity)</th>\n",
       "      <th>Oil (% electricity)</th>\n",
       "      <th>Nuclear (% electricity)</th>\n",
       "      <th>Other renewables including bioenergy (% electricity)</th>\n",
       "    </tr>\n",
       "  </thead>\n",
       "  <tbody>\n",
       "    <tr>\n",
       "      <th>33</th>\n",
       "      <td>2018-06-15</td>\n",
       "      <td>0.208</td>\n",
       "      <td>0.233</td>\n",
       "      <td>38.082</td>\n",
       "      <td>0.251</td>\n",
       "      <td>10.174</td>\n",
       "      <td>1.800</td>\n",
       "      <td>41.963</td>\n",
       "      <td>7.291</td>\n",
       "    </tr>\n",
       "    <tr>\n",
       "      <th>34</th>\n",
       "      <td>2019-06-15</td>\n",
       "      <td>0.125</td>\n",
       "      <td>0.172</td>\n",
       "      <td>38.814</td>\n",
       "      <td>0.404</td>\n",
       "      <td>11.786</td>\n",
       "      <td>1.692</td>\n",
       "      <td>39.265</td>\n",
       "      <td>7.743</td>\n",
       "    </tr>\n",
       "    <tr>\n",
       "      <th>35</th>\n",
       "      <td>2020-06-15</td>\n",
       "      <td>0.000</td>\n",
       "      <td>0.061</td>\n",
       "      <td>44.197</td>\n",
       "      <td>0.641</td>\n",
       "      <td>16.808</td>\n",
       "      <td>1.429</td>\n",
       "      <td>30.038</td>\n",
       "      <td>6.826</td>\n",
       "    </tr>\n",
       "    <tr>\n",
       "      <th>36</th>\n",
       "      <td>2021-06-15</td>\n",
       "      <td>0.000</td>\n",
       "      <td>0.058</td>\n",
       "      <td>42.965</td>\n",
       "      <td>0.614</td>\n",
       "      <td>15.964</td>\n",
       "      <td>1.368</td>\n",
       "      <td>31.239</td>\n",
       "      <td>7.792</td>\n",
       "    </tr>\n",
       "  </tbody>\n",
       "</table>\n",
       "</div>"
      ],
      "text/plain": [
       "          Year  Coal (% electricity)  Gas (% electricity)  \\\n",
       "33  2018-06-15                 0.208                0.233   \n",
       "34  2019-06-15                 0.125                0.172   \n",
       "35  2020-06-15                 0.000                0.061   \n",
       "36  2021-06-15                 0.000                0.058   \n",
       "\n",
       "    Hydro (% electricity)  Solar (% electricity)  Wind (% electricity)  \\\n",
       "33                 38.082                  0.251                10.174   \n",
       "34                 38.814                  0.404                11.786   \n",
       "35                 44.197                  0.641                16.808   \n",
       "36                 42.965                  0.614                15.964   \n",
       "\n",
       "    Oil (% electricity)  Nuclear (% electricity)  \\\n",
       "33                1.800                   41.963   \n",
       "34                1.692                   39.265   \n",
       "35                1.429                   30.038   \n",
       "36                1.368                   31.239   \n",
       "\n",
       "    Other renewables including bioenergy (% electricity)  \n",
       "33                                              7.291     \n",
       "34                                              7.743     \n",
       "35                                              6.826     \n",
       "36                                              7.792     "
      ]
     },
     "execution_count": 6,
     "metadata": {},
     "output_type": "execute_result"
    }
   ],
   "source": [
    "Source"
   ]
  },
  {
   "cell_type": "code",
   "execution_count": 7,
   "id": "cd0f4494",
   "metadata": {
    "ExecuteTime": {
     "end_time": "2022-06-24T04:53:25.277799Z",
     "start_time": "2022-06-24T04:53:25.262795Z"
    }
   },
   "outputs": [],
   "source": [
    "null= np.full( 9, np.nan)"
   ]
  },
  {
   "cell_type": "code",
   "execution_count": 8,
   "id": "da1d1c0c",
   "metadata": {
    "ExecuteTime": {
     "end_time": "2022-06-24T04:53:25.293307Z",
     "start_time": "2022-06-24T04:53:25.278799Z"
    }
   },
   "outputs": [],
   "source": [
    "S=pd.DataFrame(np.insert(Source.values,4, null, axis=0))\n",
    "S.columns = Source.columns\n",
    "S.iloc[4,0]='2022-04-30'"
   ]
  },
  {
   "cell_type": "code",
   "execution_count": 9,
   "id": "295c2c13",
   "metadata": {
    "ExecuteTime": {
     "end_time": "2022-06-24T04:53:25.309310Z",
     "start_time": "2022-06-24T04:53:25.294307Z"
    }
   },
   "outputs": [
    {
     "data": {
      "text/html": [
       "<div>\n",
       "<style scoped>\n",
       "    .dataframe tbody tr th:only-of-type {\n",
       "        vertical-align: middle;\n",
       "    }\n",
       "\n",
       "    .dataframe tbody tr th {\n",
       "        vertical-align: top;\n",
       "    }\n",
       "\n",
       "    .dataframe thead th {\n",
       "        text-align: right;\n",
       "    }\n",
       "</style>\n",
       "<table border=\"1\" class=\"dataframe\">\n",
       "  <thead>\n",
       "    <tr style=\"text-align: right;\">\n",
       "      <th></th>\n",
       "      <th>Year</th>\n",
       "      <th>Coal (% electricity)</th>\n",
       "      <th>Gas (% electricity)</th>\n",
       "      <th>Hydro (% electricity)</th>\n",
       "      <th>Solar (% electricity)</th>\n",
       "      <th>Wind (% electricity)</th>\n",
       "      <th>Oil (% electricity)</th>\n",
       "      <th>Nuclear (% electricity)</th>\n",
       "      <th>Other renewables including bioenergy (% electricity)</th>\n",
       "    </tr>\n",
       "  </thead>\n",
       "  <tbody>\n",
       "    <tr>\n",
       "      <th>0</th>\n",
       "      <td>2018-06-15</td>\n",
       "      <td>0.208</td>\n",
       "      <td>0.233</td>\n",
       "      <td>38.082</td>\n",
       "      <td>0.251</td>\n",
       "      <td>10.174</td>\n",
       "      <td>1.8</td>\n",
       "      <td>41.963</td>\n",
       "      <td>7.291</td>\n",
       "    </tr>\n",
       "    <tr>\n",
       "      <th>1</th>\n",
       "      <td>2019-06-15</td>\n",
       "      <td>0.125</td>\n",
       "      <td>0.172</td>\n",
       "      <td>38.814</td>\n",
       "      <td>0.404</td>\n",
       "      <td>11.786</td>\n",
       "      <td>1.692</td>\n",
       "      <td>39.265</td>\n",
       "      <td>7.743</td>\n",
       "    </tr>\n",
       "    <tr>\n",
       "      <th>2</th>\n",
       "      <td>2020-06-15</td>\n",
       "      <td>0.0</td>\n",
       "      <td>0.061</td>\n",
       "      <td>44.197</td>\n",
       "      <td>0.641</td>\n",
       "      <td>16.808</td>\n",
       "      <td>1.429</td>\n",
       "      <td>30.038</td>\n",
       "      <td>6.826</td>\n",
       "    </tr>\n",
       "    <tr>\n",
       "      <th>3</th>\n",
       "      <td>2021-06-15</td>\n",
       "      <td>0.0</td>\n",
       "      <td>0.058</td>\n",
       "      <td>42.965</td>\n",
       "      <td>0.614</td>\n",
       "      <td>15.964</td>\n",
       "      <td>1.368</td>\n",
       "      <td>31.239</td>\n",
       "      <td>7.792</td>\n",
       "    </tr>\n",
       "    <tr>\n",
       "      <th>4</th>\n",
       "      <td>2022-04-30</td>\n",
       "      <td>NaN</td>\n",
       "      <td>NaN</td>\n",
       "      <td>NaN</td>\n",
       "      <td>NaN</td>\n",
       "      <td>NaN</td>\n",
       "      <td>NaN</td>\n",
       "      <td>NaN</td>\n",
       "      <td>NaN</td>\n",
       "    </tr>\n",
       "  </tbody>\n",
       "</table>\n",
       "</div>"
      ],
      "text/plain": [
       "         Year Coal (% electricity) Gas (% electricity) Hydro (% electricity)  \\\n",
       "0  2018-06-15                0.208               0.233                38.082   \n",
       "1  2019-06-15                0.125               0.172                38.814   \n",
       "2  2020-06-15                  0.0               0.061                44.197   \n",
       "3  2021-06-15                  0.0               0.058                42.965   \n",
       "4  2022-04-30                  NaN                 NaN                   NaN   \n",
       "\n",
       "  Solar (% electricity) Wind (% electricity) Oil (% electricity)  \\\n",
       "0                 0.251               10.174                 1.8   \n",
       "1                 0.404               11.786               1.692   \n",
       "2                 0.641               16.808               1.429   \n",
       "3                 0.614               15.964               1.368   \n",
       "4                   NaN                  NaN                 NaN   \n",
       "\n",
       "  Nuclear (% electricity) Other renewables including bioenergy (% electricity)  \n",
       "0                  41.963                                              7.291    \n",
       "1                  39.265                                              7.743    \n",
       "2                  30.038                                              6.826    \n",
       "3                  31.239                                              7.792    \n",
       "4                     NaN                                                NaN    "
      ]
     },
     "execution_count": 9,
     "metadata": {},
     "output_type": "execute_result"
    },
    {
     "data": {
      "text/html": [
       "<div>\n",
       "<style scoped>\n",
       "    .dataframe tbody tr th:only-of-type {\n",
       "        vertical-align: middle;\n",
       "    }\n",
       "\n",
       "    .dataframe tbody tr th {\n",
       "        vertical-align: top;\n",
       "    }\n",
       "\n",
       "    .dataframe thead th {\n",
       "        text-align: right;\n",
       "    }\n",
       "</style>\n",
       "<table border=\"1\" class=\"dataframe\">\n",
       "  <thead>\n",
       "    <tr style=\"text-align: right;\">\n",
       "      <th></th>\n",
       "      <th>Year</th>\n",
       "      <th>Coal (% electricity)</th>\n",
       "      <th>Gas (% electricity)</th>\n",
       "      <th>Hydro (% electricity)</th>\n",
       "      <th>Solar (% electricity)</th>\n",
       "      <th>Wind (% electricity)</th>\n",
       "      <th>Oil (% electricity)</th>\n",
       "      <th>Nuclear (% electricity)</th>\n",
       "      <th>Other renewables including bioenergy (% electricity)</th>\n",
       "    </tr>\n",
       "  </thead>\n",
       "  <tbody>\n",
       "    <tr>\n",
       "      <th>0</th>\n",
       "      <td>2018-06-15</td>\n",
       "      <td>0.208</td>\n",
       "      <td>0.233</td>\n",
       "      <td>38.082</td>\n",
       "      <td>0.251</td>\n",
       "      <td>10.174</td>\n",
       "      <td>1.8</td>\n",
       "      <td>41.963</td>\n",
       "      <td>7.291</td>\n",
       "    </tr>\n",
       "    <tr>\n",
       "      <th>1</th>\n",
       "      <td>2019-06-15</td>\n",
       "      <td>0.125</td>\n",
       "      <td>0.172</td>\n",
       "      <td>38.814</td>\n",
       "      <td>0.404</td>\n",
       "      <td>11.786</td>\n",
       "      <td>1.692</td>\n",
       "      <td>39.265</td>\n",
       "      <td>7.743</td>\n",
       "    </tr>\n",
       "    <tr>\n",
       "      <th>2</th>\n",
       "      <td>2020-06-15</td>\n",
       "      <td>0.0</td>\n",
       "      <td>0.061</td>\n",
       "      <td>44.197</td>\n",
       "      <td>0.641</td>\n",
       "      <td>16.808</td>\n",
       "      <td>1.429</td>\n",
       "      <td>30.038</td>\n",
       "      <td>6.826</td>\n",
       "    </tr>\n",
       "    <tr>\n",
       "      <th>3</th>\n",
       "      <td>2021-06-15</td>\n",
       "      <td>0.0</td>\n",
       "      <td>0.058</td>\n",
       "      <td>42.965</td>\n",
       "      <td>0.614</td>\n",
       "      <td>15.964</td>\n",
       "      <td>1.368</td>\n",
       "      <td>31.239</td>\n",
       "      <td>7.792</td>\n",
       "    </tr>\n",
       "    <tr>\n",
       "      <th>4</th>\n",
       "      <td>2022-04-30</td>\n",
       "      <td>NaN</td>\n",
       "      <td>NaN</td>\n",
       "      <td>NaN</td>\n",
       "      <td>NaN</td>\n",
       "      <td>NaN</td>\n",
       "      <td>NaN</td>\n",
       "      <td>NaN</td>\n",
       "      <td>NaN</td>\n",
       "    </tr>\n",
       "  </tbody>\n",
       "</table>\n",
       "</div>"
      ],
      "text/plain": [
       "         Year Coal (% electricity) Gas (% electricity) Hydro (% electricity)  \\\n",
       "0  2018-06-15                0.208               0.233                38.082   \n",
       "1  2019-06-15                0.125               0.172                38.814   \n",
       "2  2020-06-15                  0.0               0.061                44.197   \n",
       "3  2021-06-15                  0.0               0.058                42.965   \n",
       "4  2022-04-30                  NaN                 NaN                   NaN   \n",
       "\n",
       "  Solar (% electricity) Wind (% electricity) Oil (% electricity)  \\\n",
       "0                 0.251               10.174                 1.8   \n",
       "1                 0.404               11.786               1.692   \n",
       "2                 0.641               16.808               1.429   \n",
       "3                 0.614               15.964               1.368   \n",
       "4                   NaN                  NaN                 NaN   \n",
       "\n",
       "  Nuclear (% electricity) Other renewables including bioenergy (% electricity)  \n",
       "0                  41.963                                              7.291    \n",
       "1                  39.265                                              7.743    \n",
       "2                  30.038                                              6.826    \n",
       "3                  31.239                                              7.792    \n",
       "4                     NaN                                                NaN    "
      ]
     },
     "execution_count": 9,
     "metadata": {},
     "output_type": "execute_result"
    }
   ],
   "source": [
    "S"
   ]
  },
  {
   "cell_type": "code",
   "execution_count": 10,
   "id": "6fc765f5",
   "metadata": {
    "ExecuteTime": {
     "end_time": "2022-06-24T04:53:25.325314Z",
     "start_time": "2022-06-24T04:53:25.311311Z"
    },
    "scrolled": true
   },
   "outputs": [],
   "source": [
    "S.index=pd.to_datetime(S['Year'].astype('str'))\n",
    "del S['Year']"
   ]
  },
  {
   "cell_type": "code",
   "execution_count": 11,
   "id": "dd9d08bb",
   "metadata": {
    "ExecuteTime": {
     "end_time": "2022-06-24T04:53:25.357321Z",
     "start_time": "2022-06-24T04:53:25.326315Z"
    }
   },
   "outputs": [],
   "source": [
    "import numpy as np\n",
    "from scipy.interpolate import griddata\n",
    "\n",
    "def func(x, y):\n",
    "    return x*(1-x)*np.cos(4*np.pi*x) * np.sin(4*np.pi*y**2)**2\n",
    "\n",
    "grid_x, grid_y = np.mgrid[0:1:100j, 0:1:200j]\n",
    "\n",
    "points = np.random.rand(100, 2)\n",
    "values = func(points[:,0], points[:,1])\n",
    "\n",
    "grid_z0 = griddata(points, values, (grid_x, grid_y), method='nearest')\n",
    "grid_z1 = griddata(points, values, (grid_x, grid_y), method='linear')\n",
    "\n",
    "fill_value = 123  # Whatever you like\n",
    "grid_z0[np.isnan(grid_z1)] = fill_value"
   ]
  },
  {
   "cell_type": "code",
   "execution_count": 12,
   "id": "fa9a5c56",
   "metadata": {
    "ExecuteTime": {
     "end_time": "2022-06-24T04:53:25.372830Z",
     "start_time": "2022-06-24T04:53:25.358321Z"
    }
   },
   "outputs": [
    {
     "data": {
      "text/plain": [
       "array([[123., 123., 123., ..., 123., 123., 123.],\n",
       "       [123., 123., 123., ..., 123., 123., 123.],\n",
       "       [123., 123., 123., ..., 123., 123., 123.],\n",
       "       ...,\n",
       "       [123., 123., 123., ..., 123., 123., 123.],\n",
       "       [123., 123., 123., ..., 123., 123., 123.],\n",
       "       [123., 123., 123., ..., 123., 123., 123.]])"
      ]
     },
     "execution_count": 12,
     "metadata": {},
     "output_type": "execute_result"
    },
    {
     "data": {
      "text/plain": [
       "array([[123., 123., 123., ..., 123., 123., 123.],\n",
       "       [123., 123., 123., ..., 123., 123., 123.],\n",
       "       [123., 123., 123., ..., 123., 123., 123.],\n",
       "       ...,\n",
       "       [123., 123., 123., ..., 123., 123., 123.],\n",
       "       [123., 123., 123., ..., 123., 123., 123.],\n",
       "       [123., 123., 123., ..., 123., 123., 123.]])"
      ]
     },
     "execution_count": 12,
     "metadata": {},
     "output_type": "execute_result"
    }
   ],
   "source": [
    "grid_z0"
   ]
  },
  {
   "cell_type": "code",
   "execution_count": 13,
   "id": "f2e1d954",
   "metadata": {
    "ExecuteTime": {
     "end_time": "2022-06-24T04:53:25.388833Z",
     "start_time": "2022-06-24T04:53:25.374834Z"
    }
   },
   "outputs": [],
   "source": [
    "# S_RE = S.resample('1D')\n",
    "\n",
    "# S_RE = S_RE.interpolate(method='time')"
   ]
  },
  {
   "cell_type": "code",
   "execution_count": 14,
   "id": "6e86e48a",
   "metadata": {
    "ExecuteTime": {
     "end_time": "2022-06-24T04:53:25.404483Z",
     "start_time": "2022-06-24T04:53:25.389834Z"
    }
   },
   "outputs": [],
   "source": [
    "# print(S_RE)"
   ]
  },
  {
   "cell_type": "code",
   "execution_count": 15,
   "id": "0cce08d6",
   "metadata": {
    "ExecuteTime": {
     "end_time": "2022-06-24T04:53:25.419840Z",
     "start_time": "2022-06-24T04:53:25.405837Z"
    }
   },
   "outputs": [],
   "source": [
    "P=price[['Date','SE1']]"
   ]
  },
  {
   "cell_type": "code",
   "execution_count": 16,
   "id": "e9c01b63",
   "metadata": {
    "ExecuteTime": {
     "end_time": "2022-06-24T04:53:25.434844Z",
     "start_time": "2022-06-24T04:53:25.420841Z"
    }
   },
   "outputs": [],
   "source": [
    "P=P[P['Date']<='2022-04-30']"
   ]
  },
  {
   "cell_type": "code",
   "execution_count": 17,
   "id": "20fba14b",
   "metadata": {
    "ExecuteTime": {
     "end_time": "2022-06-24T04:53:25.450847Z",
     "start_time": "2022-06-24T04:53:25.435844Z"
    }
   },
   "outputs": [],
   "source": [
    "W=weather[weather['Date']<='2022-04-30']"
   ]
  },
  {
   "cell_type": "code",
   "execution_count": 18,
   "id": "84f102e8",
   "metadata": {
    "ExecuteTime": {
     "end_time": "2022-06-24T04:53:25.466850Z",
     "start_time": "2022-06-24T04:53:25.452848Z"
    }
   },
   "outputs": [
    {
     "data": {
      "text/html": [
       "<div>\n",
       "<style scoped>\n",
       "    .dataframe tbody tr th:only-of-type {\n",
       "        vertical-align: middle;\n",
       "    }\n",
       "\n",
       "    .dataframe tbody tr th {\n",
       "        vertical-align: top;\n",
       "    }\n",
       "\n",
       "    .dataframe thead th {\n",
       "        text-align: right;\n",
       "    }\n",
       "</style>\n",
       "<table border=\"1\" class=\"dataframe\">\n",
       "  <thead>\n",
       "    <tr style=\"text-align: right;\">\n",
       "      <th></th>\n",
       "      <th>Date</th>\n",
       "      <th>temp</th>\n",
       "      <th>precip</th>\n",
       "      <th>windspeed</th>\n",
       "    </tr>\n",
       "  </thead>\n",
       "  <tbody>\n",
       "    <tr>\n",
       "      <th>0</th>\n",
       "      <td>2019-01-01</td>\n",
       "      <td>3.9</td>\n",
       "      <td>0.46</td>\n",
       "      <td>34.5</td>\n",
       "    </tr>\n",
       "    <tr>\n",
       "      <th>1</th>\n",
       "      <td>2019-01-02</td>\n",
       "      <td>-1.1</td>\n",
       "      <td>0.29</td>\n",
       "      <td>46.6</td>\n",
       "    </tr>\n",
       "    <tr>\n",
       "      <th>2</th>\n",
       "      <td>2019-01-03</td>\n",
       "      <td>-2.7</td>\n",
       "      <td>0.69</td>\n",
       "      <td>12.9</td>\n",
       "    </tr>\n",
       "    <tr>\n",
       "      <th>3</th>\n",
       "      <td>2019-01-04</td>\n",
       "      <td>2.7</td>\n",
       "      <td>1.64</td>\n",
       "      <td>18.5</td>\n",
       "    </tr>\n",
       "    <tr>\n",
       "      <th>4</th>\n",
       "      <td>2019-01-05</td>\n",
       "      <td>0.8</td>\n",
       "      <td>0.17</td>\n",
       "      <td>15.6</td>\n",
       "    </tr>\n",
       "    <tr>\n",
       "      <th>...</th>\n",
       "      <td>...</td>\n",
       "      <td>...</td>\n",
       "      <td>...</td>\n",
       "      <td>...</td>\n",
       "    </tr>\n",
       "    <tr>\n",
       "      <th>1211</th>\n",
       "      <td>2022-04-26</td>\n",
       "      <td>7.3</td>\n",
       "      <td>0.00</td>\n",
       "      <td>19.0</td>\n",
       "    </tr>\n",
       "    <tr>\n",
       "      <th>1212</th>\n",
       "      <td>2022-04-27</td>\n",
       "      <td>4.9</td>\n",
       "      <td>0.00</td>\n",
       "      <td>20.2</td>\n",
       "    </tr>\n",
       "    <tr>\n",
       "      <th>1213</th>\n",
       "      <td>2022-04-28</td>\n",
       "      <td>7.0</td>\n",
       "      <td>0.00</td>\n",
       "      <td>26.3</td>\n",
       "    </tr>\n",
       "    <tr>\n",
       "      <th>1214</th>\n",
       "      <td>2022-04-29</td>\n",
       "      <td>6.0</td>\n",
       "      <td>0.00</td>\n",
       "      <td>16.4</td>\n",
       "    </tr>\n",
       "    <tr>\n",
       "      <th>1215</th>\n",
       "      <td>2022-04-30</td>\n",
       "      <td>7.9</td>\n",
       "      <td>0.00</td>\n",
       "      <td>16.6</td>\n",
       "    </tr>\n",
       "  </tbody>\n",
       "</table>\n",
       "<p>1216 rows × 4 columns</p>\n",
       "</div>"
      ],
      "text/plain": [
       "            Date  temp  precip  windspeed\n",
       "0     2019-01-01   3.9    0.46       34.5\n",
       "1     2019-01-02  -1.1    0.29       46.6\n",
       "2     2019-01-03  -2.7    0.69       12.9\n",
       "3     2019-01-04   2.7    1.64       18.5\n",
       "4     2019-01-05   0.8    0.17       15.6\n",
       "...          ...   ...     ...        ...\n",
       "1211  2022-04-26   7.3    0.00       19.0\n",
       "1212  2022-04-27   4.9    0.00       20.2\n",
       "1213  2022-04-28   7.0    0.00       26.3\n",
       "1214  2022-04-29   6.0    0.00       16.4\n",
       "1215  2022-04-30   7.9    0.00       16.6\n",
       "\n",
       "[1216 rows x 4 columns]"
      ]
     },
     "execution_count": 18,
     "metadata": {},
     "output_type": "execute_result"
    },
    {
     "data": {
      "text/html": [
       "<div>\n",
       "<style scoped>\n",
       "    .dataframe tbody tr th:only-of-type {\n",
       "        vertical-align: middle;\n",
       "    }\n",
       "\n",
       "    .dataframe tbody tr th {\n",
       "        vertical-align: top;\n",
       "    }\n",
       "\n",
       "    .dataframe thead th {\n",
       "        text-align: right;\n",
       "    }\n",
       "</style>\n",
       "<table border=\"1\" class=\"dataframe\">\n",
       "  <thead>\n",
       "    <tr style=\"text-align: right;\">\n",
       "      <th></th>\n",
       "      <th>Date</th>\n",
       "      <th>temp</th>\n",
       "      <th>precip</th>\n",
       "      <th>windspeed</th>\n",
       "    </tr>\n",
       "  </thead>\n",
       "  <tbody>\n",
       "    <tr>\n",
       "      <th>0</th>\n",
       "      <td>2019-01-01</td>\n",
       "      <td>3.9</td>\n",
       "      <td>0.46</td>\n",
       "      <td>34.5</td>\n",
       "    </tr>\n",
       "    <tr>\n",
       "      <th>1</th>\n",
       "      <td>2019-01-02</td>\n",
       "      <td>-1.1</td>\n",
       "      <td>0.29</td>\n",
       "      <td>46.6</td>\n",
       "    </tr>\n",
       "    <tr>\n",
       "      <th>2</th>\n",
       "      <td>2019-01-03</td>\n",
       "      <td>-2.7</td>\n",
       "      <td>0.69</td>\n",
       "      <td>12.9</td>\n",
       "    </tr>\n",
       "    <tr>\n",
       "      <th>3</th>\n",
       "      <td>2019-01-04</td>\n",
       "      <td>2.7</td>\n",
       "      <td>1.64</td>\n",
       "      <td>18.5</td>\n",
       "    </tr>\n",
       "    <tr>\n",
       "      <th>4</th>\n",
       "      <td>2019-01-05</td>\n",
       "      <td>0.8</td>\n",
       "      <td>0.17</td>\n",
       "      <td>15.6</td>\n",
       "    </tr>\n",
       "    <tr>\n",
       "      <th>...</th>\n",
       "      <td>...</td>\n",
       "      <td>...</td>\n",
       "      <td>...</td>\n",
       "      <td>...</td>\n",
       "    </tr>\n",
       "    <tr>\n",
       "      <th>1211</th>\n",
       "      <td>2022-04-26</td>\n",
       "      <td>7.3</td>\n",
       "      <td>0.00</td>\n",
       "      <td>19.0</td>\n",
       "    </tr>\n",
       "    <tr>\n",
       "      <th>1212</th>\n",
       "      <td>2022-04-27</td>\n",
       "      <td>4.9</td>\n",
       "      <td>0.00</td>\n",
       "      <td>20.2</td>\n",
       "    </tr>\n",
       "    <tr>\n",
       "      <th>1213</th>\n",
       "      <td>2022-04-28</td>\n",
       "      <td>7.0</td>\n",
       "      <td>0.00</td>\n",
       "      <td>26.3</td>\n",
       "    </tr>\n",
       "    <tr>\n",
       "      <th>1214</th>\n",
       "      <td>2022-04-29</td>\n",
       "      <td>6.0</td>\n",
       "      <td>0.00</td>\n",
       "      <td>16.4</td>\n",
       "    </tr>\n",
       "    <tr>\n",
       "      <th>1215</th>\n",
       "      <td>2022-04-30</td>\n",
       "      <td>7.9</td>\n",
       "      <td>0.00</td>\n",
       "      <td>16.6</td>\n",
       "    </tr>\n",
       "  </tbody>\n",
       "</table>\n",
       "<p>1216 rows × 4 columns</p>\n",
       "</div>"
      ],
      "text/plain": [
       "            Date  temp  precip  windspeed\n",
       "0     2019-01-01   3.9    0.46       34.5\n",
       "1     2019-01-02  -1.1    0.29       46.6\n",
       "2     2019-01-03  -2.7    0.69       12.9\n",
       "3     2019-01-04   2.7    1.64       18.5\n",
       "4     2019-01-05   0.8    0.17       15.6\n",
       "...          ...   ...     ...        ...\n",
       "1211  2022-04-26   7.3    0.00       19.0\n",
       "1212  2022-04-27   4.9    0.00       20.2\n",
       "1213  2022-04-28   7.0    0.00       26.3\n",
       "1214  2022-04-29   6.0    0.00       16.4\n",
       "1215  2022-04-30   7.9    0.00       16.6\n",
       "\n",
       "[1216 rows x 4 columns]"
      ]
     },
     "execution_count": 18,
     "metadata": {},
     "output_type": "execute_result"
    }
   ],
   "source": [
    "W"
   ]
  },
  {
   "cell_type": "code",
   "execution_count": 28,
   "id": "c6a3c9e3",
   "metadata": {
    "ExecuteTime": {
     "end_time": "2022-06-24T04:54:40.452066Z",
     "start_time": "2022-06-24T04:54:40.447065Z"
    }
   },
   "outputs": [],
   "source": [
    "table=pd.merge(P,W).rename(columns = {'SE1':'Price'})"
   ]
  },
  {
   "cell_type": "code",
   "execution_count": 20,
   "id": "1975b338",
   "metadata": {
    "ExecuteTime": {
     "end_time": "2022-06-24T04:53:25.498492Z",
     "start_time": "2022-06-24T04:53:25.483789Z"
    },
    "scrolled": true
   },
   "outputs": [],
   "source": [
    "Price=table['Price']\n",
    "temp=table['temp']\n",
    "precip=table['precip']\n",
    "windspeed=table['windspeed']"
   ]
  },
  {
   "cell_type": "markdown",
   "id": "18f14b08",
   "metadata": {},
   "source": [
    "temp"
   ]
  },
  {
   "cell_type": "code",
   "execution_count": 21,
   "id": "491eeccf",
   "metadata": {
    "ExecuteTime": {
     "end_time": "2022-06-24T04:53:25.514495Z",
     "start_time": "2022-06-24T04:53:25.499493Z"
    }
   },
   "outputs": [
    {
     "data": {
      "text/plain": [
       "array([[456.31274357, -27.75391367],\n",
       "       [-27.75391367,  54.55891445]])"
      ]
     },
     "execution_count": 21,
     "metadata": {},
     "output_type": "execute_result"
    },
    {
     "data": {
      "text/plain": [
       "array([[456.31274357, -27.75391367],\n",
       "       [-27.75391367,  54.55891445]])"
      ]
     },
     "execution_count": 21,
     "metadata": {},
     "output_type": "execute_result"
    }
   ],
   "source": [
    "np.cov(Price, temp)"
   ]
  },
  {
   "cell_type": "code",
   "execution_count": 22,
   "id": "829dcc2b",
   "metadata": {
    "ExecuteTime": {
     "end_time": "2022-06-24T04:53:25.530499Z",
     "start_time": "2022-06-24T04:53:25.515496Z"
    },
    "scrolled": true
   },
   "outputs": [
    {
     "name": "stdout",
     "output_type": "stream",
     "text": [
      "pearsonr correlation is -0.17589766482153862\n",
      "pearsonr correlation is -0.17589766482153862\n"
     ]
    }
   ],
   "source": [
    "corr1, _ = pearsonr(Price, temp)\n",
    "print(\"pearsonr correlation is\", corr1)"
   ]
  },
  {
   "cell_type": "code",
   "execution_count": 23,
   "id": "23b95e5d",
   "metadata": {
    "ExecuteTime": {
     "end_time": "2022-06-24T04:53:25.546502Z",
     "start_time": "2022-06-24T04:53:25.531500Z"
    }
   },
   "outputs": [
    {
     "name": "stdout",
     "output_type": "stream",
     "text": [
      "spearmanr correlation -0.12984467168972372\n",
      "spearmanr correlation -0.12984467168972372\n"
     ]
    }
   ],
   "source": [
    "corr2, _ = spearmanr(Price, temp)\n",
    "print(\"spearmanr correlation\", corr2)"
   ]
  },
  {
   "cell_type": "code",
   "execution_count": 29,
   "id": "2aceb91a",
   "metadata": {
    "ExecuteTime": {
     "end_time": "2022-06-24T04:54:42.998731Z",
     "start_time": "2022-06-24T04:54:42.975726Z"
    }
   },
   "outputs": [
    {
     "data": {
      "text/html": [
       "<div>\n",
       "<style scoped>\n",
       "    .dataframe tbody tr th:only-of-type {\n",
       "        vertical-align: middle;\n",
       "    }\n",
       "\n",
       "    .dataframe tbody tr th {\n",
       "        vertical-align: top;\n",
       "    }\n",
       "\n",
       "    .dataframe thead th {\n",
       "        text-align: right;\n",
       "    }\n",
       "</style>\n",
       "<table border=\"1\" class=\"dataframe\">\n",
       "  <thead>\n",
       "    <tr style=\"text-align: right;\">\n",
       "      <th></th>\n",
       "      <th>Date</th>\n",
       "      <th>Price</th>\n",
       "      <th>temp</th>\n",
       "      <th>precip</th>\n",
       "      <th>windspeed</th>\n",
       "    </tr>\n",
       "  </thead>\n",
       "  <tbody>\n",
       "    <tr>\n",
       "      <th>0</th>\n",
       "      <td>2019-01-01</td>\n",
       "      <td>22.58</td>\n",
       "      <td>3.9</td>\n",
       "      <td>0.46</td>\n",
       "      <td>34.5</td>\n",
       "    </tr>\n",
       "    <tr>\n",
       "      <th>1</th>\n",
       "      <td>2019-01-02</td>\n",
       "      <td>42.65</td>\n",
       "      <td>-1.1</td>\n",
       "      <td>0.29</td>\n",
       "      <td>46.6</td>\n",
       "    </tr>\n",
       "    <tr>\n",
       "      <th>2</th>\n",
       "      <td>2019-01-03</td>\n",
       "      <td>51.90</td>\n",
       "      <td>-2.7</td>\n",
       "      <td>0.69</td>\n",
       "      <td>12.9</td>\n",
       "    </tr>\n",
       "    <tr>\n",
       "      <th>3</th>\n",
       "      <td>2019-01-04</td>\n",
       "      <td>50.85</td>\n",
       "      <td>2.7</td>\n",
       "      <td>1.64</td>\n",
       "      <td>18.5</td>\n",
       "    </tr>\n",
       "    <tr>\n",
       "      <th>4</th>\n",
       "      <td>2019-01-05</td>\n",
       "      <td>50.72</td>\n",
       "      <td>0.8</td>\n",
       "      <td>0.17</td>\n",
       "      <td>15.6</td>\n",
       "    </tr>\n",
       "    <tr>\n",
       "      <th>...</th>\n",
       "      <td>...</td>\n",
       "      <td>...</td>\n",
       "      <td>...</td>\n",
       "      <td>...</td>\n",
       "      <td>...</td>\n",
       "    </tr>\n",
       "    <tr>\n",
       "      <th>1211</th>\n",
       "      <td>2022-04-26</td>\n",
       "      <td>23.94</td>\n",
       "      <td>7.3</td>\n",
       "      <td>0.00</td>\n",
       "      <td>19.0</td>\n",
       "    </tr>\n",
       "    <tr>\n",
       "      <th>1212</th>\n",
       "      <td>2022-04-27</td>\n",
       "      <td>43.43</td>\n",
       "      <td>4.9</td>\n",
       "      <td>0.00</td>\n",
       "      <td>20.2</td>\n",
       "    </tr>\n",
       "    <tr>\n",
       "      <th>1213</th>\n",
       "      <td>2022-04-28</td>\n",
       "      <td>19.30</td>\n",
       "      <td>7.0</td>\n",
       "      <td>0.00</td>\n",
       "      <td>26.3</td>\n",
       "    </tr>\n",
       "    <tr>\n",
       "      <th>1214</th>\n",
       "      <td>2022-04-29</td>\n",
       "      <td>31.43</td>\n",
       "      <td>6.0</td>\n",
       "      <td>0.00</td>\n",
       "      <td>16.4</td>\n",
       "    </tr>\n",
       "    <tr>\n",
       "      <th>1215</th>\n",
       "      <td>2022-04-30</td>\n",
       "      <td>31.11</td>\n",
       "      <td>7.9</td>\n",
       "      <td>0.00</td>\n",
       "      <td>16.6</td>\n",
       "    </tr>\n",
       "  </tbody>\n",
       "</table>\n",
       "<p>1216 rows × 5 columns</p>\n",
       "</div>"
      ],
      "text/plain": [
       "            Date  Price  temp  precip  windspeed\n",
       "0     2019-01-01  22.58   3.9    0.46       34.5\n",
       "1     2019-01-02  42.65  -1.1    0.29       46.6\n",
       "2     2019-01-03  51.90  -2.7    0.69       12.9\n",
       "3     2019-01-04  50.85   2.7    1.64       18.5\n",
       "4     2019-01-05  50.72   0.8    0.17       15.6\n",
       "...          ...    ...   ...     ...        ...\n",
       "1211  2022-04-26  23.94   7.3    0.00       19.0\n",
       "1212  2022-04-27  43.43   4.9    0.00       20.2\n",
       "1213  2022-04-28  19.30   7.0    0.00       26.3\n",
       "1214  2022-04-29  31.43   6.0    0.00       16.4\n",
       "1215  2022-04-30  31.11   7.9    0.00       16.6\n",
       "\n",
       "[1216 rows x 5 columns]"
      ]
     },
     "execution_count": 29,
     "metadata": {},
     "output_type": "execute_result"
    },
    {
     "data": {
      "text/html": [
       "<div>\n",
       "<style scoped>\n",
       "    .dataframe tbody tr th:only-of-type {\n",
       "        vertical-align: middle;\n",
       "    }\n",
       "\n",
       "    .dataframe tbody tr th {\n",
       "        vertical-align: top;\n",
       "    }\n",
       "\n",
       "    .dataframe thead th {\n",
       "        text-align: right;\n",
       "    }\n",
       "</style>\n",
       "<table border=\"1\" class=\"dataframe\">\n",
       "  <thead>\n",
       "    <tr style=\"text-align: right;\">\n",
       "      <th></th>\n",
       "      <th>Date</th>\n",
       "      <th>Price</th>\n",
       "      <th>temp</th>\n",
       "      <th>precip</th>\n",
       "      <th>windspeed</th>\n",
       "    </tr>\n",
       "  </thead>\n",
       "  <tbody>\n",
       "    <tr>\n",
       "      <th>0</th>\n",
       "      <td>2019-01-01</td>\n",
       "      <td>22.58</td>\n",
       "      <td>3.9</td>\n",
       "      <td>0.46</td>\n",
       "      <td>34.5</td>\n",
       "    </tr>\n",
       "    <tr>\n",
       "      <th>1</th>\n",
       "      <td>2019-01-02</td>\n",
       "      <td>42.65</td>\n",
       "      <td>-1.1</td>\n",
       "      <td>0.29</td>\n",
       "      <td>46.6</td>\n",
       "    </tr>\n",
       "    <tr>\n",
       "      <th>2</th>\n",
       "      <td>2019-01-03</td>\n",
       "      <td>51.90</td>\n",
       "      <td>-2.7</td>\n",
       "      <td>0.69</td>\n",
       "      <td>12.9</td>\n",
       "    </tr>\n",
       "    <tr>\n",
       "      <th>3</th>\n",
       "      <td>2019-01-04</td>\n",
       "      <td>50.85</td>\n",
       "      <td>2.7</td>\n",
       "      <td>1.64</td>\n",
       "      <td>18.5</td>\n",
       "    </tr>\n",
       "    <tr>\n",
       "      <th>4</th>\n",
       "      <td>2019-01-05</td>\n",
       "      <td>50.72</td>\n",
       "      <td>0.8</td>\n",
       "      <td>0.17</td>\n",
       "      <td>15.6</td>\n",
       "    </tr>\n",
       "    <tr>\n",
       "      <th>...</th>\n",
       "      <td>...</td>\n",
       "      <td>...</td>\n",
       "      <td>...</td>\n",
       "      <td>...</td>\n",
       "      <td>...</td>\n",
       "    </tr>\n",
       "    <tr>\n",
       "      <th>1211</th>\n",
       "      <td>2022-04-26</td>\n",
       "      <td>23.94</td>\n",
       "      <td>7.3</td>\n",
       "      <td>0.00</td>\n",
       "      <td>19.0</td>\n",
       "    </tr>\n",
       "    <tr>\n",
       "      <th>1212</th>\n",
       "      <td>2022-04-27</td>\n",
       "      <td>43.43</td>\n",
       "      <td>4.9</td>\n",
       "      <td>0.00</td>\n",
       "      <td>20.2</td>\n",
       "    </tr>\n",
       "    <tr>\n",
       "      <th>1213</th>\n",
       "      <td>2022-04-28</td>\n",
       "      <td>19.30</td>\n",
       "      <td>7.0</td>\n",
       "      <td>0.00</td>\n",
       "      <td>26.3</td>\n",
       "    </tr>\n",
       "    <tr>\n",
       "      <th>1214</th>\n",
       "      <td>2022-04-29</td>\n",
       "      <td>31.43</td>\n",
       "      <td>6.0</td>\n",
       "      <td>0.00</td>\n",
       "      <td>16.4</td>\n",
       "    </tr>\n",
       "    <tr>\n",
       "      <th>1215</th>\n",
       "      <td>2022-04-30</td>\n",
       "      <td>31.11</td>\n",
       "      <td>7.9</td>\n",
       "      <td>0.00</td>\n",
       "      <td>16.6</td>\n",
       "    </tr>\n",
       "  </tbody>\n",
       "</table>\n",
       "<p>1216 rows × 5 columns</p>\n",
       "</div>"
      ],
      "text/plain": [
       "            Date  Price  temp  precip  windspeed\n",
       "0     2019-01-01  22.58   3.9    0.46       34.5\n",
       "1     2019-01-02  42.65  -1.1    0.29       46.6\n",
       "2     2019-01-03  51.90  -2.7    0.69       12.9\n",
       "3     2019-01-04  50.85   2.7    1.64       18.5\n",
       "4     2019-01-05  50.72   0.8    0.17       15.6\n",
       "...          ...    ...   ...     ...        ...\n",
       "1211  2022-04-26  23.94   7.3    0.00       19.0\n",
       "1212  2022-04-27  43.43   4.9    0.00       20.2\n",
       "1213  2022-04-28  19.30   7.0    0.00       26.3\n",
       "1214  2022-04-29  31.43   6.0    0.00       16.4\n",
       "1215  2022-04-30  31.11   7.9    0.00       16.6\n",
       "\n",
       "[1216 rows x 5 columns]"
      ]
     },
     "execution_count": 29,
     "metadata": {},
     "output_type": "execute_result"
    }
   ],
   "source": [
    "size(table"
   ]
  },
  {
   "cell_type": "code",
   "execution_count": 25,
   "id": "c09a337d",
   "metadata": {
    "ExecuteTime": {
     "end_time": "2022-06-24T04:53:41.105180Z",
     "start_time": "2022-06-24T04:53:41.064172Z"
    },
    "scrolled": false
   },
   "outputs": [
    {
     "name": "stderr",
     "output_type": "stream",
     "text": [
      "D:\\ProgramData\\Anaconda3\\envs\\daps\\lib\\site-packages\\seaborn\\_decorators.py:43: FutureWarning: Pass the following variable as a keyword arg: x. From version 0.12, the only valid positional argument will be `data`, and passing other arguments without an explicit keyword will result in an error or misinterpretation.\n",
      "  FutureWarning\n",
      "D:\\ProgramData\\Anaconda3\\envs\\daps\\lib\\site-packages\\seaborn\\_decorators.py:43: FutureWarning: Pass the following variable as a keyword arg: x. From version 0.12, the only valid positional argument will be `data`, and passing other arguments without an explicit keyword will result in an error or misinterpretation.\n",
      "  FutureWarning\n"
     ]
    },
    {
     "ename": "ValueError",
     "evalue": "If using all scalar values, you must pass an index",
     "output_type": "error",
     "traceback": [
      "\u001b[1;31m---------------------------------------------------------------------------\u001b[0m",
      "\u001b[1;31mValueError\u001b[0m                                Traceback (most recent call last)",
      "\u001b[1;32m~\\AppData\\Local\\Temp/ipykernel_80608/1940381472.py\u001b[0m in \u001b[0;36m<module>\u001b[1;34m\u001b[0m\n\u001b[1;32m----> 1\u001b[1;33m \u001b[0msns\u001b[0m\u001b[1;33m.\u001b[0m\u001b[0mscatterplot\u001b[0m\u001b[1;33m(\u001b[0m\u001b[0mtable\u001b[0m\u001b[1;33m)\u001b[0m\u001b[1;33m\u001b[0m\u001b[1;33m\u001b[0m\u001b[0m\n\u001b[0m",
      "\u001b[1;32mD:\\ProgramData\\Anaconda3\\envs\\daps\\lib\\site-packages\\seaborn\\_decorators.py\u001b[0m in \u001b[0;36minner_f\u001b[1;34m(*args, **kwargs)\u001b[0m\n\u001b[0;32m     44\u001b[0m             )\n\u001b[0;32m     45\u001b[0m         \u001b[0mkwargs\u001b[0m\u001b[1;33m.\u001b[0m\u001b[0mupdate\u001b[0m\u001b[1;33m(\u001b[0m\u001b[1;33m{\u001b[0m\u001b[0mk\u001b[0m\u001b[1;33m:\u001b[0m \u001b[0marg\u001b[0m \u001b[1;32mfor\u001b[0m \u001b[0mk\u001b[0m\u001b[1;33m,\u001b[0m \u001b[0marg\u001b[0m \u001b[1;32min\u001b[0m \u001b[0mzip\u001b[0m\u001b[1;33m(\u001b[0m\u001b[0msig\u001b[0m\u001b[1;33m.\u001b[0m\u001b[0mparameters\u001b[0m\u001b[1;33m,\u001b[0m \u001b[0margs\u001b[0m\u001b[1;33m)\u001b[0m\u001b[1;33m}\u001b[0m\u001b[1;33m)\u001b[0m\u001b[1;33m\u001b[0m\u001b[1;33m\u001b[0m\u001b[0m\n\u001b[1;32m---> 46\u001b[1;33m         \u001b[1;32mreturn\u001b[0m \u001b[0mf\u001b[0m\u001b[1;33m(\u001b[0m\u001b[1;33m**\u001b[0m\u001b[0mkwargs\u001b[0m\u001b[1;33m)\u001b[0m\u001b[1;33m\u001b[0m\u001b[1;33m\u001b[0m\u001b[0m\n\u001b[0m\u001b[0;32m     47\u001b[0m     \u001b[1;32mreturn\u001b[0m \u001b[0minner_f\u001b[0m\u001b[1;33m\u001b[0m\u001b[1;33m\u001b[0m\u001b[0m\n\u001b[0;32m     48\u001b[0m \u001b[1;33m\u001b[0m\u001b[0m\n",
      "\u001b[1;32mD:\\ProgramData\\Anaconda3\\envs\\daps\\lib\\site-packages\\seaborn\\relational.py\u001b[0m in \u001b[0;36mscatterplot\u001b[1;34m(x, y, hue, style, size, data, palette, hue_order, hue_norm, sizes, size_order, size_norm, markers, style_order, x_bins, y_bins, units, estimator, ci, n_boot, alpha, x_jitter, y_jitter, legend, ax, **kwargs)\u001b[0m\n\u001b[0;32m    810\u001b[0m         \u001b[0mx_bins\u001b[0m\u001b[1;33m=\u001b[0m\u001b[0mx_bins\u001b[0m\u001b[1;33m,\u001b[0m \u001b[0my_bins\u001b[0m\u001b[1;33m=\u001b[0m\u001b[0my_bins\u001b[0m\u001b[1;33m,\u001b[0m\u001b[1;33m\u001b[0m\u001b[1;33m\u001b[0m\u001b[0m\n\u001b[0;32m    811\u001b[0m         \u001b[0mestimator\u001b[0m\u001b[1;33m=\u001b[0m\u001b[0mestimator\u001b[0m\u001b[1;33m,\u001b[0m \u001b[0mci\u001b[0m\u001b[1;33m=\u001b[0m\u001b[0mci\u001b[0m\u001b[1;33m,\u001b[0m \u001b[0mn_boot\u001b[0m\u001b[1;33m=\u001b[0m\u001b[0mn_boot\u001b[0m\u001b[1;33m,\u001b[0m\u001b[1;33m\u001b[0m\u001b[1;33m\u001b[0m\u001b[0m\n\u001b[1;32m--> 812\u001b[1;33m         \u001b[0malpha\u001b[0m\u001b[1;33m=\u001b[0m\u001b[0malpha\u001b[0m\u001b[1;33m,\u001b[0m \u001b[0mx_jitter\u001b[0m\u001b[1;33m=\u001b[0m\u001b[0mx_jitter\u001b[0m\u001b[1;33m,\u001b[0m \u001b[0my_jitter\u001b[0m\u001b[1;33m=\u001b[0m\u001b[0my_jitter\u001b[0m\u001b[1;33m,\u001b[0m \u001b[0mlegend\u001b[0m\u001b[1;33m=\u001b[0m\u001b[0mlegend\u001b[0m\u001b[1;33m,\u001b[0m\u001b[1;33m\u001b[0m\u001b[1;33m\u001b[0m\u001b[0m\n\u001b[0m\u001b[0;32m    813\u001b[0m     )\n\u001b[0;32m    814\u001b[0m \u001b[1;33m\u001b[0m\u001b[0m\n",
      "\u001b[1;32mD:\\ProgramData\\Anaconda3\\envs\\daps\\lib\\site-packages\\seaborn\\relational.py\u001b[0m in \u001b[0;36m__init__\u001b[1;34m(self, data, variables, x_bins, y_bins, estimator, ci, n_boot, alpha, x_jitter, y_jitter, legend)\u001b[0m\n\u001b[0;32m    585\u001b[0m         )\n\u001b[0;32m    586\u001b[0m \u001b[1;33m\u001b[0m\u001b[0m\n\u001b[1;32m--> 587\u001b[1;33m         \u001b[0msuper\u001b[0m\u001b[1;33m(\u001b[0m\u001b[1;33m)\u001b[0m\u001b[1;33m.\u001b[0m\u001b[0m__init__\u001b[0m\u001b[1;33m(\u001b[0m\u001b[0mdata\u001b[0m\u001b[1;33m=\u001b[0m\u001b[0mdata\u001b[0m\u001b[1;33m,\u001b[0m \u001b[0mvariables\u001b[0m\u001b[1;33m=\u001b[0m\u001b[0mvariables\u001b[0m\u001b[1;33m)\u001b[0m\u001b[1;33m\u001b[0m\u001b[1;33m\u001b[0m\u001b[0m\n\u001b[0m\u001b[0;32m    588\u001b[0m \u001b[1;33m\u001b[0m\u001b[0m\n\u001b[0;32m    589\u001b[0m         \u001b[0mself\u001b[0m\u001b[1;33m.\u001b[0m\u001b[0malpha\u001b[0m \u001b[1;33m=\u001b[0m \u001b[0malpha\u001b[0m\u001b[1;33m\u001b[0m\u001b[1;33m\u001b[0m\u001b[0m\n",
      "\u001b[1;32mD:\\ProgramData\\Anaconda3\\envs\\daps\\lib\\site-packages\\seaborn\\_core.py\u001b[0m in \u001b[0;36m__init__\u001b[1;34m(self, data, variables)\u001b[0m\n\u001b[0;32m    603\u001b[0m     \u001b[1;32mdef\u001b[0m \u001b[0m__init__\u001b[0m\u001b[1;33m(\u001b[0m\u001b[0mself\u001b[0m\u001b[1;33m,\u001b[0m \u001b[0mdata\u001b[0m\u001b[1;33m=\u001b[0m\u001b[1;32mNone\u001b[0m\u001b[1;33m,\u001b[0m \u001b[0mvariables\u001b[0m\u001b[1;33m=\u001b[0m\u001b[1;33m{\u001b[0m\u001b[1;33m}\u001b[0m\u001b[1;33m)\u001b[0m\u001b[1;33m:\u001b[0m\u001b[1;33m\u001b[0m\u001b[1;33m\u001b[0m\u001b[0m\n\u001b[0;32m    604\u001b[0m \u001b[1;33m\u001b[0m\u001b[0m\n\u001b[1;32m--> 605\u001b[1;33m         \u001b[0mself\u001b[0m\u001b[1;33m.\u001b[0m\u001b[0massign_variables\u001b[0m\u001b[1;33m(\u001b[0m\u001b[0mdata\u001b[0m\u001b[1;33m,\u001b[0m \u001b[0mvariables\u001b[0m\u001b[1;33m)\u001b[0m\u001b[1;33m\u001b[0m\u001b[1;33m\u001b[0m\u001b[0m\n\u001b[0m\u001b[0;32m    606\u001b[0m \u001b[1;33m\u001b[0m\u001b[0m\n\u001b[0;32m    607\u001b[0m         \u001b[1;32mfor\u001b[0m \u001b[0mvar\u001b[0m\u001b[1;33m,\u001b[0m \u001b[0mcls\u001b[0m \u001b[1;32min\u001b[0m \u001b[0mself\u001b[0m\u001b[1;33m.\u001b[0m\u001b[0m_semantic_mappings\u001b[0m\u001b[1;33m.\u001b[0m\u001b[0mitems\u001b[0m\u001b[1;33m(\u001b[0m\u001b[1;33m)\u001b[0m\u001b[1;33m:\u001b[0m\u001b[1;33m\u001b[0m\u001b[1;33m\u001b[0m\u001b[0m\n",
      "\u001b[1;32mD:\\ProgramData\\Anaconda3\\envs\\daps\\lib\\site-packages\\seaborn\\_core.py\u001b[0m in \u001b[0;36massign_variables\u001b[1;34m(self, data, variables)\u001b[0m\n\u001b[0;32m    667\u001b[0m             \u001b[0mself\u001b[0m\u001b[1;33m.\u001b[0m\u001b[0minput_format\u001b[0m \u001b[1;33m=\u001b[0m \u001b[1;34m\"long\"\u001b[0m\u001b[1;33m\u001b[0m\u001b[1;33m\u001b[0m\u001b[0m\n\u001b[0;32m    668\u001b[0m             plot_data, variables = self._assign_variables_longform(\n\u001b[1;32m--> 669\u001b[1;33m                 \u001b[0mdata\u001b[0m\u001b[1;33m,\u001b[0m \u001b[1;33m**\u001b[0m\u001b[0mvariables\u001b[0m\u001b[1;33m,\u001b[0m\u001b[1;33m\u001b[0m\u001b[1;33m\u001b[0m\u001b[0m\n\u001b[0m\u001b[0;32m    670\u001b[0m             )\n\u001b[0;32m    671\u001b[0m \u001b[1;33m\u001b[0m\u001b[0m\n",
      "\u001b[1;32mD:\\ProgramData\\Anaconda3\\envs\\daps\\lib\\site-packages\\seaborn\\_core.py\u001b[0m in \u001b[0;36m_assign_variables_longform\u001b[1;34m(self, data, **kwargs)\u001b[0m\n\u001b[0;32m    925\u001b[0m         \u001b[1;31m# Construct a tidy plot DataFrame. This will convert a number of\u001b[0m\u001b[1;33m\u001b[0m\u001b[1;33m\u001b[0m\u001b[1;33m\u001b[0m\u001b[0m\n\u001b[0;32m    926\u001b[0m         \u001b[1;31m# types automatically, aligning on index in case of pandas objects\u001b[0m\u001b[1;33m\u001b[0m\u001b[1;33m\u001b[0m\u001b[1;33m\u001b[0m\u001b[0m\n\u001b[1;32m--> 927\u001b[1;33m         \u001b[0mplot_data\u001b[0m \u001b[1;33m=\u001b[0m \u001b[0mpd\u001b[0m\u001b[1;33m.\u001b[0m\u001b[0mDataFrame\u001b[0m\u001b[1;33m(\u001b[0m\u001b[0mplot_data\u001b[0m\u001b[1;33m)\u001b[0m\u001b[1;33m\u001b[0m\u001b[1;33m\u001b[0m\u001b[0m\n\u001b[0m\u001b[0;32m    928\u001b[0m \u001b[1;33m\u001b[0m\u001b[0m\n\u001b[0;32m    929\u001b[0m         \u001b[1;31m# Reduce the variables dictionary to fields with valid data\u001b[0m\u001b[1;33m\u001b[0m\u001b[1;33m\u001b[0m\u001b[1;33m\u001b[0m\u001b[0m\n",
      "\u001b[1;32mD:\\ProgramData\\Anaconda3\\envs\\daps\\lib\\site-packages\\pandas\\core\\frame.py\u001b[0m in \u001b[0;36m__init__\u001b[1;34m(self, data, index, columns, dtype, copy)\u001b[0m\n\u001b[0;32m    612\u001b[0m         \u001b[1;32melif\u001b[0m \u001b[0misinstance\u001b[0m\u001b[1;33m(\u001b[0m\u001b[0mdata\u001b[0m\u001b[1;33m,\u001b[0m \u001b[0mdict\u001b[0m\u001b[1;33m)\u001b[0m\u001b[1;33m:\u001b[0m\u001b[1;33m\u001b[0m\u001b[1;33m\u001b[0m\u001b[0m\n\u001b[0;32m    613\u001b[0m             \u001b[1;31m# GH#38939 de facto copy defaults to False only in non-dict cases\u001b[0m\u001b[1;33m\u001b[0m\u001b[1;33m\u001b[0m\u001b[1;33m\u001b[0m\u001b[0m\n\u001b[1;32m--> 614\u001b[1;33m             \u001b[0mmgr\u001b[0m \u001b[1;33m=\u001b[0m \u001b[0mdict_to_mgr\u001b[0m\u001b[1;33m(\u001b[0m\u001b[0mdata\u001b[0m\u001b[1;33m,\u001b[0m \u001b[0mindex\u001b[0m\u001b[1;33m,\u001b[0m \u001b[0mcolumns\u001b[0m\u001b[1;33m,\u001b[0m \u001b[0mdtype\u001b[0m\u001b[1;33m=\u001b[0m\u001b[0mdtype\u001b[0m\u001b[1;33m,\u001b[0m \u001b[0mcopy\u001b[0m\u001b[1;33m=\u001b[0m\u001b[0mcopy\u001b[0m\u001b[1;33m,\u001b[0m \u001b[0mtyp\u001b[0m\u001b[1;33m=\u001b[0m\u001b[0mmanager\u001b[0m\u001b[1;33m)\u001b[0m\u001b[1;33m\u001b[0m\u001b[1;33m\u001b[0m\u001b[0m\n\u001b[0m\u001b[0;32m    615\u001b[0m         \u001b[1;32melif\u001b[0m \u001b[0misinstance\u001b[0m\u001b[1;33m(\u001b[0m\u001b[0mdata\u001b[0m\u001b[1;33m,\u001b[0m \u001b[0mma\u001b[0m\u001b[1;33m.\u001b[0m\u001b[0mMaskedArray\u001b[0m\u001b[1;33m)\u001b[0m\u001b[1;33m:\u001b[0m\u001b[1;33m\u001b[0m\u001b[1;33m\u001b[0m\u001b[0m\n\u001b[0;32m    616\u001b[0m             \u001b[1;32mimport\u001b[0m \u001b[0mnumpy\u001b[0m\u001b[1;33m.\u001b[0m\u001b[0mma\u001b[0m\u001b[1;33m.\u001b[0m\u001b[0mmrecords\u001b[0m \u001b[1;32mas\u001b[0m \u001b[0mmrecords\u001b[0m\u001b[1;33m\u001b[0m\u001b[1;33m\u001b[0m\u001b[0m\n",
      "\u001b[1;32mD:\\ProgramData\\Anaconda3\\envs\\daps\\lib\\site-packages\\pandas\\core\\internals\\construction.py\u001b[0m in \u001b[0;36mdict_to_mgr\u001b[1;34m(data, index, columns, dtype, typ, copy)\u001b[0m\n\u001b[0;32m    463\u001b[0m \u001b[1;33m\u001b[0m\u001b[0m\n\u001b[0;32m    464\u001b[0m     return arrays_to_mgr(\n\u001b[1;32m--> 465\u001b[1;33m         \u001b[0marrays\u001b[0m\u001b[1;33m,\u001b[0m \u001b[0mdata_names\u001b[0m\u001b[1;33m,\u001b[0m \u001b[0mindex\u001b[0m\u001b[1;33m,\u001b[0m \u001b[0mcolumns\u001b[0m\u001b[1;33m,\u001b[0m \u001b[0mdtype\u001b[0m\u001b[1;33m=\u001b[0m\u001b[0mdtype\u001b[0m\u001b[1;33m,\u001b[0m \u001b[0mtyp\u001b[0m\u001b[1;33m=\u001b[0m\u001b[0mtyp\u001b[0m\u001b[1;33m,\u001b[0m \u001b[0mconsolidate\u001b[0m\u001b[1;33m=\u001b[0m\u001b[0mcopy\u001b[0m\u001b[1;33m\u001b[0m\u001b[1;33m\u001b[0m\u001b[0m\n\u001b[0m\u001b[0;32m    466\u001b[0m     )\n\u001b[0;32m    467\u001b[0m \u001b[1;33m\u001b[0m\u001b[0m\n",
      "\u001b[1;32mD:\\ProgramData\\Anaconda3\\envs\\daps\\lib\\site-packages\\pandas\\core\\internals\\construction.py\u001b[0m in \u001b[0;36marrays_to_mgr\u001b[1;34m(arrays, arr_names, index, columns, dtype, verify_integrity, typ, consolidate)\u001b[0m\n\u001b[0;32m    117\u001b[0m         \u001b[1;31m# figure out the index, if necessary\u001b[0m\u001b[1;33m\u001b[0m\u001b[1;33m\u001b[0m\u001b[1;33m\u001b[0m\u001b[0m\n\u001b[0;32m    118\u001b[0m         \u001b[1;32mif\u001b[0m \u001b[0mindex\u001b[0m \u001b[1;32mis\u001b[0m \u001b[1;32mNone\u001b[0m\u001b[1;33m:\u001b[0m\u001b[1;33m\u001b[0m\u001b[1;33m\u001b[0m\u001b[0m\n\u001b[1;32m--> 119\u001b[1;33m             \u001b[0mindex\u001b[0m \u001b[1;33m=\u001b[0m \u001b[0m_extract_index\u001b[0m\u001b[1;33m(\u001b[0m\u001b[0marrays\u001b[0m\u001b[1;33m)\u001b[0m\u001b[1;33m\u001b[0m\u001b[1;33m\u001b[0m\u001b[0m\n\u001b[0m\u001b[0;32m    120\u001b[0m         \u001b[1;32melse\u001b[0m\u001b[1;33m:\u001b[0m\u001b[1;33m\u001b[0m\u001b[1;33m\u001b[0m\u001b[0m\n\u001b[0;32m    121\u001b[0m             \u001b[0mindex\u001b[0m \u001b[1;33m=\u001b[0m \u001b[0mensure_index\u001b[0m\u001b[1;33m(\u001b[0m\u001b[0mindex\u001b[0m\u001b[1;33m)\u001b[0m\u001b[1;33m\u001b[0m\u001b[1;33m\u001b[0m\u001b[0m\n",
      "\u001b[1;32mD:\\ProgramData\\Anaconda3\\envs\\daps\\lib\\site-packages\\pandas\\core\\internals\\construction.py\u001b[0m in \u001b[0;36m_extract_index\u001b[1;34m(data)\u001b[0m\n\u001b[0;32m    623\u001b[0m \u001b[1;33m\u001b[0m\u001b[0m\n\u001b[0;32m    624\u001b[0m         \u001b[1;32mif\u001b[0m \u001b[1;32mnot\u001b[0m \u001b[0mindexes\u001b[0m \u001b[1;32mand\u001b[0m \u001b[1;32mnot\u001b[0m \u001b[0mraw_lengths\u001b[0m\u001b[1;33m:\u001b[0m\u001b[1;33m\u001b[0m\u001b[1;33m\u001b[0m\u001b[0m\n\u001b[1;32m--> 625\u001b[1;33m             \u001b[1;32mraise\u001b[0m \u001b[0mValueError\u001b[0m\u001b[1;33m(\u001b[0m\u001b[1;34m\"If using all scalar values, you must pass an index\"\u001b[0m\u001b[1;33m)\u001b[0m\u001b[1;33m\u001b[0m\u001b[1;33m\u001b[0m\u001b[0m\n\u001b[0m\u001b[0;32m    626\u001b[0m \u001b[1;33m\u001b[0m\u001b[0m\n\u001b[0;32m    627\u001b[0m         \u001b[1;32mif\u001b[0m \u001b[0mhave_series\u001b[0m\u001b[1;33m:\u001b[0m\u001b[1;33m\u001b[0m\u001b[1;33m\u001b[0m\u001b[0m\n",
      "\u001b[1;31mValueError\u001b[0m: If using all scalar values, you must pass an index"
     ]
    },
    {
     "ename": "ValueError",
     "evalue": "If using all scalar values, you must pass an index",
     "output_type": "error",
     "traceback": [
      "\u001b[1;31m---------------------------------------------------------------------------\u001b[0m",
      "\u001b[1;31mValueError\u001b[0m                                Traceback (most recent call last)",
      "\u001b[1;32m~\\AppData\\Local\\Temp/ipykernel_80608/1940381472.py\u001b[0m in \u001b[0;36m<module>\u001b[1;34m\u001b[0m\n\u001b[1;32m----> 1\u001b[1;33m \u001b[0msns\u001b[0m\u001b[1;33m.\u001b[0m\u001b[0mscatterplot\u001b[0m\u001b[1;33m(\u001b[0m\u001b[0mtable\u001b[0m\u001b[1;33m)\u001b[0m\u001b[1;33m\u001b[0m\u001b[1;33m\u001b[0m\u001b[0m\n\u001b[0m",
      "\u001b[1;32mD:\\ProgramData\\Anaconda3\\envs\\daps\\lib\\site-packages\\seaborn\\_decorators.py\u001b[0m in \u001b[0;36minner_f\u001b[1;34m(*args, **kwargs)\u001b[0m\n\u001b[0;32m     44\u001b[0m             )\n\u001b[0;32m     45\u001b[0m         \u001b[0mkwargs\u001b[0m\u001b[1;33m.\u001b[0m\u001b[0mupdate\u001b[0m\u001b[1;33m(\u001b[0m\u001b[1;33m{\u001b[0m\u001b[0mk\u001b[0m\u001b[1;33m:\u001b[0m \u001b[0marg\u001b[0m \u001b[1;32mfor\u001b[0m \u001b[0mk\u001b[0m\u001b[1;33m,\u001b[0m \u001b[0marg\u001b[0m \u001b[1;32min\u001b[0m \u001b[0mzip\u001b[0m\u001b[1;33m(\u001b[0m\u001b[0msig\u001b[0m\u001b[1;33m.\u001b[0m\u001b[0mparameters\u001b[0m\u001b[1;33m,\u001b[0m \u001b[0margs\u001b[0m\u001b[1;33m)\u001b[0m\u001b[1;33m}\u001b[0m\u001b[1;33m)\u001b[0m\u001b[1;33m\u001b[0m\u001b[1;33m\u001b[0m\u001b[0m\n\u001b[1;32m---> 46\u001b[1;33m         \u001b[1;32mreturn\u001b[0m \u001b[0mf\u001b[0m\u001b[1;33m(\u001b[0m\u001b[1;33m**\u001b[0m\u001b[0mkwargs\u001b[0m\u001b[1;33m)\u001b[0m\u001b[1;33m\u001b[0m\u001b[1;33m\u001b[0m\u001b[0m\n\u001b[0m\u001b[0;32m     47\u001b[0m     \u001b[1;32mreturn\u001b[0m \u001b[0minner_f\u001b[0m\u001b[1;33m\u001b[0m\u001b[1;33m\u001b[0m\u001b[0m\n\u001b[0;32m     48\u001b[0m \u001b[1;33m\u001b[0m\u001b[0m\n",
      "\u001b[1;32mD:\\ProgramData\\Anaconda3\\envs\\daps\\lib\\site-packages\\seaborn\\relational.py\u001b[0m in \u001b[0;36mscatterplot\u001b[1;34m(x, y, hue, style, size, data, palette, hue_order, hue_norm, sizes, size_order, size_norm, markers, style_order, x_bins, y_bins, units, estimator, ci, n_boot, alpha, x_jitter, y_jitter, legend, ax, **kwargs)\u001b[0m\n\u001b[0;32m    810\u001b[0m         \u001b[0mx_bins\u001b[0m\u001b[1;33m=\u001b[0m\u001b[0mx_bins\u001b[0m\u001b[1;33m,\u001b[0m \u001b[0my_bins\u001b[0m\u001b[1;33m=\u001b[0m\u001b[0my_bins\u001b[0m\u001b[1;33m,\u001b[0m\u001b[1;33m\u001b[0m\u001b[1;33m\u001b[0m\u001b[0m\n\u001b[0;32m    811\u001b[0m         \u001b[0mestimator\u001b[0m\u001b[1;33m=\u001b[0m\u001b[0mestimator\u001b[0m\u001b[1;33m,\u001b[0m \u001b[0mci\u001b[0m\u001b[1;33m=\u001b[0m\u001b[0mci\u001b[0m\u001b[1;33m,\u001b[0m \u001b[0mn_boot\u001b[0m\u001b[1;33m=\u001b[0m\u001b[0mn_boot\u001b[0m\u001b[1;33m,\u001b[0m\u001b[1;33m\u001b[0m\u001b[1;33m\u001b[0m\u001b[0m\n\u001b[1;32m--> 812\u001b[1;33m         \u001b[0malpha\u001b[0m\u001b[1;33m=\u001b[0m\u001b[0malpha\u001b[0m\u001b[1;33m,\u001b[0m \u001b[0mx_jitter\u001b[0m\u001b[1;33m=\u001b[0m\u001b[0mx_jitter\u001b[0m\u001b[1;33m,\u001b[0m \u001b[0my_jitter\u001b[0m\u001b[1;33m=\u001b[0m\u001b[0my_jitter\u001b[0m\u001b[1;33m,\u001b[0m \u001b[0mlegend\u001b[0m\u001b[1;33m=\u001b[0m\u001b[0mlegend\u001b[0m\u001b[1;33m,\u001b[0m\u001b[1;33m\u001b[0m\u001b[1;33m\u001b[0m\u001b[0m\n\u001b[0m\u001b[0;32m    813\u001b[0m     )\n\u001b[0;32m    814\u001b[0m \u001b[1;33m\u001b[0m\u001b[0m\n",
      "\u001b[1;32mD:\\ProgramData\\Anaconda3\\envs\\daps\\lib\\site-packages\\seaborn\\relational.py\u001b[0m in \u001b[0;36m__init__\u001b[1;34m(self, data, variables, x_bins, y_bins, estimator, ci, n_boot, alpha, x_jitter, y_jitter, legend)\u001b[0m\n\u001b[0;32m    585\u001b[0m         )\n\u001b[0;32m    586\u001b[0m \u001b[1;33m\u001b[0m\u001b[0m\n\u001b[1;32m--> 587\u001b[1;33m         \u001b[0msuper\u001b[0m\u001b[1;33m(\u001b[0m\u001b[1;33m)\u001b[0m\u001b[1;33m.\u001b[0m\u001b[0m__init__\u001b[0m\u001b[1;33m(\u001b[0m\u001b[0mdata\u001b[0m\u001b[1;33m=\u001b[0m\u001b[0mdata\u001b[0m\u001b[1;33m,\u001b[0m \u001b[0mvariables\u001b[0m\u001b[1;33m=\u001b[0m\u001b[0mvariables\u001b[0m\u001b[1;33m)\u001b[0m\u001b[1;33m\u001b[0m\u001b[1;33m\u001b[0m\u001b[0m\n\u001b[0m\u001b[0;32m    588\u001b[0m \u001b[1;33m\u001b[0m\u001b[0m\n\u001b[0;32m    589\u001b[0m         \u001b[0mself\u001b[0m\u001b[1;33m.\u001b[0m\u001b[0malpha\u001b[0m \u001b[1;33m=\u001b[0m \u001b[0malpha\u001b[0m\u001b[1;33m\u001b[0m\u001b[1;33m\u001b[0m\u001b[0m\n",
      "\u001b[1;32mD:\\ProgramData\\Anaconda3\\envs\\daps\\lib\\site-packages\\seaborn\\_core.py\u001b[0m in \u001b[0;36m__init__\u001b[1;34m(self, data, variables)\u001b[0m\n\u001b[0;32m    603\u001b[0m     \u001b[1;32mdef\u001b[0m \u001b[0m__init__\u001b[0m\u001b[1;33m(\u001b[0m\u001b[0mself\u001b[0m\u001b[1;33m,\u001b[0m \u001b[0mdata\u001b[0m\u001b[1;33m=\u001b[0m\u001b[1;32mNone\u001b[0m\u001b[1;33m,\u001b[0m \u001b[0mvariables\u001b[0m\u001b[1;33m=\u001b[0m\u001b[1;33m{\u001b[0m\u001b[1;33m}\u001b[0m\u001b[1;33m)\u001b[0m\u001b[1;33m:\u001b[0m\u001b[1;33m\u001b[0m\u001b[1;33m\u001b[0m\u001b[0m\n\u001b[0;32m    604\u001b[0m \u001b[1;33m\u001b[0m\u001b[0m\n\u001b[1;32m--> 605\u001b[1;33m         \u001b[0mself\u001b[0m\u001b[1;33m.\u001b[0m\u001b[0massign_variables\u001b[0m\u001b[1;33m(\u001b[0m\u001b[0mdata\u001b[0m\u001b[1;33m,\u001b[0m \u001b[0mvariables\u001b[0m\u001b[1;33m)\u001b[0m\u001b[1;33m\u001b[0m\u001b[1;33m\u001b[0m\u001b[0m\n\u001b[0m\u001b[0;32m    606\u001b[0m \u001b[1;33m\u001b[0m\u001b[0m\n\u001b[0;32m    607\u001b[0m         \u001b[1;32mfor\u001b[0m \u001b[0mvar\u001b[0m\u001b[1;33m,\u001b[0m \u001b[0mcls\u001b[0m \u001b[1;32min\u001b[0m \u001b[0mself\u001b[0m\u001b[1;33m.\u001b[0m\u001b[0m_semantic_mappings\u001b[0m\u001b[1;33m.\u001b[0m\u001b[0mitems\u001b[0m\u001b[1;33m(\u001b[0m\u001b[1;33m)\u001b[0m\u001b[1;33m:\u001b[0m\u001b[1;33m\u001b[0m\u001b[1;33m\u001b[0m\u001b[0m\n",
      "\u001b[1;32mD:\\ProgramData\\Anaconda3\\envs\\daps\\lib\\site-packages\\seaborn\\_core.py\u001b[0m in \u001b[0;36massign_variables\u001b[1;34m(self, data, variables)\u001b[0m\n\u001b[0;32m    667\u001b[0m             \u001b[0mself\u001b[0m\u001b[1;33m.\u001b[0m\u001b[0minput_format\u001b[0m \u001b[1;33m=\u001b[0m \u001b[1;34m\"long\"\u001b[0m\u001b[1;33m\u001b[0m\u001b[1;33m\u001b[0m\u001b[0m\n\u001b[0;32m    668\u001b[0m             plot_data, variables = self._assign_variables_longform(\n\u001b[1;32m--> 669\u001b[1;33m                 \u001b[0mdata\u001b[0m\u001b[1;33m,\u001b[0m \u001b[1;33m**\u001b[0m\u001b[0mvariables\u001b[0m\u001b[1;33m,\u001b[0m\u001b[1;33m\u001b[0m\u001b[1;33m\u001b[0m\u001b[0m\n\u001b[0m\u001b[0;32m    670\u001b[0m             )\n\u001b[0;32m    671\u001b[0m \u001b[1;33m\u001b[0m\u001b[0m\n",
      "\u001b[1;32mD:\\ProgramData\\Anaconda3\\envs\\daps\\lib\\site-packages\\seaborn\\_core.py\u001b[0m in \u001b[0;36m_assign_variables_longform\u001b[1;34m(self, data, **kwargs)\u001b[0m\n\u001b[0;32m    925\u001b[0m         \u001b[1;31m# Construct a tidy plot DataFrame. This will convert a number of\u001b[0m\u001b[1;33m\u001b[0m\u001b[1;33m\u001b[0m\u001b[1;33m\u001b[0m\u001b[0m\n\u001b[0;32m    926\u001b[0m         \u001b[1;31m# types automatically, aligning on index in case of pandas objects\u001b[0m\u001b[1;33m\u001b[0m\u001b[1;33m\u001b[0m\u001b[1;33m\u001b[0m\u001b[0m\n\u001b[1;32m--> 927\u001b[1;33m         \u001b[0mplot_data\u001b[0m \u001b[1;33m=\u001b[0m \u001b[0mpd\u001b[0m\u001b[1;33m.\u001b[0m\u001b[0mDataFrame\u001b[0m\u001b[1;33m(\u001b[0m\u001b[0mplot_data\u001b[0m\u001b[1;33m)\u001b[0m\u001b[1;33m\u001b[0m\u001b[1;33m\u001b[0m\u001b[0m\n\u001b[0m\u001b[0;32m    928\u001b[0m \u001b[1;33m\u001b[0m\u001b[0m\n\u001b[0;32m    929\u001b[0m         \u001b[1;31m# Reduce the variables dictionary to fields with valid data\u001b[0m\u001b[1;33m\u001b[0m\u001b[1;33m\u001b[0m\u001b[1;33m\u001b[0m\u001b[0m\n",
      "\u001b[1;32mD:\\ProgramData\\Anaconda3\\envs\\daps\\lib\\site-packages\\pandas\\core\\frame.py\u001b[0m in \u001b[0;36m__init__\u001b[1;34m(self, data, index, columns, dtype, copy)\u001b[0m\n\u001b[0;32m    612\u001b[0m         \u001b[1;32melif\u001b[0m \u001b[0misinstance\u001b[0m\u001b[1;33m(\u001b[0m\u001b[0mdata\u001b[0m\u001b[1;33m,\u001b[0m \u001b[0mdict\u001b[0m\u001b[1;33m)\u001b[0m\u001b[1;33m:\u001b[0m\u001b[1;33m\u001b[0m\u001b[1;33m\u001b[0m\u001b[0m\n\u001b[0;32m    613\u001b[0m             \u001b[1;31m# GH#38939 de facto copy defaults to False only in non-dict cases\u001b[0m\u001b[1;33m\u001b[0m\u001b[1;33m\u001b[0m\u001b[1;33m\u001b[0m\u001b[0m\n\u001b[1;32m--> 614\u001b[1;33m             \u001b[0mmgr\u001b[0m \u001b[1;33m=\u001b[0m \u001b[0mdict_to_mgr\u001b[0m\u001b[1;33m(\u001b[0m\u001b[0mdata\u001b[0m\u001b[1;33m,\u001b[0m \u001b[0mindex\u001b[0m\u001b[1;33m,\u001b[0m \u001b[0mcolumns\u001b[0m\u001b[1;33m,\u001b[0m \u001b[0mdtype\u001b[0m\u001b[1;33m=\u001b[0m\u001b[0mdtype\u001b[0m\u001b[1;33m,\u001b[0m \u001b[0mcopy\u001b[0m\u001b[1;33m=\u001b[0m\u001b[0mcopy\u001b[0m\u001b[1;33m,\u001b[0m \u001b[0mtyp\u001b[0m\u001b[1;33m=\u001b[0m\u001b[0mmanager\u001b[0m\u001b[1;33m)\u001b[0m\u001b[1;33m\u001b[0m\u001b[1;33m\u001b[0m\u001b[0m\n\u001b[0m\u001b[0;32m    615\u001b[0m         \u001b[1;32melif\u001b[0m \u001b[0misinstance\u001b[0m\u001b[1;33m(\u001b[0m\u001b[0mdata\u001b[0m\u001b[1;33m,\u001b[0m \u001b[0mma\u001b[0m\u001b[1;33m.\u001b[0m\u001b[0mMaskedArray\u001b[0m\u001b[1;33m)\u001b[0m\u001b[1;33m:\u001b[0m\u001b[1;33m\u001b[0m\u001b[1;33m\u001b[0m\u001b[0m\n\u001b[0;32m    616\u001b[0m             \u001b[1;32mimport\u001b[0m \u001b[0mnumpy\u001b[0m\u001b[1;33m.\u001b[0m\u001b[0mma\u001b[0m\u001b[1;33m.\u001b[0m\u001b[0mmrecords\u001b[0m \u001b[1;32mas\u001b[0m \u001b[0mmrecords\u001b[0m\u001b[1;33m\u001b[0m\u001b[1;33m\u001b[0m\u001b[0m\n",
      "\u001b[1;32mD:\\ProgramData\\Anaconda3\\envs\\daps\\lib\\site-packages\\pandas\\core\\internals\\construction.py\u001b[0m in \u001b[0;36mdict_to_mgr\u001b[1;34m(data, index, columns, dtype, typ, copy)\u001b[0m\n\u001b[0;32m    463\u001b[0m \u001b[1;33m\u001b[0m\u001b[0m\n\u001b[0;32m    464\u001b[0m     return arrays_to_mgr(\n\u001b[1;32m--> 465\u001b[1;33m         \u001b[0marrays\u001b[0m\u001b[1;33m,\u001b[0m \u001b[0mdata_names\u001b[0m\u001b[1;33m,\u001b[0m \u001b[0mindex\u001b[0m\u001b[1;33m,\u001b[0m \u001b[0mcolumns\u001b[0m\u001b[1;33m,\u001b[0m \u001b[0mdtype\u001b[0m\u001b[1;33m=\u001b[0m\u001b[0mdtype\u001b[0m\u001b[1;33m,\u001b[0m \u001b[0mtyp\u001b[0m\u001b[1;33m=\u001b[0m\u001b[0mtyp\u001b[0m\u001b[1;33m,\u001b[0m \u001b[0mconsolidate\u001b[0m\u001b[1;33m=\u001b[0m\u001b[0mcopy\u001b[0m\u001b[1;33m\u001b[0m\u001b[1;33m\u001b[0m\u001b[0m\n\u001b[0m\u001b[0;32m    466\u001b[0m     )\n\u001b[0;32m    467\u001b[0m \u001b[1;33m\u001b[0m\u001b[0m\n",
      "\u001b[1;32mD:\\ProgramData\\Anaconda3\\envs\\daps\\lib\\site-packages\\pandas\\core\\internals\\construction.py\u001b[0m in \u001b[0;36marrays_to_mgr\u001b[1;34m(arrays, arr_names, index, columns, dtype, verify_integrity, typ, consolidate)\u001b[0m\n\u001b[0;32m    117\u001b[0m         \u001b[1;31m# figure out the index, if necessary\u001b[0m\u001b[1;33m\u001b[0m\u001b[1;33m\u001b[0m\u001b[1;33m\u001b[0m\u001b[0m\n\u001b[0;32m    118\u001b[0m         \u001b[1;32mif\u001b[0m \u001b[0mindex\u001b[0m \u001b[1;32mis\u001b[0m \u001b[1;32mNone\u001b[0m\u001b[1;33m:\u001b[0m\u001b[1;33m\u001b[0m\u001b[1;33m\u001b[0m\u001b[0m\n\u001b[1;32m--> 119\u001b[1;33m             \u001b[0mindex\u001b[0m \u001b[1;33m=\u001b[0m \u001b[0m_extract_index\u001b[0m\u001b[1;33m(\u001b[0m\u001b[0marrays\u001b[0m\u001b[1;33m)\u001b[0m\u001b[1;33m\u001b[0m\u001b[1;33m\u001b[0m\u001b[0m\n\u001b[0m\u001b[0;32m    120\u001b[0m         \u001b[1;32melse\u001b[0m\u001b[1;33m:\u001b[0m\u001b[1;33m\u001b[0m\u001b[1;33m\u001b[0m\u001b[0m\n\u001b[0;32m    121\u001b[0m             \u001b[0mindex\u001b[0m \u001b[1;33m=\u001b[0m \u001b[0mensure_index\u001b[0m\u001b[1;33m(\u001b[0m\u001b[0mindex\u001b[0m\u001b[1;33m)\u001b[0m\u001b[1;33m\u001b[0m\u001b[1;33m\u001b[0m\u001b[0m\n",
      "\u001b[1;32mD:\\ProgramData\\Anaconda3\\envs\\daps\\lib\\site-packages\\pandas\\core\\internals\\construction.py\u001b[0m in \u001b[0;36m_extract_index\u001b[1;34m(data)\u001b[0m\n\u001b[0;32m    623\u001b[0m \u001b[1;33m\u001b[0m\u001b[0m\n\u001b[0;32m    624\u001b[0m         \u001b[1;32mif\u001b[0m \u001b[1;32mnot\u001b[0m \u001b[0mindexes\u001b[0m \u001b[1;32mand\u001b[0m \u001b[1;32mnot\u001b[0m \u001b[0mraw_lengths\u001b[0m\u001b[1;33m:\u001b[0m\u001b[1;33m\u001b[0m\u001b[1;33m\u001b[0m\u001b[0m\n\u001b[1;32m--> 625\u001b[1;33m             \u001b[1;32mraise\u001b[0m \u001b[0mValueError\u001b[0m\u001b[1;33m(\u001b[0m\u001b[1;34m\"If using all scalar values, you must pass an index\"\u001b[0m\u001b[1;33m)\u001b[0m\u001b[1;33m\u001b[0m\u001b[1;33m\u001b[0m\u001b[0m\n\u001b[0m\u001b[0;32m    626\u001b[0m \u001b[1;33m\u001b[0m\u001b[0m\n\u001b[0;32m    627\u001b[0m         \u001b[1;32mif\u001b[0m \u001b[0mhave_series\u001b[0m\u001b[1;33m:\u001b[0m\u001b[1;33m\u001b[0m\u001b[1;33m\u001b[0m\u001b[0m\n",
      "\u001b[1;31mValueError\u001b[0m: If using all scalar values, you must pass an index"
     ]
    }
   ],
   "source": [
    "sns.scatterplot(table)"
   ]
  },
  {
   "cell_type": "markdown",
   "id": "cf4e5c1e",
   "metadata": {},
   "source": [
    "precip"
   ]
  },
  {
   "cell_type": "code",
   "execution_count": null,
   "id": "0d80754c",
   "metadata": {
    "ExecuteTime": {
     "end_time": "2022-06-24T04:53:25.767138Z",
     "start_time": "2022-06-24T04:53:25.767138Z"
    }
   },
   "outputs": [],
   "source": [
    "np.cov(Price,precip)"
   ]
  },
  {
   "cell_type": "code",
   "execution_count": null,
   "id": "242c8716",
   "metadata": {
    "ExecuteTime": {
     "end_time": "2022-06-24T04:53:25.768139Z",
     "start_time": "2022-06-24T04:53:25.768139Z"
    },
    "scrolled": true
   },
   "outputs": [],
   "source": [
    "corr1, _ = pearsonr(Price,precip)\n",
    "print(\"pearsonr correlation is\", corr1)"
   ]
  },
  {
   "cell_type": "code",
   "execution_count": null,
   "id": "05f1c148",
   "metadata": {
    "ExecuteTime": {
     "end_time": "2022-06-24T04:53:25.769139Z",
     "start_time": "2022-06-24T04:53:25.769139Z"
    },
    "scrolled": true
   },
   "outputs": [],
   "source": [
    "corr2, _ = spearmanr(Price,precip)\n",
    "print(\"spearmanr correlation\", corr2)"
   ]
  },
  {
   "cell_type": "markdown",
   "id": "85b40867",
   "metadata": {},
   "source": [
    "wind"
   ]
  },
  {
   "cell_type": "code",
   "execution_count": null,
   "id": "051c2995",
   "metadata": {
    "ExecuteTime": {
     "end_time": "2022-06-24T04:53:25.770139Z",
     "start_time": "2022-06-24T04:53:25.770139Z"
    }
   },
   "outputs": [],
   "source": [
    "np.cov(Price,windspeed)"
   ]
  },
  {
   "cell_type": "code",
   "execution_count": null,
   "id": "4423c8d7",
   "metadata": {
    "ExecuteTime": {
     "end_time": "2022-06-24T04:53:25.770139Z",
     "start_time": "2022-06-24T04:53:25.770139Z"
    },
    "scrolled": true
   },
   "outputs": [],
   "source": [
    "corr1, _ = pearsonr(Price,windspeed)\n",
    "print(\"pearsonr correlation is\", corr1)"
   ]
  },
  {
   "cell_type": "code",
   "execution_count": null,
   "id": "4e030640",
   "metadata": {
    "ExecuteTime": {
     "end_time": "2022-06-24T04:53:25.771139Z",
     "start_time": "2022-06-24T04:53:25.771139Z"
    }
   },
   "outputs": [],
   "source": [
    "corr2, _ = spearmanr(Price,windspeed)\n",
    "print(\"spearmanr correlation\", corr2)"
   ]
  },
  {
   "cell_type": "code",
   "execution_count": null,
   "id": "b1968325",
   "metadata": {
    "ExecuteTime": {
     "end_time": "2022-06-24T04:53:25.771139Z",
     "start_time": "2022-06-24T04:53:25.771139Z"
    }
   },
   "outputs": [],
   "source": [
    "sns.set_style('whitegrid') \n",
    "fig=plt.figure(figsize=(12,6))\n",
    "sns.lineplot(data=table,palette='tab10',linewidth=1.5,)\n",
    "plt.ylim(10,110)\n",
    "# plt.ylabel('Auction Price €/tCO2')\n",
    "# sns.set_context('paper', font_scale=1.5, rc={'lines.linewidth':1.5})\n",
    "# sns.despine(offset=(10,10),trim=False)"
   ]
  },
  {
   "cell_type": "code",
   "execution_count": null,
   "id": "6e011250",
   "metadata": {},
   "outputs": [],
   "source": []
  }
 ],
 "metadata": {
  "kernelspec": {
   "display_name": "Python 3 (ipykernel)",
   "language": "python",
   "name": "python3"
  },
  "language_info": {
   "codemirror_mode": {
    "name": "ipython",
    "version": 3
   },
   "file_extension": ".py",
   "mimetype": "text/x-python",
   "name": "python",
   "nbconvert_exporter": "python",
   "pygments_lexer": "ipython3",
   "version": "3.7.11"
  },
  "varInspector": {
   "cols": {
    "lenName": 16,
    "lenType": 16,
    "lenVar": 40
   },
   "kernels_config": {
    "python": {
     "delete_cmd_postfix": "",
     "delete_cmd_prefix": "del ",
     "library": "var_list.py",
     "varRefreshCmd": "print(var_dic_list())"
    },
    "r": {
     "delete_cmd_postfix": ") ",
     "delete_cmd_prefix": "rm(",
     "library": "var_list.r",
     "varRefreshCmd": "cat(var_dic_list()) "
    }
   },
   "types_to_exclude": [
    "module",
    "function",
    "builtin_function_or_method",
    "instance",
    "_Feature"
   ],
   "window_display": false
  }
 },
 "nbformat": 4,
 "nbformat_minor": 5
}
