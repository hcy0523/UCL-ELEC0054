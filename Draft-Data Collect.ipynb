{
 "cells": [
  {
   "cell_type": "code",
   "execution_count": 1,
   "id": "7bd6057e",
   "metadata": {
    "ExecuteTime": {
     "end_time": "2022-07-26T14:59:16.912028Z",
     "start_time": "2022-07-26T14:59:15.539743Z"
    }
   },
   "outputs": [],
   "source": [
    "import os\n",
    "import pandas as pd\n",
    "import numpy as np\n",
    "import pandas_datareader.data as web\n",
    "import datetime\n",
    "from nordpool import elspot, elbas\n",
    "import datetime\n",
    "import matplotlib.pyplot as plt\n",
    "import seaborn as sns\n",
    "%matplotlib inline"
   ]
  },
  {
   "cell_type": "markdown",
   "id": "93468f0b",
   "metadata": {},
   "source": [
    "# 1. Swedish Power Pricing-Daily"
   ]
  },
  {
   "cell_type": "code",
   "execution_count": 2,
   "id": "aaaba1a5",
   "metadata": {
    "ExecuteTime": {
     "end_time": "2022-07-26T14:59:16.928031Z",
     "start_time": "2022-07-26T14:59:16.913028Z"
    }
   },
   "outputs": [],
   "source": [
    "def Date_Capture(area):    \n",
    "    prices_spot = elspot.Prices()\n",
    "    begin_day=datetime.datetime(2019,1,1)\n",
    "    end_date=datetime.datetime.now()\n",
    "    Prices=[]\n",
    "    while begin_day<end_date:\n",
    "        Prices.extend(prices_spot.daily(end_date=end_date,areas=[area])['areas'][area]['values'])\n",
    "        end_date=end_date-datetime.timedelta(days=31)\n",
    "\n",
    "    price={}\n",
    "    for n,i in enumerate(Prices):\n",
    "        price[Prices[n]['end']]=Prices[n]['value']\n",
    "\n",
    "    Price=pd.DataFrame.from_dict(price, orient='index').reset_index()\n",
    "    Price.columns=['Date',area]\n",
    "\n",
    "    Price['Date']=[datetime.datetime.strptime(str(time.replace(tzinfo=None)),'%Y-%m-%d %H:%M:%S').strftime('%Y-%m-%d') for time in Price['Date']]\n",
    "\n",
    "    Price=Price.sort_values(by = \"Date\",ascending=True).reset_index(drop=True).set_index('Date')\n",
    "    return Price"
   ]
  },
  {
   "cell_type": "code",
   "execution_count": 3,
   "id": "cec09e33",
   "metadata": {
    "ExecuteTime": {
     "end_time": "2022-07-26T15:02:33.876021Z",
     "start_time": "2022-07-26T14:59:16.929032Z"
    }
   },
   "outputs": [],
   "source": [
    "SE1=Date_Capture('SE1')\n",
    "SE2=Date_Capture('SE2')\n",
    "SE3=Date_Capture('SE3')\n",
    "SE4=Date_Capture('SE4')"
   ]
  },
  {
   "cell_type": "code",
   "execution_count": 4,
   "id": "d06f27e7",
   "metadata": {
    "ExecuteTime": {
     "end_time": "2022-07-26T15:02:33.891312Z",
     "start_time": "2022-07-26T15:02:33.878033Z"
    },
    "scrolled": true
   },
   "outputs": [],
   "source": [
    "EP=pd.concat([SE1,SE2['SE2'],SE3['SE3'],SE4['SE4']],axis=1)"
   ]
  },
  {
   "cell_type": "code",
   "execution_count": 5,
   "id": "89705813",
   "metadata": {
    "ExecuteTime": {
     "end_time": "2022-07-26T15:02:33.907315Z",
     "start_time": "2022-07-26T15:02:33.892312Z"
    }
   },
   "outputs": [
    {
     "data": {
      "text/html": [
       "<div>\n",
       "<style scoped>\n",
       "    .dataframe tbody tr th:only-of-type {\n",
       "        vertical-align: middle;\n",
       "    }\n",
       "\n",
       "    .dataframe tbody tr th {\n",
       "        vertical-align: top;\n",
       "    }\n",
       "\n",
       "    .dataframe thead th {\n",
       "        text-align: right;\n",
       "    }\n",
       "</style>\n",
       "<table border=\"1\" class=\"dataframe\">\n",
       "  <thead>\n",
       "    <tr style=\"text-align: right;\">\n",
       "      <th></th>\n",
       "      <th>SE1</th>\n",
       "      <th>SE2</th>\n",
       "      <th>SE3</th>\n",
       "      <th>SE4</th>\n",
       "    </tr>\n",
       "    <tr>\n",
       "      <th>Date</th>\n",
       "      <th></th>\n",
       "      <th></th>\n",
       "      <th></th>\n",
       "      <th></th>\n",
       "    </tr>\n",
       "  </thead>\n",
       "  <tbody>\n",
       "    <tr>\n",
       "      <th>2021-01-01</th>\n",
       "      <td>26.17</td>\n",
       "      <td>26.17</td>\n",
       "      <td>26.17</td>\n",
       "      <td>36.24</td>\n",
       "    </tr>\n",
       "    <tr>\n",
       "      <th>2021-01-02</th>\n",
       "      <td>31.58</td>\n",
       "      <td>31.58</td>\n",
       "      <td>31.58</td>\n",
       "      <td>43.17</td>\n",
       "    </tr>\n",
       "    <tr>\n",
       "      <th>2021-01-03</th>\n",
       "      <td>25.78</td>\n",
       "      <td>25.78</td>\n",
       "      <td>25.78</td>\n",
       "      <td>27.31</td>\n",
       "    </tr>\n",
       "    <tr>\n",
       "      <th>2021-01-04</th>\n",
       "      <td>42.17</td>\n",
       "      <td>42.17</td>\n",
       "      <td>42.17</td>\n",
       "      <td>43.88</td>\n",
       "    </tr>\n",
       "    <tr>\n",
       "      <th>2021-01-05</th>\n",
       "      <td>47.29</td>\n",
       "      <td>47.29</td>\n",
       "      <td>47.29</td>\n",
       "      <td>47.29</td>\n",
       "    </tr>\n",
       "  </tbody>\n",
       "</table>\n",
       "</div>"
      ],
      "text/plain": [
       "              SE1    SE2    SE3    SE4\n",
       "Date                                  \n",
       "2021-01-01  26.17  26.17  26.17  36.24\n",
       "2021-01-02  31.58  31.58  31.58  43.17\n",
       "2021-01-03  25.78  25.78  25.78  27.31\n",
       "2021-01-04  42.17  42.17  42.17  43.88\n",
       "2021-01-05  47.29  47.29  47.29  47.29"
      ]
     },
     "execution_count": 5,
     "metadata": {},
     "output_type": "execute_result"
    }
   ],
   "source": [
    "EP.head()"
   ]
  },
  {
   "cell_type": "markdown",
   "id": "5746417e",
   "metadata": {},
   "source": [
    "# 2.  Net Import Electricity-Yearly"
   ]
  },
  {
   "cell_type": "code",
   "execution_count": 6,
   "id": "b899e92e",
   "metadata": {
    "ExecuteTime": {
     "end_time": "2022-07-26T15:02:33.923319Z",
     "start_time": "2022-07-26T15:02:33.908316Z"
    }
   },
   "outputs": [],
   "source": [
    "dir_name = 'figure'\n",
    "if not os.path.isdir(dir_name):\n",
    "    os.makedirs(dir_name)"
   ]
  },
  {
   "cell_type": "code",
   "execution_count": 7,
   "id": "2c44775f",
   "metadata": {
    "ExecuteTime": {
     "end_time": "2022-07-26T15:02:33.939325Z",
     "start_time": "2022-07-26T15:02:33.924319Z"
    }
   },
   "outputs": [],
   "source": [
    "net_imp=pd.read_csv('./Data/net import/net-electricity-imports.csv')"
   ]
  },
  {
   "cell_type": "code",
   "execution_count": 8,
   "id": "2880f2ea",
   "metadata": {
    "ExecuteTime": {
     "end_time": "2022-07-26T15:02:33.955330Z",
     "start_time": "2022-07-26T15:02:33.940325Z"
    }
   },
   "outputs": [],
   "source": [
    "se_imp=net_imp[net_imp['Entity'].str.contains('Sweden')]"
   ]
  },
  {
   "cell_type": "code",
   "execution_count": 9,
   "id": "86ebe8c7",
   "metadata": {
    "ExecuteTime": {
     "end_time": "2022-07-26T15:02:33.971335Z",
     "start_time": "2022-07-26T15:02:33.956331Z"
    }
   },
   "outputs": [],
   "source": [
    "se_imp.reset_index(drop=True,inplace=True)"
   ]
  },
  {
   "cell_type": "code",
   "execution_count": 10,
   "id": "29f04a59",
   "metadata": {
    "ExecuteTime": {
     "end_time": "2022-07-26T15:02:33.987343Z",
     "start_time": "2022-07-26T15:02:33.973336Z"
    }
   },
   "outputs": [],
   "source": [
    "ie=[]\n",
    "for n in se_imp['Net imports (TWh)']:\n",
    "    if n>0:\n",
    "        ie.append('import')\n",
    "    elif n<0:\n",
    "        ie.append('export')"
   ]
  },
  {
   "cell_type": "code",
   "execution_count": 11,
   "id": "5549a360",
   "metadata": {
    "ExecuteTime": {
     "end_time": "2022-07-26T15:02:34.003345Z",
     "start_time": "2022-07-26T15:02:33.988343Z"
    }
   },
   "outputs": [],
   "source": [
    "se_imp.insert(loc=len(se_imp.columns), column='ie', value=ie)"
   ]
  },
  {
   "cell_type": "code",
   "execution_count": 12,
   "id": "b945cba7",
   "metadata": {
    "ExecuteTime": {
     "end_time": "2022-07-26T15:02:35.263890Z",
     "start_time": "2022-07-26T15:02:34.004345Z"
    },
    "scrolled": true
   },
   "outputs": [
    {
     "data": {
      "image/png": "[encoded data removed]",
      "text/plain": [
       "<Figure size 864x432 with 1 Axes>"
      ]
     },
     "metadata": {},
     "output_type": "display_data"
    }
   ],
   "source": [
    "sns.set_style('whitegrid') \n",
    "fig = plt.figure(figsize=(12,6))\n",
    "sns.lineplot(data=se_imp,x='Year',y='Net imports (TWh)',palette='husl',marker='o',markerfacecolor='black')\n",
    "for a, b in zip(se_imp['Year'], se_imp['Net imports (TWh)']):\n",
    "    plt.text(a, b, b,ha='center',va='bottom',fontsize=12)\n",
    "plt.savefig(\"figure/netimport.png\",dpi=600)"
   ]
  },
  {
   "cell_type": "code",
   "execution_count": 13,
   "id": "107b3aa3",
   "metadata": {
    "ExecuteTime": {
     "end_time": "2022-07-26T15:02:35.278898Z",
     "start_time": "2022-07-26T15:02:35.264883Z"
    }
   },
   "outputs": [],
   "source": [
    "dic={se_imp['Year'][n]:se_imp['Net imports (TWh)'][n] for n in se_imp.index}"
   ]
  },
  {
   "cell_type": "code",
   "execution_count": 14,
   "id": "4cbc0336",
   "metadata": {
    "ExecuteTime": {
     "end_time": "2022-07-26T15:02:35.294889Z",
     "start_time": "2022-07-26T15:02:35.279898Z"
    }
   },
   "outputs": [],
   "source": [
    "df=pd.DataFrame.from_dict(dic,columns=['Net imports (TWh)'],orient='index')"
   ]
  },
  {
   "cell_type": "code",
   "execution_count": 15,
   "id": "b4daf80c",
   "metadata": {
    "ExecuteTime": {
     "end_time": "2022-07-26T15:02:35.310896Z",
     "start_time": "2022-07-26T15:02:35.295890Z"
    }
   },
   "outputs": [],
   "source": [
    "df.index.name='Year'"
   ]
  },
  {
   "cell_type": "code",
   "execution_count": 16,
   "id": "9a977966",
   "metadata": {
    "ExecuteTime": {
     "end_time": "2022-07-26T15:02:35.326505Z",
     "start_time": "2022-07-26T15:02:35.311897Z"
    }
   },
   "outputs": [],
   "source": [
    "df.to_csv('./Data/net import/netimport.csv')"
   ]
  },
  {
   "cell_type": "markdown",
   "id": "e0b87863",
   "metadata": {},
   "source": [
    "# 3. Swedish Electricity Mix-Yearly"
   ]
  },
  {
   "cell_type": "code",
   "execution_count": 17,
   "id": "81c4f467",
   "metadata": {
    "ExecuteTime": {
     "end_time": "2022-07-26T15:02:35.341510Z",
     "start_time": "2022-07-26T15:02:35.327507Z"
    }
   },
   "outputs": [],
   "source": [
    "source=pd.read_csv('./Data/source/share-elec-by-source.csv')\n",
    "\n",
    "se_source=source[source['Entity'].str.contains('Sweden')]"
   ]
  },
  {
   "cell_type": "code",
   "execution_count": 18,
   "id": "32dc6bab",
   "metadata": {
    "ExecuteTime": {
     "end_time": "2022-07-26T15:02:35.357515Z",
     "start_time": "2022-07-26T15:02:35.342510Z"
    }
   },
   "outputs": [],
   "source": [
    "# se_source=se_source[se_source['Year']>=2012]"
   ]
  },
  {
   "cell_type": "code",
   "execution_count": 19,
   "id": "13c36489",
   "metadata": {
    "ExecuteTime": {
     "end_time": "2022-07-26T15:02:35.372695Z",
     "start_time": "2022-07-26T15:02:35.358514Z"
    }
   },
   "outputs": [],
   "source": [
    "se_source.reset_index(drop=True,inplace=True)"
   ]
  },
  {
   "cell_type": "code",
   "execution_count": 20,
   "id": "0a68c549",
   "metadata": {
    "ExecuteTime": {
     "end_time": "2022-07-26T15:02:35.388700Z",
     "start_time": "2022-07-26T15:02:35.373695Z"
    }
   },
   "outputs": [],
   "source": [
    "newse_source=se_source[['Year','Coal (% electricity)','Gas (% electricity)','Hydro (% electricity)','Solar (% electricity)','Wind (% electricity)','Oil (% electricity)','Nuclear (% electricity)','Other renewables including bioenergy (% electricity)']]"
   ]
  },
  {
   "cell_type": "code",
   "execution_count": 21,
   "id": "082448cc",
   "metadata": {
    "ExecuteTime": {
     "end_time": "2022-07-26T15:02:35.403704Z",
     "start_time": "2022-07-26T15:02:35.389700Z"
    }
   },
   "outputs": [
    {
     "data": {
      "text/html": [
       "<div>\n",
       "<style scoped>\n",
       "    .dataframe tbody tr th:only-of-type {\n",
       "        vertical-align: middle;\n",
       "    }\n",
       "\n",
       "    .dataframe tbody tr th {\n",
       "        vertical-align: top;\n",
       "    }\n",
       "\n",
       "    .dataframe thead th {\n",
       "        text-align: right;\n",
       "    }\n",
       "</style>\n",
       "<table border=\"1\" class=\"dataframe\">\n",
       "  <thead>\n",
       "    <tr style=\"text-align: right;\">\n",
       "      <th></th>\n",
       "      <th>Year</th>\n",
       "      <th>Coal (% electricity)</th>\n",
       "      <th>Gas (% electricity)</th>\n",
       "      <th>Hydro (% electricity)</th>\n",
       "      <th>Solar (% electricity)</th>\n",
       "      <th>Wind (% electricity)</th>\n",
       "      <th>Oil (% electricity)</th>\n",
       "      <th>Nuclear (% electricity)</th>\n",
       "      <th>Other renewables including bioenergy (% electricity)</th>\n",
       "    </tr>\n",
       "  </thead>\n",
       "  <tbody>\n",
       "    <tr>\n",
       "      <th>0</th>\n",
       "      <td>1990</td>\n",
       "      <td>0.740</td>\n",
       "      <td>0.288</td>\n",
       "      <td>49.664</td>\n",
       "      <td>0.0</td>\n",
       "      <td>0.007</td>\n",
       "      <td>1.267</td>\n",
       "      <td>46.705</td>\n",
       "      <td>1.329</td>\n",
       "    </tr>\n",
       "    <tr>\n",
       "      <th>1</th>\n",
       "      <td>1991</td>\n",
       "      <td>1.334</td>\n",
       "      <td>0.395</td>\n",
       "      <td>43.029</td>\n",
       "      <td>0.0</td>\n",
       "      <td>0.007</td>\n",
       "      <td>1.742</td>\n",
       "      <td>52.228</td>\n",
       "      <td>1.266</td>\n",
       "    </tr>\n",
       "    <tr>\n",
       "      <th>2</th>\n",
       "      <td>1992</td>\n",
       "      <td>1.233</td>\n",
       "      <td>0.541</td>\n",
       "      <td>50.935</td>\n",
       "      <td>0.0</td>\n",
       "      <td>0.021</td>\n",
       "      <td>2.350</td>\n",
       "      <td>43.541</td>\n",
       "      <td>1.377</td>\n",
       "    </tr>\n",
       "    <tr>\n",
       "      <th>3</th>\n",
       "      <td>1993</td>\n",
       "      <td>1.432</td>\n",
       "      <td>0.626</td>\n",
       "      <td>51.391</td>\n",
       "      <td>0.0</td>\n",
       "      <td>0.034</td>\n",
       "      <td>2.754</td>\n",
       "      <td>42.269</td>\n",
       "      <td>1.494</td>\n",
       "    </tr>\n",
       "    <tr>\n",
       "      <th>4</th>\n",
       "      <td>1994</td>\n",
       "      <td>1.829</td>\n",
       "      <td>0.603</td>\n",
       "      <td>41.416</td>\n",
       "      <td>0.0</td>\n",
       "      <td>0.049</td>\n",
       "      <td>3.273</td>\n",
       "      <td>51.268</td>\n",
       "      <td>1.563</td>\n",
       "    </tr>\n",
       "  </tbody>\n",
       "</table>\n",
       "</div>"
      ],
      "text/plain": [
       "   Year  Coal (% electricity)  Gas (% electricity)  Hydro (% electricity)  \\\n",
       "0  1990                 0.740                0.288                 49.664   \n",
       "1  1991                 1.334                0.395                 43.029   \n",
       "2  1992                 1.233                0.541                 50.935   \n",
       "3  1993                 1.432                0.626                 51.391   \n",
       "4  1994                 1.829                0.603                 41.416   \n",
       "\n",
       "   Solar (% electricity)  Wind (% electricity)  Oil (% electricity)  \\\n",
       "0                    0.0                 0.007                1.267   \n",
       "1                    0.0                 0.007                1.742   \n",
       "2                    0.0                 0.021                2.350   \n",
       "3                    0.0                 0.034                2.754   \n",
       "4                    0.0                 0.049                3.273   \n",
       "\n",
       "   Nuclear (% electricity)  \\\n",
       "0                   46.705   \n",
       "1                   52.228   \n",
       "2                   43.541   \n",
       "3                   42.269   \n",
       "4                   51.268   \n",
       "\n",
       "   Other renewables including bioenergy (% electricity)  \n",
       "0                                              1.329     \n",
       "1                                              1.266     \n",
       "2                                              1.377     \n",
       "3                                              1.494     \n",
       "4                                              1.563     "
      ]
     },
     "execution_count": 21,
     "metadata": {},
     "output_type": "execute_result"
    }
   ],
   "source": [
    "newse_source.head()"
   ]
  },
  {
   "cell_type": "code",
   "execution_count": 22,
   "id": "5ced4485",
   "metadata": {
    "ExecuteTime": {
     "end_time": "2022-07-26T15:02:35.419713Z",
     "start_time": "2022-07-26T15:02:35.404704Z"
    }
   },
   "outputs": [],
   "source": [
    "new=newse_source.sort_values(by = \"Year\",ascending=True)"
   ]
  },
  {
   "cell_type": "code",
   "execution_count": 23,
   "id": "fe20dfce",
   "metadata": {
    "ExecuteTime": {
     "end_time": "2022-07-26T15:02:35.435715Z",
     "start_time": "2022-07-26T15:02:35.420713Z"
    }
   },
   "outputs": [],
   "source": [
    "newse_source=new[new['Year']>=2012]"
   ]
  },
  {
   "cell_type": "code",
   "execution_count": 24,
   "id": "08fdf36c",
   "metadata": {
    "ExecuteTime": {
     "end_time": "2022-07-26T15:02:35.451717Z",
     "start_time": "2022-07-26T15:02:35.436717Z"
    }
   },
   "outputs": [],
   "source": [
    "newse_source.set_index(newse_source['Year'],inplace=True)\n",
    "final_source=newse_source.drop(columns='Year')"
   ]
  },
  {
   "cell_type": "code",
   "execution_count": 25,
   "id": "2ba4488a",
   "metadata": {
    "ExecuteTime": {
     "end_time": "2022-07-26T15:02:37.049601Z",
     "start_time": "2022-07-26T15:02:35.452718Z"
    },
    "scrolled": true
   },
   "outputs": [
    {
     "data": {
      "image/png": "[encoded data removed]",
      "text/plain": [
       "<Figure size 864x576 with 1 Axes>"
      ]
     },
     "metadata": {},
     "output_type": "display_data"
    }
   ],
   "source": [
    "sns.set_style('ticks') \n",
    "fig = plt.figure(figsize=(12,8))\n",
    "sns.set_context('paper', font_scale=1.5, rc={'lines.linewidth':2.5})\n",
    "sns.lineplot(data=final_source,linewidth=2.5)\n",
    "plt.text(2021,final_source.iloc[9,2] , 'Hydro '+str(final_source.iloc[9,2])+'%',ha='left',va='bottom',fontsize=12)\n",
    "plt.text(2021,final_source.iloc[9,4] , 'Wind '+str(final_source.iloc[9,4])+'%',ha='left',va='bottom',fontsize=12)\n",
    "plt.text(2021,final_source.iloc[9,6] , 'Nuclear '+str(final_source.iloc[9,6])+'%',ha='left',va='bottom',fontsize=12)\n",
    "plt.text(2021,final_source.iloc[9,7] , 'Other renewables \\n'+str(final_source.iloc[9,7])+'%',ha='left',va='bottom',fontsize=12)\n",
    "sns.despine(offset=(10,10),trim=False)\n",
    "plt.savefig(\"figure/source.png\",dpi=600)"
   ]
  },
  {
   "cell_type": "code",
   "execution_count": 26,
   "id": "f1e62963",
   "metadata": {
    "ExecuteTime": {
     "end_time": "2022-07-26T15:02:37.065603Z",
     "start_time": "2022-07-26T15:02:37.050600Z"
    }
   },
   "outputs": [],
   "source": [
    "new.to_csv('./Data/source/sourceshare.csv',index=False)"
   ]
  },
  {
   "cell_type": "markdown",
   "id": "c1402c34",
   "metadata": {},
   "source": [
    "# 4. Carbon Price-Daily"
   ]
  },
  {
   "cell_type": "code",
   "execution_count": 27,
   "id": "d539f842",
   "metadata": {
    "ExecuteTime": {
     "end_time": "2022-07-26T15:02:37.112620Z",
     "start_time": "2022-07-26T15:02:37.066604Z"
    }
   },
   "outputs": [],
   "source": [
    "excelFile = \"./data/carbon/emission-spot-primary-market-auction-report-2019-data.xlsx\"\n",
    "df = pd.read_excel(excelFile,sheet_name= \"Primary Market Auction\")\n",
    "data=df.iloc[:,[1,5]]\n",
    "Data19=data.dropna(axis=0, how='any', thresh=None, subset=None, inplace=False)\n",
    "Data19=Data19.rename(columns=data.iloc[4,:]).drop([3,4],axis=0)"
   ]
  },
  {
   "cell_type": "code",
   "execution_count": 28,
   "id": "03aae083",
   "metadata": {
    "ExecuteTime": {
     "end_time": "2022-07-26T15:02:37.524335Z",
     "start_time": "2022-07-26T15:02:37.115622Z"
    }
   },
   "outputs": [
    {
     "name": "stderr",
     "output_type": "stream",
     "text": [
      "D:\\ProgramData\\Anaconda3\\envs\\daps\\lib\\site-packages\\openpyxl\\styles\\stylesheet.py:226: UserWarning: Workbook contains no default style, apply openpyxl's default\n",
      "  warn(\"Workbook contains no default style, apply openpyxl's default\")\n"
     ]
    }
   ],
   "source": [
    "excelFile = \"./data/carbon/emission-spot-primary-market-auction-report-2020-data.xlsx\"\n",
    "df = pd.read_excel(excelFile,sheet_name= \"Primary Market Auction\")\n",
    "data=df.iloc[:,[1,6]]\n",
    "Data20=data.dropna(axis=0, how='any', thresh=None, subset=None, inplace=False)\n",
    "Data20=Data20.rename(columns=data.iloc[4,:]).drop([3,4],axis=0)"
   ]
  },
  {
   "cell_type": "code",
   "execution_count": 29,
   "id": "c680f64a",
   "metadata": {
    "ExecuteTime": {
     "end_time": "2022-07-26T15:02:37.666519Z",
     "start_time": "2022-07-26T15:02:37.525335Z"
    }
   },
   "outputs": [],
   "source": [
    "excelFile = \"./data/carbon/emission-spot-primary-market-auction-report-2021-data.xlsx\"\n",
    "df = pd.read_excel(excelFile,sheet_name= \"Primary Market Auction\")\n",
    "data=df.iloc[:,[1,6]]\n",
    "Data21=data.dropna(axis=0, how='any', thresh=None, subset=None, inplace=False)\n",
    "Data21=Data21.rename(columns=data.iloc[4,:]).drop([3,4],axis=0)"
   ]
  },
  {
   "cell_type": "code",
   "execution_count": 30,
   "id": "5b5e1c07",
   "metadata": {
    "ExecuteTime": {
     "end_time": "2022-07-26T15:02:37.744538Z",
     "start_time": "2022-07-26T15:02:37.667522Z"
    }
   },
   "outputs": [],
   "source": [
    "excelFile = \"./data/carbon/emission-spot-primary-market-auction-report-2022-data.xlsx\"\n",
    "df = pd.read_excel(excelFile,sheet_name= \"Primary Market Auction\")\n",
    "data=df.iloc[:,[1,6]]\n",
    "Data22=data.dropna(axis=0, how='any', thresh=None, subset=None, inplace=False)\n",
    "Data22=Data22.rename(columns=data.iloc[4,:]).drop([3,4],axis=0)"
   ]
  },
  {
   "cell_type": "code",
   "execution_count": 31,
   "id": "7470f22c",
   "metadata": {
    "ExecuteTime": {
     "end_time": "2022-07-26T15:02:37.759541Z",
     "start_time": "2022-07-26T15:02:37.745538Z"
    }
   },
   "outputs": [],
   "source": [
    "carbon=pd.concat([Data19,Data20,Data21,Data22])"
   ]
  },
  {
   "cell_type": "code",
   "execution_count": 32,
   "id": "87ea9d17",
   "metadata": {
    "ExecuteTime": {
     "end_time": "2022-07-26T15:02:37.775544Z",
     "start_time": "2022-07-26T15:02:37.760541Z"
    }
   },
   "outputs": [],
   "source": [
    "Carbon=carbon.sort_values(by = \"Date\",ascending=True).reset_index(drop=True).set_index('Date')"
   ]
  },
  {
   "cell_type": "code",
   "execution_count": 33,
   "id": "ed5cf6d9",
   "metadata": {
    "ExecuteTime": {
     "end_time": "2022-07-26T15:02:37.791548Z",
     "start_time": "2022-07-26T15:02:37.776545Z"
    }
   },
   "outputs": [
    {
     "data": {
      "text/html": [
       "<div>\n",
       "<style scoped>\n",
       "    .dataframe tbody tr th:only-of-type {\n",
       "        vertical-align: middle;\n",
       "    }\n",
       "\n",
       "    .dataframe tbody tr th {\n",
       "        vertical-align: top;\n",
       "    }\n",
       "\n",
       "    .dataframe thead th {\n",
       "        text-align: right;\n",
       "    }\n",
       "</style>\n",
       "<table border=\"1\" class=\"dataframe\">\n",
       "  <thead>\n",
       "    <tr style=\"text-align: right;\">\n",
       "      <th></th>\n",
       "      <th>Auction Price €/tCO2</th>\n",
       "    </tr>\n",
       "    <tr>\n",
       "      <th>Date</th>\n",
       "      <th></th>\n",
       "    </tr>\n",
       "  </thead>\n",
       "  <tbody>\n",
       "    <tr>\n",
       "      <th>2019-01-07</th>\n",
       "      <td>23.01</td>\n",
       "    </tr>\n",
       "    <tr>\n",
       "      <th>2019-01-08</th>\n",
       "      <td>22.4</td>\n",
       "    </tr>\n",
       "    <tr>\n",
       "      <th>2019-01-10</th>\n",
       "      <td>21.4</td>\n",
       "    </tr>\n",
       "    <tr>\n",
       "      <th>2019-01-14</th>\n",
       "      <td>21.95</td>\n",
       "    </tr>\n",
       "    <tr>\n",
       "      <th>2019-01-15</th>\n",
       "      <td>22.55</td>\n",
       "    </tr>\n",
       "    <tr>\n",
       "      <th>...</th>\n",
       "      <td>...</td>\n",
       "    </tr>\n",
       "    <tr>\n",
       "      <th>2022-06-16</th>\n",
       "      <td>85.95</td>\n",
       "    </tr>\n",
       "    <tr>\n",
       "      <th>2022-06-17</th>\n",
       "      <td>83.0</td>\n",
       "    </tr>\n",
       "    <tr>\n",
       "      <th>2022-06-20</th>\n",
       "      <td>83.51</td>\n",
       "    </tr>\n",
       "    <tr>\n",
       "      <th>2022-06-21</th>\n",
       "      <td>84.26</td>\n",
       "    </tr>\n",
       "    <tr>\n",
       "      <th>2022-06-22</th>\n",
       "      <td>83.06</td>\n",
       "    </tr>\n",
       "  </tbody>\n",
       "</table>\n",
       "<p>765 rows × 1 columns</p>\n",
       "</div>"
      ],
      "text/plain": [
       "           Auction Price €/tCO2\n",
       "Date                           \n",
       "2019-01-07                23.01\n",
       "2019-01-08                 22.4\n",
       "2019-01-10                 21.4\n",
       "2019-01-14                21.95\n",
       "2019-01-15                22.55\n",
       "...                         ...\n",
       "2022-06-16                85.95\n",
       "2022-06-17                 83.0\n",
       "2022-06-20                83.51\n",
       "2022-06-21                84.26\n",
       "2022-06-22                83.06\n",
       "\n",
       "[765 rows x 1 columns]"
      ]
     },
     "execution_count": 33,
     "metadata": {},
     "output_type": "execute_result"
    }
   ],
   "source": [
    "Carbon"
   ]
  },
  {
   "cell_type": "code",
   "execution_count": 34,
   "id": "fd0a50cb",
   "metadata": {
    "ExecuteTime": {
     "end_time": "2022-07-26T15:02:37.807557Z",
     "start_time": "2022-07-26T15:02:37.792548Z"
    }
   },
   "outputs": [],
   "source": [
    "Carbon.to_csv('./data/carbon/Carbon.csv')"
   ]
  },
  {
   "cell_type": "markdown",
   "id": "e35c4f7d",
   "metadata": {},
   "source": [
    "supported values are 'Accent', 'Accent_r', 'Blues', 'Blues_r', 'BrBG', 'BrBG_r', 'BuGn', 'BuGn_r', 'BuPu', 'BuPu_r', 'CMRmap', 'CMRmap_r', 'Dark2', 'Dark2_r', 'GnBu', 'GnBu_r', 'Greens', 'Greens_r', 'Greys', 'Greys_r', 'OrRd', 'OrRd_r', 'Oranges', 'Oranges_r', 'PRGn', 'PRGn_r', 'Paired', 'Paired_r', 'Pastel1', 'Pastel1_r', 'Pastel2', 'Pastel2_r', 'PiYG', 'PiYG_r', 'PuBu', 'PuBuGn', 'PuBuGn_r', 'PuBu_r', 'PuOr', 'PuOr_r', 'PuRd', 'PuRd_r', 'Purples', 'Purples_r', 'RdBu', 'RdBu_r', 'RdGy', 'RdGy_r', 'RdPu', 'RdPu_r', 'RdYlBu', 'RdYlBu_r', 'RdYlGn', 'RdYlGn_r', 'Reds', 'Reds_r', 'Set1', 'Set1_r', 'Set2', 'Set2_r', 'Set3', 'Set3_r', 'Spectral', 'Spectral_r', 'Wistia', 'Wistia_r', 'YlGn', 'YlGnBu', 'YlGnBu_r', 'YlGn_r', 'YlOrBr', 'YlOrBr_r', 'YlOrRd', 'YlOrRd_r', 'afmhot', 'afmhot_r', 'autumn', 'autumn_r', 'binary', 'binary_r', 'bone', 'bone_r', 'brg', 'brg_r', 'bwr', 'bwr_r', 'cividis', 'cividis_r', 'cool', 'cool_r', 'coolwarm', 'coolwarm_r', 'copper', 'copper_r', 'crest', 'crest_r', 'cubehelix', 'cubehelix_r', 'flag', 'flag_r', 'flare', 'flare_r', 'gist_earth', 'gist_earth_r', 'gist_gray', 'gist_gray_r', 'gist_heat', 'gist_heat_r', 'gist_ncar', 'gist_ncar_r', 'gist_rainbow', 'gist_rainbow_r', 'gist_stern', 'gist_stern_r', 'gist_yarg', 'gist_yarg_r', 'gnuplot', 'gnuplot2', 'gnuplot2_r', 'gnuplot_r', 'gray', 'gray_r', 'hot', 'hot_r', 'hsv', 'hsv_r', 'icefire', 'icefire_r', 'inferno', 'inferno_r', 'jet', 'jet_r', 'magma', 'magma_r', 'mako', 'mako_r', 'nipy_spectral', 'nipy_spectral_r', 'ocean', 'ocean_r', 'pink', 'pink_r', 'plasma', 'plasma_r', 'prism', 'prism_r', 'rainbow', 'rainbow_r', 'rocket', 'rocket_r', 'seismic', 'seismic_r', 'spring', 'spring_r', 'summer', 'summer_r', 'tab10', 'tab10_r', 'tab20', 'tab20_r', 'tab20b', 'tab20b_r', 'tab20c', 'tab20c_r', 'terrain', 'terrain_r', 'turbo', 'turbo_r', 'twilight', 'twilight_r', 'twilight_shifted', 'twilight_shifted_r', 'viridis', 'viridis_r', 'vlag', 'vlag_r', 'winter', 'winter_r'"
   ]
  },
  {
   "cell_type": "code",
   "execution_count": 35,
   "id": "9e1de765",
   "metadata": {
    "ExecuteTime": {
     "end_time": "2022-07-26T15:02:37.823559Z",
     "start_time": "2022-07-26T15:02:37.808556Z"
    }
   },
   "outputs": [
    {
     "data": {
      "text/plain": [
       "pandas._libs.tslibs.timestamps.Timestamp"
      ]
     },
     "execution_count": 35,
     "metadata": {},
     "output_type": "execute_result"
    }
   ],
   "source": [
    "type(Carbon.index[0])"
   ]
  },
  {
   "cell_type": "code",
   "execution_count": 36,
   "id": "031ec9bb",
   "metadata": {
    "ExecuteTime": {
     "end_time": "2022-07-26T15:02:38.330375Z",
     "start_time": "2022-07-26T15:02:37.824559Z"
    },
    "scrolled": false
   },
   "outputs": [
    {
     "data": {
      "image/png": "[encoded data removed]",
      "text/plain": [
       "<Figure size 864x432 with 1 Axes>"
      ]
     },
     "metadata": {},
     "output_type": "display_data"
    }
   ],
   "source": [
    "sns.set_style('whitegrid') \n",
    "fig=plt.figure(figsize=(12,6))\n",
    "sns.lineplot(data=Carbon,palette='Oranges_r',linewidth=1.5)\n",
    "plt.ylim(10,110)\n",
    "plt.ylabel('Auction Price €/tCO2')\n",
    "sns.set_context('paper', font_scale=1.5, rc={'lines.linewidth':1.5})\n",
    "sns.despine(offset=(10,10),trim=False)"
   ]
  },
  {
   "cell_type": "markdown",
   "id": "7cfe9912",
   "metadata": {},
   "source": [
    "# 5. Swedish Weather Data-Daily"
   ]
  },
  {
   "cell_type": "code",
   "execution_count": 37,
   "id": "694a46c1",
   "metadata": {
    "ExecuteTime": {
     "end_time": "2022-07-26T15:02:38.361737Z",
     "start_time": "2022-07-26T15:02:38.331367Z"
    }
   },
   "outputs": [],
   "source": [
    "w0=pd.read_csv('./data/weather data/sweden 2018-10-01 to 2018-12-31.csv')\n",
    "w1=pd.read_csv('./data/weather data/sweden 2019-01-01 to 2020-12-31.csv')\n",
    "w2=pd.read_csv('./data/weather data/sweden 2021-01-01 to 2022-07-01.csv')"
   ]
  },
  {
   "cell_type": "code",
   "execution_count": 38,
   "id": "39c586ee",
   "metadata": {
    "ExecuteTime": {
     "end_time": "2022-07-26T15:02:38.377387Z",
     "start_time": "2022-07-26T15:02:38.362739Z"
    }
   },
   "outputs": [],
   "source": [
    "w=pd.concat([w0,w1,w2])"
   ]
  },
  {
   "cell_type": "code",
   "execution_count": 39,
   "id": "9c693e9c",
   "metadata": {
    "ExecuteTime": {
     "end_time": "2022-07-26T15:02:38.392392Z",
     "start_time": "2022-07-26T15:02:38.378390Z"
    },
    "scrolled": true
   },
   "outputs": [
    {
     "data": {
      "text/html": [
       "<div>\n",
       "<style scoped>\n",
       "    .dataframe tbody tr th:only-of-type {\n",
       "        vertical-align: middle;\n",
       "    }\n",
       "\n",
       "    .dataframe tbody tr th {\n",
       "        vertical-align: top;\n",
       "    }\n",
       "\n",
       "    .dataframe thead th {\n",
       "        text-align: right;\n",
       "    }\n",
       "</style>\n",
       "<table border=\"1\" class=\"dataframe\">\n",
       "  <thead>\n",
       "    <tr style=\"text-align: right;\">\n",
       "      <th></th>\n",
       "      <th>name</th>\n",
       "      <th>datetime</th>\n",
       "      <th>tempmax</th>\n",
       "      <th>tempmin</th>\n",
       "      <th>temp</th>\n",
       "      <th>feelslikemax</th>\n",
       "      <th>feelslikemin</th>\n",
       "      <th>feelslike</th>\n",
       "      <th>dew</th>\n",
       "      <th>humidity</th>\n",
       "      <th>...</th>\n",
       "      <th>solarenergy</th>\n",
       "      <th>uvindex</th>\n",
       "      <th>severerisk</th>\n",
       "      <th>sunrise</th>\n",
       "      <th>sunset</th>\n",
       "      <th>moonphase</th>\n",
       "      <th>conditions</th>\n",
       "      <th>description</th>\n",
       "      <th>icon</th>\n",
       "      <th>stations</th>\n",
       "    </tr>\n",
       "  </thead>\n",
       "  <tbody>\n",
       "    <tr>\n",
       "      <th>0</th>\n",
       "      <td>sweden</td>\n",
       "      <td>2018-10-01</td>\n",
       "      <td>11.8</td>\n",
       "      <td>6.8</td>\n",
       "      <td>8.9</td>\n",
       "      <td>11.8</td>\n",
       "      <td>6.0</td>\n",
       "      <td>8.1</td>\n",
       "      <td>6.3</td>\n",
       "      <td>84.4</td>\n",
       "      <td>...</td>\n",
       "      <td>5.7</td>\n",
       "      <td>3</td>\n",
       "      <td>NaN</td>\n",
       "      <td>2018-10-01T06:52:15</td>\n",
       "      <td>2018-10-01T18:21:22</td>\n",
       "      <td>0.70</td>\n",
       "      <td>Rain</td>\n",
       "      <td>Clear conditions throughout the day with late ...</td>\n",
       "      <td>rain</td>\n",
       "      <td>02486099999,02464099999,02469099999,0248909999...</td>\n",
       "    </tr>\n",
       "    <tr>\n",
       "      <th>1</th>\n",
       "      <td>sweden</td>\n",
       "      <td>2018-10-02</td>\n",
       "      <td>9.7</td>\n",
       "      <td>3.9</td>\n",
       "      <td>7.3</td>\n",
       "      <td>8.3</td>\n",
       "      <td>3.9</td>\n",
       "      <td>6.3</td>\n",
       "      <td>5.3</td>\n",
       "      <td>87.2</td>\n",
       "      <td>...</td>\n",
       "      <td>4.7</td>\n",
       "      <td>2</td>\n",
       "      <td>NaN</td>\n",
       "      <td>2018-10-02T06:54:33</td>\n",
       "      <td>2018-10-02T18:18:25</td>\n",
       "      <td>0.76</td>\n",
       "      <td>Rain</td>\n",
       "      <td>Clear conditions throughout the day with rain.</td>\n",
       "      <td>rain</td>\n",
       "      <td>02486099999,02464099999,02469099999,0248909999...</td>\n",
       "    </tr>\n",
       "    <tr>\n",
       "      <th>2</th>\n",
       "      <td>sweden</td>\n",
       "      <td>2018-10-03</td>\n",
       "      <td>9.5</td>\n",
       "      <td>5.1</td>\n",
       "      <td>7.1</td>\n",
       "      <td>6.7</td>\n",
       "      <td>2.8</td>\n",
       "      <td>4.7</td>\n",
       "      <td>3.7</td>\n",
       "      <td>80.1</td>\n",
       "      <td>...</td>\n",
       "      <td>4.3</td>\n",
       "      <td>3</td>\n",
       "      <td>NaN</td>\n",
       "      <td>2018-10-03T06:56:52</td>\n",
       "      <td>2018-10-03T18:15:29</td>\n",
       "      <td>0.82</td>\n",
       "      <td>Rain</td>\n",
       "      <td>Clear conditions throughout the day with rain ...</td>\n",
       "      <td>rain</td>\n",
       "      <td>02486099999,02464099999,02469099999,0248909999...</td>\n",
       "    </tr>\n",
       "    <tr>\n",
       "      <th>3</th>\n",
       "      <td>sweden</td>\n",
       "      <td>2018-10-04</td>\n",
       "      <td>8.9</td>\n",
       "      <td>2.2</td>\n",
       "      <td>5.7</td>\n",
       "      <td>7.3</td>\n",
       "      <td>-0.2</td>\n",
       "      <td>4.0</td>\n",
       "      <td>1.8</td>\n",
       "      <td>77.2</td>\n",
       "      <td>...</td>\n",
       "      <td>4.5</td>\n",
       "      <td>4</td>\n",
       "      <td>NaN</td>\n",
       "      <td>2018-10-04T06:59:11</td>\n",
       "      <td>2018-10-04T18:12:33</td>\n",
       "      <td>0.87</td>\n",
       "      <td>Rain</td>\n",
       "      <td>Clear conditions throughout the day with late ...</td>\n",
       "      <td>rain</td>\n",
       "      <td>02486099999,02464099999,02469099999,0248909999...</td>\n",
       "    </tr>\n",
       "    <tr>\n",
       "      <th>4</th>\n",
       "      <td>sweden</td>\n",
       "      <td>2018-10-05</td>\n",
       "      <td>16.0</td>\n",
       "      <td>8.4</td>\n",
       "      <td>12.2</td>\n",
       "      <td>16.0</td>\n",
       "      <td>6.4</td>\n",
       "      <td>11.9</td>\n",
       "      <td>6.8</td>\n",
       "      <td>71.4</td>\n",
       "      <td>...</td>\n",
       "      <td>5.9</td>\n",
       "      <td>4</td>\n",
       "      <td>NaN</td>\n",
       "      <td>2018-10-05T07:01:31</td>\n",
       "      <td>2018-10-05T18:09:38</td>\n",
       "      <td>0.92</td>\n",
       "      <td>Rain</td>\n",
       "      <td>Clear conditions throughout the day with morni...</td>\n",
       "      <td>rain</td>\n",
       "      <td>02486099999,02464099999,02469099999,0248909999...</td>\n",
       "    </tr>\n",
       "  </tbody>\n",
       "</table>\n",
       "<p>5 rows × 33 columns</p>\n",
       "</div>"
      ],
      "text/plain": [
       "     name    datetime  tempmax  tempmin  temp  feelslikemax  feelslikemin  \\\n",
       "0  sweden  2018-10-01     11.8      6.8   8.9          11.8           6.0   \n",
       "1  sweden  2018-10-02      9.7      3.9   7.3           8.3           3.9   \n",
       "2  sweden  2018-10-03      9.5      5.1   7.1           6.7           2.8   \n",
       "3  sweden  2018-10-04      8.9      2.2   5.7           7.3          -0.2   \n",
       "4  sweden  2018-10-05     16.0      8.4  12.2          16.0           6.4   \n",
       "\n",
       "   feelslike  dew  humidity  ...  solarenergy  uvindex  severerisk  \\\n",
       "0        8.1  6.3      84.4  ...          5.7        3         NaN   \n",
       "1        6.3  5.3      87.2  ...          4.7        2         NaN   \n",
       "2        4.7  3.7      80.1  ...          4.3        3         NaN   \n",
       "3        4.0  1.8      77.2  ...          4.5        4         NaN   \n",
       "4       11.9  6.8      71.4  ...          5.9        4         NaN   \n",
       "\n",
       "               sunrise               sunset  moonphase  conditions  \\\n",
       "0  2018-10-01T06:52:15  2018-10-01T18:21:22       0.70        Rain   \n",
       "1  2018-10-02T06:54:33  2018-10-02T18:18:25       0.76        Rain   \n",
       "2  2018-10-03T06:56:52  2018-10-03T18:15:29       0.82        Rain   \n",
       "3  2018-10-04T06:59:11  2018-10-04T18:12:33       0.87        Rain   \n",
       "4  2018-10-05T07:01:31  2018-10-05T18:09:38       0.92        Rain   \n",
       "\n",
       "                                         description  icon  \\\n",
       "0  Clear conditions throughout the day with late ...  rain   \n",
       "1     Clear conditions throughout the day with rain.  rain   \n",
       "2  Clear conditions throughout the day with rain ...  rain   \n",
       "3  Clear conditions throughout the day with late ...  rain   \n",
       "4  Clear conditions throughout the day with morni...  rain   \n",
       "\n",
       "                                            stations  \n",
       "0  02486099999,02464099999,02469099999,0248909999...  \n",
       "1  02486099999,02464099999,02469099999,0248909999...  \n",
       "2  02486099999,02464099999,02469099999,0248909999...  \n",
       "3  02486099999,02464099999,02469099999,0248909999...  \n",
       "4  02486099999,02464099999,02469099999,0248909999...  \n",
       "\n",
       "[5 rows x 33 columns]"
      ]
     },
     "execution_count": 39,
     "metadata": {},
     "output_type": "execute_result"
    }
   ],
   "source": [
    "w.head()"
   ]
  },
  {
   "cell_type": "code",
   "execution_count": 40,
   "id": "2b425336",
   "metadata": {
    "ExecuteTime": {
     "end_time": "2022-07-26T15:02:38.408395Z",
     "start_time": "2022-07-26T15:02:38.393392Z"
    }
   },
   "outputs": [
    {
     "data": {
      "text/plain": [
       "Index(['name', 'datetime', 'tempmax', 'tempmin', 'temp', 'feelslikemax',\n",
       "       'feelslikemin', 'feelslike', 'dew', 'humidity', 'precip', 'precipprob',\n",
       "       'precipcover', 'preciptype', 'snow', 'snowdepth', 'windgust',\n",
       "       'windspeed', 'winddir', 'sealevelpressure', 'cloudcover', 'visibility',\n",
       "       'solarradiation', 'solarenergy', 'uvindex', 'severerisk', 'sunrise',\n",
       "       'sunset', 'moonphase', 'conditions', 'description', 'icon', 'stations'],\n",
       "      dtype='object')"
      ]
     },
     "execution_count": 40,
     "metadata": {},
     "output_type": "execute_result"
    }
   ],
   "source": [
    "w.columns"
   ]
  },
  {
   "cell_type": "code",
   "execution_count": 41,
   "id": "2d251b4e",
   "metadata": {
    "ExecuteTime": {
     "end_time": "2022-07-26T15:02:38.424399Z",
     "start_time": "2022-07-26T15:02:38.409396Z"
    }
   },
   "outputs": [],
   "source": [
    "weather=w.loc[:,['datetime','temp','precip','windspeed']].rename(columns={'datetime':'Date'})"
   ]
  },
  {
   "cell_type": "code",
   "execution_count": 42,
   "id": "03b9580a",
   "metadata": {
    "ExecuteTime": {
     "end_time": "2022-07-26T15:02:38.440406Z",
     "start_time": "2022-07-26T15:02:38.425400Z"
    }
   },
   "outputs": [],
   "source": [
    "# weather.columns=(['Date','temp','precip','windspeed'])"
   ]
  },
  {
   "cell_type": "code",
   "execution_count": 43,
   "id": "ef856b23",
   "metadata": {
    "ExecuteTime": {
     "end_time": "2022-07-26T15:02:38.456411Z",
     "start_time": "2022-07-26T15:02:38.441407Z"
    },
    "scrolled": true
   },
   "outputs": [],
   "source": [
    "weather.set_index('Date',drop=True,inplace=True)"
   ]
  },
  {
   "cell_type": "code",
   "execution_count": 44,
   "id": "b0ee7d12",
   "metadata": {
    "ExecuteTime": {
     "end_time": "2022-07-26T15:02:38.472418Z",
     "start_time": "2022-07-26T15:02:38.457412Z"
    }
   },
   "outputs": [],
   "source": [
    "weather.to_csv('./data/weather data/weather.csv')"
   ]
  },
  {
   "cell_type": "markdown",
   "id": "7a7a5388",
   "metadata": {},
   "source": [
    "# 6. Electric vehicle-Yearly"
   ]
  },
  {
   "cell_type": "code",
   "execution_count": 45,
   "id": "e8ecd0d5",
   "metadata": {
    "ExecuteTime": {
     "end_time": "2022-07-26T15:02:38.488425Z",
     "start_time": "2022-07-26T15:02:38.473418Z"
    }
   },
   "outputs": [],
   "source": [
    "EV=pd.read_csv('./data/EV/IEA-EV-data.csv')"
   ]
  },
  {
   "cell_type": "code",
   "execution_count": 46,
   "id": "0ec05816",
   "metadata": {
    "ExecuteTime": {
     "end_time": "2022-07-26T15:02:38.504426Z",
     "start_time": "2022-07-26T15:02:38.489426Z"
    }
   },
   "outputs": [],
   "source": [
    "SEV=EV[EV['region'].str.contains('Sweden')]"
   ]
  },
  {
   "cell_type": "code",
   "execution_count": 47,
   "id": "131c3c64",
   "metadata": {
    "ExecuteTime": {
     "end_time": "2022-07-26T15:02:38.520430Z",
     "start_time": "2022-07-26T15:02:38.505426Z"
    }
   },
   "outputs": [
    {
     "data": {
      "text/html": [
       "<div>\n",
       "<style scoped>\n",
       "    .dataframe tbody tr th:only-of-type {\n",
       "        vertical-align: middle;\n",
       "    }\n",
       "\n",
       "    .dataframe tbody tr th {\n",
       "        vertical-align: top;\n",
       "    }\n",
       "\n",
       "    .dataframe thead th {\n",
       "        text-align: right;\n",
       "    }\n",
       "</style>\n",
       "<table border=\"1\" class=\"dataframe\">\n",
       "  <thead>\n",
       "    <tr style=\"text-align: right;\">\n",
       "      <th></th>\n",
       "      <th>region</th>\n",
       "      <th>category</th>\n",
       "      <th>parameter</th>\n",
       "      <th>mode</th>\n",
       "      <th>powertrain</th>\n",
       "      <th>year</th>\n",
       "      <th>unit</th>\n",
       "      <th>value</th>\n",
       "    </tr>\n",
       "  </thead>\n",
       "  <tbody>\n",
       "    <tr>\n",
       "      <th>5693</th>\n",
       "      <td>Sweden</td>\n",
       "      <td>Historical</td>\n",
       "      <td>EV sales</td>\n",
       "      <td>Cars</td>\n",
       "      <td>BEV</td>\n",
       "      <td>2010</td>\n",
       "      <td>sales</td>\n",
       "      <td>4.000000</td>\n",
       "    </tr>\n",
       "    <tr>\n",
       "      <th>5694</th>\n",
       "      <td>Sweden</td>\n",
       "      <td>Historical</td>\n",
       "      <td>EV stock</td>\n",
       "      <td>Cars</td>\n",
       "      <td>BEV</td>\n",
       "      <td>2010</td>\n",
       "      <td>stock</td>\n",
       "      <td>4.000000</td>\n",
       "    </tr>\n",
       "    <tr>\n",
       "      <th>5695</th>\n",
       "      <td>Sweden</td>\n",
       "      <td>Historical</td>\n",
       "      <td>EV sales share</td>\n",
       "      <td>Cars</td>\n",
       "      <td>EV</td>\n",
       "      <td>2010</td>\n",
       "      <td>percent</td>\n",
       "      <td>0.001296</td>\n",
       "    </tr>\n",
       "    <tr>\n",
       "      <th>5696</th>\n",
       "      <td>Sweden</td>\n",
       "      <td>Historical</td>\n",
       "      <td>EV stock share</td>\n",
       "      <td>Cars</td>\n",
       "      <td>EV</td>\n",
       "      <td>2010</td>\n",
       "      <td>percent</td>\n",
       "      <td>0.000100</td>\n",
       "    </tr>\n",
       "    <tr>\n",
       "      <th>5697</th>\n",
       "      <td>Sweden</td>\n",
       "      <td>Historical</td>\n",
       "      <td>EV stock share</td>\n",
       "      <td>Cars</td>\n",
       "      <td>EV</td>\n",
       "      <td>2011</td>\n",
       "      <td>percent</td>\n",
       "      <td>0.004419</td>\n",
       "    </tr>\n",
       "  </tbody>\n",
       "</table>\n",
       "</div>"
      ],
      "text/plain": [
       "      region    category       parameter  mode powertrain  year     unit  \\\n",
       "5693  Sweden  Historical        EV sales  Cars        BEV  2010    sales   \n",
       "5694  Sweden  Historical        EV stock  Cars        BEV  2010    stock   \n",
       "5695  Sweden  Historical  EV sales share  Cars         EV  2010  percent   \n",
       "5696  Sweden  Historical  EV stock share  Cars         EV  2010  percent   \n",
       "5697  Sweden  Historical  EV stock share  Cars         EV  2011  percent   \n",
       "\n",
       "         value  \n",
       "5693  4.000000  \n",
       "5694  4.000000  \n",
       "5695  0.001296  \n",
       "5696  0.000100  \n",
       "5697  0.004419  "
      ]
     },
     "execution_count": 47,
     "metadata": {},
     "output_type": "execute_result"
    }
   ],
   "source": [
    "SEV.head()"
   ]
  },
  {
   "cell_type": "code",
   "execution_count": 48,
   "id": "ae99e72d",
   "metadata": {
    "ExecuteTime": {
     "end_time": "2022-07-26T15:02:38.536433Z",
     "start_time": "2022-07-26T15:02:38.521430Z"
    },
    "scrolled": true
   },
   "outputs": [
    {
     "data": {
      "text/plain": [
       "parameter\n",
       "EV stock              61\n",
       "EV sales              45\n",
       "EV stock share        38\n",
       "EV sales share        31\n",
       "EV charging points    20\n",
       "dtype: int64"
      ]
     },
     "execution_count": 48,
     "metadata": {},
     "output_type": "execute_result"
    }
   ],
   "source": [
    "SEV.value_counts('parameter')"
   ]
  },
  {
   "cell_type": "code",
   "execution_count": 49,
   "id": "2af38c91",
   "metadata": {
    "ExecuteTime": {
     "end_time": "2022-07-26T15:02:38.552438Z",
     "start_time": "2022-07-26T15:02:38.537433Z"
    }
   },
   "outputs": [],
   "source": [
    "gp=SEV.groupby('parameter')"
   ]
  },
  {
   "cell_type": "code",
   "execution_count": 50,
   "id": "6b56eb10",
   "metadata": {
    "ExecuteTime": {
     "end_time": "2022-07-26T15:02:38.568453Z",
     "start_time": "2022-07-26T15:02:38.553438Z"
    }
   },
   "outputs": [],
   "source": [
    "groups = {}\n",
    "for k, g in gp:\n",
    "    groups[k]=g  \n",
    "for i in groups:\n",
    "    groups[i]=pd.DataFrame(groups[i])"
   ]
  },
  {
   "cell_type": "code",
   "execution_count": 51,
   "id": "2f129689",
   "metadata": {
    "ExecuteTime": {
     "end_time": "2022-07-26T15:02:38.584461Z",
     "start_time": "2022-07-26T15:02:38.570456Z"
    }
   },
   "outputs": [],
   "source": [
    "EVshare=groups['EV sales share']"
   ]
  },
  {
   "cell_type": "code",
   "execution_count": 52,
   "id": "afedc68e",
   "metadata": {
    "ExecuteTime": {
     "end_time": "2022-07-26T15:02:38.600465Z",
     "start_time": "2022-07-26T15:02:38.585462Z"
    }
   },
   "outputs": [
    {
     "data": {
      "text/html": [
       "<div>\n",
       "<style scoped>\n",
       "    .dataframe tbody tr th:only-of-type {\n",
       "        vertical-align: middle;\n",
       "    }\n",
       "\n",
       "    .dataframe tbody tr th {\n",
       "        vertical-align: top;\n",
       "    }\n",
       "\n",
       "    .dataframe thead th {\n",
       "        text-align: right;\n",
       "    }\n",
       "</style>\n",
       "<table border=\"1\" class=\"dataframe\">\n",
       "  <thead>\n",
       "    <tr style=\"text-align: right;\">\n",
       "      <th></th>\n",
       "      <th>region</th>\n",
       "      <th>category</th>\n",
       "      <th>parameter</th>\n",
       "      <th>mode</th>\n",
       "      <th>powertrain</th>\n",
       "      <th>year</th>\n",
       "      <th>unit</th>\n",
       "      <th>value</th>\n",
       "    </tr>\n",
       "  </thead>\n",
       "  <tbody>\n",
       "    <tr>\n",
       "      <th>5695</th>\n",
       "      <td>Sweden</td>\n",
       "      <td>Historical</td>\n",
       "      <td>EV sales share</td>\n",
       "      <td>Cars</td>\n",
       "      <td>EV</td>\n",
       "      <td>2010</td>\n",
       "      <td>percent</td>\n",
       "      <td>0.001296</td>\n",
       "    </tr>\n",
       "    <tr>\n",
       "      <th>5698</th>\n",
       "      <td>Sweden</td>\n",
       "      <td>Historical</td>\n",
       "      <td>EV sales share</td>\n",
       "      <td>Cars</td>\n",
       "      <td>EV</td>\n",
       "      <td>2011</td>\n",
       "      <td>percent</td>\n",
       "      <td>0.054493</td>\n",
       "    </tr>\n",
       "    <tr>\n",
       "      <th>5700</th>\n",
       "      <td>Sweden</td>\n",
       "      <td>Historical</td>\n",
       "      <td>EV sales share</td>\n",
       "      <td>Vans</td>\n",
       "      <td>EV</td>\n",
       "      <td>2011</td>\n",
       "      <td>percent</td>\n",
       "      <td>0.019393</td>\n",
       "    </tr>\n",
       "    <tr>\n",
       "      <th>5715</th>\n",
       "      <td>Sweden</td>\n",
       "      <td>Historical</td>\n",
       "      <td>EV sales share</td>\n",
       "      <td>Vans</td>\n",
       "      <td>EV</td>\n",
       "      <td>2012</td>\n",
       "      <td>percent</td>\n",
       "      <td>0.699425</td>\n",
       "    </tr>\n",
       "    <tr>\n",
       "      <th>5717</th>\n",
       "      <td>Sweden</td>\n",
       "      <td>Historical</td>\n",
       "      <td>EV sales share</td>\n",
       "      <td>Cars</td>\n",
       "      <td>EV</td>\n",
       "      <td>2012</td>\n",
       "      <td>percent</td>\n",
       "      <td>0.307963</td>\n",
       "    </tr>\n",
       "  </tbody>\n",
       "</table>\n",
       "</div>"
      ],
      "text/plain": [
       "      region    category       parameter  mode powertrain  year     unit  \\\n",
       "5695  Sweden  Historical  EV sales share  Cars         EV  2010  percent   \n",
       "5698  Sweden  Historical  EV sales share  Cars         EV  2011  percent   \n",
       "5700  Sweden  Historical  EV sales share  Vans         EV  2011  percent   \n",
       "5715  Sweden  Historical  EV sales share  Vans         EV  2012  percent   \n",
       "5717  Sweden  Historical  EV sales share  Cars         EV  2012  percent   \n",
       "\n",
       "         value  \n",
       "5695  0.001296  \n",
       "5698  0.054493  \n",
       "5700  0.019393  \n",
       "5715  0.699425  \n",
       "5717  0.307963  "
      ]
     },
     "execution_count": 52,
     "metadata": {},
     "output_type": "execute_result"
    }
   ],
   "source": [
    "EVshare.head()"
   ]
  },
  {
   "cell_type": "code",
   "execution_count": 53,
   "id": "47b667b8",
   "metadata": {
    "ExecuteTime": {
     "end_time": "2022-07-26T15:02:38.616472Z",
     "start_time": "2022-07-26T15:02:38.601466Z"
    }
   },
   "outputs": [],
   "source": [
    "mode=EVshare.groupby('mode')"
   ]
  },
  {
   "cell_type": "code",
   "execution_count": 54,
   "id": "fd71a3b4",
   "metadata": {
    "ExecuteTime": {
     "end_time": "2022-07-26T15:02:38.631685Z",
     "start_time": "2022-07-26T15:02:38.617475Z"
    }
   },
   "outputs": [
    {
     "data": {
      "text/plain": [
       "mode\n",
       "Cars      12\n",
       "Vans      11\n",
       "Buses      6\n",
       "Trucks     2\n",
       "dtype: int64"
      ]
     },
     "execution_count": 54,
     "metadata": {},
     "output_type": "execute_result"
    }
   ],
   "source": [
    "EVshare.value_counts('mode')"
   ]
  },
  {
   "cell_type": "code",
   "execution_count": 55,
   "id": "f7f1e954",
   "metadata": {
    "ExecuteTime": {
     "end_time": "2022-07-26T15:02:38.647689Z",
     "start_time": "2022-07-26T15:02:38.632685Z"
    }
   },
   "outputs": [],
   "source": [
    "Mode = {}\n",
    "for k, g in mode:\n",
    "    Mode[k]=g  \n",
    "for i in Mode:\n",
    "    Mode[i]=pd.DataFrame(Mode[i])"
   ]
  },
  {
   "cell_type": "code",
   "execution_count": 56,
   "id": "3f6498b4",
   "metadata": {
    "ExecuteTime": {
     "end_time": "2022-07-26T15:02:38.662697Z",
     "start_time": "2022-07-26T15:02:38.648690Z"
    }
   },
   "outputs": [],
   "source": [
    "EVCarshare=Mode['Cars']"
   ]
  },
  {
   "cell_type": "code",
   "execution_count": 57,
   "id": "ca5e67b5",
   "metadata": {
    "ExecuteTime": {
     "end_time": "2022-07-26T15:02:38.677706Z",
     "start_time": "2022-07-26T15:02:38.663700Z"
    }
   },
   "outputs": [],
   "source": [
    "EVCarshare1=EVCarshare.loc[:,['year','value']]"
   ]
  },
  {
   "cell_type": "code",
   "execution_count": 58,
   "id": "4bfa0042",
   "metadata": {
    "ExecuteTime": {
     "end_time": "2022-07-26T15:02:38.693547Z",
     "start_time": "2022-07-26T15:02:38.678709Z"
    }
   },
   "outputs": [],
   "source": [
    "EVCarshare1.columns=(['Date','EVCar_Percent'])\n",
    "EVCarsaleshare=EVCarshare1.set_index('Date',drop=True)"
   ]
  },
  {
   "cell_type": "code",
   "execution_count": 59,
   "id": "aa7d2e03",
   "metadata": {
    "ExecuteTime": {
     "end_time": "2022-07-26T15:02:38.708713Z",
     "start_time": "2022-07-26T15:02:38.694549Z"
    }
   },
   "outputs": [],
   "source": [
    "EVCarsaleshare.to_csv('./data/EV/EVCarsaleshare.csv')"
   ]
  },
  {
   "cell_type": "markdown",
   "id": "cd4e11fd",
   "metadata": {},
   "source": [
    "# 7. GDP per capita-Quarterly"
   ]
  },
  {
   "cell_type": "code",
   "execution_count": 60,
   "id": "e1b9efac",
   "metadata": {
    "ExecuteTime": {
     "end_time": "2022-07-26T15:02:38.724720Z",
     "start_time": "2022-07-26T15:02:38.709714Z"
    }
   },
   "outputs": [],
   "source": [
    "GDP=pd.read_csv('./data/gdp per capita/QNA_21072022210426216.csv')"
   ]
  },
  {
   "cell_type": "code",
   "execution_count": 61,
   "id": "18cc9f77",
   "metadata": {
    "ExecuteTime": {
     "end_time": "2022-07-26T15:02:38.756728Z",
     "start_time": "2022-07-26T15:02:38.725721Z"
    }
   },
   "outputs": [
    {
     "data": {
      "text/html": [
       "<div>\n",
       "<style scoped>\n",
       "    .dataframe tbody tr th:only-of-type {\n",
       "        vertical-align: middle;\n",
       "    }\n",
       "\n",
       "    .dataframe tbody tr th {\n",
       "        vertical-align: top;\n",
       "    }\n",
       "\n",
       "    .dataframe thead th {\n",
       "        text-align: right;\n",
       "    }\n",
       "</style>\n",
       "<table border=\"1\" class=\"dataframe\">\n",
       "  <thead>\n",
       "    <tr style=\"text-align: right;\">\n",
       "      <th></th>\n",
       "      <th>LOCATION</th>\n",
       "      <th>Country</th>\n",
       "      <th>SUBJECT</th>\n",
       "      <th>Subject</th>\n",
       "      <th>MEASURE</th>\n",
       "      <th>Measure</th>\n",
       "      <th>FREQUENCY</th>\n",
       "      <th>Frequency</th>\n",
       "      <th>TIME</th>\n",
       "      <th>Period</th>\n",
       "      <th>Unit Code</th>\n",
       "      <th>Unit</th>\n",
       "      <th>PowerCode Code</th>\n",
       "      <th>PowerCode</th>\n",
       "      <th>Reference Period Code</th>\n",
       "      <th>Reference Period</th>\n",
       "      <th>Value</th>\n",
       "      <th>Flag Codes</th>\n",
       "      <th>Flags</th>\n",
       "    </tr>\n",
       "  </thead>\n",
       "  <tbody>\n",
       "    <tr>\n",
       "      <th>0</th>\n",
       "      <td>SWE</td>\n",
       "      <td>Sweden</td>\n",
       "      <td>B1_GE</td>\n",
       "      <td>Gross domestic product - expenditure approach</td>\n",
       "      <td>HCPCARSA</td>\n",
       "      <td>Per Head, US $, current prices, current PPPs, ...</td>\n",
       "      <td>Q</td>\n",
       "      <td>Quarterly</td>\n",
       "      <td>2018-Q4</td>\n",
       "      <td>Q4-2018</td>\n",
       "      <td>USD</td>\n",
       "      <td>US Dollar</td>\n",
       "      <td>0</td>\n",
       "      <td>Units</td>\n",
       "      <td>NaN</td>\n",
       "      <td>NaN</td>\n",
       "      <td>53873.6</td>\n",
       "      <td>NaN</td>\n",
       "      <td>NaN</td>\n",
       "    </tr>\n",
       "    <tr>\n",
       "      <th>1</th>\n",
       "      <td>SWE</td>\n",
       "      <td>Sweden</td>\n",
       "      <td>B1_GE</td>\n",
       "      <td>Gross domestic product - expenditure approach</td>\n",
       "      <td>HCPCARSA</td>\n",
       "      <td>Per Head, US $, current prices, current PPPs, ...</td>\n",
       "      <td>Q</td>\n",
       "      <td>Quarterly</td>\n",
       "      <td>2019-Q1</td>\n",
       "      <td>Q1-2019</td>\n",
       "      <td>USD</td>\n",
       "      <td>US Dollar</td>\n",
       "      <td>0</td>\n",
       "      <td>Units</td>\n",
       "      <td>NaN</td>\n",
       "      <td>NaN</td>\n",
       "      <td>53924.6</td>\n",
       "      <td>NaN</td>\n",
       "      <td>NaN</td>\n",
       "    </tr>\n",
       "    <tr>\n",
       "      <th>2</th>\n",
       "      <td>SWE</td>\n",
       "      <td>Sweden</td>\n",
       "      <td>B1_GE</td>\n",
       "      <td>Gross domestic product - expenditure approach</td>\n",
       "      <td>HCPCARSA</td>\n",
       "      <td>Per Head, US $, current prices, current PPPs, ...</td>\n",
       "      <td>Q</td>\n",
       "      <td>Quarterly</td>\n",
       "      <td>2019-Q2</td>\n",
       "      <td>Q2-2019</td>\n",
       "      <td>USD</td>\n",
       "      <td>US Dollar</td>\n",
       "      <td>0</td>\n",
       "      <td>Units</td>\n",
       "      <td>NaN</td>\n",
       "      <td>NaN</td>\n",
       "      <td>54322.4</td>\n",
       "      <td>NaN</td>\n",
       "      <td>NaN</td>\n",
       "    </tr>\n",
       "    <tr>\n",
       "      <th>3</th>\n",
       "      <td>SWE</td>\n",
       "      <td>Sweden</td>\n",
       "      <td>B1_GE</td>\n",
       "      <td>Gross domestic product - expenditure approach</td>\n",
       "      <td>HCPCARSA</td>\n",
       "      <td>Per Head, US $, current prices, current PPPs, ...</td>\n",
       "      <td>Q</td>\n",
       "      <td>Quarterly</td>\n",
       "      <td>2019-Q3</td>\n",
       "      <td>Q3-2019</td>\n",
       "      <td>USD</td>\n",
       "      <td>US Dollar</td>\n",
       "      <td>0</td>\n",
       "      <td>Units</td>\n",
       "      <td>NaN</td>\n",
       "      <td>NaN</td>\n",
       "      <td>54650.9</td>\n",
       "      <td>NaN</td>\n",
       "      <td>NaN</td>\n",
       "    </tr>\n",
       "    <tr>\n",
       "      <th>4</th>\n",
       "      <td>SWE</td>\n",
       "      <td>Sweden</td>\n",
       "      <td>B1_GE</td>\n",
       "      <td>Gross domestic product - expenditure approach</td>\n",
       "      <td>HCPCARSA</td>\n",
       "      <td>Per Head, US $, current prices, current PPPs, ...</td>\n",
       "      <td>Q</td>\n",
       "      <td>Quarterly</td>\n",
       "      <td>2019-Q4</td>\n",
       "      <td>Q4-2019</td>\n",
       "      <td>USD</td>\n",
       "      <td>US Dollar</td>\n",
       "      <td>0</td>\n",
       "      <td>Units</td>\n",
       "      <td>NaN</td>\n",
       "      <td>NaN</td>\n",
       "      <td>55500.8</td>\n",
       "      <td>NaN</td>\n",
       "      <td>NaN</td>\n",
       "    </tr>\n",
       "    <tr>\n",
       "      <th>5</th>\n",
       "      <td>SWE</td>\n",
       "      <td>Sweden</td>\n",
       "      <td>B1_GE</td>\n",
       "      <td>Gross domestic product - expenditure approach</td>\n",
       "      <td>HCPCARSA</td>\n",
       "      <td>Per Head, US $, current prices, current PPPs, ...</td>\n",
       "      <td>Q</td>\n",
       "      <td>Quarterly</td>\n",
       "      <td>2020-Q1</td>\n",
       "      <td>Q1-2020</td>\n",
       "      <td>USD</td>\n",
       "      <td>US Dollar</td>\n",
       "      <td>0</td>\n",
       "      <td>Units</td>\n",
       "      <td>NaN</td>\n",
       "      <td>NaN</td>\n",
       "      <td>56462.5</td>\n",
       "      <td>NaN</td>\n",
       "      <td>NaN</td>\n",
       "    </tr>\n",
       "    <tr>\n",
       "      <th>6</th>\n",
       "      <td>SWE</td>\n",
       "      <td>Sweden</td>\n",
       "      <td>B1_GE</td>\n",
       "      <td>Gross domestic product - expenditure approach</td>\n",
       "      <td>HCPCARSA</td>\n",
       "      <td>Per Head, US $, current prices, current PPPs, ...</td>\n",
       "      <td>Q</td>\n",
       "      <td>Quarterly</td>\n",
       "      <td>2020-Q2</td>\n",
       "      <td>Q2-2020</td>\n",
       "      <td>USD</td>\n",
       "      <td>US Dollar</td>\n",
       "      <td>0</td>\n",
       "      <td>Units</td>\n",
       "      <td>NaN</td>\n",
       "      <td>NaN</td>\n",
       "      <td>52276.1</td>\n",
       "      <td>NaN</td>\n",
       "      <td>NaN</td>\n",
       "    </tr>\n",
       "    <tr>\n",
       "      <th>7</th>\n",
       "      <td>SWE</td>\n",
       "      <td>Sweden</td>\n",
       "      <td>B1_GE</td>\n",
       "      <td>Gross domestic product - expenditure approach</td>\n",
       "      <td>HCPCARSA</td>\n",
       "      <td>Per Head, US $, current prices, current PPPs, ...</td>\n",
       "      <td>Q</td>\n",
       "      <td>Quarterly</td>\n",
       "      <td>2020-Q3</td>\n",
       "      <td>Q3-2020</td>\n",
       "      <td>USD</td>\n",
       "      <td>US Dollar</td>\n",
       "      <td>0</td>\n",
       "      <td>Units</td>\n",
       "      <td>NaN</td>\n",
       "      <td>NaN</td>\n",
       "      <td>56661.4</td>\n",
       "      <td>NaN</td>\n",
       "      <td>NaN</td>\n",
       "    </tr>\n",
       "    <tr>\n",
       "      <th>8</th>\n",
       "      <td>SWE</td>\n",
       "      <td>Sweden</td>\n",
       "      <td>B1_GE</td>\n",
       "      <td>Gross domestic product - expenditure approach</td>\n",
       "      <td>HCPCARSA</td>\n",
       "      <td>Per Head, US $, current prices, current PPPs, ...</td>\n",
       "      <td>Q</td>\n",
       "      <td>Quarterly</td>\n",
       "      <td>2020-Q4</td>\n",
       "      <td>Q4-2020</td>\n",
       "      <td>USD</td>\n",
       "      <td>US Dollar</td>\n",
       "      <td>0</td>\n",
       "      <td>Units</td>\n",
       "      <td>NaN</td>\n",
       "      <td>NaN</td>\n",
       "      <td>56900.7</td>\n",
       "      <td>NaN</td>\n",
       "      <td>NaN</td>\n",
       "    </tr>\n",
       "    <tr>\n",
       "      <th>9</th>\n",
       "      <td>SWE</td>\n",
       "      <td>Sweden</td>\n",
       "      <td>B1_GE</td>\n",
       "      <td>Gross domestic product - expenditure approach</td>\n",
       "      <td>HCPCARSA</td>\n",
       "      <td>Per Head, US $, current prices, current PPPs, ...</td>\n",
       "      <td>Q</td>\n",
       "      <td>Quarterly</td>\n",
       "      <td>2021-Q1</td>\n",
       "      <td>Q1-2021</td>\n",
       "      <td>USD</td>\n",
       "      <td>US Dollar</td>\n",
       "      <td>0</td>\n",
       "      <td>Units</td>\n",
       "      <td>NaN</td>\n",
       "      <td>NaN</td>\n",
       "      <td>58061.3</td>\n",
       "      <td>NaN</td>\n",
       "      <td>NaN</td>\n",
       "    </tr>\n",
       "    <tr>\n",
       "      <th>10</th>\n",
       "      <td>SWE</td>\n",
       "      <td>Sweden</td>\n",
       "      <td>B1_GE</td>\n",
       "      <td>Gross domestic product - expenditure approach</td>\n",
       "      <td>HCPCARSA</td>\n",
       "      <td>Per Head, US $, current prices, current PPPs, ...</td>\n",
       "      <td>Q</td>\n",
       "      <td>Quarterly</td>\n",
       "      <td>2021-Q2</td>\n",
       "      <td>Q2-2021</td>\n",
       "      <td>USD</td>\n",
       "      <td>US Dollar</td>\n",
       "      <td>0</td>\n",
       "      <td>Units</td>\n",
       "      <td>NaN</td>\n",
       "      <td>NaN</td>\n",
       "      <td>58960.6</td>\n",
       "      <td>NaN</td>\n",
       "      <td>NaN</td>\n",
       "    </tr>\n",
       "    <tr>\n",
       "      <th>11</th>\n",
       "      <td>SWE</td>\n",
       "      <td>Sweden</td>\n",
       "      <td>B1_GE</td>\n",
       "      <td>Gross domestic product - expenditure approach</td>\n",
       "      <td>HCPCARSA</td>\n",
       "      <td>Per Head, US $, current prices, current PPPs, ...</td>\n",
       "      <td>Q</td>\n",
       "      <td>Quarterly</td>\n",
       "      <td>2021-Q3</td>\n",
       "      <td>Q3-2021</td>\n",
       "      <td>USD</td>\n",
       "      <td>US Dollar</td>\n",
       "      <td>0</td>\n",
       "      <td>Units</td>\n",
       "      <td>NaN</td>\n",
       "      <td>NaN</td>\n",
       "      <td>60667.6</td>\n",
       "      <td>NaN</td>\n",
       "      <td>NaN</td>\n",
       "    </tr>\n",
       "    <tr>\n",
       "      <th>12</th>\n",
       "      <td>SWE</td>\n",
       "      <td>Sweden</td>\n",
       "      <td>B1_GE</td>\n",
       "      <td>Gross domestic product - expenditure approach</td>\n",
       "      <td>HCPCARSA</td>\n",
       "      <td>Per Head, US $, current prices, current PPPs, ...</td>\n",
       "      <td>Q</td>\n",
       "      <td>Quarterly</td>\n",
       "      <td>2021-Q4</td>\n",
       "      <td>Q4-2021</td>\n",
       "      <td>USD</td>\n",
       "      <td>US Dollar</td>\n",
       "      <td>0</td>\n",
       "      <td>Units</td>\n",
       "      <td>NaN</td>\n",
       "      <td>NaN</td>\n",
       "      <td>62286.7</td>\n",
       "      <td>NaN</td>\n",
       "      <td>NaN</td>\n",
       "    </tr>\n",
       "    <tr>\n",
       "      <th>13</th>\n",
       "      <td>SWE</td>\n",
       "      <td>Sweden</td>\n",
       "      <td>B1_GE</td>\n",
       "      <td>Gross domestic product - expenditure approach</td>\n",
       "      <td>HCPCARSA</td>\n",
       "      <td>Per Head, US $, current prices, current PPPs, ...</td>\n",
       "      <td>Q</td>\n",
       "      <td>Quarterly</td>\n",
       "      <td>2022-Q1</td>\n",
       "      <td>Q1-2022</td>\n",
       "      <td>USD</td>\n",
       "      <td>US Dollar</td>\n",
       "      <td>0</td>\n",
       "      <td>Units</td>\n",
       "      <td>NaN</td>\n",
       "      <td>NaN</td>\n",
       "      <td>62753.3</td>\n",
       "      <td>NaN</td>\n",
       "      <td>NaN</td>\n",
       "    </tr>\n",
       "    <tr>\n",
       "      <th>14</th>\n",
       "      <td>SWE</td>\n",
       "      <td>Sweden</td>\n",
       "      <td>B1_GE</td>\n",
       "      <td>Gross domestic product - expenditure approach</td>\n",
       "      <td>HVPVOBARSA</td>\n",
       "      <td>Per Head, US dollars, volume estimates, fixed ...</td>\n",
       "      <td>Q</td>\n",
       "      <td>Quarterly</td>\n",
       "      <td>2018-Q4</td>\n",
       "      <td>Q4-2018</td>\n",
       "      <td>USD</td>\n",
       "      <td>US Dollar</td>\n",
       "      <td>0</td>\n",
       "      <td>Units</td>\n",
       "      <td>2015.0</td>\n",
       "      <td>2015.0</td>\n",
       "      <td>53274.9</td>\n",
       "      <td>NaN</td>\n",
       "      <td>NaN</td>\n",
       "    </tr>\n",
       "    <tr>\n",
       "      <th>15</th>\n",
       "      <td>SWE</td>\n",
       "      <td>Sweden</td>\n",
       "      <td>B1_GE</td>\n",
       "      <td>Gross domestic product - expenditure approach</td>\n",
       "      <td>HVPVOBARSA</td>\n",
       "      <td>Per Head, US dollars, volume estimates, fixed ...</td>\n",
       "      <td>Q</td>\n",
       "      <td>Quarterly</td>\n",
       "      <td>2019-Q1</td>\n",
       "      <td>Q1-2019</td>\n",
       "      <td>USD</td>\n",
       "      <td>US Dollar</td>\n",
       "      <td>0</td>\n",
       "      <td>Units</td>\n",
       "      <td>2015.0</td>\n",
       "      <td>2015.0</td>\n",
       "      <td>53446.2</td>\n",
       "      <td>NaN</td>\n",
       "      <td>NaN</td>\n",
       "    </tr>\n",
       "    <tr>\n",
       "      <th>16</th>\n",
       "      <td>SWE</td>\n",
       "      <td>Sweden</td>\n",
       "      <td>B1_GE</td>\n",
       "      <td>Gross domestic product - expenditure approach</td>\n",
       "      <td>HVPVOBARSA</td>\n",
       "      <td>Per Head, US dollars, volume estimates, fixed ...</td>\n",
       "      <td>Q</td>\n",
       "      <td>Quarterly</td>\n",
       "      <td>2019-Q2</td>\n",
       "      <td>Q2-2019</td>\n",
       "      <td>USD</td>\n",
       "      <td>US Dollar</td>\n",
       "      <td>0</td>\n",
       "      <td>Units</td>\n",
       "      <td>2015.0</td>\n",
       "      <td>2015.0</td>\n",
       "      <td>53629.2</td>\n",
       "      <td>NaN</td>\n",
       "      <td>NaN</td>\n",
       "    </tr>\n",
       "    <tr>\n",
       "      <th>17</th>\n",
       "      <td>SWE</td>\n",
       "      <td>Sweden</td>\n",
       "      <td>B1_GE</td>\n",
       "      <td>Gross domestic product - expenditure approach</td>\n",
       "      <td>HVPVOBARSA</td>\n",
       "      <td>Per Head, US dollars, volume estimates, fixed ...</td>\n",
       "      <td>Q</td>\n",
       "      <td>Quarterly</td>\n",
       "      <td>2019-Q3</td>\n",
       "      <td>Q3-2019</td>\n",
       "      <td>USD</td>\n",
       "      <td>US Dollar</td>\n",
       "      <td>0</td>\n",
       "      <td>Units</td>\n",
       "      <td>2015.0</td>\n",
       "      <td>2015.0</td>\n",
       "      <td>53577.5</td>\n",
       "      <td>NaN</td>\n",
       "      <td>NaN</td>\n",
       "    </tr>\n",
       "    <tr>\n",
       "      <th>18</th>\n",
       "      <td>SWE</td>\n",
       "      <td>Sweden</td>\n",
       "      <td>B1_GE</td>\n",
       "      <td>Gross domestic product - expenditure approach</td>\n",
       "      <td>HVPVOBARSA</td>\n",
       "      <td>Per Head, US dollars, volume estimates, fixed ...</td>\n",
       "      <td>Q</td>\n",
       "      <td>Quarterly</td>\n",
       "      <td>2019-Q4</td>\n",
       "      <td>Q4-2019</td>\n",
       "      <td>USD</td>\n",
       "      <td>US Dollar</td>\n",
       "      <td>0</td>\n",
       "      <td>Units</td>\n",
       "      <td>2015.0</td>\n",
       "      <td>2015.0</td>\n",
       "      <td>53641.9</td>\n",
       "      <td>NaN</td>\n",
       "      <td>NaN</td>\n",
       "    </tr>\n",
       "    <tr>\n",
       "      <th>19</th>\n",
       "      <td>SWE</td>\n",
       "      <td>Sweden</td>\n",
       "      <td>B1_GE</td>\n",
       "      <td>Gross domestic product - expenditure approach</td>\n",
       "      <td>HVPVOBARSA</td>\n",
       "      <td>Per Head, US dollars, volume estimates, fixed ...</td>\n",
       "      <td>Q</td>\n",
       "      <td>Quarterly</td>\n",
       "      <td>2020-Q1</td>\n",
       "      <td>Q1-2020</td>\n",
       "      <td>USD</td>\n",
       "      <td>US Dollar</td>\n",
       "      <td>0</td>\n",
       "      <td>Units</td>\n",
       "      <td>2015.0</td>\n",
       "      <td>2015.0</td>\n",
       "      <td>53487.0</td>\n",
       "      <td>NaN</td>\n",
       "      <td>NaN</td>\n",
       "    </tr>\n",
       "    <tr>\n",
       "      <th>20</th>\n",
       "      <td>SWE</td>\n",
       "      <td>Sweden</td>\n",
       "      <td>B1_GE</td>\n",
       "      <td>Gross domestic product - expenditure approach</td>\n",
       "      <td>HVPVOBARSA</td>\n",
       "      <td>Per Head, US dollars, volume estimates, fixed ...</td>\n",
       "      <td>Q</td>\n",
       "      <td>Quarterly</td>\n",
       "      <td>2020-Q2</td>\n",
       "      <td>Q2-2020</td>\n",
       "      <td>USD</td>\n",
       "      <td>US Dollar</td>\n",
       "      <td>0</td>\n",
       "      <td>Units</td>\n",
       "      <td>2015.0</td>\n",
       "      <td>2015.0</td>\n",
       "      <td>49114.0</td>\n",
       "      <td>NaN</td>\n",
       "      <td>NaN</td>\n",
       "    </tr>\n",
       "    <tr>\n",
       "      <th>21</th>\n",
       "      <td>SWE</td>\n",
       "      <td>Sweden</td>\n",
       "      <td>B1_GE</td>\n",
       "      <td>Gross domestic product - expenditure approach</td>\n",
       "      <td>HVPVOBARSA</td>\n",
       "      <td>Per Head, US dollars, volume estimates, fixed ...</td>\n",
       "      <td>Q</td>\n",
       "      <td>Quarterly</td>\n",
       "      <td>2020-Q3</td>\n",
       "      <td>Q3-2020</td>\n",
       "      <td>USD</td>\n",
       "      <td>US Dollar</td>\n",
       "      <td>0</td>\n",
       "      <td>Units</td>\n",
       "      <td>2015.0</td>\n",
       "      <td>2015.0</td>\n",
       "      <td>52660.0</td>\n",
       "      <td>NaN</td>\n",
       "      <td>NaN</td>\n",
       "    </tr>\n",
       "    <tr>\n",
       "      <th>22</th>\n",
       "      <td>SWE</td>\n",
       "      <td>Sweden</td>\n",
       "      <td>B1_GE</td>\n",
       "      <td>Gross domestic product - expenditure approach</td>\n",
       "      <td>HVPVOBARSA</td>\n",
       "      <td>Per Head, US dollars, volume estimates, fixed ...</td>\n",
       "      <td>Q</td>\n",
       "      <td>Quarterly</td>\n",
       "      <td>2020-Q4</td>\n",
       "      <td>Q4-2020</td>\n",
       "      <td>USD</td>\n",
       "      <td>US Dollar</td>\n",
       "      <td>0</td>\n",
       "      <td>Units</td>\n",
       "      <td>2015.0</td>\n",
       "      <td>2015.0</td>\n",
       "      <td>52549.8</td>\n",
       "      <td>NaN</td>\n",
       "      <td>NaN</td>\n",
       "    </tr>\n",
       "    <tr>\n",
       "      <th>23</th>\n",
       "      <td>SWE</td>\n",
       "      <td>Sweden</td>\n",
       "      <td>B1_GE</td>\n",
       "      <td>Gross domestic product - expenditure approach</td>\n",
       "      <td>HVPVOBARSA</td>\n",
       "      <td>Per Head, US dollars, volume estimates, fixed ...</td>\n",
       "      <td>Q</td>\n",
       "      <td>Quarterly</td>\n",
       "      <td>2021-Q1</td>\n",
       "      <td>Q1-2021</td>\n",
       "      <td>USD</td>\n",
       "      <td>US Dollar</td>\n",
       "      <td>0</td>\n",
       "      <td>Units</td>\n",
       "      <td>2015.0</td>\n",
       "      <td>2015.0</td>\n",
       "      <td>53340.5</td>\n",
       "      <td>NaN</td>\n",
       "      <td>NaN</td>\n",
       "    </tr>\n",
       "    <tr>\n",
       "      <th>24</th>\n",
       "      <td>SWE</td>\n",
       "      <td>Sweden</td>\n",
       "      <td>B1_GE</td>\n",
       "      <td>Gross domestic product - expenditure approach</td>\n",
       "      <td>HVPVOBARSA</td>\n",
       "      <td>Per Head, US dollars, volume estimates, fixed ...</td>\n",
       "      <td>Q</td>\n",
       "      <td>Quarterly</td>\n",
       "      <td>2021-Q2</td>\n",
       "      <td>Q2-2021</td>\n",
       "      <td>USD</td>\n",
       "      <td>US Dollar</td>\n",
       "      <td>0</td>\n",
       "      <td>Units</td>\n",
       "      <td>2015.0</td>\n",
       "      <td>2015.0</td>\n",
       "      <td>53650.1</td>\n",
       "      <td>NaN</td>\n",
       "      <td>NaN</td>\n",
       "    </tr>\n",
       "    <tr>\n",
       "      <th>25</th>\n",
       "      <td>SWE</td>\n",
       "      <td>Sweden</td>\n",
       "      <td>B1_GE</td>\n",
       "      <td>Gross domestic product - expenditure approach</td>\n",
       "      <td>HVPVOBARSA</td>\n",
       "      <td>Per Head, US dollars, volume estimates, fixed ...</td>\n",
       "      <td>Q</td>\n",
       "      <td>Quarterly</td>\n",
       "      <td>2021-Q3</td>\n",
       "      <td>Q3-2021</td>\n",
       "      <td>USD</td>\n",
       "      <td>US Dollar</td>\n",
       "      <td>0</td>\n",
       "      <td>Units</td>\n",
       "      <td>2015.0</td>\n",
       "      <td>2015.0</td>\n",
       "      <td>54603.3</td>\n",
       "      <td>NaN</td>\n",
       "      <td>NaN</td>\n",
       "    </tr>\n",
       "    <tr>\n",
       "      <th>26</th>\n",
       "      <td>SWE</td>\n",
       "      <td>Sweden</td>\n",
       "      <td>B1_GE</td>\n",
       "      <td>Gross domestic product - expenditure approach</td>\n",
       "      <td>HVPVOBARSA</td>\n",
       "      <td>Per Head, US dollars, volume estimates, fixed ...</td>\n",
       "      <td>Q</td>\n",
       "      <td>Quarterly</td>\n",
       "      <td>2021-Q4</td>\n",
       "      <td>Q4-2021</td>\n",
       "      <td>USD</td>\n",
       "      <td>US Dollar</td>\n",
       "      <td>0</td>\n",
       "      <td>Units</td>\n",
       "      <td>2015.0</td>\n",
       "      <td>2015.0</td>\n",
       "      <td>55138.9</td>\n",
       "      <td>NaN</td>\n",
       "      <td>NaN</td>\n",
       "    </tr>\n",
       "    <tr>\n",
       "      <th>27</th>\n",
       "      <td>SWE</td>\n",
       "      <td>Sweden</td>\n",
       "      <td>B1_GE</td>\n",
       "      <td>Gross domestic product - expenditure approach</td>\n",
       "      <td>HVPVOBARSA</td>\n",
       "      <td>Per Head, US dollars, volume estimates, fixed ...</td>\n",
       "      <td>Q</td>\n",
       "      <td>Quarterly</td>\n",
       "      <td>2022-Q1</td>\n",
       "      <td>Q1-2022</td>\n",
       "      <td>USD</td>\n",
       "      <td>US Dollar</td>\n",
       "      <td>0</td>\n",
       "      <td>Units</td>\n",
       "      <td>2015.0</td>\n",
       "      <td>2015.0</td>\n",
       "      <td>54563.0</td>\n",
       "      <td>NaN</td>\n",
       "      <td>NaN</td>\n",
       "    </tr>\n",
       "  </tbody>\n",
       "</table>\n",
       "</div>"
      ],
      "text/plain": [
       "   LOCATION Country SUBJECT                                        Subject  \\\n",
       "0       SWE  Sweden   B1_GE  Gross domestic product - expenditure approach   \n",
       "1       SWE  Sweden   B1_GE  Gross domestic product - expenditure approach   \n",
       "2       SWE  Sweden   B1_GE  Gross domestic product - expenditure approach   \n",
       "3       SWE  Sweden   B1_GE  Gross domestic product - expenditure approach   \n",
       "4       SWE  Sweden   B1_GE  Gross domestic product - expenditure approach   \n",
       "5       SWE  Sweden   B1_GE  Gross domestic product - expenditure approach   \n",
       "6       SWE  Sweden   B1_GE  Gross domestic product - expenditure approach   \n",
       "7       SWE  Sweden   B1_GE  Gross domestic product - expenditure approach   \n",
       "8       SWE  Sweden   B1_GE  Gross domestic product - expenditure approach   \n",
       "9       SWE  Sweden   B1_GE  Gross domestic product - expenditure approach   \n",
       "10      SWE  Sweden   B1_GE  Gross domestic product - expenditure approach   \n",
       "11      SWE  Sweden   B1_GE  Gross domestic product - expenditure approach   \n",
       "12      SWE  Sweden   B1_GE  Gross domestic product - expenditure approach   \n",
       "13      SWE  Sweden   B1_GE  Gross domestic product - expenditure approach   \n",
       "14      SWE  Sweden   B1_GE  Gross domestic product - expenditure approach   \n",
       "15      SWE  Sweden   B1_GE  Gross domestic product - expenditure approach   \n",
       "16      SWE  Sweden   B1_GE  Gross domestic product - expenditure approach   \n",
       "17      SWE  Sweden   B1_GE  Gross domestic product - expenditure approach   \n",
       "18      SWE  Sweden   B1_GE  Gross domestic product - expenditure approach   \n",
       "19      SWE  Sweden   B1_GE  Gross domestic product - expenditure approach   \n",
       "20      SWE  Sweden   B1_GE  Gross domestic product - expenditure approach   \n",
       "21      SWE  Sweden   B1_GE  Gross domestic product - expenditure approach   \n",
       "22      SWE  Sweden   B1_GE  Gross domestic product - expenditure approach   \n",
       "23      SWE  Sweden   B1_GE  Gross domestic product - expenditure approach   \n",
       "24      SWE  Sweden   B1_GE  Gross domestic product - expenditure approach   \n",
       "25      SWE  Sweden   B1_GE  Gross domestic product - expenditure approach   \n",
       "26      SWE  Sweden   B1_GE  Gross domestic product - expenditure approach   \n",
       "27      SWE  Sweden   B1_GE  Gross domestic product - expenditure approach   \n",
       "\n",
       "       MEASURE                                            Measure FREQUENCY  \\\n",
       "0     HCPCARSA  Per Head, US $, current prices, current PPPs, ...         Q   \n",
       "1     HCPCARSA  Per Head, US $, current prices, current PPPs, ...         Q   \n",
       "2     HCPCARSA  Per Head, US $, current prices, current PPPs, ...         Q   \n",
       "3     HCPCARSA  Per Head, US $, current prices, current PPPs, ...         Q   \n",
       "4     HCPCARSA  Per Head, US $, current prices, current PPPs, ...         Q   \n",
       "5     HCPCARSA  Per Head, US $, current prices, current PPPs, ...         Q   \n",
       "6     HCPCARSA  Per Head, US $, current prices, current PPPs, ...         Q   \n",
       "7     HCPCARSA  Per Head, US $, current prices, current PPPs, ...         Q   \n",
       "8     HCPCARSA  Per Head, US $, current prices, current PPPs, ...         Q   \n",
       "9     HCPCARSA  Per Head, US $, current prices, current PPPs, ...         Q   \n",
       "10    HCPCARSA  Per Head, US $, current prices, current PPPs, ...         Q   \n",
       "11    HCPCARSA  Per Head, US $, current prices, current PPPs, ...         Q   \n",
       "12    HCPCARSA  Per Head, US $, current prices, current PPPs, ...         Q   \n",
       "13    HCPCARSA  Per Head, US $, current prices, current PPPs, ...         Q   \n",
       "14  HVPVOBARSA  Per Head, US dollars, volume estimates, fixed ...         Q   \n",
       "15  HVPVOBARSA  Per Head, US dollars, volume estimates, fixed ...         Q   \n",
       "16  HVPVOBARSA  Per Head, US dollars, volume estimates, fixed ...         Q   \n",
       "17  HVPVOBARSA  Per Head, US dollars, volume estimates, fixed ...         Q   \n",
       "18  HVPVOBARSA  Per Head, US dollars, volume estimates, fixed ...         Q   \n",
       "19  HVPVOBARSA  Per Head, US dollars, volume estimates, fixed ...         Q   \n",
       "20  HVPVOBARSA  Per Head, US dollars, volume estimates, fixed ...         Q   \n",
       "21  HVPVOBARSA  Per Head, US dollars, volume estimates, fixed ...         Q   \n",
       "22  HVPVOBARSA  Per Head, US dollars, volume estimates, fixed ...         Q   \n",
       "23  HVPVOBARSA  Per Head, US dollars, volume estimates, fixed ...         Q   \n",
       "24  HVPVOBARSA  Per Head, US dollars, volume estimates, fixed ...         Q   \n",
       "25  HVPVOBARSA  Per Head, US dollars, volume estimates, fixed ...         Q   \n",
       "26  HVPVOBARSA  Per Head, US dollars, volume estimates, fixed ...         Q   \n",
       "27  HVPVOBARSA  Per Head, US dollars, volume estimates, fixed ...         Q   \n",
       "\n",
       "    Frequency     TIME   Period Unit Code       Unit  PowerCode Code  \\\n",
       "0   Quarterly  2018-Q4  Q4-2018       USD  US Dollar               0   \n",
       "1   Quarterly  2019-Q1  Q1-2019       USD  US Dollar               0   \n",
       "2   Quarterly  2019-Q2  Q2-2019       USD  US Dollar               0   \n",
       "3   Quarterly  2019-Q3  Q3-2019       USD  US Dollar               0   \n",
       "4   Quarterly  2019-Q4  Q4-2019       USD  US Dollar               0   \n",
       "5   Quarterly  2020-Q1  Q1-2020       USD  US Dollar               0   \n",
       "6   Quarterly  2020-Q2  Q2-2020       USD  US Dollar               0   \n",
       "7   Quarterly  2020-Q3  Q3-2020       USD  US Dollar               0   \n",
       "8   Quarterly  2020-Q4  Q4-2020       USD  US Dollar               0   \n",
       "9   Quarterly  2021-Q1  Q1-2021       USD  US Dollar               0   \n",
       "10  Quarterly  2021-Q2  Q2-2021       USD  US Dollar               0   \n",
       "11  Quarterly  2021-Q3  Q3-2021       USD  US Dollar               0   \n",
       "12  Quarterly  2021-Q4  Q4-2021       USD  US Dollar               0   \n",
       "13  Quarterly  2022-Q1  Q1-2022       USD  US Dollar               0   \n",
       "14  Quarterly  2018-Q4  Q4-2018       USD  US Dollar               0   \n",
       "15  Quarterly  2019-Q1  Q1-2019       USD  US Dollar               0   \n",
       "16  Quarterly  2019-Q2  Q2-2019       USD  US Dollar               0   \n",
       "17  Quarterly  2019-Q3  Q3-2019       USD  US Dollar               0   \n",
       "18  Quarterly  2019-Q4  Q4-2019       USD  US Dollar               0   \n",
       "19  Quarterly  2020-Q1  Q1-2020       USD  US Dollar               0   \n",
       "20  Quarterly  2020-Q2  Q2-2020       USD  US Dollar               0   \n",
       "21  Quarterly  2020-Q3  Q3-2020       USD  US Dollar               0   \n",
       "22  Quarterly  2020-Q4  Q4-2020       USD  US Dollar               0   \n",
       "23  Quarterly  2021-Q1  Q1-2021       USD  US Dollar               0   \n",
       "24  Quarterly  2021-Q2  Q2-2021       USD  US Dollar               0   \n",
       "25  Quarterly  2021-Q3  Q3-2021       USD  US Dollar               0   \n",
       "26  Quarterly  2021-Q4  Q4-2021       USD  US Dollar               0   \n",
       "27  Quarterly  2022-Q1  Q1-2022       USD  US Dollar               0   \n",
       "\n",
       "   PowerCode  Reference Period Code  Reference Period    Value  Flag Codes  \\\n",
       "0      Units                    NaN               NaN  53873.6         NaN   \n",
       "1      Units                    NaN               NaN  53924.6         NaN   \n",
       "2      Units                    NaN               NaN  54322.4         NaN   \n",
       "3      Units                    NaN               NaN  54650.9         NaN   \n",
       "4      Units                    NaN               NaN  55500.8         NaN   \n",
       "5      Units                    NaN               NaN  56462.5         NaN   \n",
       "6      Units                    NaN               NaN  52276.1         NaN   \n",
       "7      Units                    NaN               NaN  56661.4         NaN   \n",
       "8      Units                    NaN               NaN  56900.7         NaN   \n",
       "9      Units                    NaN               NaN  58061.3         NaN   \n",
       "10     Units                    NaN               NaN  58960.6         NaN   \n",
       "11     Units                    NaN               NaN  60667.6         NaN   \n",
       "12     Units                    NaN               NaN  62286.7         NaN   \n",
       "13     Units                    NaN               NaN  62753.3         NaN   \n",
       "14     Units                 2015.0            2015.0  53274.9         NaN   \n",
       "15     Units                 2015.0            2015.0  53446.2         NaN   \n",
       "16     Units                 2015.0            2015.0  53629.2         NaN   \n",
       "17     Units                 2015.0            2015.0  53577.5         NaN   \n",
       "18     Units                 2015.0            2015.0  53641.9         NaN   \n",
       "19     Units                 2015.0            2015.0  53487.0         NaN   \n",
       "20     Units                 2015.0            2015.0  49114.0         NaN   \n",
       "21     Units                 2015.0            2015.0  52660.0         NaN   \n",
       "22     Units                 2015.0            2015.0  52549.8         NaN   \n",
       "23     Units                 2015.0            2015.0  53340.5         NaN   \n",
       "24     Units                 2015.0            2015.0  53650.1         NaN   \n",
       "25     Units                 2015.0            2015.0  54603.3         NaN   \n",
       "26     Units                 2015.0            2015.0  55138.9         NaN   \n",
       "27     Units                 2015.0            2015.0  54563.0         NaN   \n",
       "\n",
       "    Flags  \n",
       "0     NaN  \n",
       "1     NaN  \n",
       "2     NaN  \n",
       "3     NaN  \n",
       "4     NaN  \n",
       "5     NaN  \n",
       "6     NaN  \n",
       "7     NaN  \n",
       "8     NaN  \n",
       "9     NaN  \n",
       "10    NaN  \n",
       "11    NaN  \n",
       "12    NaN  \n",
       "13    NaN  \n",
       "14    NaN  \n",
       "15    NaN  \n",
       "16    NaN  \n",
       "17    NaN  \n",
       "18    NaN  \n",
       "19    NaN  \n",
       "20    NaN  \n",
       "21    NaN  \n",
       "22    NaN  \n",
       "23    NaN  \n",
       "24    NaN  \n",
       "25    NaN  \n",
       "26    NaN  \n",
       "27    NaN  "
      ]
     },
     "execution_count": 61,
     "metadata": {},
     "output_type": "execute_result"
    }
   ],
   "source": [
    "GDP"
   ]
  },
  {
   "cell_type": "code",
   "execution_count": 62,
   "id": "85b05403",
   "metadata": {
    "ExecuteTime": {
     "end_time": "2022-07-26T15:02:38.772731Z",
     "start_time": "2022-07-26T15:02:38.757728Z"
    }
   },
   "outputs": [],
   "source": [
    "GDP0=GDP.loc[0:13,['TIME','Value']]"
   ]
  },
  {
   "cell_type": "code",
   "execution_count": 63,
   "id": "7b323b87",
   "metadata": {
    "ExecuteTime": {
     "end_time": "2022-07-26T15:02:38.788735Z",
     "start_time": "2022-07-26T15:02:38.773732Z"
    }
   },
   "outputs": [],
   "source": [
    "GDP0.columns=(['Date','GDPpercapita (USD)'])"
   ]
  },
  {
   "cell_type": "code",
   "execution_count": 64,
   "id": "3a1dcb45",
   "metadata": {
    "ExecuteTime": {
     "end_time": "2022-07-26T15:02:38.804739Z",
     "start_time": "2022-07-26T15:02:38.789736Z"
    },
    "scrolled": true
   },
   "outputs": [],
   "source": [
    "GDP0.set_index('Date',drop=True,inplace=True)"
   ]
  },
  {
   "cell_type": "code",
   "execution_count": 65,
   "id": "d88b4f87",
   "metadata": {
    "ExecuteTime": {
     "end_time": "2022-07-26T15:02:38.820742Z",
     "start_time": "2022-07-26T15:02:38.805739Z"
    }
   },
   "outputs": [],
   "source": [
    "GDP0.to_csv('./data/gdp per capita/GDP0.csv')"
   ]
  },
  {
   "cell_type": "code",
   "execution_count": 66,
   "id": "a3de7351",
   "metadata": {
    "ExecuteTime": {
     "end_time": "2022-07-26T15:02:38.836746Z",
     "start_time": "2022-07-26T15:02:38.821742Z"
    }
   },
   "outputs": [],
   "source": [
    "GDP1=GDP.loc[14:27,['TIME','Value']]"
   ]
  },
  {
   "cell_type": "code",
   "execution_count": 67,
   "id": "f09135e3",
   "metadata": {
    "ExecuteTime": {
     "end_time": "2022-07-26T15:02:38.852750Z",
     "start_time": "2022-07-26T15:02:38.837746Z"
    }
   },
   "outputs": [],
   "source": [
    "GDP1.columns=(['Date','GDPpercapita (USD)'])"
   ]
  },
  {
   "cell_type": "code",
   "execution_count": 68,
   "id": "b47ee990",
   "metadata": {
    "ExecuteTime": {
     "end_time": "2022-07-26T15:02:38.868753Z",
     "start_time": "2022-07-26T15:02:38.853750Z"
    },
    "scrolled": true
   },
   "outputs": [],
   "source": [
    "GDP1.set_index('Date',drop=True,inplace=True)"
   ]
  },
  {
   "cell_type": "code",
   "execution_count": 69,
   "id": "0dcd2ce0",
   "metadata": {
    "ExecuteTime": {
     "end_time": "2022-07-26T15:02:38.884756Z",
     "start_time": "2022-07-26T15:02:38.869753Z"
    }
   },
   "outputs": [],
   "source": [
    "GDP1.to_csv('./data/gdp per capita/GDP1.csv')"
   ]
  },
  {
   "cell_type": "code",
   "execution_count": 70,
   "id": "04e21051",
   "metadata": {
    "ExecuteTime": {
     "end_time": "2022-07-26T15:02:38.900760Z",
     "start_time": "2022-07-26T15:02:38.885757Z"
    }
   },
   "outputs": [
    {
     "data": {
      "text/html": [
       "<div>\n",
       "<style scoped>\n",
       "    .dataframe tbody tr th:only-of-type {\n",
       "        vertical-align: middle;\n",
       "    }\n",
       "\n",
       "    .dataframe tbody tr th {\n",
       "        vertical-align: top;\n",
       "    }\n",
       "\n",
       "    .dataframe thead th {\n",
       "        text-align: right;\n",
       "    }\n",
       "</style>\n",
       "<table border=\"1\" class=\"dataframe\">\n",
       "  <thead>\n",
       "    <tr style=\"text-align: right;\">\n",
       "      <th></th>\n",
       "      <th>GDPpercapita (USD)</th>\n",
       "    </tr>\n",
       "    <tr>\n",
       "      <th>Date</th>\n",
       "      <th></th>\n",
       "    </tr>\n",
       "  </thead>\n",
       "  <tbody>\n",
       "    <tr>\n",
       "      <th>2018-Q4</th>\n",
       "      <td>53274.9</td>\n",
       "    </tr>\n",
       "    <tr>\n",
       "      <th>2019-Q1</th>\n",
       "      <td>53446.2</td>\n",
       "    </tr>\n",
       "    <tr>\n",
       "      <th>2019-Q2</th>\n",
       "      <td>53629.2</td>\n",
       "    </tr>\n",
       "    <tr>\n",
       "      <th>2019-Q3</th>\n",
       "      <td>53577.5</td>\n",
       "    </tr>\n",
       "    <tr>\n",
       "      <th>2019-Q4</th>\n",
       "      <td>53641.9</td>\n",
       "    </tr>\n",
       "    <tr>\n",
       "      <th>2020-Q1</th>\n",
       "      <td>53487.0</td>\n",
       "    </tr>\n",
       "    <tr>\n",
       "      <th>2020-Q2</th>\n",
       "      <td>49114.0</td>\n",
       "    </tr>\n",
       "    <tr>\n",
       "      <th>2020-Q3</th>\n",
       "      <td>52660.0</td>\n",
       "    </tr>\n",
       "    <tr>\n",
       "      <th>2020-Q4</th>\n",
       "      <td>52549.8</td>\n",
       "    </tr>\n",
       "    <tr>\n",
       "      <th>2021-Q1</th>\n",
       "      <td>53340.5</td>\n",
       "    </tr>\n",
       "    <tr>\n",
       "      <th>2021-Q2</th>\n",
       "      <td>53650.1</td>\n",
       "    </tr>\n",
       "    <tr>\n",
       "      <th>2021-Q3</th>\n",
       "      <td>54603.3</td>\n",
       "    </tr>\n",
       "    <tr>\n",
       "      <th>2021-Q4</th>\n",
       "      <td>55138.9</td>\n",
       "    </tr>\n",
       "    <tr>\n",
       "      <th>2022-Q1</th>\n",
       "      <td>54563.0</td>\n",
       "    </tr>\n",
       "  </tbody>\n",
       "</table>\n",
       "</div>"
      ],
      "text/plain": [
       "         GDPpercapita (USD)\n",
       "Date                       \n",
       "2018-Q4             53274.9\n",
       "2019-Q1             53446.2\n",
       "2019-Q2             53629.2\n",
       "2019-Q3             53577.5\n",
       "2019-Q4             53641.9\n",
       "2020-Q1             53487.0\n",
       "2020-Q2             49114.0\n",
       "2020-Q3             52660.0\n",
       "2020-Q4             52549.8\n",
       "2021-Q1             53340.5\n",
       "2021-Q2             53650.1\n",
       "2021-Q3             54603.3\n",
       "2021-Q4             55138.9\n",
       "2022-Q1             54563.0"
      ]
     },
     "execution_count": 70,
     "metadata": {},
     "output_type": "execute_result"
    }
   ],
   "source": [
    "GDP1"
   ]
  },
  {
   "cell_type": "markdown",
   "id": "3f899a18",
   "metadata": {},
   "source": [
    "# 8. Brent Crude Oil-Daily"
   ]
  },
  {
   "cell_type": "code",
   "execution_count": 71,
   "id": "94e1e290",
   "metadata": {
    "ExecuteTime": {
     "end_time": "2022-07-26T15:02:39.325994Z",
     "start_time": "2022-07-26T15:02:38.901761Z"
    }
   },
   "outputs": [],
   "source": [
    "startDate=datetime.datetime(2019,1,1)\n",
    "endDate=datetime.datetime(2022,4,30)\n",
    "Crude=web.DataReader(\"BZ=F\",\"yahoo\",startDate,endDate)"
   ]
  },
  {
   "cell_type": "code",
   "execution_count": 72,
   "id": "3299453d",
   "metadata": {
    "ExecuteTime": {
     "end_time": "2022-07-26T15:02:39.342033Z",
     "start_time": "2022-07-26T15:02:39.326986Z"
    }
   },
   "outputs": [],
   "source": [
    "Crude=Crude.Close"
   ]
  },
  {
   "cell_type": "code",
   "execution_count": 73,
   "id": "ea5ae244",
   "metadata": {
    "ExecuteTime": {
     "end_time": "2022-07-26T15:02:39.357040Z",
     "start_time": "2022-07-26T15:02:39.343033Z"
    }
   },
   "outputs": [
    {
     "data": {
      "text/plain": [
       "Date\n",
       "2019-01-02     54.910000\n",
       "2019-01-03     55.950001\n",
       "2019-01-04     57.060001\n",
       "2019-01-07     57.330002\n",
       "2019-01-08     58.720001\n",
       "                 ...    \n",
       "2022-04-25    102.320000\n",
       "2022-04-26    104.989998\n",
       "2022-04-27    105.320000\n",
       "2022-04-28    107.589996\n",
       "2022-04-29    109.339996\n",
       "Name: Close, Length: 837, dtype: float64"
      ]
     },
     "execution_count": 73,
     "metadata": {},
     "output_type": "execute_result"
    }
   ],
   "source": [
    "Crude"
   ]
  },
  {
   "cell_type": "code",
   "execution_count": 74,
   "id": "f47898b7",
   "metadata": {
    "ExecuteTime": {
     "end_time": "2022-07-26T15:02:39.373045Z",
     "start_time": "2022-07-26T15:02:39.358040Z"
    }
   },
   "outputs": [],
   "source": [
    "Crude.to_csv('./data/Crude/Crude.csv',index=True, header=True)"
   ]
  },
  {
   "cell_type": "markdown",
   "id": "bec7589f",
   "metadata": {},
   "source": [
    "# 9. Natural gas-Daily"
   ]
  },
  {
   "cell_type": "code",
   "execution_count": 76,
   "id": "f3b2ffe1",
   "metadata": {
    "ExecuteTime": {
     "end_time": "2022-07-26T15:03:04.049329Z",
     "start_time": "2022-07-26T15:03:03.552690Z"
    }
   },
   "outputs": [],
   "source": [
    "startDate=datetime.datetime(2019,1,1)\n",
    "endDate=datetime.datetime(2022,4,30)\n",
    "gas=web.DataReader(\"NG=F\",\"yahoo\",startDate,endDate)"
   ]
  },
  {
   "cell_type": "code",
   "execution_count": 77,
   "id": "1de3eecc",
   "metadata": {
    "ExecuteTime": {
     "end_time": "2022-07-26T15:03:04.720817Z",
     "start_time": "2022-07-26T15:03:04.706812Z"
    }
   },
   "outputs": [],
   "source": [
    "gas=gas.Close"
   ]
  },
  {
   "cell_type": "code",
   "execution_count": 78,
   "id": "b355b1cd",
   "metadata": {
    "ExecuteTime": {
     "end_time": "2022-07-26T15:03:05.814041Z",
     "start_time": "2022-07-26T15:03:05.806040Z"
    }
   },
   "outputs": [
    {
     "data": {
      "text/plain": [
       "Date\n",
       "2019-01-02    2.958\n",
       "2019-01-03    2.945\n",
       "2019-01-04    3.044\n",
       "2019-01-07    2.944\n",
       "2019-01-08    2.967\n",
       "              ...  \n",
       "2022-04-25    6.669\n",
       "2022-04-26    6.850\n",
       "2022-04-27    7.267\n",
       "2022-04-28    6.888\n",
       "2022-04-29    7.244\n",
       "Name: Close, Length: 840, dtype: float64"
      ]
     },
     "execution_count": 78,
     "metadata": {},
     "output_type": "execute_result"
    }
   ],
   "source": [
    "gas"
   ]
  },
  {
   "cell_type": "code",
   "execution_count": 79,
   "id": "45e17f27",
   "metadata": {
    "ExecuteTime": {
     "end_time": "2022-07-26T15:03:08.567046Z",
     "start_time": "2022-07-26T15:03:08.545039Z"
    }
   },
   "outputs": [],
   "source": [
    "gas.to_csv('./data/Natural gas/gas.csv',index=True, header=True)"
   ]
  },
  {
   "cell_type": "code",
   "execution_count": null,
   "id": "b966aaa1",
   "metadata": {},
   "outputs": [],
   "source": []
  }
 ],
 "metadata": {
  "kernelspec": {
   "display_name": "Python 3 (ipykernel)",
   "language": "python",
   "name": "python3"
  },
  "language_info": {
   "codemirror_mode": {
    "name": "ipython",
    "version": 3
   },
   "file_extension": ".py",
   "mimetype": "text/x-python",
   "name": "python",
   "nbconvert_exporter": "python",
   "pygments_lexer": "ipython3",
   "version": "3.7.11"
  },
  "varInspector": {
   "cols": {
    "lenName": 16,
    "lenType": 16,
    "lenVar": 40
   },
   "kernels_config": {
    "python": {
     "delete_cmd_postfix": "",
     "delete_cmd_prefix": "del ",
     "library": "var_list.py",
     "varRefreshCmd": "print(var_dic_list())"
    },
    "r": {
     "delete_cmd_postfix": ") ",
     "delete_cmd_prefix": "rm(",
     "library": "var_list.r",
     "varRefreshCmd": "cat(var_dic_list()) "
    }
   },
   "types_to_exclude": [
    "module",
    "function",
    "builtin_function_or_method",
    "instance",
    "_Feature"
   ],
   "window_display": false
  }
 },
 "nbformat": 4,
 "nbformat_minor": 5
}
