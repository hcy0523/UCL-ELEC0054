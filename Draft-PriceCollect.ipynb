{
 "cells": [
  {
   "cell_type": "code",
   "execution_count": 1,
   "id": "f8db8a87",
   "metadata": {
    "ExecuteTime": {
     "end_time": "2022-06-21T17:34:26.677428Z",
     "start_time": "2022-06-21T17:34:26.088527Z"
    }
   },
   "outputs": [],
   "source": [
    "from nordpool import elspot, elbas\n",
    "import datetime\n",
    "import pandas as pd"
   ]
  },
  {
   "cell_type": "code",
   "execution_count": 33,
   "id": "aaaba1a5",
   "metadata": {
    "ExecuteTime": {
     "end_time": "2022-06-21T17:58:20.645162Z",
     "start_time": "2022-06-21T17:58:20.630156Z"
    }
   },
   "outputs": [],
   "source": [
    "def Date_Capture(area):    \n",
    "    prices_spot = elspot.Prices()\n",
    "    begin_day=datetime.datetime(2019,1,1)\n",
    "    end_date=datetime.datetime.now()\n",
    "    Prices=[]\n",
    "    while begin_day<end_date:\n",
    "        Prices.extend(prices_spot.daily(end_date=end_date,areas=[area])['areas'][area]['values'])\n",
    "        end_date=end_date-datetime.timedelta(days=31)\n",
    "\n",
    "    price={}\n",
    "    for n,i in enumerate(Prices):\n",
    "        price[Prices[n]['end']]=Prices[n]['value']\n",
    "\n",
    "    Price=pd.DataFrame.from_dict(price, orient='index').reset_index()\n",
    "    Price.columns=['Date',area]\n",
    "\n",
    "    Price['Date']=[datetime.datetime.strptime(str(time.replace(tzinfo=None)),'%Y-%m-%d %H:%M:%S').strftime('%Y-%m-%d') for time in Price['Date']]\n",
    "\n",
    "    Price=Price.sort_values(by = \"Date\",ascending=True).reset_index(drop=True).set_index('Date')\n",
    "    return Price"
   ]
  },
  {
   "cell_type": "code",
   "execution_count": 34,
   "id": "cec09e33",
   "metadata": {
    "ExecuteTime": {
     "end_time": "2022-06-21T17:59:52.525099Z",
     "start_time": "2022-06-21T17:58:21.358761Z"
    }
   },
   "outputs": [],
   "source": [
    "SE1=Date_Capture('SE1')\n",
    "SE2=Date_Capture('SE2')\n",
    "SE3=Date_Capture('SE3')\n",
    "SE4=Date_Capture('SE4')"
   ]
  },
  {
   "cell_type": "code",
   "execution_count": 35,
   "id": "d06f27e7",
   "metadata": {
    "ExecuteTime": {
     "end_time": "2022-06-21T17:59:55.820647Z",
     "start_time": "2022-06-21T17:59:55.813646Z"
    },
    "scrolled": true
   },
   "outputs": [],
   "source": [
    "df=pd.concat([SE1,SE2['SE2'],SE3['SE3'],SE4['SE4']],axis=1)"
   ]
  },
  {
   "cell_type": "code",
   "execution_count": 36,
   "id": "89705813",
   "metadata": {
    "ExecuteTime": {
     "end_time": "2022-06-21T17:59:56.845589Z",
     "start_time": "2022-06-21T17:59:56.834586Z"
    }
   },
   "outputs": [
    {
     "data": {
      "text/html": [
       "<div>\n",
       "<style scoped>\n",
       "    .dataframe tbody tr th:only-of-type {\n",
       "        vertical-align: middle;\n",
       "    }\n",
       "\n",
       "    .dataframe tbody tr th {\n",
       "        vertical-align: top;\n",
       "    }\n",
       "\n",
       "    .dataframe thead th {\n",
       "        text-align: right;\n",
       "    }\n",
       "</style>\n",
       "<table border=\"1\" class=\"dataframe\">\n",
       "  <thead>\n",
       "    <tr style=\"text-align: right;\">\n",
       "      <th></th>\n",
       "      <th>SE1</th>\n",
       "      <th>SE2</th>\n",
       "      <th>SE3</th>\n",
       "      <th>SE4</th>\n",
       "    </tr>\n",
       "    <tr>\n",
       "      <th>Date</th>\n",
       "      <th></th>\n",
       "      <th></th>\n",
       "      <th></th>\n",
       "      <th></th>\n",
       "    </tr>\n",
       "  </thead>\n",
       "  <tbody>\n",
       "    <tr>\n",
       "      <th>2021-01-01</th>\n",
       "      <td>26.17</td>\n",
       "      <td>26.17</td>\n",
       "      <td>26.17</td>\n",
       "      <td>36.24</td>\n",
       "    </tr>\n",
       "    <tr>\n",
       "      <th>2021-01-02</th>\n",
       "      <td>31.58</td>\n",
       "      <td>31.58</td>\n",
       "      <td>31.58</td>\n",
       "      <td>43.17</td>\n",
       "    </tr>\n",
       "    <tr>\n",
       "      <th>2021-01-03</th>\n",
       "      <td>25.78</td>\n",
       "      <td>25.78</td>\n",
       "      <td>25.78</td>\n",
       "      <td>27.31</td>\n",
       "    </tr>\n",
       "    <tr>\n",
       "      <th>2021-01-04</th>\n",
       "      <td>42.17</td>\n",
       "      <td>42.17</td>\n",
       "      <td>42.17</td>\n",
       "      <td>43.88</td>\n",
       "    </tr>\n",
       "    <tr>\n",
       "      <th>2021-01-05</th>\n",
       "      <td>47.29</td>\n",
       "      <td>47.29</td>\n",
       "      <td>47.29</td>\n",
       "      <td>47.29</td>\n",
       "    </tr>\n",
       "    <tr>\n",
       "      <th>...</th>\n",
       "      <td>...</td>\n",
       "      <td>...</td>\n",
       "      <td>...</td>\n",
       "      <td>...</td>\n",
       "    </tr>\n",
       "    <tr>\n",
       "      <th>2022-06-18</th>\n",
       "      <td>9.37</td>\n",
       "      <td>9.37</td>\n",
       "      <td>9.37</td>\n",
       "      <td>9.37</td>\n",
       "    </tr>\n",
       "    <tr>\n",
       "      <th>2022-06-19</th>\n",
       "      <td>15.57</td>\n",
       "      <td>15.57</td>\n",
       "      <td>17.81</td>\n",
       "      <td>17.81</td>\n",
       "    </tr>\n",
       "    <tr>\n",
       "      <th>2022-06-20</th>\n",
       "      <td>36.68</td>\n",
       "      <td>36.68</td>\n",
       "      <td>217.97</td>\n",
       "      <td>221.65</td>\n",
       "    </tr>\n",
       "    <tr>\n",
       "      <th>2022-06-21</th>\n",
       "      <td>37.71</td>\n",
       "      <td>37.71</td>\n",
       "      <td>179.99</td>\n",
       "      <td>214.95</td>\n",
       "    </tr>\n",
       "    <tr>\n",
       "      <th>2022-06-22</th>\n",
       "      <td>50.52</td>\n",
       "      <td>50.52</td>\n",
       "      <td>162.88</td>\n",
       "      <td>214.56</td>\n",
       "    </tr>\n",
       "  </tbody>\n",
       "</table>\n",
       "<p>538 rows × 4 columns</p>\n",
       "</div>"
      ],
      "text/plain": [
       "              SE1    SE2     SE3     SE4\n",
       "Date                                    \n",
       "2021-01-01  26.17  26.17   26.17   36.24\n",
       "2021-01-02  31.58  31.58   31.58   43.17\n",
       "2021-01-03  25.78  25.78   25.78   27.31\n",
       "2021-01-04  42.17  42.17   42.17   43.88\n",
       "2021-01-05  47.29  47.29   47.29   47.29\n",
       "...           ...    ...     ...     ...\n",
       "2022-06-18   9.37   9.37    9.37    9.37\n",
       "2022-06-19  15.57  15.57   17.81   17.81\n",
       "2022-06-20  36.68  36.68  217.97  221.65\n",
       "2022-06-21  37.71  37.71  179.99  214.95\n",
       "2022-06-22  50.52  50.52  162.88  214.56\n",
       "\n",
       "[538 rows x 4 columns]"
      ]
     },
     "execution_count": 36,
     "metadata": {},
     "output_type": "execute_result"
    }
   ],
   "source": [
    "df"
   ]
  },
  {
   "cell_type": "code",
   "execution_count": null,
   "id": "900590af",
   "metadata": {},
   "outputs": [],
   "source": []
  }
 ],
 "metadata": {
  "kernelspec": {
   "display_name": "Python 3 (ipykernel)",
   "language": "python",
   "name": "python3"
  },
  "language_info": {
   "codemirror_mode": {
    "name": "ipython",
    "version": 3
   },
   "file_extension": ".py",
   "mimetype": "text/x-python",
   "name": "python",
   "nbconvert_exporter": "python",
   "pygments_lexer": "ipython3",
   "version": "3.7.11"
  },
  "varInspector": {
   "cols": {
    "lenName": 16,
    "lenType": 16,
    "lenVar": 40
   },
   "kernels_config": {
    "python": {
     "delete_cmd_postfix": "",
     "delete_cmd_prefix": "del ",
     "library": "var_list.py",
     "varRefreshCmd": "print(var_dic_list())"
    },
    "r": {
     "delete_cmd_postfix": ") ",
     "delete_cmd_prefix": "rm(",
     "library": "var_list.r",
     "varRefreshCmd": "cat(var_dic_list()) "
    }
   },
   "types_to_exclude": [
    "module",
    "function",
    "builtin_function_or_method",
    "instance",
    "_Feature"
   ],
   "window_display": false
  }
 },
 "nbformat": 4,
 "nbformat_minor": 5
}
