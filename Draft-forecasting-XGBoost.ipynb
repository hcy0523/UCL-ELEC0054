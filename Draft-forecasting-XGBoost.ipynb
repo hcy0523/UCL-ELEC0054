{
 "cells": [
  {
   "cell_type": "code",
   "execution_count": 1,
   "id": "480e3f79",
   "metadata": {
    "ExecuteTime": {
     "end_time": "2022-08-28T02:48:16.295629Z",
     "start_time": "2022-08-28T02:48:09.584589Z"
    }
   },
   "outputs": [],
   "source": [
    "import os\n",
    "import pandas as pd\n",
    "import numpy as np\n",
    "\n",
    "import datetime\n",
    "import matplotlib.pyplot as plt\n",
    "import seaborn as sns\n",
    "%matplotlib inline\n",
    "from scipy import stats\n",
    "from statsmodels.tsa.seasonal import seasonal_decompose\n",
    "from scipy.stats import pearsonr,spearmanr\n",
    "import warnings\n",
    "warnings.filterwarnings(\"ignore\")#忽略警告\n",
    "\n",
    "import datetime\n",
    "from collections import Counter\n",
    "from scipy import stats\n",
    "from sklearn.preprocessing import MinMaxScaler,StandardScaler\n",
    "# from calendar import day_abbr, month_abbr, mdays\n",
    "# import holidays\n",
    "# from fbprophet import Prophet\n",
    "from sklearn.metrics import mean_squared_error as MSE, r2_score as R2, mean_absolute_percentage_error as MAPE\n",
    "from sklearn.linear_model import LinearRegression\n",
    "from xgboost import XGBRegressor\n",
    "\n",
    "from sklearn.neighbors import KNeighborsRegressor\n",
    "from sklearn import metrics\n",
    "from sklearn import svm\n",
    "import joblib\n",
    "\n",
    "from sklearn import tree\n",
    "from sklearn.ensemble import RandomForestRegressor\n",
    "from sklearn.ensemble import BaggingRegressor\n",
    "from sklearn.ensemble import AdaBoostRegressor"
   ]
  },
  {
   "cell_type": "code",
   "execution_count": 2,
   "id": "e2938deb",
   "metadata": {
    "ExecuteTime": {
     "end_time": "2022-08-28T02:48:16.327636Z",
     "start_time": "2022-08-28T02:48:16.301630Z"
    }
   },
   "outputs": [],
   "source": [
    "df=pd.read_csv('./data/preprocessed/data.csv')"
   ]
  },
  {
   "cell_type": "code",
   "execution_count": 3,
   "id": "f084a4fd",
   "metadata": {
    "ExecuteTime": {
     "end_time": "2022-08-28T02:48:16.359643Z",
     "start_time": "2022-08-28T02:48:16.332637Z"
    }
   },
   "outputs": [],
   "source": [
    "df['Date']=pd.to_datetime(df['Date'].astype('str'))\n",
    "df.set_index('Date',drop=True,inplace=True)"
   ]
  },
  {
   "cell_type": "code",
   "execution_count": 4,
   "id": "50255b60",
   "metadata": {
    "ExecuteTime": {
     "end_time": "2022-08-28T02:48:16.406659Z",
     "start_time": "2022-08-28T02:48:16.367645Z"
    }
   },
   "outputs": [],
   "source": [
    "x = df.iloc[:,1:]  # features\n",
    "x_train=x.loc[:'2022-02-28',:]\n",
    "x_test=x.loc['2022-03-01':,:]\n",
    "y = df.loc[:, ['Price']]  # target\n",
    "y_train=y.loc[:'2022-02-28',:]\n",
    "y_test=y.loc['2022-03-01':,:]"
   ]
  },
  {
   "cell_type": "code",
   "execution_count": 5,
   "id": "99923a25",
   "metadata": {
    "ExecuteTime": {
     "end_time": "2022-08-28T02:48:16.454671Z",
     "start_time": "2022-08-28T02:48:16.410660Z"
    }
   },
   "outputs": [],
   "source": [
    "# Pre-process data\n",
    "scaler = MinMaxScaler() \n",
    "x_train1 = scaler.fit_transform(x_train)\n",
    "x_test1 = scaler.transform(x_test)\n",
    "scaler = StandardScaler()\n",
    "x_train2 = scaler.fit_transform(x_train)\n",
    "x_test2 = scaler.transform(x_test)"
   ]
  },
  {
   "cell_type": "markdown",
   "id": "c91f63b9",
   "metadata": {},
   "source": [
    "### XGBoost without time offset"
   ]
  },
  {
   "cell_type": "code",
   "execution_count": 6,
   "id": "936e5d33",
   "metadata": {
    "ExecuteTime": {
     "end_time": "2022-08-28T02:48:16.485677Z",
     "start_time": "2022-08-28T02:48:16.458672Z"
    }
   },
   "outputs": [
    {
     "data": {
      "text/plain": [
       "GDP          False\n",
       "netimport    False\n",
       "EV           False\n",
       "EG           False\n",
       "carbon       False\n",
       "crude        False\n",
       "gas          False\n",
       "temp         False\n",
       "precip       False\n",
       "wind         False\n",
       "dtype: bool"
      ]
     },
     "execution_count": 6,
     "metadata": {},
     "output_type": "execute_result"
    }
   ],
   "source": [
    "x.isnull().any()"
   ]
  },
  {
   "cell_type": "code",
   "execution_count": 7,
   "id": "c574eae6",
   "metadata": {
    "ExecuteTime": {
     "end_time": "2022-08-28T02:48:16.516684Z",
     "start_time": "2022-08-28T02:48:16.492679Z"
    }
   },
   "outputs": [],
   "source": [
    "def XGB(X,Y):    \n",
    "    for n in X.iloc[:,0:]:\n",
    "        # Training data\n",
    "        x = pd.DataFrame(X[str(n)] ) # features\n",
    "        x_train=x.loc[:'2022-02-28',:]\n",
    "        X_test=x.loc['2022-03-01':,:]\n",
    "        y_train=y.loc[:'2022-02-28',:]\n",
    "        y_test=y.loc['2022-03-01':,:]\n",
    "        # Train the model\n",
    "        scaler = StandardScaler() \n",
    "        x_train = scaler.fit_transform(x_train)\n",
    "        x_test = scaler.transform(X_test)\n",
    "        model = XGBRegressor()\n",
    "        model.fit(x_train, y_train)\n",
    "\n",
    "        # Store the fitted values as a time series with the same time index as\n",
    "        # the training data\n",
    "        y_pred = pd.Series(model.predict(x_test).T[0], index=X_test.index)\n",
    "        print(str(n),'\\nMSE:',MSE(y_test,y_pred),'\\nr2_score:', R2(y_test,y_pred),'\\nMAPE:', MAPE(y_test,y_pred),'\\n')\n"
   ]
  },
  {
   "cell_type": "code",
   "execution_count": 8,
   "id": "37e11bfc",
   "metadata": {
    "ExecuteTime": {
     "end_time": "2022-08-28T02:48:19.460651Z",
     "start_time": "2022-08-28T02:48:16.521685Z"
    },
    "scrolled": true
   },
   "outputs": [
    {
     "name": "stdout",
     "output_type": "stream",
     "text": [
      "GDP \n",
      "MSE: 651.9847726476422 \n",
      "r2_score: -0.02082117859249344 \n",
      "MAPE: 0.8156187502205131 \n",
      "\n",
      "netimport \n",
      "MSE: 665.9556850862406 \n",
      "r2_score: -0.042695620910627285 \n",
      "MAPE: 0.8649770183615586 \n",
      "\n",
      "EV \n",
      "MSE: 1485.802893779847 \n",
      "r2_score: -1.326341234972653 \n",
      "MAPE: 0.7132206398803601 \n",
      "\n",
      "EG \n",
      "MSE: 1091.7834029078733 \n",
      "r2_score: -0.7094197086815484 \n",
      "MAPE: 0.4220850187492764 \n",
      "\n",
      "carbon \n",
      "MSE: 650.4894650695269 \n",
      "r2_score: -0.018479955747592536 \n",
      "MAPE: 0.8091365174464077 \n",
      "\n",
      "crude \n",
      "MSE: 1082.685894669295 \n",
      "r2_score: -0.6951756197519143 \n",
      "MAPE: 0.41847430555920945 \n",
      "\n",
      "gas \n",
      "MSE: 877.5709047395366 \n",
      "r2_score: -0.3740243681409452 \n",
      "MAPE: 0.4100248626401748 \n",
      "\n",
      "temp \n",
      "MSE: 948.5121315017695 \n",
      "r2_score: -0.48509798481474675 \n",
      "MAPE: 0.39551238283168777 \n",
      "\n",
      "precip \n",
      "MSE: 815.5276053311482 \n",
      "r2_score: -0.2768823539668399 \n",
      "MAPE: 0.4350372778156824 \n",
      "\n",
      "wind \n",
      "MSE: 796.0610237742009 \n",
      "r2_score: -0.2464032698504548 \n",
      "MAPE: 0.4444697680386107 \n",
      "\n"
     ]
    }
   ],
   "source": [
    "XGB(x,y)"
   ]
  },
  {
   "cell_type": "code",
   "execution_count": 9,
   "id": "5b27def1",
   "metadata": {
    "ExecuteTime": {
     "end_time": "2022-08-28T02:48:19.476654Z",
     "start_time": "2022-08-28T02:48:19.464651Z"
    }
   },
   "outputs": [],
   "source": [
    "xtrain=x_train.copy()\n",
    "xtest=x_test.copy()\n",
    "ytrain=y_train.copy()\n",
    "ytest=y_test.copy()"
   ]
  },
  {
   "cell_type": "code",
   "execution_count": 10,
   "id": "3c785ce0",
   "metadata": {
    "ExecuteTime": {
     "end_time": "2022-08-28T02:48:19.745715Z",
     "start_time": "2022-08-28T02:48:19.485656Z"
    }
   },
   "outputs": [
    {
     "name": "stdout",
     "output_type": "stream",
     "text": [
      "MSE: 1037.536600046929 \n",
      "r2_score: -0.6244847722312592 \n",
      "MAPE: 0.4068050347856131 \n",
      "\n"
     ]
    }
   ],
   "source": [
    "X_train=xtrain.loc[:,['EV','netimport']]\n",
    "X_test=xtest.loc[:,['EV','netimport']]\n",
    "# Train the model\n",
    "scaler = StandardScaler() \n",
    "x_train = scaler.fit_transform(X_train)\n",
    "x_test = scaler.transform(X_test)\n",
    "model = XGBRegressor()\n",
    "model.fit(X_train, ytrain)\n",
    "\n",
    "# Store the fitted values as a time series with the same time index as\n",
    "# the training data\n",
    "y_pred = pd.Series(model.predict(X_test).T[0], index=xtest.index)\n",
    "print('MSE:',MSE(ytest,y_pred),'\\nr2_score:', R2(ytest,y_pred),'\\nMAPE:', MAPE(ytest,y_pred),'\\n')"
   ]
  },
  {
   "cell_type": "code",
   "execution_count": 11,
   "id": "0ea55a86",
   "metadata": {
    "ExecuteTime": {
     "end_time": "2022-08-28T02:48:19.761719Z",
     "start_time": "2022-08-28T02:48:19.749716Z"
    }
   },
   "outputs": [],
   "source": [
    "y_pred.name='Price_pred'"
   ]
  },
  {
   "cell_type": "code",
   "execution_count": 12,
   "id": "e0b0af00",
   "metadata": {
    "ExecuteTime": {
     "end_time": "2022-08-28T02:48:19.777277Z",
     "start_time": "2022-08-28T02:48:19.765275Z"
    }
   },
   "outputs": [],
   "source": [
    "ytest.name='Price_true'"
   ]
  },
  {
   "cell_type": "code",
   "execution_count": 13,
   "id": "7c3b47b4",
   "metadata": {
    "ExecuteTime": {
     "end_time": "2022-08-28T02:48:19.793280Z",
     "start_time": "2022-08-28T02:48:19.781277Z"
    }
   },
   "outputs": [],
   "source": [
    "res=pd.concat([X_test,ytest,y_pred],axis=1)"
   ]
  },
  {
   "cell_type": "code",
   "execution_count": 14,
   "id": "67fba395",
   "metadata": {
    "ExecuteTime": {
     "end_time": "2022-08-28T02:48:19.840293Z",
     "start_time": "2022-08-28T02:48:19.800283Z"
    }
   },
   "outputs": [
    {
     "data": {
      "text/html": [
       "<div>\n",
       "<style scoped>\n",
       "    .dataframe tbody tr th:only-of-type {\n",
       "        vertical-align: middle;\n",
       "    }\n",
       "\n",
       "    .dataframe tbody tr th {\n",
       "        vertical-align: top;\n",
       "    }\n",
       "\n",
       "    .dataframe thead th {\n",
       "        text-align: right;\n",
       "    }\n",
       "</style>\n",
       "<table border=\"1\" class=\"dataframe\">\n",
       "  <thead>\n",
       "    <tr style=\"text-align: right;\">\n",
       "      <th></th>\n",
       "      <th>EV</th>\n",
       "      <th>netimport</th>\n",
       "      <th>Price</th>\n",
       "      <th>Price_pred</th>\n",
       "    </tr>\n",
       "    <tr>\n",
       "      <th>Date</th>\n",
       "      <th></th>\n",
       "      <th></th>\n",
       "      <th></th>\n",
       "      <th></th>\n",
       "    </tr>\n",
       "  </thead>\n",
       "  <tbody>\n",
       "    <tr>\n",
       "      <th>2022-03-01</th>\n",
       "      <td>26.068586</td>\n",
       "      <td>-24.325249</td>\n",
       "      <td>13.68</td>\n",
       "      <td>16.296967</td>\n",
       "    </tr>\n",
       "    <tr>\n",
       "      <th>2022-03-02</th>\n",
       "      <td>25.936845</td>\n",
       "      <td>-24.314318</td>\n",
       "      <td>13.28</td>\n",
       "      <td>16.296967</td>\n",
       "    </tr>\n",
       "    <tr>\n",
       "      <th>2022-03-03</th>\n",
       "      <td>25.804540</td>\n",
       "      <td>-24.303359</td>\n",
       "      <td>20.63</td>\n",
       "      <td>16.296967</td>\n",
       "    </tr>\n",
       "    <tr>\n",
       "      <th>2022-03-04</th>\n",
       "      <td>25.671671</td>\n",
       "      <td>-24.292371</td>\n",
       "      <td>23.72</td>\n",
       "      <td>16.296967</td>\n",
       "    </tr>\n",
       "    <tr>\n",
       "      <th>2022-03-05</th>\n",
       "      <td>25.538237</td>\n",
       "      <td>-24.281355</td>\n",
       "      <td>14.89</td>\n",
       "      <td>16.296967</td>\n",
       "    </tr>\n",
       "    <tr>\n",
       "      <th>...</th>\n",
       "      <td>...</td>\n",
       "      <td>...</td>\n",
       "      <td>...</td>\n",
       "      <td>...</td>\n",
       "    </tr>\n",
       "    <tr>\n",
       "      <th>2022-04-26</th>\n",
       "      <td>17.801233</td>\n",
       "      <td>-23.672716</td>\n",
       "      <td>23.94</td>\n",
       "      <td>16.296967</td>\n",
       "    </tr>\n",
       "    <tr>\n",
       "      <th>2022-04-27</th>\n",
       "      <td>17.636705</td>\n",
       "      <td>-23.660389</td>\n",
       "      <td>43.43</td>\n",
       "      <td>16.296967</td>\n",
       "    </tr>\n",
       "    <tr>\n",
       "      <th>2022-04-28</th>\n",
       "      <td>17.471570</td>\n",
       "      <td>-23.648040</td>\n",
       "      <td>19.30</td>\n",
       "      <td>16.296967</td>\n",
       "    </tr>\n",
       "    <tr>\n",
       "      <th>2022-04-29</th>\n",
       "      <td>17.305825</td>\n",
       "      <td>-23.635671</td>\n",
       "      <td>31.43</td>\n",
       "      <td>16.296967</td>\n",
       "    </tr>\n",
       "    <tr>\n",
       "      <th>2022-04-30</th>\n",
       "      <td>17.139470</td>\n",
       "      <td>-23.623280</td>\n",
       "      <td>31.11</td>\n",
       "      <td>16.296967</td>\n",
       "    </tr>\n",
       "  </tbody>\n",
       "</table>\n",
       "<p>61 rows × 4 columns</p>\n",
       "</div>"
      ],
      "text/plain": [
       "                   EV  netimport  Price  Price_pred\n",
       "Date                                               \n",
       "2022-03-01  26.068586 -24.325249  13.68   16.296967\n",
       "2022-03-02  25.936845 -24.314318  13.28   16.296967\n",
       "2022-03-03  25.804540 -24.303359  20.63   16.296967\n",
       "2022-03-04  25.671671 -24.292371  23.72   16.296967\n",
       "2022-03-05  25.538237 -24.281355  14.89   16.296967\n",
       "...               ...        ...    ...         ...\n",
       "2022-04-26  17.801233 -23.672716  23.94   16.296967\n",
       "2022-04-27  17.636705 -23.660389  43.43   16.296967\n",
       "2022-04-28  17.471570 -23.648040  19.30   16.296967\n",
       "2022-04-29  17.305825 -23.635671  31.43   16.296967\n",
       "2022-04-30  17.139470 -23.623280  31.11   16.296967\n",
       "\n",
       "[61 rows x 4 columns]"
      ]
     },
     "execution_count": 14,
     "metadata": {},
     "output_type": "execute_result"
    }
   ],
   "source": [
    "res"
   ]
  },
  {
   "cell_type": "code",
   "execution_count": 15,
   "id": "16ae8726",
   "metadata": {
    "ExecuteTime": {
     "end_time": "2022-08-28T02:48:20.538407Z",
     "start_time": "2022-08-28T02:48:19.843294Z"
    }
   },
   "outputs": [
    {
     "data": {
      "image/png": "[encoded data removed]",
      "text/plain": [
       "<Figure size 432x288 with 1 Axes>"
      ]
     },
     "metadata": {
      "needs_background": "light"
     },
     "output_type": "display_data"
    }
   ],
   "source": [
    "plot_params = dict(\n",
    "    color=\"0.75\",\n",
    "    style=\".-\",\n",
    "    markeredgecolor=\"0.25\",\n",
    "    markerfacecolor=\"0.25\",\n",
    "    legend=True,\n",
    "    linewidth=1.5\n",
    ")\n",
    "ytest.columns=['Price_true']\n",
    "ytest.plot(**plot_params)\n",
    "y_pred.plot(label='Price_pred')\n",
    "plt.legend(loc='best')\n",
    "plt.grid()\n",
    "plt.tight_layout()"
   ]
  },
  {
   "cell_type": "markdown",
   "id": "7f244630",
   "metadata": {},
   "source": [
    "### XGBoost regression with time offset"
   ]
  },
  {
   "cell_type": "markdown",
   "id": "4dafd54b",
   "metadata": {},
   "source": [
    "#### autoregression"
   ]
  },
  {
   "cell_type": "code",
   "execution_count": 16,
   "id": "12eb2479",
   "metadata": {
    "ExecuteTime": {
     "end_time": "2022-08-28T02:48:20.569414Z",
     "start_time": "2022-08-28T02:48:20.542408Z"
    }
   },
   "outputs": [],
   "source": [
    "shift=1\n",
    "Df=df.copy()\n",
    "Df['Lag_1'] = Df['Price'].shift(shift)\n",
    "Df = Df.reindex(columns=['Price', 'Lag_1'])\n",
    "X = Df.loc[:, ['Lag_1']]\n",
    "X.dropna(inplace=True)  # drop missing values in the feature set\n",
    "y = Df.loc[:, ['Price']]  # create the target\n",
    "y, X = y.align(X, join='inner',axis=0)  # drop corresponding values in target"
   ]
  },
  {
   "cell_type": "code",
   "execution_count": 17,
   "id": "d905591e",
   "metadata": {
    "ExecuteTime": {
     "end_time": "2022-08-28T02:48:20.601421Z",
     "start_time": "2022-08-28T02:48:20.574415Z"
    }
   },
   "outputs": [
    {
     "data": {
      "text/html": [
       "<div>\n",
       "<style scoped>\n",
       "    .dataframe tbody tr th:only-of-type {\n",
       "        vertical-align: middle;\n",
       "    }\n",
       "\n",
       "    .dataframe tbody tr th {\n",
       "        vertical-align: top;\n",
       "    }\n",
       "\n",
       "    .dataframe thead th {\n",
       "        text-align: right;\n",
       "    }\n",
       "</style>\n",
       "<table border=\"1\" class=\"dataframe\">\n",
       "  <thead>\n",
       "    <tr style=\"text-align: right;\">\n",
       "      <th></th>\n",
       "      <th>Price</th>\n",
       "    </tr>\n",
       "    <tr>\n",
       "      <th>Date</th>\n",
       "      <th></th>\n",
       "    </tr>\n",
       "  </thead>\n",
       "  <tbody>\n",
       "    <tr>\n",
       "      <th>2019-01-02</th>\n",
       "      <td>42.65</td>\n",
       "    </tr>\n",
       "    <tr>\n",
       "      <th>2019-01-03</th>\n",
       "      <td>51.90</td>\n",
       "    </tr>\n",
       "    <tr>\n",
       "      <th>2019-01-04</th>\n",
       "      <td>50.85</td>\n",
       "    </tr>\n",
       "    <tr>\n",
       "      <th>2019-01-05</th>\n",
       "      <td>50.72</td>\n",
       "    </tr>\n",
       "    <tr>\n",
       "      <th>2019-01-06</th>\n",
       "      <td>51.02</td>\n",
       "    </tr>\n",
       "    <tr>\n",
       "      <th>...</th>\n",
       "      <td>...</td>\n",
       "    </tr>\n",
       "    <tr>\n",
       "      <th>2022-04-26</th>\n",
       "      <td>23.94</td>\n",
       "    </tr>\n",
       "    <tr>\n",
       "      <th>2022-04-27</th>\n",
       "      <td>43.43</td>\n",
       "    </tr>\n",
       "    <tr>\n",
       "      <th>2022-04-28</th>\n",
       "      <td>19.30</td>\n",
       "    </tr>\n",
       "    <tr>\n",
       "      <th>2022-04-29</th>\n",
       "      <td>31.43</td>\n",
       "    </tr>\n",
       "    <tr>\n",
       "      <th>2022-04-30</th>\n",
       "      <td>31.11</td>\n",
       "    </tr>\n",
       "  </tbody>\n",
       "</table>\n",
       "<p>1215 rows × 1 columns</p>\n",
       "</div>"
      ],
      "text/plain": [
       "            Price\n",
       "Date             \n",
       "2019-01-02  42.65\n",
       "2019-01-03  51.90\n",
       "2019-01-04  50.85\n",
       "2019-01-05  50.72\n",
       "2019-01-06  51.02\n",
       "...           ...\n",
       "2022-04-26  23.94\n",
       "2022-04-27  43.43\n",
       "2022-04-28  19.30\n",
       "2022-04-29  31.43\n",
       "2022-04-30  31.11\n",
       "\n",
       "[1215 rows x 1 columns]"
      ]
     },
     "execution_count": 17,
     "metadata": {},
     "output_type": "execute_result"
    }
   ],
   "source": [
    "y"
   ]
  },
  {
   "cell_type": "code",
   "execution_count": 18,
   "id": "30c19fa9",
   "metadata": {
    "ExecuteTime": {
     "end_time": "2022-08-28T02:48:20.617425Z",
     "start_time": "2022-08-28T02:48:20.606422Z"
    }
   },
   "outputs": [],
   "source": [
    "def make_lags(ts, lags, lead_time=1):\n",
    "    return pd.concat(\n",
    "        {\n",
    "            f'y_lag_{i}': ts.shift(i)\n",
    "            for i in range(lead_time, lags + lead_time)\n",
    "        },\n",
    "        axis=1)"
   ]
  },
  {
   "cell_type": "code",
   "execution_count": 50,
   "id": "8e946e0b",
   "metadata": {
    "ExecuteTime": {
     "end_time": "2022-08-28T03:55:59.484632Z",
     "start_time": "2022-08-28T03:55:59.471620Z"
    }
   },
   "outputs": [],
   "source": [
    "def XGBshift():  \n",
    "    for shift in range(1,32):\n",
    "        Df=df.copy()\n",
    "        X=make_lags(pd.DataFrame(df.Price), lags=shift).dropna()\n",
    "        y=pd.DataFrame(df.Price)\n",
    "        y, X = y.align(X, join='inner', axis=0)\n",
    "        \n",
    "        x_train=X.loc[:'2022-02-28',:]\n",
    "        x_test=X.loc['2022-03-01':,:]\n",
    "        \n",
    "#         scaler = MinMaxScaler() \n",
    "#         x_train = scaler.fit_transform(x_train)\n",
    "#         x_test = scaler.transform(x_test)\n",
    "        \n",
    "        y_train=y.loc[:'2022-02-28',:]\n",
    "        y_test=y.loc['2022-03-01':,:]\n",
    "        model = XGBRegressor(n_estimators=1000, learning_rate=0.2)\n",
    "        model.fit(x_train, y_train)\n",
    "\n",
    "        y_pred = pd.Series(model.predict(x_test), index=x_test.index)\n",
    "        print('MSE:',MSE(y_test,y_pred),'\\nr2_score:', R2(y_test,y_pred),'\\nMAPE:', MAPE(y_test,y_pred),'\\n')"
   ]
  },
  {
   "cell_type": "code",
   "execution_count": 51,
   "id": "1c1d2667",
   "metadata": {
    "ExecuteTime": {
     "end_time": "2022-08-28T03:56:27.049558Z",
     "start_time": "2022-08-28T03:56:00.392484Z"
    },
    "scrolled": true
   },
   "outputs": [
    {
     "name": "stdout",
     "output_type": "stream",
     "text": [
      "MSE: 852.3601581082822 \n",
      "r2_score: -0.33455156882263615 \n",
      "MAPE: 0.4948504593799692 \n",
      "\n",
      "MSE: 756.9998475502974 \n",
      "r2_score: -0.18524466979884902 \n",
      "MAPE: 0.490206116442119 \n",
      "\n",
      "MSE: 669.6315139910639 \n",
      "r2_score: -0.048450914825986846 \n",
      "MAPE: 0.44310405464811137 \n",
      "\n",
      "MSE: 635.7637401379494 \n",
      "r2_score: 0.004576306470368441 \n",
      "MAPE: 0.43572241380624294 \n",
      "\n",
      "MSE: 568.9661361891413 \n",
      "r2_score: 0.1091621981212898 \n",
      "MAPE: 0.43499010917156644 \n",
      "\n",
      "MSE: 448.0440737325133 \n",
      "r2_score: 0.2984914700512673 \n",
      "MAPE: 0.44137104800070054 \n",
      "\n",
      "MSE: 497.0180162889951 \n",
      "r2_score: 0.22181232069351486 \n",
      "MAPE: 0.43891310316440546 \n",
      "\n",
      "MSE: 552.2000983224901 \n",
      "r2_score: 0.1354130052771969 \n",
      "MAPE: 0.4241257623061033 \n",
      "\n",
      "MSE: 533.6572875747537 \n",
      "r2_score: 0.16444572922418965 \n",
      "MAPE: 0.4473049194697271 \n",
      "\n",
      "MSE: 577.7448153170225 \n",
      "r2_score: 0.09541730414559535 \n",
      "MAPE: 0.46047154689473707 \n",
      "\n",
      "MSE: 578.1784106605635 \n",
      "r2_score: 0.0947384181835379 \n",
      "MAPE: 0.45733414801541605 \n",
      "\n",
      "MSE: 533.3160792562361 \n",
      "r2_score: 0.16497996359969547 \n",
      "MAPE: 0.46096379182346026 \n",
      "\n",
      "MSE: 564.3034233727906 \n",
      "r2_score: 0.11646266922477344 \n",
      "MAPE: 0.4676542215504782 \n",
      "\n",
      "MSE: 548.0991818823564 \n",
      "r2_score: 0.14183386436678325 \n",
      "MAPE: 0.45192837854187085 \n",
      "\n",
      "MSE: 549.9688112758815 \n",
      "r2_score: 0.1389065609064909 \n",
      "MAPE: 0.4408063782950796 \n",
      "\n",
      "MSE: 541.9840387711328 \n",
      "r2_score: 0.15140842478590344 \n",
      "MAPE: 0.45710496814342044 \n",
      "\n",
      "MSE: 521.550454986056 \n",
      "r2_score: 0.1834015570758557 \n",
      "MAPE: 0.4653445624189908 \n",
      "\n",
      "MSE: 503.0488247629647 \n",
      "r2_score: 0.2123698041309533 \n",
      "MAPE: 0.4489262412748465 \n",
      "\n",
      "MSE: 550.200777692248 \n",
      "r2_score: 0.13854336802149825 \n",
      "MAPE: 0.45424360203736874 \n",
      "\n",
      "MSE: 538.9522792543694 \n",
      "r2_score: 0.15615529074497092 \n",
      "MAPE: 0.4512732850017068 \n",
      "\n",
      "MSE: 553.1884061572151 \n",
      "r2_score: 0.1338655986336963 \n",
      "MAPE: 0.43394805014463217 \n",
      "\n",
      "MSE: 551.39622005846 \n",
      "r2_score: 0.13667164810346977 \n",
      "MAPE: 0.4599307016672671 \n",
      "\n",
      "MSE: 532.1366434943027 \n",
      "r2_score: 0.16682662176577767 \n",
      "MAPE: 0.4406883483345647 \n",
      "\n",
      "MSE: 559.7502567171842 \n",
      "r2_score: 0.1235916224560415 \n",
      "MAPE: 0.44892305713811836 \n",
      "\n",
      "MSE: 549.248082420812 \n",
      "r2_score: 0.14003501560381448 \n",
      "MAPE: 0.41921157971439066 \n",
      "\n",
      "MSE: 559.0288627532817 \n",
      "r2_score: 0.12472111852305856 \n",
      "MAPE: 0.44063898723735967 \n",
      "\n",
      "MSE: 529.2424718370949 \n",
      "r2_score: 0.17135806459405445 \n",
      "MAPE: 0.4417401765639833 \n",
      "\n",
      "MSE: 527.7156758830644 \n",
      "r2_score: 0.17374858920544134 \n",
      "MAPE: 0.44907471690514933 \n",
      "\n",
      "MSE: 517.0671464462554 \n",
      "r2_score: 0.19042113253159487 \n",
      "MAPE: 0.4326964893142243 \n",
      "\n",
      "MSE: 532.0791383415424 \n",
      "r2_score: 0.1669166583437448 \n",
      "MAPE: 0.43117154054942924 \n",
      "\n",
      "MSE: 555.6623958498903 \n",
      "r2_score: 0.12999204026262168 \n",
      "MAPE: 0.41436780533497664 \n",
      "\n"
     ]
    }
   ],
   "source": [
    "XGBshift()"
   ]
  },
  {
   "cell_type": "code",
   "execution_count": 21,
   "id": "0b531c89",
   "metadata": {
    "ExecuteTime": {
     "end_time": "2022-08-28T02:48:28.663610Z",
     "start_time": "2022-08-28T02:48:28.650607Z"
    }
   },
   "outputs": [],
   "source": [
    "Df=df.copy()\n",
    "X=make_lags(pd.DataFrame(df.Price), lags=2).dropna()\n",
    "y=pd.DataFrame(df.Price)\n",
    "y, X = y.align(X, join='inner', axis=0)"
   ]
  },
  {
   "cell_type": "code",
   "execution_count": 22,
   "id": "f2799a4e",
   "metadata": {
    "ExecuteTime": {
     "end_time": "2022-08-28T02:48:28.679119Z",
     "start_time": "2022-08-28T02:48:28.665611Z"
    }
   },
   "outputs": [],
   "source": [
    "# x_trainl=X.loc['2019-01-02':'2022-01-31',:]\n",
    "# x_testl=X.loc['2022-02-01':'2022-04-30',:]\n",
    "# y_trainl=y.loc['2019-01-02':'2022-01-31',:]\n",
    "# y_testl=y.loc['2022-02-01':'2022-04-30',:]\n",
    "x_trainl=X.loc[:'2022-02-28',:]\n",
    "x_testl=X.loc['2022-03-01':,:]\n",
    "y_trainl=y.loc[:'2022-02-28',:]\n",
    "y_testl=y.loc['2022-03-01':,:]"
   ]
  },
  {
   "cell_type": "code",
   "execution_count": 23,
   "id": "e4be1fa6",
   "metadata": {
    "ExecuteTime": {
     "end_time": "2022-08-28T02:48:28.791144Z",
     "start_time": "2022-08-28T02:48:28.681120Z"
    }
   },
   "outputs": [],
   "source": [
    "model = XGBRegressor()\n",
    "model.fit(x_trainl, y_trainl)\n",
    "\n",
    "y_predl = pd.Series(model.predict(x_testl).T[0], index=x_testl.index)"
   ]
  },
  {
   "cell_type": "code",
   "execution_count": 24,
   "id": "3c353b44",
   "metadata": {
    "ExecuteTime": {
     "end_time": "2022-08-28T02:48:28.807148Z",
     "start_time": "2022-08-28T02:48:28.793145Z"
    }
   },
   "outputs": [
    {
     "name": "stdout",
     "output_type": "stream",
     "text": [
      "MSE:977.114769, r2 score:-0.529882 and MAPE:0.396837\n"
     ]
    }
   ],
   "source": [
    "print('MSE:%f, r2 score:%f and MAPE:%f' %(MSE(y_testl,y_predl), R2(y_testl,y_predl),MAPE(y_testl,y_predl)))"
   ]
  },
  {
   "cell_type": "code",
   "execution_count": 25,
   "id": "7e0fe1ca",
   "metadata": {
    "ExecuteTime": {
     "end_time": "2022-08-28T02:48:28.823152Z",
     "start_time": "2022-08-28T02:48:28.809149Z"
    }
   },
   "outputs": [],
   "source": [
    "plot_params = dict(\n",
    "    color=\"0.75\",\n",
    "    style=\".-\",\n",
    "    markeredgecolor=\"0.25\",\n",
    "    markerfacecolor=\"0.25\",\n",
    "    legend=False,\n",
    "    linewidth=1.5\n",
    ")"
   ]
  },
  {
   "cell_type": "code",
   "execution_count": 26,
   "id": "ee3a46ef",
   "metadata": {
    "ExecuteTime": {
     "end_time": "2022-08-28T02:48:29.123741Z",
     "start_time": "2022-08-28T02:48:28.825153Z"
    }
   },
   "outputs": [
    {
     "data": {
      "image/png": "[encoded data removed]",
      "text/plain": [
       "<Figure size 432x288 with 1 Axes>"
      ]
     },
     "metadata": {
      "needs_background": "light"
     },
     "output_type": "display_data"
    }
   ],
   "source": [
    "y_testl.columns=['Price_true']\n",
    "ax = y_testl.plot(**plot_params)\n",
    "ax = y_predl.plot(label='Price_pred')\n",
    "plt.grid()\n",
    "plt.legend(loc='best')\n",
    "plt.tight_layout()"
   ]
  },
  {
   "cell_type": "markdown",
   "id": "8e2327fa",
   "metadata": {},
   "source": [
    "#### regression with elements"
   ]
  },
  {
   "cell_type": "code",
   "execution_count": 27,
   "id": "7b432464",
   "metadata": {
    "ExecuteTime": {
     "end_time": "2022-08-28T02:48:29.139145Z",
     "start_time": "2022-08-28T02:48:29.124740Z"
    }
   },
   "outputs": [],
   "source": [
    "def XGB2(Df,n):\n",
    "    df=Df.copy()\n",
    "    df['Lag_1'] = df['Price'].shift(1)\n",
    "    df['Lag '+n] = df[n].shift(1)\n",
    "    df1 = df.reindex(columns=['Price','Lag'+n, 'Lag_1'])\n",
    "    X = df.loc[:, ['Lag '+n,'Lag_1']]\n",
    "    X.dropna(inplace=True)  # drop missing values in the feature set\n",
    "    y = df.loc[:, ['Price']]  # create the target\n",
    "    y, X = y.align(X, join='inner',axis=0)  # drop corresponding values in target\n",
    "#     x_train=X.loc['2019-01-02':'2022-01-31',:]\n",
    "#     x_test=X.loc['2022-02-01':'2022-04-30',:]\n",
    "#     y_train=y.loc['2019-01-02':'2022-01-31',:]\n",
    "#     y_test=y.loc['2022-02-01':'2022-04-30',:]\n",
    "    x_train=X.loc[:'2022-02-28',:]\n",
    "    x_test=X.loc['2022-03-01':,:]\n",
    "    y_train=y.loc[:'2022-02-28',:]\n",
    "    y_test=y.loc['2022-03-01':,:]\n",
    "    scaler = MinMaxScaler() \n",
    "    x_train1 = scaler.fit_transform(x_train)\n",
    "    x_test1 = scaler.transform(x_test)\n",
    "    scaler = StandardScaler()\n",
    "    x_train2 = scaler.fit_transform(x_train)\n",
    "    x_test2 = scaler.transform(x_test)\n",
    "\n",
    "    model = XGBRegressor()\n",
    "    model.fit(x_train1, y_train)\n",
    "\n",
    "    y_pred = pd.Series(model.predict(x_test1).T[0], index=x_test.index)\n",
    "    print('MSE:%f, r2 score:%f and MAPE:%f \\n' %(MSE(y_test,y_pred), R2(y_test,y_pred),MAPE(y_test,y_pred)))\n",
    "\n",
    "    fig, ax = plt.subplots()\n",
    "    ax = sns.regplot(x='Lag '+n, y='Price', data=df, ci=None, scatter_kws=dict(color='0.25'))\n",
    "    ax.set_title('Lag '+n+' of Power Price')\n",
    "    \n",
    "#     plt.plot(x_test['Lag'+n],y_test, '.', color='0.25')\n",
    "#     plt.plot(x_test['Lag'+n],y_pred)\n",
    "# #     plt.set_aspect('equal')\n",
    "#     plt.ylabel('Price')\n",
    "#     plt.xlabel('Lag '+n)\n",
    "#     plt.title('Lag Plot of Power Price');\n",
    "    \n",
    "    plot_params = dict(\n",
    "        color=\"0.75\",\n",
    "        style=\".-\",\n",
    "        markeredgecolor=\"0.25\",\n",
    "        markerfacecolor=\"0.25\",\n",
    "        legend=False,\n",
    "        linewidth=1.5\n",
    "    )\n",
    "    y_test.plot(**plot_params)\n",
    "    y_pred.plot()\n",
    "    plt.grid()\n",
    "    plt.tight_layout()"
   ]
  },
  {
   "cell_type": "code",
   "execution_count": 28,
   "id": "157d7940",
   "metadata": {
    "ExecuteTime": {
     "end_time": "2022-08-28T02:48:30.691425Z",
     "start_time": "2022-08-28T02:48:29.144146Z"
    },
    "scrolled": false
   },
   "outputs": [
    {
     "name": "stdout",
     "output_type": "stream",
     "text": [
      "MSE:1062.527451, r2 score:-0.663613 and MAPE:0.412412 \n",
      "\n"
     ]
    },
    {
     "data": {
      "image/png": "[encoded data removed]",
      "text/plain": [
       "<Figure size 432x288 with 1 Axes>"
      ]
     },
     "metadata": {
      "needs_background": "light"
     },
     "output_type": "display_data"
    },
    {
     "data": {
      "image/png": "[encoded data removed]",
      "text/plain": [
       "<Figure size 432x288 with 1 Axes>"
      ]
     },
     "metadata": {
      "needs_background": "light"
     },
     "output_type": "display_data"
    }
   ],
   "source": [
    "XGB2(df,'EV')"
   ]
  },
  {
   "cell_type": "code",
   "execution_count": 29,
   "id": "e32f8fa2",
   "metadata": {
    "ExecuteTime": {
     "end_time": "2022-08-28T02:48:30.725432Z",
     "start_time": "2022-08-28T02:48:30.695425Z"
    }
   },
   "outputs": [],
   "source": [
    "def XGB3(Df,n):\n",
    "    df=Df.copy()\n",
    "    for m in range(1,31):\n",
    "        df['Lag_1'] = df['Price'].shift(1)\n",
    "        df['Lag_2'] = df['Price'].shift(2)\n",
    "        df['Lag '+n] = df[n].shift(m)\n",
    "\n",
    "        X = df.loc[:, ['Lag '+n,'Lag_1','Lag_2']]\n",
    "        X.dropna(inplace=True)  # drop missing values in the feature set\n",
    "        y = df.loc[:, ['Price']]  # create the target\n",
    "        y, X = y.align(X, join='inner',axis=0)  # drop corresponding values in target\n",
    "    #     x_train=X.loc['2019-01-02':'2022-01-31',:]\n",
    "    #     x_test=X.loc['2022-02-01':'2022-04-30',:]\n",
    "    #     y_train=y.loc['2019-01-02':'2022-01-31',:]\n",
    "    #     y_test=y.loc['2022-02-01':'2022-04-30',:]\n",
    "        x_train=X.loc[:'2022-02-28',:]\n",
    "        x_test=X.loc['2022-03-01':,:]\n",
    "        y_train=y.loc[:'2022-02-28',:]\n",
    "        y_test=y.loc['2022-03-01':,:]\n",
    "        scaler = MinMaxScaler() \n",
    "        x_train1 = scaler.fit_transform(x_train)\n",
    "        x_test1 = scaler.transform(x_test)\n",
    "        scaler = StandardScaler()\n",
    "        x_train2 = scaler.fit_transform(x_train)\n",
    "        x_test2 = scaler.transform(x_test)\n",
    "\n",
    "        model = XGBRegressor()\n",
    "        model.fit(x_train1, y_train)\n",
    "\n",
    "        y_pred = pd.Series(model.predict(x_test1).T[0], index=x_test.index)\n",
    "        print('%d MSE:%f, r2 score:%f and MAPE:%f \\n' %(m, MSE(y_test,y_pred), R2(y_test,y_pred),MAPE(y_test,y_pred)))\n"
   ]
  },
  {
   "cell_type": "code",
   "execution_count": 30,
   "id": "47ede27a",
   "metadata": {
    "ExecuteTime": {
     "end_time": "2022-08-28T02:48:37.626882Z",
     "start_time": "2022-08-28T02:48:30.733434Z"
    },
    "scrolled": true
   },
   "outputs": [
    {
     "name": "stdout",
     "output_type": "stream",
     "text": [
      "1 MSE:1012.192374, r2 score:-0.584803 and MAPE:0.401495 \n",
      "\n",
      "2 MSE:955.640917, r2 score:-0.496260 and MAPE:0.395667 \n",
      "\n",
      "3 MSE:906.143398, r2 score:-0.418761 and MAPE:0.401249 \n",
      "\n",
      "4 MSE:945.091483, r2 score:-0.479742 and MAPE:0.395438 \n",
      "\n",
      "5 MSE:1085.653465, r2 score:-0.699822 and MAPE:0.419568 \n",
      "\n",
      "6 MSE:953.354795, r2 score:-0.492680 and MAPE:0.395618 \n",
      "\n",
      "7 MSE:953.061453, r2 score:-0.492221 and MAPE:0.395611 \n",
      "\n",
      "8 MSE:976.723577, r2 score:-0.529269 and MAPE:0.396809 \n",
      "\n",
      "9 MSE:976.043458, r2 score:-0.528204 and MAPE:0.396762 \n",
      "\n",
      "10 MSE:1053.890447, r2 score:-0.650090 and MAPE:0.410159 \n",
      "\n",
      "11 MSE:1052.522433, r2 score:-0.647948 and MAPE:0.409866 \n",
      "\n",
      "12 MSE:993.244855, r2 score:-0.555137 and MAPE:0.398413 \n",
      "\n",
      "13 MSE:993.736556, r2 score:-0.555906 and MAPE:0.398471 \n",
      "\n",
      "14 MSE:1075.885451, r2 score:-0.684528 and MAPE:0.416397 \n",
      "\n",
      "15 MSE:1057.064703, r2 score:-0.655060 and MAPE:0.410960 \n",
      "\n",
      "16 MSE:963.708915, r2 score:-0.508892 and MAPE:0.395894 \n",
      "\n",
      "17 MSE:1048.135897, r2 score:-0.641080 and MAPE:0.408976 \n",
      "\n",
      "18 MSE:1016.620530, r2 score:-0.591736 and MAPE:0.402436 \n",
      "\n",
      "19 MSE:1089.686816, r2 score:-0.706137 and MAPE:0.421157 \n",
      "\n",
      "20 MSE:988.152162, r2 score:-0.547163 and MAPE:0.397814 \n",
      "\n",
      "21 MSE:1065.855938, r2 score:-0.668825 and MAPE:0.413411 \n",
      "\n",
      "22 MSE:1042.922676, r2 score:-0.632918 and MAPE:0.407912 \n",
      "\n",
      "23 MSE:1064.656917, r2 score:-0.666947 and MAPE:0.413051 \n",
      "\n",
      "24 MSE:1024.475430, r2 score:-0.604035 and MAPE:0.404090 \n",
      "\n",
      "25 MSE:1074.782193, r2 score:-0.682801 and MAPE:0.416071 \n",
      "\n",
      "26 MSE:1007.117395, r2 score:-0.576857 and MAPE:0.400410 \n",
      "\n",
      "27 MSE:1001.210185, r2 score:-0.567608 and MAPE:0.399342 \n",
      "\n",
      "28 MSE:1053.878632, r2 score:-0.650072 and MAPE:0.410156 \n",
      "\n",
      "29 MSE:913.396687, r2 score:-0.430117 and MAPE:0.399426 \n",
      "\n",
      "30 MSE:908.837487, r2 score:-0.422979 and MAPE:0.400503 \n",
      "\n"
     ]
    }
   ],
   "source": [
    "XGB3(df,'precip')"
   ]
  },
  {
   "cell_type": "code",
   "execution_count": 31,
   "id": "bcf8cad7",
   "metadata": {
    "ExecuteTime": {
     "end_time": "2022-08-28T02:48:37.642888Z",
     "start_time": "2022-08-28T02:48:37.628884Z"
    }
   },
   "outputs": [],
   "source": [
    "Df=df.copy()\n",
    "Df['Lag_1'] = Df['Price'].shift(1)\n",
    "Df['Lag_2'] = Df['Price'].shift(2)\n",
    "Df = Df.reindex(columns=['Price', 'Lag_1','Lag_2']).dropna()"
   ]
  },
  {
   "cell_type": "code",
   "execution_count": 32,
   "id": "a1634fbd",
   "metadata": {
    "ExecuteTime": {
     "end_time": "2022-08-28T02:48:37.658889Z",
     "start_time": "2022-08-28T02:48:37.644887Z"
    }
   },
   "outputs": [],
   "source": [
    "df1=Df.copy()"
   ]
  },
  {
   "cell_type": "code",
   "execution_count": 33,
   "id": "365114f9",
   "metadata": {
    "ExecuteTime": {
     "end_time": "2022-08-28T02:48:37.690896Z",
     "start_time": "2022-08-28T02:48:37.660891Z"
    }
   },
   "outputs": [
    {
     "data": {
      "text/html": [
       "<div>\n",
       "<style scoped>\n",
       "    .dataframe tbody tr th:only-of-type {\n",
       "        vertical-align: middle;\n",
       "    }\n",
       "\n",
       "    .dataframe tbody tr th {\n",
       "        vertical-align: top;\n",
       "    }\n",
       "\n",
       "    .dataframe thead th {\n",
       "        text-align: right;\n",
       "    }\n",
       "</style>\n",
       "<table border=\"1\" class=\"dataframe\">\n",
       "  <thead>\n",
       "    <tr style=\"text-align: right;\">\n",
       "      <th></th>\n",
       "      <th>Price</th>\n",
       "      <th>Lag_1</th>\n",
       "      <th>Lag_2</th>\n",
       "    </tr>\n",
       "    <tr>\n",
       "      <th>Date</th>\n",
       "      <th></th>\n",
       "      <th></th>\n",
       "      <th></th>\n",
       "    </tr>\n",
       "  </thead>\n",
       "  <tbody>\n",
       "    <tr>\n",
       "      <th>2019-01-03</th>\n",
       "      <td>51.90</td>\n",
       "      <td>42.65</td>\n",
       "      <td>22.58</td>\n",
       "    </tr>\n",
       "    <tr>\n",
       "      <th>2019-01-04</th>\n",
       "      <td>50.85</td>\n",
       "      <td>51.90</td>\n",
       "      <td>42.65</td>\n",
       "    </tr>\n",
       "    <tr>\n",
       "      <th>2019-01-05</th>\n",
       "      <td>50.72</td>\n",
       "      <td>50.85</td>\n",
       "      <td>51.90</td>\n",
       "    </tr>\n",
       "    <tr>\n",
       "      <th>2019-01-06</th>\n",
       "      <td>51.02</td>\n",
       "      <td>50.72</td>\n",
       "      <td>50.85</td>\n",
       "    </tr>\n",
       "    <tr>\n",
       "      <th>2019-01-07</th>\n",
       "      <td>51.19</td>\n",
       "      <td>51.02</td>\n",
       "      <td>50.72</td>\n",
       "    </tr>\n",
       "    <tr>\n",
       "      <th>...</th>\n",
       "      <td>...</td>\n",
       "      <td>...</td>\n",
       "      <td>...</td>\n",
       "    </tr>\n",
       "    <tr>\n",
       "      <th>2022-04-26</th>\n",
       "      <td>23.94</td>\n",
       "      <td>40.27</td>\n",
       "      <td>55.01</td>\n",
       "    </tr>\n",
       "    <tr>\n",
       "      <th>2022-04-27</th>\n",
       "      <td>43.43</td>\n",
       "      <td>23.94</td>\n",
       "      <td>40.27</td>\n",
       "    </tr>\n",
       "    <tr>\n",
       "      <th>2022-04-28</th>\n",
       "      <td>19.30</td>\n",
       "      <td>43.43</td>\n",
       "      <td>23.94</td>\n",
       "    </tr>\n",
       "    <tr>\n",
       "      <th>2022-04-29</th>\n",
       "      <td>31.43</td>\n",
       "      <td>19.30</td>\n",
       "      <td>43.43</td>\n",
       "    </tr>\n",
       "    <tr>\n",
       "      <th>2022-04-30</th>\n",
       "      <td>31.11</td>\n",
       "      <td>31.43</td>\n",
       "      <td>19.30</td>\n",
       "    </tr>\n",
       "  </tbody>\n",
       "</table>\n",
       "<p>1214 rows × 3 columns</p>\n",
       "</div>"
      ],
      "text/plain": [
       "            Price  Lag_1  Lag_2\n",
       "Date                           \n",
       "2019-01-03  51.90  42.65  22.58\n",
       "2019-01-04  50.85  51.90  42.65\n",
       "2019-01-05  50.72  50.85  51.90\n",
       "2019-01-06  51.02  50.72  50.85\n",
       "2019-01-07  51.19  51.02  50.72\n",
       "...           ...    ...    ...\n",
       "2022-04-26  23.94  40.27  55.01\n",
       "2022-04-27  43.43  23.94  40.27\n",
       "2022-04-28  19.30  43.43  23.94\n",
       "2022-04-29  31.43  19.30  43.43\n",
       "2022-04-30  31.11  31.43  19.30\n",
       "\n",
       "[1214 rows x 3 columns]"
      ]
     },
     "execution_count": 33,
     "metadata": {},
     "output_type": "execute_result"
    }
   ],
   "source": [
    "df1"
   ]
  },
  {
   "cell_type": "code",
   "execution_count": 35,
   "id": "e9019a49",
   "metadata": {
    "ExecuteTime": {
     "end_time": "2022-08-28T03:47:36.050658Z",
     "start_time": "2022-08-28T03:47:35.292474Z"
    }
   },
   "outputs": [
    {
     "name": "stdout",
     "output_type": "stream",
     "text": [
      "MSE:1045.258469, r2 score:-0.636575 and MAPE:0.408389 \n",
      "\n"
     ]
    }
   ],
   "source": [
    "# n='wind'\n",
    "# df1['Lag '+n] = df[n].shift(5) \n",
    "X = df1.iloc[:, 1:-1]\n",
    "X.dropna(inplace=True)  # drop missing values in the feature set\n",
    "y = df1.loc[:, ['Price']]  # create the target\n",
    "y, X = y.align(X, join='inner',axis=0)  # drop corresponding values in target\n",
    "\n",
    "x_train=X.loc[:'2022-02-28',:]\n",
    "x_test=X.loc['2022-03-01':,:]\n",
    "y_train=y.loc[:'2022-02-28',:]\n",
    "y_test=y.loc['2022-03-01':,:]\n",
    "# scaler = MinMaxScaler() \n",
    "# x_train1 = scaler.fit_transform(x_train)\n",
    "# x_test1 = scaler.transform(x_test)\n",
    "# scaler = StandardScaler()\n",
    "# x_train2 = scaler.fit_transform(x_train)\n",
    "# x_test2 = scaler.transform(x_test)\n",
    "\n",
    "model = XGBRegressor()\n",
    "model.fit(x_train, y_train)\n",
    "y_pred = pd.Series(model.predict(x_test).T[0], index=x_test.index)\n",
    "print('MSE:%f, r2 score:%f and MAPE:%f \\n' %(MSE(y_test,y_pred), R2(y_test,y_pred),MAPE(y_test,y_pred)))\n"
   ]
  },
  {
   "cell_type": "code",
   "execution_count": null,
   "id": "a6267b4a",
   "metadata": {
    "ExecuteTime": {
     "end_time": "2022-08-28T03:47:37.139795Z",
     "start_time": "2022-08-28T03:47:37.139795Z"
    }
   },
   "outputs": [],
   "source": [
    "y_test.columns=['Price_true']\n",
    "ax = y_test.plot(**plot_params)\n",
    "ax = y_pred.plot(label='Price_pred',color='teal')\n",
    "plt.grid()\n",
    "plt.legend(loc='best')\n",
    "plt.tight_layout()"
   ]
  },
  {
   "cell_type": "code",
   "execution_count": 36,
   "id": "336eaff4",
   "metadata": {
    "ExecuteTime": {
     "end_time": "2022-08-28T03:47:38.163039Z",
     "start_time": "2022-08-28T03:47:38.153036Z"
    }
   },
   "outputs": [],
   "source": [
    "df2=df1.copy()"
   ]
  },
  {
   "cell_type": "code",
   "execution_count": 37,
   "id": "815d5b27",
   "metadata": {
    "ExecuteTime": {
     "end_time": "2022-08-28T03:47:39.614577Z",
     "start_time": "2022-08-28T03:47:39.604311Z"
    }
   },
   "outputs": [],
   "source": [
    "df1=df2.copy()"
   ]
  },
  {
   "cell_type": "code",
   "execution_count": null,
   "id": "3db7357d",
   "metadata": {},
   "outputs": [],
   "source": []
  }
 ],
 "metadata": {
  "kernelspec": {
   "display_name": "Python 3 (ipykernel)",
   "language": "python",
   "name": "python3"
  },
  "language_info": {
   "codemirror_mode": {
    "name": "ipython",
    "version": 3
   },
   "file_extension": ".py",
   "mimetype": "text/x-python",
   "name": "python",
   "nbconvert_exporter": "python",
   "pygments_lexer": "ipython3",
   "version": "3.7.11"
  },
  "varInspector": {
   "cols": {
    "lenName": 16,
    "lenType": 16,
    "lenVar": 40
   },
   "kernels_config": {
    "python": {
     "delete_cmd_postfix": "",
     "delete_cmd_prefix": "del ",
     "library": "var_list.py",
     "varRefreshCmd": "print(var_dic_list())"
    },
    "r": {
     "delete_cmd_postfix": ") ",
     "delete_cmd_prefix": "rm(",
     "library": "var_list.r",
     "varRefreshCmd": "cat(var_dic_list()) "
    }
   },
   "types_to_exclude": [
    "module",
    "function",
    "builtin_function_or_method",
    "instance",
    "_Feature"
   ],
   "window_display": false
  }
 },
 "nbformat": 4,
 "nbformat_minor": 5
}
