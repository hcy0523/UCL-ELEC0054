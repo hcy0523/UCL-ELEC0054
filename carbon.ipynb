{
 "cells": [
  {
   "cell_type": "code",
   "execution_count": 59,
   "id": "3ef072f1",
   "metadata": {
    "ExecuteTime": {
     "end_time": "2022-06-24T01:00:56.209590Z",
     "start_time": "2022-06-24T01:00:56.190213Z"
    }
   },
   "outputs": [],
   "source": [
    "import pandas as pd\n",
    "import matplotlib.pyplot as plt\n",
    "import seaborn as sns\n",
    "%matplotlib inline\n",
    "import os"
   ]
  },
  {
   "cell_type": "code",
   "execution_count": 60,
   "id": "9e58e003",
   "metadata": {
    "ExecuteTime": {
     "end_time": "2022-06-24T01:00:56.726807Z",
     "start_time": "2022-06-24T01:00:56.660325Z"
    }
   },
   "outputs": [],
   "source": [
    "excelFile = \"./data/carbon/emission-spot-primary-market-auction-report-2019-data.xlsx\"\n",
    "df = pd.read_excel(excelFile,sheet_name= \"Primary Market Auction\")\n",
    "data=df.iloc[:,[1,5]]\n",
    "Data19=data.dropna(axis=0, how='any', thresh=None, subset=None, inplace=False)\n",
    "Data19=Data19.rename(columns=data.iloc[4,:]).drop([3,4],axis=0)"
   ]
  },
  {
   "cell_type": "code",
   "execution_count": 61,
   "id": "6a34f4be",
   "metadata": {
    "ExecuteTime": {
     "end_time": "2022-06-24T01:00:57.426047Z",
     "start_time": "2022-06-24T01:00:57.253190Z"
    }
   },
   "outputs": [
    {
     "name": "stderr",
     "output_type": "stream",
     "text": [
      "D:\\ProgramData\\Anaconda3\\envs\\daps\\lib\\site-packages\\openpyxl\\styles\\stylesheet.py:226: UserWarning: Workbook contains no default style, apply openpyxl's default\n",
      "  warn(\"Workbook contains no default style, apply openpyxl's default\")\n"
     ]
    }
   ],
   "source": [
    "excelFile = \"./data/carbon/emission-spot-primary-market-auction-report-2020-data.xlsx\"\n",
    "df = pd.read_excel(excelFile,sheet_name= \"Primary Market Auction\")\n",
    "data=df.iloc[:,[1,6]]\n",
    "Data20=data.dropna(axis=0, how='any', thresh=None, subset=None, inplace=False)\n",
    "Data20=Data20.rename(columns=data.iloc[4,:]).drop([3,4],axis=0)"
   ]
  },
  {
   "cell_type": "code",
   "execution_count": 62,
   "id": "2ef56824",
   "metadata": {
    "ExecuteTime": {
     "end_time": "2022-06-24T01:00:58.269581Z",
     "start_time": "2022-06-24T01:00:58.112209Z"
    }
   },
   "outputs": [
    {
     "name": "stderr",
     "output_type": "stream",
     "text": [
      "D:\\ProgramData\\Anaconda3\\envs\\daps\\lib\\site-packages\\openpyxl\\styles\\stylesheet.py:226: UserWarning: Workbook contains no default style, apply openpyxl's default\n",
      "  warn(\"Workbook contains no default style, apply openpyxl's default\")\n"
     ]
    }
   ],
   "source": [
    "excelFile = \"./data/carbon/emission-spot-primary-market-auction-report-2021-data.xlsx\"\n",
    "df = pd.read_excel(excelFile,sheet_name= \"Primary Market Auction\")\n",
    "data=df.iloc[:,[1,6]]\n",
    "Data21=data.dropna(axis=0, how='any', thresh=None, subset=None, inplace=False)\n",
    "Data21=Data21.rename(columns=data.iloc[4,:]).drop([3,4],axis=0)"
   ]
  },
  {
   "cell_type": "code",
   "execution_count": 63,
   "id": "0dd28773",
   "metadata": {
    "ExecuteTime": {
     "end_time": "2022-06-24T01:00:58.829600Z",
     "start_time": "2022-06-24T01:00:58.734576Z"
    }
   },
   "outputs": [
    {
     "name": "stderr",
     "output_type": "stream",
     "text": [
      "D:\\ProgramData\\Anaconda3\\envs\\daps\\lib\\site-packages\\openpyxl\\styles\\stylesheet.py:226: UserWarning: Workbook contains no default style, apply openpyxl's default\n",
      "  warn(\"Workbook contains no default style, apply openpyxl's default\")\n"
     ]
    }
   ],
   "source": [
    "excelFile = \"./data/carbon/emission-spot-primary-market-auction-report-2022-data.xlsx\"\n",
    "df = pd.read_excel(excelFile,sheet_name= \"Primary Market Auction\")\n",
    "data=df.iloc[:,[1,6]]\n",
    "Data22=data.dropna(axis=0, how='any', thresh=None, subset=None, inplace=False)\n",
    "Data22=Data22.rename(columns=data.iloc[4,:]).drop([3,4],axis=0)"
   ]
  },
  {
   "cell_type": "code",
   "execution_count": 64,
   "id": "2c023a51",
   "metadata": {
    "ExecuteTime": {
     "end_time": "2022-06-24T01:01:00.316025Z",
     "start_time": "2022-06-24T01:01:00.301022Z"
    }
   },
   "outputs": [],
   "source": [
    "carbon=pd.concat([Data19,Data20,Data21,Data22])"
   ]
  },
  {
   "cell_type": "code",
   "execution_count": 68,
   "id": "df543d67",
   "metadata": {
    "ExecuteTime": {
     "end_time": "2022-06-24T01:01:25.275275Z",
     "start_time": "2022-06-24T01:01:25.258269Z"
    }
   },
   "outputs": [],
   "source": [
    "Carbon=carbon.sort_values(by = \"Date\",ascending=True).reset_index(drop=True).set_index('Date')"
   ]
  },
  {
   "cell_type": "code",
   "execution_count": 69,
   "id": "b1974c76",
   "metadata": {
    "ExecuteTime": {
     "end_time": "2022-06-24T01:01:25.885407Z",
     "start_time": "2022-06-24T01:01:25.875351Z"
    }
   },
   "outputs": [
    {
     "data": {
      "text/html": [
       "<div>\n",
       "<style scoped>\n",
       "    .dataframe tbody tr th:only-of-type {\n",
       "        vertical-align: middle;\n",
       "    }\n",
       "\n",
       "    .dataframe tbody tr th {\n",
       "        vertical-align: top;\n",
       "    }\n",
       "\n",
       "    .dataframe thead th {\n",
       "        text-align: right;\n",
       "    }\n",
       "</style>\n",
       "<table border=\"1\" class=\"dataframe\">\n",
       "  <thead>\n",
       "    <tr style=\"text-align: right;\">\n",
       "      <th></th>\n",
       "      <th>Auction Price €/tCO2</th>\n",
       "    </tr>\n",
       "    <tr>\n",
       "      <th>Date</th>\n",
       "      <th></th>\n",
       "    </tr>\n",
       "  </thead>\n",
       "  <tbody>\n",
       "    <tr>\n",
       "      <th>2019-01-07</th>\n",
       "      <td>23.01</td>\n",
       "    </tr>\n",
       "    <tr>\n",
       "      <th>2019-01-08</th>\n",
       "      <td>22.4</td>\n",
       "    </tr>\n",
       "    <tr>\n",
       "      <th>2019-01-10</th>\n",
       "      <td>21.4</td>\n",
       "    </tr>\n",
       "    <tr>\n",
       "      <th>2019-01-14</th>\n",
       "      <td>21.95</td>\n",
       "    </tr>\n",
       "    <tr>\n",
       "      <th>2019-01-15</th>\n",
       "      <td>22.55</td>\n",
       "    </tr>\n",
       "    <tr>\n",
       "      <th>...</th>\n",
       "      <td>...</td>\n",
       "    </tr>\n",
       "    <tr>\n",
       "      <th>2022-06-16</th>\n",
       "      <td>85.95</td>\n",
       "    </tr>\n",
       "    <tr>\n",
       "      <th>2022-06-17</th>\n",
       "      <td>83.0</td>\n",
       "    </tr>\n",
       "    <tr>\n",
       "      <th>2022-06-20</th>\n",
       "      <td>83.51</td>\n",
       "    </tr>\n",
       "    <tr>\n",
       "      <th>2022-06-21</th>\n",
       "      <td>84.26</td>\n",
       "    </tr>\n",
       "    <tr>\n",
       "      <th>2022-06-22</th>\n",
       "      <td>83.06</td>\n",
       "    </tr>\n",
       "  </tbody>\n",
       "</table>\n",
       "<p>765 rows × 1 columns</p>\n",
       "</div>"
      ],
      "text/plain": [
       "           Auction Price €/tCO2\n",
       "Date                           \n",
       "2019-01-07                23.01\n",
       "2019-01-08                 22.4\n",
       "2019-01-10                 21.4\n",
       "2019-01-14                21.95\n",
       "2019-01-15                22.55\n",
       "...                         ...\n",
       "2022-06-16                85.95\n",
       "2022-06-17                 83.0\n",
       "2022-06-20                83.51\n",
       "2022-06-21                84.26\n",
       "2022-06-22                83.06\n",
       "\n",
       "[765 rows x 1 columns]"
      ]
     },
     "execution_count": 69,
     "metadata": {},
     "output_type": "execute_result"
    }
   ],
   "source": [
    "Carbon"
   ]
  },
  {
   "cell_type": "code",
   "execution_count": 9,
   "id": "6b52d40b",
   "metadata": {
    "ExecuteTime": {
     "end_time": "2022-06-22T10:53:22.489317Z",
     "start_time": "2022-06-22T10:53:22.475170Z"
    }
   },
   "outputs": [],
   "source": [
    "Carbon.to_csv('./data/carbon/Carbon.csv')"
   ]
  },
  {
   "cell_type": "markdown",
   "id": "c4a716ff",
   "metadata": {},
   "source": [
    "supported values are 'Accent', 'Accent_r', 'Blues', 'Blues_r', 'BrBG', 'BrBG_r', 'BuGn', 'BuGn_r', 'BuPu', 'BuPu_r', 'CMRmap', 'CMRmap_r', 'Dark2', 'Dark2_r', 'GnBu', 'GnBu_r', 'Greens', 'Greens_r', 'Greys', 'Greys_r', 'OrRd', 'OrRd_r', 'Oranges', 'Oranges_r', 'PRGn', 'PRGn_r', 'Paired', 'Paired_r', 'Pastel1', 'Pastel1_r', 'Pastel2', 'Pastel2_r', 'PiYG', 'PiYG_r', 'PuBu', 'PuBuGn', 'PuBuGn_r', 'PuBu_r', 'PuOr', 'PuOr_r', 'PuRd', 'PuRd_r', 'Purples', 'Purples_r', 'RdBu', 'RdBu_r', 'RdGy', 'RdGy_r', 'RdPu', 'RdPu_r', 'RdYlBu', 'RdYlBu_r', 'RdYlGn', 'RdYlGn_r', 'Reds', 'Reds_r', 'Set1', 'Set1_r', 'Set2', 'Set2_r', 'Set3', 'Set3_r', 'Spectral', 'Spectral_r', 'Wistia', 'Wistia_r', 'YlGn', 'YlGnBu', 'YlGnBu_r', 'YlGn_r', 'YlOrBr', 'YlOrBr_r', 'YlOrRd', 'YlOrRd_r', 'afmhot', 'afmhot_r', 'autumn', 'autumn_r', 'binary', 'binary_r', 'bone', 'bone_r', 'brg', 'brg_r', 'bwr', 'bwr_r', 'cividis', 'cividis_r', 'cool', 'cool_r', 'coolwarm', 'coolwarm_r', 'copper', 'copper_r', 'crest', 'crest_r', 'cubehelix', 'cubehelix_r', 'flag', 'flag_r', 'flare', 'flare_r', 'gist_earth', 'gist_earth_r', 'gist_gray', 'gist_gray_r', 'gist_heat', 'gist_heat_r', 'gist_ncar', 'gist_ncar_r', 'gist_rainbow', 'gist_rainbow_r', 'gist_stern', 'gist_stern_r', 'gist_yarg', 'gist_yarg_r', 'gnuplot', 'gnuplot2', 'gnuplot2_r', 'gnuplot_r', 'gray', 'gray_r', 'hot', 'hot_r', 'hsv', 'hsv_r', 'icefire', 'icefire_r', 'inferno', 'inferno_r', 'jet', 'jet_r', 'magma', 'magma_r', 'mako', 'mako_r', 'nipy_spectral', 'nipy_spectral_r', 'ocean', 'ocean_r', 'pink', 'pink_r', 'plasma', 'plasma_r', 'prism', 'prism_r', 'rainbow', 'rainbow_r', 'rocket', 'rocket_r', 'seismic', 'seismic_r', 'spring', 'spring_r', 'summer', 'summer_r', 'tab10', 'tab10_r', 'tab20', 'tab20_r', 'tab20b', 'tab20b_r', 'tab20c', 'tab20c_r', 'terrain', 'terrain_r', 'turbo', 'turbo_r', 'twilight', 'twilight_r', 'twilight_shifted', 'twilight_shifted_r', 'viridis', 'viridis_r', 'vlag', 'vlag_r', 'winter', 'winter_r'"
   ]
  },
  {
   "cell_type": "code",
   "execution_count": 58,
   "id": "d9a529c3",
   "metadata": {
    "ExecuteTime": {
     "end_time": "2022-06-22T11:22:04.344142Z",
     "start_time": "2022-06-22T11:22:03.820024Z"
    }
   },
   "outputs": [
    {
     "data": {
      "image/png": "[encoded data removed]",
      "text/plain": [
       "<Figure size 864x432 with 1 Axes>"
      ]
     },
     "metadata": {},
     "output_type": "display_data"
    }
   ],
   "source": [
    "sns.set_style('whitegrid') \n",
    "fig=plt.figure(figsize=(12,6))\n",
    "sns.lineplot(data=Carbon,palette='Oranges_r',linewidth=1.5,)\n",
    "plt.ylim(10,110)\n",
    "plt.ylabel('Auction Price €/tCO2')\n",
    "sns.set_context('paper', font_scale=1.5, rc={'lines.linewidth':1.5})\n",
    "sns.despine(offset=(10,10),trim=False)"
   ]
  },
  {
   "cell_type": "code",
   "execution_count": null,
   "id": "f24b0bbc",
   "metadata": {},
   "outputs": [],
   "source": []
  }
 ],
 "metadata": {
  "kernelspec": {
   "display_name": "Python 3 (ipykernel)",
   "language": "python",
   "name": "python3"
  },
  "language_info": {
   "codemirror_mode": {
    "name": "ipython",
    "version": 3
   },
   "file_extension": ".py",
   "mimetype": "text/x-python",
   "name": "python",
   "nbconvert_exporter": "python",
   "pygments_lexer": "ipython3",
   "version": "3.7.11"
  },
  "varInspector": {
   "cols": {
    "lenName": 16,
    "lenType": 16,
    "lenVar": 40
   },
   "kernels_config": {
    "python": {
     "delete_cmd_postfix": "",
     "delete_cmd_prefix": "del ",
     "library": "var_list.py",
     "varRefreshCmd": "print(var_dic_list())"
    },
    "r": {
     "delete_cmd_postfix": ") ",
     "delete_cmd_prefix": "rm(",
     "library": "var_list.r",
     "varRefreshCmd": "cat(var_dic_list()) "
    }
   },
   "types_to_exclude": [
    "module",
    "function",
    "builtin_function_or_method",
    "instance",
    "_Feature"
   ],
   "window_display": false
  }
 },
 "nbformat": 4,
 "nbformat_minor": 5
}
